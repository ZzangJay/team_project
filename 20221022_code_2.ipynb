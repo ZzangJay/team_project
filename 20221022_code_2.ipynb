{
  "nbformat": 4,
  "nbformat_minor": 0,
  "metadata": {
    "colab": {
      "provenance": [],
      "collapsed_sections": [],
      "machine_shape": "hm",
      "authorship_tag": "ABX9TyO1+eeN5udq1r0M8aOCekr8",
      "include_colab_link": true
    },
    "kernelspec": {
      "name": "python3",
      "display_name": "Python 3"
    },
    "language_info": {
      "name": "python"
    },
    "accelerator": "GPU",
    "gpuClass": "standard",
    "widgets": {
      "application/vnd.jupyter.widget-state+json": {
        "e315e041ef7642e6977e11df9567cca7": {
          "model_module": "@jupyter-widgets/controls",
          "model_name": "HBoxModel",
          "model_module_version": "1.5.0",
          "state": {
            "_dom_classes": [],
            "_model_module": "@jupyter-widgets/controls",
            "_model_module_version": "1.5.0",
            "_model_name": "HBoxModel",
            "_view_count": null,
            "_view_module": "@jupyter-widgets/controls",
            "_view_module_version": "1.5.0",
            "_view_name": "HBoxView",
            "box_style": "",
            "children": [
              "IPY_MODEL_6351110c5a1e4c86bdcead45b4453a9b",
              "IPY_MODEL_600a35a9c47e4d17a8fffacd6fa0e6a8",
              "IPY_MODEL_5da27ec001704340af5ec84800dad282"
            ],
            "layout": "IPY_MODEL_9c4e8ee6e48a46c58bed2c506fef0daa"
          }
        },
        "6351110c5a1e4c86bdcead45b4453a9b": {
          "model_module": "@jupyter-widgets/controls",
          "model_name": "HTMLModel",
          "model_module_version": "1.5.0",
          "state": {
            "_dom_classes": [],
            "_model_module": "@jupyter-widgets/controls",
            "_model_module_version": "1.5.0",
            "_model_name": "HTMLModel",
            "_view_count": null,
            "_view_module": "@jupyter-widgets/controls",
            "_view_module_version": "1.5.0",
            "_view_name": "HTMLView",
            "description": "",
            "description_tooltip": null,
            "layout": "IPY_MODEL_45d7c64692ee4bcf8bdde275ae41cb25",
            "placeholder": "​",
            "style": "IPY_MODEL_96f6ffb056b54642b5a058e25aade13d",
            "value": "Get anti Label:   0%"
          }
        },
        "600a35a9c47e4d17a8fffacd6fa0e6a8": {
          "model_module": "@jupyter-widgets/controls",
          "model_name": "FloatProgressModel",
          "model_module_version": "1.5.0",
          "state": {
            "_dom_classes": [],
            "_model_module": "@jupyter-widgets/controls",
            "_model_module_version": "1.5.0",
            "_model_name": "FloatProgressModel",
            "_view_count": null,
            "_view_module": "@jupyter-widgets/controls",
            "_view_module_version": "1.5.0",
            "_view_name": "ProgressView",
            "bar_style": "danger",
            "description": "",
            "description_tooltip": null,
            "layout": "IPY_MODEL_d1d3022a0e8d4764a193c510d267bad4",
            "max": 686947,
            "min": 0,
            "orientation": "horizontal",
            "style": "IPY_MODEL_7259835763e849a4bb307ea58a2a4a12",
            "value": 0
          }
        },
        "5da27ec001704340af5ec84800dad282": {
          "model_module": "@jupyter-widgets/controls",
          "model_name": "HTMLModel",
          "model_module_version": "1.5.0",
          "state": {
            "_dom_classes": [],
            "_model_module": "@jupyter-widgets/controls",
            "_model_module_version": "1.5.0",
            "_model_name": "HTMLModel",
            "_view_count": null,
            "_view_module": "@jupyter-widgets/controls",
            "_view_module_version": "1.5.0",
            "_view_name": "HTMLView",
            "description": "",
            "description_tooltip": null,
            "layout": "IPY_MODEL_70c05eec2cd14c2b9d64859ed3423e2f",
            "placeholder": "​",
            "style": "IPY_MODEL_983e99aacdab4a82baf639ac7d2bd345",
            "value": " 0/686947 [00:00&lt;?, ?it/s]"
          }
        },
        "9c4e8ee6e48a46c58bed2c506fef0daa": {
          "model_module": "@jupyter-widgets/base",
          "model_name": "LayoutModel",
          "model_module_version": "1.2.0",
          "state": {
            "_model_module": "@jupyter-widgets/base",
            "_model_module_version": "1.2.0",
            "_model_name": "LayoutModel",
            "_view_count": null,
            "_view_module": "@jupyter-widgets/base",
            "_view_module_version": "1.2.0",
            "_view_name": "LayoutView",
            "align_content": null,
            "align_items": null,
            "align_self": null,
            "border": null,
            "bottom": null,
            "display": null,
            "flex": null,
            "flex_flow": null,
            "grid_area": null,
            "grid_auto_columns": null,
            "grid_auto_flow": null,
            "grid_auto_rows": null,
            "grid_column": null,
            "grid_gap": null,
            "grid_row": null,
            "grid_template_areas": null,
            "grid_template_columns": null,
            "grid_template_rows": null,
            "height": null,
            "justify_content": null,
            "justify_items": null,
            "left": null,
            "margin": null,
            "max_height": null,
            "max_width": null,
            "min_height": null,
            "min_width": null,
            "object_fit": null,
            "object_position": null,
            "order": null,
            "overflow": null,
            "overflow_x": null,
            "overflow_y": null,
            "padding": null,
            "right": null,
            "top": null,
            "visibility": null,
            "width": null
          }
        },
        "45d7c64692ee4bcf8bdde275ae41cb25": {
          "model_module": "@jupyter-widgets/base",
          "model_name": "LayoutModel",
          "model_module_version": "1.2.0",
          "state": {
            "_model_module": "@jupyter-widgets/base",
            "_model_module_version": "1.2.0",
            "_model_name": "LayoutModel",
            "_view_count": null,
            "_view_module": "@jupyter-widgets/base",
            "_view_module_version": "1.2.0",
            "_view_name": "LayoutView",
            "align_content": null,
            "align_items": null,
            "align_self": null,
            "border": null,
            "bottom": null,
            "display": null,
            "flex": null,
            "flex_flow": null,
            "grid_area": null,
            "grid_auto_columns": null,
            "grid_auto_flow": null,
            "grid_auto_rows": null,
            "grid_column": null,
            "grid_gap": null,
            "grid_row": null,
            "grid_template_areas": null,
            "grid_template_columns": null,
            "grid_template_rows": null,
            "height": null,
            "justify_content": null,
            "justify_items": null,
            "left": null,
            "margin": null,
            "max_height": null,
            "max_width": null,
            "min_height": null,
            "min_width": null,
            "object_fit": null,
            "object_position": null,
            "order": null,
            "overflow": null,
            "overflow_x": null,
            "overflow_y": null,
            "padding": null,
            "right": null,
            "top": null,
            "visibility": null,
            "width": null
          }
        },
        "96f6ffb056b54642b5a058e25aade13d": {
          "model_module": "@jupyter-widgets/controls",
          "model_name": "DescriptionStyleModel",
          "model_module_version": "1.5.0",
          "state": {
            "_model_module": "@jupyter-widgets/controls",
            "_model_module_version": "1.5.0",
            "_model_name": "DescriptionStyleModel",
            "_view_count": null,
            "_view_module": "@jupyter-widgets/base",
            "_view_module_version": "1.2.0",
            "_view_name": "StyleView",
            "description_width": ""
          }
        },
        "d1d3022a0e8d4764a193c510d267bad4": {
          "model_module": "@jupyter-widgets/base",
          "model_name": "LayoutModel",
          "model_module_version": "1.2.0",
          "state": {
            "_model_module": "@jupyter-widgets/base",
            "_model_module_version": "1.2.0",
            "_model_name": "LayoutModel",
            "_view_count": null,
            "_view_module": "@jupyter-widgets/base",
            "_view_module_version": "1.2.0",
            "_view_name": "LayoutView",
            "align_content": null,
            "align_items": null,
            "align_self": null,
            "border": null,
            "bottom": null,
            "display": null,
            "flex": null,
            "flex_flow": null,
            "grid_area": null,
            "grid_auto_columns": null,
            "grid_auto_flow": null,
            "grid_auto_rows": null,
            "grid_column": null,
            "grid_gap": null,
            "grid_row": null,
            "grid_template_areas": null,
            "grid_template_columns": null,
            "grid_template_rows": null,
            "height": null,
            "justify_content": null,
            "justify_items": null,
            "left": null,
            "margin": null,
            "max_height": null,
            "max_width": null,
            "min_height": null,
            "min_width": null,
            "object_fit": null,
            "object_position": null,
            "order": null,
            "overflow": null,
            "overflow_x": null,
            "overflow_y": null,
            "padding": null,
            "right": null,
            "top": null,
            "visibility": null,
            "width": null
          }
        },
        "7259835763e849a4bb307ea58a2a4a12": {
          "model_module": "@jupyter-widgets/controls",
          "model_name": "ProgressStyleModel",
          "model_module_version": "1.5.0",
          "state": {
            "_model_module": "@jupyter-widgets/controls",
            "_model_module_version": "1.5.0",
            "_model_name": "ProgressStyleModel",
            "_view_count": null,
            "_view_module": "@jupyter-widgets/base",
            "_view_module_version": "1.2.0",
            "_view_name": "StyleView",
            "bar_color": null,
            "description_width": ""
          }
        },
        "70c05eec2cd14c2b9d64859ed3423e2f": {
          "model_module": "@jupyter-widgets/base",
          "model_name": "LayoutModel",
          "model_module_version": "1.2.0",
          "state": {
            "_model_module": "@jupyter-widgets/base",
            "_model_module_version": "1.2.0",
            "_model_name": "LayoutModel",
            "_view_count": null,
            "_view_module": "@jupyter-widgets/base",
            "_view_module_version": "1.2.0",
            "_view_name": "LayoutView",
            "align_content": null,
            "align_items": null,
            "align_self": null,
            "border": null,
            "bottom": null,
            "display": null,
            "flex": null,
            "flex_flow": null,
            "grid_area": null,
            "grid_auto_columns": null,
            "grid_auto_flow": null,
            "grid_auto_rows": null,
            "grid_column": null,
            "grid_gap": null,
            "grid_row": null,
            "grid_template_areas": null,
            "grid_template_columns": null,
            "grid_template_rows": null,
            "height": null,
            "justify_content": null,
            "justify_items": null,
            "left": null,
            "margin": null,
            "max_height": null,
            "max_width": null,
            "min_height": null,
            "min_width": null,
            "object_fit": null,
            "object_position": null,
            "order": null,
            "overflow": null,
            "overflow_x": null,
            "overflow_y": null,
            "padding": null,
            "right": null,
            "top": null,
            "visibility": null,
            "width": null
          }
        },
        "983e99aacdab4a82baf639ac7d2bd345": {
          "model_module": "@jupyter-widgets/controls",
          "model_name": "DescriptionStyleModel",
          "model_module_version": "1.5.0",
          "state": {
            "_model_module": "@jupyter-widgets/controls",
            "_model_module_version": "1.5.0",
            "_model_name": "DescriptionStyleModel",
            "_view_count": null,
            "_view_module": "@jupyter-widgets/base",
            "_view_module_version": "1.2.0",
            "_view_name": "StyleView",
            "description_width": ""
          }
        }
      }
    }
  },
  "cells": [
    {
      "cell_type": "markdown",
      "metadata": {
        "id": "view-in-github",
        "colab_type": "text"
      },
      "source": [
        "<a href=\"https://colab.research.google.com/github/ZzangJay/team_project/blob/jangjaewon/20221022_code_2.ipynb\" target=\"_parent\"><img src=\"https://colab.research.google.com/assets/colab-badge.svg\" alt=\"Open In Colab\"/></a>"
      ]
    },
    {
      "cell_type": "code",
      "execution_count": null,
      "metadata": {
        "id": "eIYf_st71qF4"
      },
      "outputs": [],
      "source": [
        "import pandas as pd\n",
        "import numpy as np\n",
        "#import tensorflow as tf \n",
        "import os\n",
        "import sys\n",
        "from datetime import datetime, timedelta\n",
        "\n",
        "\n",
        "from tqdm.autonotebook import tqdm\n",
        "import csv\n",
        "\n",
        "import re"
      ]
    },
    {
      "cell_type": "code",
      "source": [
        "from google.colab import drive  # for colab\n",
        "drive.mount('/content/gdrive/')  # for colab\n",
        "cloud_directory = '/content/gdrive/MyDrive/mimiciv_unzip/'\n",
        "os.listdir(cloud_directory) # for colab, check cloud directory mount"
      ],
      "metadata": {
        "colab": {
          "base_uri": "https://localhost:8080/"
        },
        "id": "8qpFdQz01tki",
        "outputId": "87034481-c1d9-4649-81e9-4d128c8055bf"
      },
      "execution_count": null,
      "outputs": [
        {
          "output_type": "stream",
          "name": "stdout",
          "text": [
            "Drive already mounted at /content/gdrive/; to attempt to forcibly remount, call drive.mount(\"/content/gdrive/\", force_remount=True).\n"
          ]
        },
        {
          "output_type": "execute_result",
          "data": {
            "text/plain": [
              "['CHANGELOG.txt',\n",
              " 'LICENSE.txt',\n",
              " 'SHA256SUMS.txt',\n",
              " 'index.html',\n",
              " 'icu',\n",
              " 'hosp',\n",
              " 'drop_2_chartevents.csv']"
            ]
          },
          "metadata": {},
          "execution_count": 11
        }
      ]
    },
    {
      "cell_type": "code",
      "source": [
        "prescriptions = pd.read_csv('/content/gdrive/MyDrive/mimiciv preprocessing_js/prescriptions_ab.csv', low_memory=False, dtype='str', keep_default_na=False)"
      ],
      "metadata": {
        "id": "-EOrc5lA1_Ue"
      },
      "execution_count": null,
      "outputs": []
    },
    {
      "cell_type": "code",
      "source": [
        "prescriptions.columns"
      ],
      "metadata": {
        "colab": {
          "base_uri": "https://localhost:8080/"
        },
        "id": "8pegvKaA-MP4",
        "outputId": "d3da35c6-8780-4781-98d7-9fe406f26b04"
      },
      "execution_count": null,
      "outputs": [
        {
          "output_type": "execute_result",
          "data": {
            "text/plain": [
              "Index(['subject_id', 'hadm_id', 'pharmacy_id', 'poe_id', 'poe_seq',\n",
              "       'starttime', 'stoptime', 'drug_type', 'drug', 'formulary_drug_cd',\n",
              "       'gsn', 'ndc', 'prod_strength', 'form_rx', 'dose_val_rx', 'dose_unit_rx',\n",
              "       'form_val_disp', 'form_unit_disp', 'doses_per_24_hrs', 'route',\n",
              "       'sepsis3', 'intime', 'outtime'],\n",
              "      dtype='object')"
            ]
          },
          "metadata": {},
          "execution_count": 40
        }
      ]
    },
    {
      "cell_type": "code",
      "source": [
        "icustays.columns"
      ],
      "metadata": {
        "colab": {
          "base_uri": "https://localhost:8080/"
        },
        "id": "ogZf1fKq-HjB",
        "outputId": "5424ad67-9146-4166-a25c-2af6c40d184e"
      },
      "execution_count": null,
      "outputs": [
        {
          "output_type": "execute_result",
          "data": {
            "text/plain": [
              "Index(['subject_id', 'hadm_id', 'stay_id', 'first_careunit', 'last_careunit',\n",
              "       'intime', 'outtime', 'los'],\n",
              "      dtype='object')"
            ]
          },
          "metadata": {},
          "execution_count": 36
        }
      ]
    },
    {
      "cell_type": "code",
      "source": [
        "icustays = pd.read_csv('/content/gdrive/MyDrive/mimiciv_unzip/icu/icustays.csv', low_memory=False, dtype='str', keep_default_na=False)\n",
        "prescriptions = pd.merge(prescriptions, icustays[['hadm_id','intime','outtime']], left_on='hadm_id', right_on='hadm_id', how='left')"
      ],
      "metadata": {
        "id": "Ot0aMXr_9VXx"
      },
      "execution_count": null,
      "outputs": []
    },
    {
      "cell_type": "markdown",
      "source": [],
      "metadata": {
        "id": "cEw79jR193gn"
      }
    },
    {
      "cell_type": "code",
      "source": [],
      "metadata": {
        "id": "hSeu2Fro9stc"
      },
      "execution_count": null,
      "outputs": []
    },
    {
      "cell_type": "code",
      "source": [
        "# sepsis = pd.read_csv('/content/gdrive/MyDrive/mimiciv_der/sepsis3.csv', low_memory=False, dtype='str', keep_default_na=False)\n",
        "# prescriptions = pd.merge(left = prescriptions, right = sepsis[['subject_id','sepsis3']], how='inner', left_on='subject_id', right_on='subject_id')\n",
        "\n",
        "#prescription 첫줄만 가져오도록"
      ],
      "metadata": {
        "id": "2F2iadeP6jDD"
      },
      "execution_count": null,
      "outputs": []
    },
    {
      "cell_type": "code",
      "source": [
        "prescriptions.columns"
      ],
      "metadata": {
        "colab": {
          "base_uri": "https://localhost:8080/"
        },
        "id": "FZZok0nQ5wbg",
        "outputId": "cd77ec77-2c98-45b5-9f09-7f63dd5309fc"
      },
      "execution_count": null,
      "outputs": [
        {
          "output_type": "execute_result",
          "data": {
            "text/plain": [
              "Index(['subject_id', 'hadm_id', 'pharmacy_id', 'poe_id', 'poe_seq',\n",
              "       'starttime', 'stoptime', 'drug_type', 'drug', 'formulary_drug_cd',\n",
              "       'gsn', 'ndc', 'prod_strength', 'form_rx', 'dose_val_rx', 'dose_unit_rx',\n",
              "       'form_val_disp', 'form_unit_disp', 'doses_per_24_hrs', 'route'],\n",
              "      dtype='object')"
            ]
          },
          "metadata": {},
          "execution_count": 13
        }
      ]
    },
    {
      "cell_type": "code",
      "source": [
        "prescriptions.head()"
      ],
      "metadata": {
        "colab": {
          "base_uri": "https://localhost:8080/",
          "height": 444
        },
        "id": "TKvuADnp6Ty6",
        "outputId": "f1b7cbff-76b7-4899-96a1-f384e162c7ad"
      },
      "execution_count": null,
      "outputs": [
        {
          "output_type": "execute_result",
          "data": {
            "text/plain": [
              "  subject_id   hadm_id pharmacy_id        poe_id poe_seq            starttime  \\\n",
              "0   10000032  22841357    53555857   10000032-94    94.0  2180-06-26 23:00:00   \n",
              "1   10000117  27988844    52240876  10000117-119   119.0  2183-09-19 12:00:00   \n",
              "2   10000724  20823482     5703283  10000724-101   101.0  2145-04-25 00:00:00   \n",
              "3   10000764  27897940    67322733   10000764-50    50.0  2132-10-15 20:00:00   \n",
              "4   10000826  20032235    52793571  10000826-121   121.0  2146-12-09 10:00:00   \n",
              "\n",
              "              stoptime drug_type                         drug  \\\n",
              "0  2180-06-27 23:00:00      MAIN    sulfameth/trimethoprim ds   \n",
              "1  2183-09-20 15:00:00      MAIN                    cefazolin   \n",
              "2  2145-04-28 20:00:00      MAIN                    cefazolin   \n",
              "3  2132-10-19 00:00:00      MAIN  amoxicillin-clavulanic acid   \n",
              "4  2146-12-12 13:00:00      MAIN            ciprofloxacin hcl   \n",
              "\n",
              "  formulary_drug_cd     gsn            ndc                   prod_strength  \\\n",
              "0            BACTDS  009396    904272561.0                       DS Tablet   \n",
              "1         CEFA2D100  075120    338350841.0  2 g / 100 mL Dextrose (iso-os)   \n",
              "2            CEFA1F  051880    264310311.0                     1g Froz.Bag   \n",
              "3           AUGM500  008992  66685100202.0                    500mg Tablet   \n",
              "4           CIPR500  009510    172531210.0                       500mg Tab   \n",
              "\n",
              "  form_rx dose_val_rx dose_unit_rx form_val_disp form_unit_disp  \\\n",
              "0                   1          TAB             1            TAB   \n",
              "1                   2            g             1            BAG   \n",
              "2                   1            g             1            BAG   \n",
              "3                 500           mg             1            TAB   \n",
              "4                 500           mg             1            TAB   \n",
              "\n",
              "  doses_per_24_hrs  route  \n",
              "0              1.0  PO/NG  \n",
              "1              3.0     IV  \n",
              "2              3.0     IV  \n",
              "3              3.0  PO/NG  \n",
              "4              2.0  PO/NG  "
            ],
            "text/html": [
              "\n",
              "  <div id=\"df-0a7f6fcc-a312-40aa-a236-b298eabd16bd\">\n",
              "    <div class=\"colab-df-container\">\n",
              "      <div>\n",
              "<style scoped>\n",
              "    .dataframe tbody tr th:only-of-type {\n",
              "        vertical-align: middle;\n",
              "    }\n",
              "\n",
              "    .dataframe tbody tr th {\n",
              "        vertical-align: top;\n",
              "    }\n",
              "\n",
              "    .dataframe thead th {\n",
              "        text-align: right;\n",
              "    }\n",
              "</style>\n",
              "<table border=\"1\" class=\"dataframe\">\n",
              "  <thead>\n",
              "    <tr style=\"text-align: right;\">\n",
              "      <th></th>\n",
              "      <th>subject_id</th>\n",
              "      <th>hadm_id</th>\n",
              "      <th>pharmacy_id</th>\n",
              "      <th>poe_id</th>\n",
              "      <th>poe_seq</th>\n",
              "      <th>starttime</th>\n",
              "      <th>stoptime</th>\n",
              "      <th>drug_type</th>\n",
              "      <th>drug</th>\n",
              "      <th>formulary_drug_cd</th>\n",
              "      <th>gsn</th>\n",
              "      <th>ndc</th>\n",
              "      <th>prod_strength</th>\n",
              "      <th>form_rx</th>\n",
              "      <th>dose_val_rx</th>\n",
              "      <th>dose_unit_rx</th>\n",
              "      <th>form_val_disp</th>\n",
              "      <th>form_unit_disp</th>\n",
              "      <th>doses_per_24_hrs</th>\n",
              "      <th>route</th>\n",
              "    </tr>\n",
              "  </thead>\n",
              "  <tbody>\n",
              "    <tr>\n",
              "      <th>0</th>\n",
              "      <td>10000032</td>\n",
              "      <td>22841357</td>\n",
              "      <td>53555857</td>\n",
              "      <td>10000032-94</td>\n",
              "      <td>94.0</td>\n",
              "      <td>2180-06-26 23:00:00</td>\n",
              "      <td>2180-06-27 23:00:00</td>\n",
              "      <td>MAIN</td>\n",
              "      <td>sulfameth/trimethoprim ds</td>\n",
              "      <td>BACTDS</td>\n",
              "      <td>009396</td>\n",
              "      <td>904272561.0</td>\n",
              "      <td>DS Tablet</td>\n",
              "      <td></td>\n",
              "      <td>1</td>\n",
              "      <td>TAB</td>\n",
              "      <td>1</td>\n",
              "      <td>TAB</td>\n",
              "      <td>1.0</td>\n",
              "      <td>PO/NG</td>\n",
              "    </tr>\n",
              "    <tr>\n",
              "      <th>1</th>\n",
              "      <td>10000117</td>\n",
              "      <td>27988844</td>\n",
              "      <td>52240876</td>\n",
              "      <td>10000117-119</td>\n",
              "      <td>119.0</td>\n",
              "      <td>2183-09-19 12:00:00</td>\n",
              "      <td>2183-09-20 15:00:00</td>\n",
              "      <td>MAIN</td>\n",
              "      <td>cefazolin</td>\n",
              "      <td>CEFA2D100</td>\n",
              "      <td>075120</td>\n",
              "      <td>338350841.0</td>\n",
              "      <td>2 g / 100 mL Dextrose (iso-os)</td>\n",
              "      <td></td>\n",
              "      <td>2</td>\n",
              "      <td>g</td>\n",
              "      <td>1</td>\n",
              "      <td>BAG</td>\n",
              "      <td>3.0</td>\n",
              "      <td>IV</td>\n",
              "    </tr>\n",
              "    <tr>\n",
              "      <th>2</th>\n",
              "      <td>10000724</td>\n",
              "      <td>20823482</td>\n",
              "      <td>5703283</td>\n",
              "      <td>10000724-101</td>\n",
              "      <td>101.0</td>\n",
              "      <td>2145-04-25 00:00:00</td>\n",
              "      <td>2145-04-28 20:00:00</td>\n",
              "      <td>MAIN</td>\n",
              "      <td>cefazolin</td>\n",
              "      <td>CEFA1F</td>\n",
              "      <td>051880</td>\n",
              "      <td>264310311.0</td>\n",
              "      <td>1g Froz.Bag</td>\n",
              "      <td></td>\n",
              "      <td>1</td>\n",
              "      <td>g</td>\n",
              "      <td>1</td>\n",
              "      <td>BAG</td>\n",
              "      <td>3.0</td>\n",
              "      <td>IV</td>\n",
              "    </tr>\n",
              "    <tr>\n",
              "      <th>3</th>\n",
              "      <td>10000764</td>\n",
              "      <td>27897940</td>\n",
              "      <td>67322733</td>\n",
              "      <td>10000764-50</td>\n",
              "      <td>50.0</td>\n",
              "      <td>2132-10-15 20:00:00</td>\n",
              "      <td>2132-10-19 00:00:00</td>\n",
              "      <td>MAIN</td>\n",
              "      <td>amoxicillin-clavulanic acid</td>\n",
              "      <td>AUGM500</td>\n",
              "      <td>008992</td>\n",
              "      <td>66685100202.0</td>\n",
              "      <td>500mg Tablet</td>\n",
              "      <td></td>\n",
              "      <td>500</td>\n",
              "      <td>mg</td>\n",
              "      <td>1</td>\n",
              "      <td>TAB</td>\n",
              "      <td>3.0</td>\n",
              "      <td>PO/NG</td>\n",
              "    </tr>\n",
              "    <tr>\n",
              "      <th>4</th>\n",
              "      <td>10000826</td>\n",
              "      <td>20032235</td>\n",
              "      <td>52793571</td>\n",
              "      <td>10000826-121</td>\n",
              "      <td>121.0</td>\n",
              "      <td>2146-12-09 10:00:00</td>\n",
              "      <td>2146-12-12 13:00:00</td>\n",
              "      <td>MAIN</td>\n",
              "      <td>ciprofloxacin hcl</td>\n",
              "      <td>CIPR500</td>\n",
              "      <td>009510</td>\n",
              "      <td>172531210.0</td>\n",
              "      <td>500mg Tab</td>\n",
              "      <td></td>\n",
              "      <td>500</td>\n",
              "      <td>mg</td>\n",
              "      <td>1</td>\n",
              "      <td>TAB</td>\n",
              "      <td>2.0</td>\n",
              "      <td>PO/NG</td>\n",
              "    </tr>\n",
              "  </tbody>\n",
              "</table>\n",
              "</div>\n",
              "      <button class=\"colab-df-convert\" onclick=\"convertToInteractive('df-0a7f6fcc-a312-40aa-a236-b298eabd16bd')\"\n",
              "              title=\"Convert this dataframe to an interactive table.\"\n",
              "              style=\"display:none;\">\n",
              "        \n",
              "  <svg xmlns=\"http://www.w3.org/2000/svg\" height=\"24px\"viewBox=\"0 0 24 24\"\n",
              "       width=\"24px\">\n",
              "    <path d=\"M0 0h24v24H0V0z\" fill=\"none\"/>\n",
              "    <path d=\"M18.56 5.44l.94 2.06.94-2.06 2.06-.94-2.06-.94-.94-2.06-.94 2.06-2.06.94zm-11 1L8.5 8.5l.94-2.06 2.06-.94-2.06-.94L8.5 2.5l-.94 2.06-2.06.94zm10 10l.94 2.06.94-2.06 2.06-.94-2.06-.94-.94-2.06-.94 2.06-2.06.94z\"/><path d=\"M17.41 7.96l-1.37-1.37c-.4-.4-.92-.59-1.43-.59-.52 0-1.04.2-1.43.59L10.3 9.45l-7.72 7.72c-.78.78-.78 2.05 0 2.83L4 21.41c.39.39.9.59 1.41.59.51 0 1.02-.2 1.41-.59l7.78-7.78 2.81-2.81c.8-.78.8-2.07 0-2.86zM5.41 20L4 18.59l7.72-7.72 1.47 1.35L5.41 20z\"/>\n",
              "  </svg>\n",
              "      </button>\n",
              "      \n",
              "  <style>\n",
              "    .colab-df-container {\n",
              "      display:flex;\n",
              "      flex-wrap:wrap;\n",
              "      gap: 12px;\n",
              "    }\n",
              "\n",
              "    .colab-df-convert {\n",
              "      background-color: #E8F0FE;\n",
              "      border: none;\n",
              "      border-radius: 50%;\n",
              "      cursor: pointer;\n",
              "      display: none;\n",
              "      fill: #1967D2;\n",
              "      height: 32px;\n",
              "      padding: 0 0 0 0;\n",
              "      width: 32px;\n",
              "    }\n",
              "\n",
              "    .colab-df-convert:hover {\n",
              "      background-color: #E2EBFA;\n",
              "      box-shadow: 0px 1px 2px rgba(60, 64, 67, 0.3), 0px 1px 3px 1px rgba(60, 64, 67, 0.15);\n",
              "      fill: #174EA6;\n",
              "    }\n",
              "\n",
              "    [theme=dark] .colab-df-convert {\n",
              "      background-color: #3B4455;\n",
              "      fill: #D2E3FC;\n",
              "    }\n",
              "\n",
              "    [theme=dark] .colab-df-convert:hover {\n",
              "      background-color: #434B5C;\n",
              "      box-shadow: 0px 1px 3px 1px rgba(0, 0, 0, 0.15);\n",
              "      filter: drop-shadow(0px 1px 2px rgba(0, 0, 0, 0.3));\n",
              "      fill: #FFFFFF;\n",
              "    }\n",
              "  </style>\n",
              "\n",
              "      <script>\n",
              "        const buttonEl =\n",
              "          document.querySelector('#df-0a7f6fcc-a312-40aa-a236-b298eabd16bd button.colab-df-convert');\n",
              "        buttonEl.style.display =\n",
              "          google.colab.kernel.accessAllowed ? 'block' : 'none';\n",
              "\n",
              "        async function convertToInteractive(key) {\n",
              "          const element = document.querySelector('#df-0a7f6fcc-a312-40aa-a236-b298eabd16bd');\n",
              "          const dataTable =\n",
              "            await google.colab.kernel.invokeFunction('convertToInteractive',\n",
              "                                                     [key], {});\n",
              "          if (!dataTable) return;\n",
              "\n",
              "          const docLinkHtml = 'Like what you see? Visit the ' +\n",
              "            '<a target=\"_blank\" href=https://colab.research.google.com/notebooks/data_table.ipynb>data table notebook</a>'\n",
              "            + ' to learn more about interactive tables.';\n",
              "          element.innerHTML = '';\n",
              "          dataTable['output_type'] = 'display_data';\n",
              "          await google.colab.output.renderOutput(dataTable, element);\n",
              "          const docLink = document.createElement('div');\n",
              "          docLink.innerHTML = docLinkHtml;\n",
              "          element.appendChild(docLink);\n",
              "        }\n",
              "      </script>\n",
              "    </div>\n",
              "  </div>\n",
              "  "
            ]
          },
          "metadata": {},
          "execution_count": 18
        }
      ]
    },
    {
      "cell_type": "code",
      "source": [
        "prescriptions['drug']"
      ],
      "metadata": {
        "colab": {
          "base_uri": "https://localhost:8080/"
        },
        "id": "LWN4gcVX56sZ",
        "outputId": "40d559c9-6ed9-44ff-9c5a-983646677119"
      },
      "execution_count": null,
      "outputs": [
        {
          "output_type": "execute_result",
          "data": {
            "text/plain": [
              "0                       azithromycin\n",
              "1                       azithromycin\n",
              "2                       azithromycin\n",
              "3          sulfameth/trimethoprim ss\n",
              "4                       levofloxacin\n",
              "                     ...            \n",
              "686942        metronidazole (flagyl)\n",
              "686943                  levofloxacin\n",
              "686944                    vancomycin\n",
              "686945    piperacillin-tazobactam na\n",
              "686946     sulfameth/trimethoprim ds\n",
              "Name: drug, Length: 686947, dtype: object"
            ]
          },
          "metadata": {},
          "execution_count": 25
        }
      ]
    },
    {
      "cell_type": "code",
      "source": [
        "EXTRACT_FEATURE_CODES_ANTI_2 = dict({\n",
        "   '225850': 'Cephalosporin', '225851': 'Cephalosporin', '225853': 'Cephalosporin', '225855': 'Cephalosporin', '229587':'Cephalosporin',\n",
        "   '225798': 'Glycopetide',\n",
        "   '225842': 'Penicillin', '225843': 'Penicillin', '225888': 'Penicillin', '225889': 'Penicillin', '225890': 'Penicillin', '225892': 'Penicillin', '225893': 'Penicillin',\n",
        "   '225859': 'Quninolone', '225859': 'Quninolone', '225879': 'Quninolone', '225886': 'Quninolone',\n",
        "   '225845': 'Macrolide', '225865': 'Macrolide', '225866': 'Macrolide'\n",
        "})"
      ],
      "metadata": {
        "id": "EyMRrVoR590S"
      },
      "execution_count": null,
      "outputs": []
    },
    {
      "cell_type": "code",
      "source": [
        "EXTRACT_FEATURE_CODES_ANTI_2_list = list(EXTRACT_FEATURE_CODES_ANTI_2.keys())"
      ],
      "metadata": {
        "id": "QOvbAkOD6CX_"
      },
      "execution_count": null,
      "outputs": []
    },
    {
      "cell_type": "code",
      "source": [
        "# 항생제 레이블링하기\n",
        "anti_labels = dict()\n",
        "for row in tqdm(prescriptions, desc='Get anti Label'):\n",
        "  hadm_id = row['hadm_id']\n",
        "  if row['drug'] in EXTRACT_FEATURE_CODES_ANTI_2_list:\n",
        "    anti_label_group = row['drug'][0]\n",
        "    anti_label_time = row['starttime'][0]\n",
        "  else:\n",
        "    anti_label_group = 'none'\n",
        "    anti_label_time = 'none'\n",
        "  anti_labels[hadm_id] = dict({'anti': anti_label_group, 'anti_TIME': anti_label_time})"
      ],
      "metadata": {
        "id": "C3gb8ePu2DwU",
        "colab": {
          "base_uri": "https://localhost:8080/",
          "height": 277,
          "referenced_widgets": [
            "e315e041ef7642e6977e11df9567cca7",
            "6351110c5a1e4c86bdcead45b4453a9b",
            "600a35a9c47e4d17a8fffacd6fa0e6a8",
            "5da27ec001704340af5ec84800dad282",
            "9c4e8ee6e48a46c58bed2c506fef0daa",
            "45d7c64692ee4bcf8bdde275ae41cb25",
            "96f6ffb056b54642b5a058e25aade13d",
            "d1d3022a0e8d4764a193c510d267bad4",
            "7259835763e849a4bb307ea58a2a4a12",
            "70c05eec2cd14c2b9d64859ed3423e2f",
            "983e99aacdab4a82baf639ac7d2bd345"
          ]
        },
        "outputId": "ca9a1415-0cbf-4e46-d54d-a4bb3c09f23b"
      },
      "execution_count": null,
      "outputs": [
        {
          "output_type": "display_data",
          "data": {
            "text/plain": [
              "Get anti Label:   0%|          | 0/686947 [00:00<?, ?it/s]"
            ],
            "application/vnd.jupyter.widget-view+json": {
              "version_major": 2,
              "version_minor": 0,
              "model_id": "e315e041ef7642e6977e11df9567cca7"
            }
          },
          "metadata": {}
        },
        {
          "output_type": "error",
          "ename": "TypeError",
          "evalue": "ignored",
          "traceback": [
            "\u001b[0;31m---------------------------------------------------------------------------\u001b[0m",
            "\u001b[0;31mTypeError\u001b[0m                                 Traceback (most recent call last)",
            "\u001b[0;32m<ipython-input-27-11ecc68af812>\u001b[0m in \u001b[0;36m<module>\u001b[0;34m\u001b[0m\n\u001b[1;32m      2\u001b[0m \u001b[0manti_labels\u001b[0m \u001b[0;34m=\u001b[0m \u001b[0mdict\u001b[0m\u001b[0;34m(\u001b[0m\u001b[0;34m)\u001b[0m\u001b[0;34m\u001b[0m\u001b[0;34m\u001b[0m\u001b[0m\n\u001b[1;32m      3\u001b[0m \u001b[0;32mfor\u001b[0m \u001b[0mrow\u001b[0m \u001b[0;32min\u001b[0m \u001b[0mtqdm\u001b[0m\u001b[0;34m(\u001b[0m\u001b[0mprescriptions\u001b[0m\u001b[0;34m,\u001b[0m \u001b[0mdesc\u001b[0m\u001b[0;34m=\u001b[0m\u001b[0;34m'Get anti Label'\u001b[0m\u001b[0;34m)\u001b[0m\u001b[0;34m:\u001b[0m\u001b[0;34m\u001b[0m\u001b[0;34m\u001b[0m\u001b[0m\n\u001b[0;32m----> 4\u001b[0;31m   \u001b[0mhadm_id\u001b[0m \u001b[0;34m=\u001b[0m \u001b[0mrow\u001b[0m\u001b[0;34m[\u001b[0m\u001b[0;34m'hadm_id'\u001b[0m\u001b[0;34m]\u001b[0m\u001b[0;34m\u001b[0m\u001b[0;34m\u001b[0m\u001b[0m\n\u001b[0m\u001b[1;32m      5\u001b[0m   \u001b[0;32mif\u001b[0m \u001b[0mrow\u001b[0m\u001b[0;34m[\u001b[0m\u001b[0;34m'drug'\u001b[0m\u001b[0;34m]\u001b[0m \u001b[0;32min\u001b[0m \u001b[0mEXTRACT_FEATURE_CODES_ANTI_2_list\u001b[0m\u001b[0;34m:\u001b[0m\u001b[0;34m\u001b[0m\u001b[0;34m\u001b[0m\u001b[0m\n\u001b[1;32m      6\u001b[0m     \u001b[0manti_label_group\u001b[0m \u001b[0;34m=\u001b[0m \u001b[0mrow\u001b[0m\u001b[0;34m[\u001b[0m\u001b[0;34m'drug'\u001b[0m\u001b[0;34m]\u001b[0m\u001b[0;34m[\u001b[0m\u001b[0;36m0\u001b[0m\u001b[0;34m]\u001b[0m\u001b[0;34m\u001b[0m\u001b[0;34m\u001b[0m\u001b[0m\n",
            "\u001b[0;31mTypeError\u001b[0m: string indices must be integers"
          ]
        }
      ]
    },
    {
      "cell_type": "code",
      "source": [
        "prescriptions['hadm_id']"
      ],
      "metadata": {
        "colab": {
          "base_uri": "https://localhost:8080/"
        },
        "id": "ETTv4S9m8TKg",
        "outputId": "fc8cc971-32af-4c9c-e30f-f7f895fb4bd3"
      },
      "execution_count": null,
      "outputs": [
        {
          "output_type": "execute_result",
          "data": {
            "text/plain": [
              "0         23594368\n",
              "1         24746267\n",
              "2         24746267\n",
              "3         24746267\n",
              "4         24746267\n",
              "            ...   \n",
              "686942    21033226\n",
              "686943    21033226\n",
              "686944    21033226\n",
              "686945    21033226\n",
              "686946    26071774\n",
              "Name: hadm_id, Length: 686947, dtype: object"
            ]
          },
          "metadata": {},
          "execution_count": 31
        }
      ]
    },
    {
      "cell_type": "code",
      "source": [
        "str(prescriptions['hadm_id'])"
      ],
      "metadata": {
        "id": "uHGuYr994Vbn",
        "colab": {
          "base_uri": "https://localhost:8080/",
          "height": 54
        },
        "outputId": "4a379616-739e-427a-aa32-66ffc84b67d9"
      },
      "execution_count": null,
      "outputs": [
        {
          "output_type": "execute_result",
          "data": {
            "text/plain": [
              "'0         23594368\\n1         24746267\\n2         24746267\\n3         24746267\\n4         24746267\\n            ...   \\n686942    21033226\\n686943    21033226\\n686944    21033226\\n686945    21033226\\n686946    26071774\\nName: hadm_id, Length: 686947, dtype: object'"
            ],
            "application/vnd.google.colaboratory.intrinsic+json": {
              "type": "string"
            }
          },
          "metadata": {},
          "execution_count": 32
        }
      ]
    }
  ]
}