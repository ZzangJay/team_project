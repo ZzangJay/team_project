{
  "cells": [
    {
      "cell_type": "markdown",
      "metadata": {
        "id": "view-in-github",
        "colab_type": "text"
      },
      "source": [
        "<a href=\"https://colab.research.google.com/github/ZzangJay/team_project/blob/kimjisan/20221112_code_js.ipynb\" target=\"_parent\"><img src=\"https://colab.research.google.com/assets/colab-badge.svg\" alt=\"Open In Colab\"/></a>"
      ]
    },
    {
      "cell_type": "code",
      "execution_count": 3,
      "metadata": {
        "id": "xCBwZEG88iTZ"
      },
      "outputs": [],
      "source": [
        "import pandas as pd\n",
        "import numpy as np\n",
        "#import tensorflow as tf \n",
        "import os\n",
        "import sys\n",
        "from datetime import datetime, timedelta\n",
        "from tqdm.autonotebook import tqdm\n",
        "import csv\n",
        "import re\n",
        "import gzip\n",
        "import shutil"
      ]
    },
    {
      "cell_type": "code",
      "execution_count": 4,
      "metadata": {
        "colab": {
          "base_uri": "https://localhost:8080/"
        },
        "id": "dKfa-fAw8qIn",
        "outputId": "e393fcb0-b629-4223-a72b-67a98c174dea"
      },
      "outputs": [
        {
          "output_type": "stream",
          "name": "stdout",
          "text": [
            "Mounted at /content/gdrive/\n"
          ]
        },
        {
          "output_type": "execute_result",
          "data": {
            "text/plain": [
              "['CHANGELOG.txt',\n",
              " 'LICENSE.txt',\n",
              " 'SHA256SUMS.txt',\n",
              " 'index.html',\n",
              " 'icu',\n",
              " 'hosp',\n",
              " 'drop_2_chartevents.csv']"
            ]
          },
          "metadata": {},
          "execution_count": 4
        }
      ],
      "source": [
        "from google.colab import drive  # for colab\n",
        "drive.mount('/content/gdrive/')  # for colab\n",
        "cloud_directory = '/content/gdrive/MyDrive/mimiciv_unzip/'\n",
        "os.listdir(cloud_directory) # for colab, check cloud directory mount"
      ]
    },
    {
      "cell_type": "code",
      "execution_count": 5,
      "metadata": {
        "id": "gicdKWPb8xfP"
      },
      "outputs": [],
      "source": [
        "admission = pd.read_csv('/content/gdrive/MyDrive/mimiciv_unzip/hosp/admissions.csv', low_memory=False, dtype='str', keep_default_na=False)\n",
        "patients = pd.read_csv('/content/gdrive/MyDrive/mimiciv_unzip/hosp/patients.csv', low_memory=False, dtype='str', keep_default_na=False)\n",
        "diagnoses_icd = pd.read_csv('/content/gdrive/MyDrive/mimiciv_unzip/hosp/diagnoses_icd.csv', low_memory=False, dtype='str', keep_default_na=False)\n",
        "icustays = pd.read_csv('/content/gdrive/MyDrive/mimiciv_unzip/icu/icustays.csv', low_memory=False, dtype='str', keep_default_na=False)\n",
        "sepsis = pd.read_csv('/content/gdrive/MyDrive/mimiciv_der/sepsis3.csv', low_memory=False, dtype='str', keep_default_na=False)"
      ]
    },
    {
      "cell_type": "code",
      "execution_count": 6,
      "metadata": {
        "id": "AeGGWQyKAMET"
      },
      "outputs": [],
      "source": [
        "extra_features = pd.read_csv('/content/gdrive/MyDrive/mimiciv preprocessing_js/extra_features2.csv', low_memory=False, keep_default_na=False)"
      ]
    },
    {
      "cell_type": "code",
      "execution_count": 7,
      "metadata": {
        "id": "M4GF5YNSEXLE"
      },
      "outputs": [],
      "source": [
        "admission = pd.merge(left = admission, right = sepsis[['subject_id','sepsis3']], how='inner', left_on='subject_id', right_on='subject_id')\n",
        "patients = pd.merge(left = patients, right = sepsis[['subject_id','sepsis3']], how='inner', left_on='subject_id', right_on='subject_id')\n",
        "diagnoses_icd = pd.merge(left = diagnoses_icd, right = sepsis[['subject_id','sepsis3']], how='inner', left_on='subject_id', right_on='subject_id')\n",
        "sepsis = pd.merge(left = sepsis, right = icustays[['hadm_id','stay_id']], how='left', left_on='stay_id', right_on='stay_id')\n",
        "\n",
        "#####1108\n",
        "sepsis2 = pd.merge(left = sepsis, right = extra_features['hadm_id'].astype(str), how='inner', left_on='hadm_id', right_on='hadm_id')"
      ]
    },
    {
      "cell_type": "code",
      "execution_count": 8,
      "metadata": {
        "id": "ga1QlWtYrpgE"
      },
      "outputs": [],
      "source": [
        "Total_HADMIDS = set(sepsis2['hadm_id'])"
      ]
    },
    {
      "cell_type": "code",
      "execution_count": 9,
      "metadata": {
        "id": "xD5AA-mHrl4B"
      },
      "outputs": [],
      "source": [
        "# feature_keys = ['FiO2', 'HR', 'PaO2', 'SBP', 'Temperature','Creatinine','Glucose', 'Hb', 'Lactate', 'Plt','Sodium' ,'WBC']\n",
        "feature_keys = ['FiO2', 'HR', 'PaO2', 'SBP', 'Temperature','Creatinine','Glucose', 'Hb', 'Lactate', 'Plt','Sodium' ,'WBC', 'DBP', 'MAP', 'RESP', 'Chloride', 'Hct', 'PCO2', 'Potassium', 'PH', 'Anion Gap', 'Bilirubin']"
      ]
    },
    {
      "cell_type": "code",
      "source": [
        "EXTRACT_FEATURE_CODES_VS = dict({\n",
        "    '226754': 'FiO2', '223835': 'FiO2', '227010': 'FiO2', '229280': 'FiO2', '229841': 'FiO2',\n",
        "    '220045': 'HR', '220046': 'HR', '226764': 'HR', '227018': 'HR',\n",
        "    '220224': 'PaO2', '227039': 'PaO2', '227516': 'PaO2',\n",
        "    '220050': 'SBP' ,'220179': 'SBP', '224167': 'SBP', '227243': 'SBP', '228152': 'SBP',\n",
        "    '223762': 'Temperature', '226329': 'Temperature', '227632': 'Temperature', '227634': 'Temperature',\n",
        "    '50825': 'Temperature',\n",
        "    ####### 새로운 features ##########\n",
        "   '223761': 'TEMP_F',\n",
        "   '225310': 'DBP', '220051': 'DBP', '220180': 'DBP',\n",
        "   '225312': 'MAP', '220052': 'MAP', '220181': 'MAP',\n",
        "   '220210': 'RESP', '224690': 'RESP'\n",
        "    })\n",
        "EXTRACT_FEATURE_CODES_LAB = dict({\n",
        "    '220615': 'Creatinine', '229761': 'Creatinine',\n",
        "    '52024': 'Creatinine', '50912': 'Creatinine', '52546': 'Creatinine', '51977': 'Creatinine',  '51081': 'Creatinine',\n",
        "    '220621': 'Glucose', '225664': 'Glucose', '226537': 'Glucose',\n",
        "    '50809': 'Glucose', '52027': 'Glucose', '50931': 'Glucose', '52569': 'Glucose', '51981': 'Glucose', '51478': 'Glucose',\n",
        "    '220228': 'Hb',\n",
        "    '50811': 'Hb', '50855': 'Hb', '51640': 'Hb', '51645': 'Hb', '51222': 'Hb', '52157': 'Hb',\n",
        "    '225668': 'Lactate',\n",
        "    '50813': 'Lactate', '52442': 'Lactate',\n",
        "    '227457': 'Plt',\n",
        "    '51704': 'Plt', '51265': 'Plt',\n",
        "    '220645': 'Sodium', '226534': 'Sodium',\n",
        "    '50824': 'Sodium', '52455': 'Sodium', '50983': 'Sodium', '52623': 'Sodium',\n",
        "    '220546': 'WBC',\n",
        "    '51755': 'WBC', '51756': 'WBC', '51301': 'WBC',\n",
        "    ######### 새로운 features ############\n",
        "    '50902': 'Chloride', '50806': 'Chloride',\n",
        "    '50810': 'Hct', '51221': 'Hct',\n",
        "    '50810': 'PCO2',\n",
        "    '50822': 'Potassium', '50971': 'Potassium', '845825': 'Potassium',\n",
        "    '50820': 'PH',\n",
        "    '50868': 'Anion Gap', '769895': 'Anion Gap', '52456': 'Anion Gap', \n",
        "    '50885': 'Bilirubin'})\n",
        "\n",
        "EXTRACT_FEATURE_CODES_NORMAL = dict({ #outlier 범위 - medical knowledge에 기반하여 계산\n",
        "        'FiO2': [10, 100],\n",
        "        'HR': [30, 200],\n",
        "        'PaO2': [50, 200],\n",
        "        'SBP': [40, 250],\n",
        "        'Temperature': [30, 45],\n",
        "        'Creatinine': [0.2, 100],\n",
        "        'Glucose': [30, 1000],\n",
        "        'Hb': [5, 20],\n",
        "        'Lactate': [0.5, 2.5],\n",
        "        'Plt': [10, 500],\n",
        "        'Sodium': [90, 170],\n",
        "        'WBC': [1, 30],\n",
        "        'DBP':[30, 200],\n",
        "        'MAP':[33, 216],\n",
        "        'RESP':[0, 35],\n",
        "        'Chloride':[70, 130],\n",
        "        'Hct':[10, 50], \n",
        "        'PCO2':[5, 100],\n",
        "        'Potassium':[1.0, 10.0],\n",
        "        'PH':[5.5, 8.0],\n",
        "        'Anion Gap':[5, 50],\n",
        "        'Bilirubin':[0.1, 10]\n",
        "})\n",
        "NORMAL_VALUE = dict({ #missing value 대체값\n",
        "        'FiO2': 40,\n",
        "        'HR': 75, #(50+100)/2\n",
        "        'PaO2': 87.5, #(75+100)/2\n",
        "        'SBP': 115, #(90+140)/2 = 115\n",
        "        'Temperature': 36.65, #(36.1+37.2)/2\n",
        "        'Creatinine': 1.0, #(0.7+1.0)/2\n",
        "        'Glucose': 100, #(60+140)/2\n",
        "        'Hb': 15.0, #(13.8+17.2)/2\n",
        "        'Lactate': 1.35, #(0.5+2.2)/2 = 1.35\n",
        "        'Plt': 270, #(140+400)/2\n",
        "        'Sodium': 140, #(135+145)/2\n",
        "        'WBC': 7.5, #(5+10)/2\n",
        "        'DBP': 90, #(80+100)/2 \n",
        "        'MAP': 98, # (115 + 2*90) / \n",
        "        'RESP': 13, \n",
        "        'Chloride': 102, #(96+108) / 2\n",
        "        'Hct': 34.5, #(34+45)/2\n",
        "        'PCO2': 40, #(35+45)/2\n",
        "        'Potassium': 4.5, #(3.5+5.4)/2\n",
        "        'PH': 7.4, #(7.35 + 7.45) / 2\n",
        "        'Anion Gap': 14, #8+20/2\n",
        "        'Bilirubin': 0.8 #0+1.5/2\n",
        "})"
      ],
      "metadata": {
        "id": "h8XQ3qBTO2m3"
      },
      "execution_count": 10,
      "outputs": []
    },
    {
      "cell_type": "code",
      "execution_count": 11,
      "metadata": {
        "id": "ZwMLOPrMI-6d"
      },
      "outputs": [],
      "source": [
        "## Define some util functions\n",
        "NOT_CONVERTED = 'NOT_CONVERTED'\n",
        "## 문자로 기록된 날짜 값들을 파이썬의 datetime 데이터로 바꿔주는 함수 작성\n",
        "def str2datetime(s):\n",
        "    def _convert(_s, _dformat):\n",
        "        try:\n",
        "            converted_dt = datetime.strptime(_s, _dformat)\n",
        "        except Exception:\n",
        "            return NOT_CONVERTED\n",
        "\n",
        "        return converted_dt\n",
        "\n",
        "    if isinstance(s, datetime):\n",
        "        return s\n",
        "\n",
        "    dformats = [\n",
        "        '%Y-%m-%d %p %I:%M:%S',\n",
        "        '%Y-%m-%d %H:%M:%S.%f',\n",
        "        '%Y-%m-%d %H:%M:%S',\n",
        "        '%Y-%m-%d %H:%M',\n",
        "        '%y-%m-%d %H:%M',\n",
        "        '%Y-%m-%d',\n",
        "        '%Y%m%d',\n",
        "        '%Y-%m-%d +%H:%M',\n",
        "        '%Y%m%d %H%M',\n",
        "        '%Y%m%d%H%M%S',\n",
        "        ]\n",
        "\n",
        "    s = s.split('.')[0]\n",
        "    s = s.replace('오전', 'am').replace('오후', 'pm')\n",
        "    for dformat in dformats:\n",
        "        dt = _convert(s, dformat)\n",
        "        if dt != NOT_CONVERTED:\n",
        "            return dt\n",
        "\n",
        "    return NOT_CONVERTED"
      ]
    },
    {
      "cell_type": "code",
      "execution_count": 12,
      "metadata": {
        "id": "l4eGWeCbGRQR"
      },
      "outputs": [],
      "source": [
        "def extract_features():\n",
        "  features_hadm_id = dict()\n",
        "  chartevents = csv.DictReader(open('/content/gdrive/MyDrive/mimiciv_unzip/icu/chartevents.csv', 'r', encoding='utf-8'))\n",
        "  labevents = csv.DictReader(open('/content/gdrive/MyDrive/mimiciv_unzip/hosp/labevents.csv', 'r', encoding='utf-8'))\n",
        "  for row in tqdm(chartevents, desc='Extract_VS', total=329822285, ncols=700):\n",
        "    if row['hadm_id'] in Total_HADMIDS:\n",
        "      hadm_id = row['hadm_id']\n",
        "      features_hadm_id[hadm_id] = features_hadm_id.get(hadm_id, dict()) #get 없으면 2번째로 return\n",
        "\n",
        "      item_id = row['itemid']\n",
        "      if item_id not in EXTRACT_FEATURE_CODES_VS:\n",
        "        continue\n",
        "      item_name = EXTRACT_FEATURE_CODES_VS[item_id]\n",
        "      try:\n",
        "        #정규식을 이용해서 기록된 값에서 숫자 형태의 값만 가져오기\n",
        "        #소수점 둘째자리 까지만 값을 사용하기\n",
        "        item_value = round(float(re.findall(\"\\d+\\.\\d+|\\d+\", row['valuenum'])[0]), 2)\n",
        "      except Exception:\n",
        "        continue\n",
        "      \n",
        "      item_time = str2datetime(row['charttime'])\n",
        "      if item_time == NOT_CONVERTED:\n",
        "        continue\n",
        "      #GCP total score도 시간대에 총합으로 사용함\n",
        "      if item_name == 'TEMP_F':\n",
        "        item_value = round((item_value - 32.0) / 1.8, 2)\n",
        "        item_name = 'TEMP'\n",
        "\n",
        "    #   if item_value > FEATURE_NORMAL_RANGE[item_name][1]:\n",
        "    #     item_value = FEATURE_NORMAL_RANGE[item_name][1]\n",
        "    #   elif item_value < FEATURE_NORMAL_RANGE[item_name][0]:\n",
        "    #     item_value = FEATURE_NORMAL_RANGE[item_name][0]\n",
        "\n",
        "      features_hadm_id[hadm_id][item_name] = features_hadm_id[hadm_id].get(item_name, list()) #같은 환자의 여러개 feature가 있으면 list로 반환하도록\n",
        "      features_hadm_id[hadm_id][item_name].append((item_time, item_value))\n",
        "      \n",
        "    else:\n",
        "      continue\n",
        "\n",
        "  for row in tqdm(labevents, desc='Extract_LAB', total=124342638, ncols=700):\n",
        "    if row['hadm_id'] in Total_HADMIDS:\n",
        "      hadm_id = row['hadm_id']\n",
        "      features_hadm_id[hadm_id] = features_hadm_id.get(hadm_id, dict())\n",
        "\n",
        "      item_id = row['itemid']\n",
        "      if item_id not in EXTRACT_FEATURE_CODES_LAB:\n",
        "        continue\n",
        "      item_name = EXTRACT_FEATURE_CODES_LAB[item_id]\n",
        "      try:\n",
        "        #정규식을 이용해서 기록된 값에서 숫자 형태의 값만 가져오기\n",
        "        #소수점 둘째자리 까지만 값을 사용하기\n",
        "        item_value = round(float(re.findall(\"\\d+\\.\\d+|\\d+\", row['valuenum'])[0]), 2)\n",
        "      except Exception:\n",
        "        continue\n",
        "      \n",
        "      item_time = str2datetime(row['charttime'])\n",
        "      if item_time == NOT_CONVERTED:\n",
        "        continue\n",
        "\n",
        "      #if item_value > FEATURE_NORMAL_RANGE[item_name][1]:\n",
        "      #  item_value = FEATURE_NORMAL_RANGE[item_name][1]\n",
        "      #elif item_value < FEATURE_NORMAL_RANGE[item_name][0]:\n",
        "      #  item_value = FEATURE_NORMAL_RANGE[item_name][0]\n",
        "        \n",
        "      features_hadm_id[hadm_id][item_name] = features_hadm_id[hadm_id].get(item_name, list())\n",
        "      features_hadm_id[hadm_id][item_name].append((item_time, item_value))\n",
        "      \n",
        "    else:\n",
        "      continue\n",
        "      \n",
        "  return features_hadm_id"
      ]
    },
    {
      "cell_type": "code",
      "execution_count": 13,
      "metadata": {
        "id": "eIuZed5Vt0eL"
      },
      "outputs": [],
      "source": [
        "import pickle\n",
        "import gzip"
      ]
    },
    {
      "cell_type": "code",
      "source": [
        "# extracted_features = extract_features()"
      ],
      "metadata": {
        "id": "NyV7771WZJnJ"
      },
      "execution_count": 14,
      "outputs": []
    },
    {
      "cell_type": "code",
      "source": [
        "# with gzip.open('/content/gdrive/MyDrive/sepsis_model_weight/extracted_features_1112.pickle', 'wb') as f:\n",
        "#     pickle.dump(extracted_features, f)"
      ],
      "metadata": {
        "id": "sVz4LlqJd2Co"
      },
      "execution_count": 15,
      "outputs": []
    },
    {
      "cell_type": "code",
      "source": [
        "with gzip.open('/content/gdrive/MyDrive/sepsis_model_weight/extracted_features_1112.pickle','rb') as f:\n",
        "    extracted_features = pickle.load(f)"
      ],
      "metadata": {
        "id": "3v40lXdusCd1"
      },
      "execution_count": 16,
      "outputs": []
    },
    {
      "cell_type": "code",
      "execution_count": 17,
      "metadata": {
        "id": "GUHXlnCqNTjo",
        "colab": {
          "base_uri": "https://localhost:8080/",
          "height": 49,
          "referenced_widgets": [
            "1ef7c1923d8b4a01b44daf78a54c3811",
            "4f2bef0f57b94fe8a5b560f444bbe26e",
            "9c0e981b550b4c4bb35ad41fe29fe6fd",
            "acca18f374464d6fbc6fdc6c7270f8cc",
            "4818c7611d724cbda801faf31d7d8ee3",
            "47c893800ea244a7b2b80c29378290c8",
            "6f23adddacc845e4adfd3becb9fbb256",
            "0df0a97333d141558d24603c20da1aaf",
            "2ced076c101949f98401644b1c81593d",
            "48d3947d25ca490b81275191710547d2",
            "b8a41a3202e04d069668ba0f65013579"
          ]
        },
        "outputId": "520bae00-d5d6-44b2-9ce5-8be3e683874d"
      },
      "outputs": [
        {
          "output_type": "display_data",
          "data": {
            "text/plain": [
              "Get Death Label: 0it [00:00, ?it/s]"
            ],
            "application/vnd.jupyter.widget-view+json": {
              "version_major": 2,
              "version_minor": 0,
              "model_id": "1ef7c1923d8b4a01b44daf78a54c3811"
            }
          },
          "metadata": {}
        }
      ],
      "source": [
        "# 사망 레이블 하기\n",
        "death_labels = dict()\n",
        "admissions = csv.DictReader(open('/content/gdrive/MyDrive/mimiciv_der/sepsis3_admissions.csv', 'r', encoding='utf-8'))\n",
        "for row in tqdm(admissions, desc='Get Death Label'):\n",
        "  hadm_id = row['hadm_id']\n",
        "  death_yn = int(row['hospital_expire_flag'])\n",
        "  if death_yn:\n",
        "    event_time = str2datetime(row['deathtime'])\n",
        "  else:\n",
        "    event_time = str2datetime(row['dischtime'])\n",
        "  death_labels[hadm_id] = dict({'DEATH': death_yn, 'EVENT_TIME': event_time})"
      ]
    },
    {
      "cell_type": "code",
      "execution_count": 18,
      "metadata": {
        "id": "Zm7qGtNPOH3p"
      },
      "outputs": [],
      "source": [
        "## 환자의 입실 퇴실 시간 정보 가져오기\n",
        "Extracted_HADMIDS = list(extracted_features.keys())\n",
        "admin_disc_time = dict()\n",
        "\n",
        "admissions = csv.DictReader(open('/content/gdrive/MyDrive/mimiciv_der/sepsis3_admissions.csv', 'r', encoding='utf-8'))\n",
        "for row in admissions:\n",
        "  hadm_id = row['hadm_id']\n",
        "  admin_time = str2datetime(row['admittime'])\n",
        "  disc_time = str2datetime(row['dischtime'])\n",
        "\n",
        "  if (admin_time != NOT_CONVERTED) and (disc_time != NOT_CONVERTED):\n",
        "    admin_disc_time[hadm_id] = dict({'ADMIN': admin_time, 'DISC': disc_time})"
      ]
    },
    {
      "cell_type": "code",
      "execution_count": 19,
      "metadata": {
        "id": "Auy7XQu0N5cN"
      },
      "outputs": [],
      "source": [
        "## 입실 시점으로부터 1시간 간격으로 데이터를 읽어오는 함수 정의\n",
        "def quantize_features(feature_list, admin_time, disc_time, missing_feature=False):\n",
        "  total_hours = int((disc_time - admin_time).total_seconds() / (60*60))\n",
        "  #입실 이후 최대 24시간 동안의 데이터만 가져오기\n",
        "  if total_hours > 24:\n",
        "    total_hours = 24\n",
        "  \n",
        "  quantized_features = list()\n",
        "  if missing_feature:\n",
        "    for i in range(total_hours):\n",
        "      quantized_time = admin_time + timedelta(hours=i)\n",
        "      quantized_value = np.nan #지금은 dic 형태라, pandas 쓰면 NAN이랑 동일, carry forward 도 가능\n",
        "      quantized_features.append((quantized_time, quantized_value))\n",
        "  else:\n",
        "    feature_list = list(sorted(feature_list, key=lambda x: x[0]))\n",
        "    for i in range(total_hours):\n",
        "      quantized_time = admin_time + timedelta(hours=i)\n",
        "      quantized_time_start = quantized_time - timedelta(hours=1)\n",
        "      quantized_values = list(filter(lambda x: quantized_time_start < x[0] <= quantized_time, feature_list)) #filter함수 True만 필터\n",
        "      if len(quantized_values) > 0:\n",
        "        quantized_value = quantized_values[-1][1]\n",
        "      else:\n",
        "        quantized_value = np.nan \n",
        "\n",
        "      quantized_features.append((quantized_time, quantized_value))\n",
        "  \n",
        "  return quantized_features"
      ]
    },
    {
      "cell_type": "code",
      "execution_count": null,
      "metadata": {
        "id": "SxMcge9WRy-m",
        "colab": {
          "base_uri": "https://localhost:8080/",
          "height": 49,
          "referenced_widgets": [
            "8d939fbf1e884671ae86660827b7cd6d",
            "fb9cb07deed24137a30a69ebd9ddbce5",
            "95d546549b5f4831955b6a774a1852ec",
            "6d0cbd136e46438f87e921a6cbc7fb60",
            "9f795f38a49b46a38786706d1ad9dce7",
            "d5dacf9c5383459b8850aab955c21bab",
            "8da35447c8354d568f1f4f8d2aeaead4",
            "64bb19a20da241e78618c2e0812ebd6d",
            "a8c2b8c661d3466386feb4e4e7ec1cee",
            "86be5ed8e17641e3977a1f270718cf04",
            "ed21ab7c09944a95a3bd3001c7de84d6"
          ]
        },
        "outputId": "73c1cb2a-4dfd-4abb-e2f4-ed0223410abd"
      },
      "outputs": [
        {
          "output_type": "display_data",
          "data": {
            "text/plain": [
              "Doing Quantization:   0%|          | 0/32365 [00:00<?, ?it/s]"
            ],
            "application/vnd.jupyter.widget-view+json": {
              "version_major": 2,
              "version_minor": 0,
              "model_id": "8d939fbf1e884671ae86660827b7cd6d"
            }
          },
          "metadata": {}
        }
      ],
      "source": [
        "## 전체 데이터에 대해서 데이터 변환하기\n",
        "quantized_features = dict()\n",
        "for hadm_id in tqdm(Extracted_HADMIDS, desc='Doing Quantization'):\n",
        "    admin_time = admin_disc_time[hadm_id]['ADMIN']\n",
        "    disc_time = admin_disc_time[hadm_id]['DISC']\n",
        "    if (disc_time - admin_time).total_seconds() / (60*60) < 1.0:\n",
        "      continue\n",
        "    quantized_features[hadm_id] = dict()\n",
        "    for kk in feature_keys:\n",
        "      if kk in extracted_features[hadm_id]:\n",
        "        feature_list = extracted_features[hadm_id][kk]\n",
        "        quantized_features[hadm_id][kk] = quantize_features(feature_list, admin_time, disc_time)\n",
        "      else:\n",
        "        quantized_features[hadm_id][kk] = quantize_features(None, admin_time, disc_time, missing_feature=True)\n"
      ]
    },
    {
      "cell_type": "code",
      "execution_count": null,
      "metadata": {
        "id": "th7CkR4pSJE8"
      },
      "outputs": [],
      "source": [
        "def carry_forward(feature_name, feature_list):\n",
        "  imputed_features = list()\n",
        "  for i, (feature_t, feature_v) in enumerate(feature_list):\n",
        "    if np.isnan(feature_v):\n",
        "      last_observations = list(filter(lambda x: (x[0] <= feature_t) and (not np.isnan(x[1])), feature_list))\n",
        "      if len(last_observations) > 0:\n",
        "        imputed_features.append((feature_t, last_observations[-1][1]))\n",
        "      else:\n",
        "        imputed_features.append((feature_t, NORMAL_VALUE[feature_name]))\n",
        "    else:\n",
        "      imputed_features.append((feature_t, feature_v))\n",
        "\n",
        "  return imputed_features"
      ]
    },
    {
      "cell_type": "code",
      "execution_count": null,
      "metadata": {
        "id": "uhmbOBT_Shgz"
      },
      "outputs": [],
      "source": [
        "Quantized_HADMIDS = list(quantized_features.keys())\n",
        "carry_forwarded_features = dict()\n",
        "for hadm_id in tqdm(Quantized_HADMIDS, desc='Carry-Forward'):\n",
        "  carry_forwarded_features[hadm_id] = dict()\n",
        "\n",
        "  for kk in feature_keys:\n",
        "    feature_list = quantized_features[hadm_id][kk]\n",
        "    carry_forwarded_features[hadm_id][kk] = carry_forward(kk, feature_list)"
      ]
    },
    {
      "cell_type": "code",
      "execution_count": null,
      "metadata": {
        "id": "uOusHtWwTGAV"
      },
      "outputs": [],
      "source": [
        "#Min-Max Normalization\n",
        "min_max_normalized = dict()\n",
        "for hadm_id in tqdm(Quantized_HADMIDS, desc='Min-Max Normalization', ncols=700):\n",
        "  min_max_normalized[hadm_id] = dict()\n",
        "  for kk in feature_keys:\n",
        "    features = np.array(carry_forwarded_features[hadm_id][kk])\n",
        "\n",
        "    min = EXTRACT_FEATURE_CODES_NORMAL[kk][0]\n",
        "    max = EXTRACT_FEATURE_CODES_NORMAL[kk][1]\n",
        "\n",
        "    features[:, 1] = (features[:, 1] - min) / (max - min)\n",
        "    min_max_normalized[hadm_id][kk] = features"
      ]
    },
    {
      "cell_type": "code",
      "execution_count": null,
      "metadata": {
        "id": "Tg6sx0ytTLzE"
      },
      "outputs": [],
      "source": [
        "total_death_included_hadm_ids = list(death_labels.keys())"
      ]
    },
    {
      "cell_type": "code",
      "execution_count": null,
      "metadata": {
        "id": "GLGBtCnTk0XN"
      },
      "outputs": [],
      "source": [
        "## 사망 예측용 데이터\n",
        "death_dataset = dict({\n",
        "    'HADM_IDS': list(),\n",
        "    'LABEL': list(),\n",
        "    'DATA': list()\n",
        "})\n",
        "\n",
        "for hadm_id in tqdm(total_death_included_hadm_ids, desc='Make Death Dataset', ncols=700):\n",
        "  if hadm_id not in min_max_normalized:\n",
        "    continue\n",
        "  if len(min_max_normalized[hadm_id][feature_keys[0]]) >= 24:\n",
        "    time_len = 24\n",
        "  else:\n",
        "    time_len = len(min_max_normalized[hadm_id][feature_keys[0]])\n",
        "  \n",
        "  try:\n",
        "    data = np.array(min_max_normalized[hadm_id][feature_keys[0]])[:time_len, 1].reshape(time_len, 1)\n",
        "  except:\n",
        "    continue\n",
        "\n",
        "  for kk in feature_keys[1:]:\n",
        "    data = np.concatenate((data, np.array(min_max_normalized[hadm_id][kk])[:time_len, 1].reshape(time_len, 1)), axis=1)\n",
        "  \n",
        "  death_dataset['HADM_IDS'].append(hadm_id)\n",
        "  death_dataset['LABEL'].append(death_labels[hadm_id]['DEATH'])\n",
        "  death_dataset['DATA'].append(data)"
      ]
    },
    {
      "cell_type": "code",
      "execution_count": null,
      "metadata": {
        "id": "qyiUdaz7oU6w"
      },
      "outputs": [],
      "source": [
        "# extra_features"
      ]
    },
    {
      "cell_type": "code",
      "source": [
        "extra_features.set_index('hadm_id', drop=True, append=False, inplace=True, verify_integrity=False)"
      ],
      "metadata": {
        "id": "MFF3byfJ1Wyt"
      },
      "execution_count": null,
      "outputs": []
    },
    {
      "cell_type": "code",
      "source": [
        "# extra_features"
      ],
      "metadata": {
        "id": "tNFsBN4f1y-z"
      },
      "execution_count": null,
      "outputs": []
    },
    {
      "cell_type": "code",
      "source": [
        "extra_features=extra_features[['weight','age']]\n",
        "#subject_id가 data에 처음 부터 없다면 필요없는 부분"
      ],
      "metadata": {
        "id": "Lqn9hOGZsqGt"
      },
      "execution_count": null,
      "outputs": []
    },
    {
      "cell_type": "code",
      "execution_count": null,
      "metadata": {
        "id": "OwbTPNWOUzMu"
      },
      "outputs": [],
      "source": [
        "## 사망 예측용 데이터\n",
        "death_dataset2 = dict({\n",
        "    'HADM_IDS': list(),\n",
        "    'LABEL': list(),\n",
        "    'DATA': list(),\n",
        "    'EXTRA' : list(),\n",
        "})\n",
        "\n",
        "for hadm_id in tqdm(total_death_included_hadm_ids, desc='Make Death Dataset', ncols=700):\n",
        "  if hadm_id not in min_max_normalized:\n",
        "    continue\n",
        "  if len(min_max_normalized[hadm_id][feature_keys[0]]) >= 24:\n",
        "    time_len = 24\n",
        "  else:\n",
        "    time_len = len(min_max_normalized[hadm_id][feature_keys[0]])\n",
        "  \n",
        "  try:\n",
        "    data = np.array(min_max_normalized[hadm_id][feature_keys[0]])[:time_len, 1].reshape(time_len, 1)\n",
        "  except:\n",
        "    continue\n",
        "\n",
        "  for kk in feature_keys[1:]:\n",
        "    data = np.concatenate((data, np.array(min_max_normalized[hadm_id][kk])[:time_len, 1].reshape(time_len, 1)), axis=1)\n",
        "  \n",
        "  death_dataset2['HADM_IDS'].append(hadm_id)\n",
        "  death_dataset2['LABEL'].append(death_labels[hadm_id]['DEATH'])\n",
        "  death_dataset2['DATA'].append(data)\n",
        "\n",
        "# 추가 feature 입력\n",
        "extra_features=extra_features.reindex(pd.to_numeric(death_dataset2['HADM_IDS']))\n",
        "extra_features=np.array(extra_features)\n",
        "\n",
        "for ef in tqdm(extra_features, desc='+ Extra_features', ncols=700):\n",
        "  death_dataset2['EXTRA'].append(ef)"
      ]
    },
    {
      "cell_type": "code",
      "source": [
        "len(death_dataset2['HADM_IDS'])"
      ],
      "metadata": {
        "id": "1qfMd7js2yk8"
      },
      "execution_count": null,
      "outputs": []
    },
    {
      "cell_type": "markdown",
      "metadata": {
        "id": "78GmjAzpqJWt"
      },
      "source": [
        "## train-test 분할"
      ]
    },
    {
      "cell_type": "code",
      "execution_count": null,
      "metadata": {
        "id": "FR3Pnr0pTwn3"
      },
      "outputs": [],
      "source": [
        "## 학습용 검증용 데이터 나누기 (8:2)\n",
        "def split_train_test2(dataset, train_ratio=0.8, pos_neg=True):\n",
        "  #레이블이 양성, 음성인 경우, 학습 데이터, 테스트 데이터를 나눌 때 \n",
        "  #양성, 음성의 비율을 각각 유지할 수 있도록 구현\n",
        "  if pos_neg:\n",
        "    pos_idx = np.where(np.array(dataset['LABEL']) == 1)[0]\n",
        "    neg_idx = np.where(np.array(dataset['LABEL']) == 0)[0]\n",
        "\n",
        "    # suffle 넣어줘서 index 섞어줘야함. np.random, random,suffle\n",
        "    np.random.shuffle(pos_idx)\n",
        "    np.random.shuffle(neg_idx)\n",
        "\n",
        "    pos_num = len(pos_idx)\n",
        "    neg_num = len(neg_idx)\n",
        "\n",
        "    train_pos_idx = list(pos_idx[:int(pos_num * train_ratio)])\n",
        "    test_pos_idx = list(pos_idx[int(pos_num * train_ratio):])\n",
        "\n",
        "    train_neg_idx = list(neg_idx[:int(neg_num * train_ratio)])\n",
        "    test_neg_idx = list(neg_idx[int(neg_num * train_ratio):])\n",
        "\n",
        "    train_idx = train_pos_idx + train_neg_idx\n",
        "    test_idx = test_pos_idx + test_neg_idx\n",
        "  \n",
        "  #레이블이 양성, 음성이 아닌경우 단순하게 전체 데이터에서 학습, 테스트 비율만큼 나누기\n",
        "  else:\n",
        "    idx = np.arange(len(dataset['LABEL']))\n",
        "    np.random.shuffle(idx)\n",
        "    train_idx = idx[:int(len(idx) * train_ratio)]\n",
        "    test_idx = idx[int(len(idx) * train_ratio):]\n",
        "\n",
        "  train_set = dict({\n",
        "      'HADM_IDS': np.array(dataset['HADM_IDS'])[train_idx],\n",
        "      'LABEL': np.array(dataset['LABEL'])[train_idx],\n",
        "      'DATA': np.array(dataset['DATA'])[train_idx]\n",
        "  })\n",
        "\n",
        "  train_set2 = dict({\n",
        "      'HADM_IDS': np.array(dataset['HADM_IDS'])[train_idx],\n",
        "      'EXTRA': np.array(dataset['EXTRA'])[train_idx].reshape((-1,2))\n",
        "  })\n",
        "\n",
        "  test_set = dict({\n",
        "      'HADM_IDS': np.array(dataset['HADM_IDS'])[test_idx],\n",
        "      'LABEL': np.array(dataset['LABEL'])[test_idx],\n",
        "      'DATA': np.array(dataset['DATA'])[test_idx]\n",
        "  })\n",
        "\n",
        "  test_set2 = dict({\n",
        "      'HADM_IDS': np.array(dataset['HADM_IDS'])[test_idx],\n",
        "      'EXTRA': np.array(dataset['EXTRA'])[test_idx].reshape((-1,2))\n",
        "  })\n",
        "  return train_set,train_set2, test_set, test_set2"
      ]
    },
    {
      "cell_type": "code",
      "source": [
        "d_train,d_train2, d_test,d_test2 = split_train_test2(death_dataset2)"
      ],
      "metadata": {
        "id": "TJWtbljp_yCD"
      },
      "execution_count": null,
      "outputs": []
    },
    {
      "cell_type": "code",
      "source": [
        "print(len(d_train['HADM_IDS']))\n",
        "print(len(d_train['DATA']))\n",
        "print(len(d_train2['HADM_IDS']))\n",
        "print(len(d_train2['EXTRA']))\n",
        "print(len(d_test['HADM_IDS']))\n",
        "print(len(d_test2['HADM_IDS']))\n",
        "print(len(d_test2['EXTRA']))"
      ],
      "metadata": {
        "id": "0oE6X6jPAaYN"
      },
      "execution_count": null,
      "outputs": []
    },
    {
      "cell_type": "markdown",
      "metadata": {
        "id": "VZvM3xUVqF5A"
      },
      "source": [
        "## 모델 학습 \n"
      ]
    },
    {
      "cell_type": "code",
      "execution_count": null,
      "metadata": {
        "id": "b38QBa6_TYQm"
      },
      "outputs": [],
      "source": [
        "import tensorflow as tf\n",
        "from tensorflow import keras\n",
        "from tensorflow.keras import layers\n",
        "import math\n",
        "from tensorflow.keras.utils import Sequence\n",
        "import numpy as np\n",
        "from tensorflow.keras.models import Sequential,Model\n",
        "from tensorflow.keras.layers import LSTM, Dense, Embedding,Bidirectional,Activation,GRU,BatchNormalization,Dropout,LeakyReLU,ReLU,Input,Add\n",
        "from tensorflow.keras.layers import Concatenate"
      ]
    },
    {
      "cell_type": "code",
      "execution_count": null,
      "metadata": {
        "id": "ljiVxEwrRGuG"
      },
      "outputs": [],
      "source": [
        "## 사망예측 모델용 데이터 로더_2\n",
        "class Death_Dataloader2(Sequence):\n",
        "    def __init__(self, x_set,x_set2, y_set, hadm_id_set, batch_size, shuffle=False):\n",
        "        self.x, self.x2, self.y, self.hadm_id = x_set, x_set2, y_set, hadm_id_set\n",
        "        self.batch_size = batch_size\n",
        "        self.shuffle = shuffle\n",
        "        self.on_epoch_end()\n",
        "\n",
        "    def __len__(self):\n",
        "        return math.ceil(len(self.x) / self.batch_size)\n",
        "\n",
        "\t\t# batch 단위로 직접 묶어줘야 함\n",
        "    def __getitem__(self, idx):\n",
        "\t\t# sampler의 역할(index를 batch_size만큼 sampling해줌)\n",
        "        indices = self.indices[idx*self.batch_size:(idx+1)*self.batch_size]\n",
        "\n",
        "        batch_x = [self.x[i] for i in indices]\n",
        "        \n",
        "        batch_x2 = [self.x2[i] for i in indices]\n",
        "\n",
        "        ## 입력 데이터들의 크기를 최대 24시간으로 통일하고 24시간 보다 짧은 데이터들의 경우 끝에 '0' padding 붙이기\n",
        "        padded_batch_x = np.zeros((len(batch_x), 24, len(feature_keys)))\n",
        "        for i in range(len(batch_x)):\n",
        "          valid_length = len(batch_x[i])\n",
        "          padded_batch_x[i][:valid_length, :] = batch_x[i]\n",
        "        \n",
        "\n",
        "        batch_y = [self.y[i] for i in indices]\n",
        "        batch_hadm_id = [self.hadm_id[i] for i in indices]\n",
        "\n",
        "        return [np.array(padded_batch_x).astype('float32'), np.array(batch_x2).astype('float32')] ,np.array(batch_y).astype('float32')\n",
        "\n",
        "    # epoch이 끝날때마다 실행\n",
        "    def on_epoch_end(self):\n",
        "        self.indices = np.arange(len(self.x))\n",
        "        if self.shuffle == True:\n",
        "            np.random.shuffle(self.indices)\n"
      ]
    },
    {
      "cell_type": "code",
      "source": [
        "death_train_loader2 = Death_Dataloader2(d_train['DATA'],d_train2['EXTRA'], d_train['LABEL'], d_train['HADM_IDS'], 64, True)\n",
        "death_test_loader2 = Death_Dataloader2(d_test['DATA'],d_test2['EXTRA'], d_test['LABEL'], d_test['HADM_IDS'], 64, False)"
      ],
      "metadata": {
        "id": "zXHI5C3RBlsI"
      },
      "execution_count": null,
      "outputs": []
    },
    {
      "cell_type": "code",
      "source": [
        "# lr_schedule = keras.optimizers.schedules.ExponentialDecay(\n",
        "#     initial_learning_rate=0.005,\n",
        "#     decay_steps=100000,\n",
        "#     decay_rate=0.96)\n",
        "# optimizer_decay = keras.optimizers.SGD(learning_rate=lr_schedule)\n",
        "\n",
        "#########################################\n",
        "\n",
        "lr_schedule2 = keras.optimizers.schedules.CosineDecay(\n",
        "    initial_learning_rate=0.02,\n",
        "    decay_steps=10000)\n",
        "optimizer_cosine = keras.optimizers.SGD(learning_rate=lr_schedule2)\n",
        "\n",
        "#########################################\n",
        "\n",
        "# lr_schedule3 = keras.optimizers.schedules.CosineDecayRestarts(\n",
        "#     initial_learning_rate=0.01,first_decay_steps=10, t_mul=2, m_mul=0.9, alpha=0)\n",
        "# optimizer_cosine2 = keras.optimizers.SGD(learning_rate=lr_schedule3)\n",
        "\n"
      ],
      "metadata": {
        "id": "xI-dquLeRZsz"
      },
      "execution_count": null,
      "outputs": []
    },
    {
      "cell_type": "code",
      "source": [
        "def lstm_bidirect3():\n",
        "  input1 = Input(shape=(13,26))\n",
        "  model1 = Bidirectional(LSTM(125,return_sequences=True))(input1)\n",
        "  model1 = Bidirectional(LSTM(125))(model1)\n",
        "  model1 = Dense(32)(model1)\n",
        "  model1 = BatchNormalization()(model1)\n",
        "  model1 = Activation('relu')(model1)\n",
        "  model1 = Dense(32)(model1)\n",
        "  model1 = BatchNormalization()(model1)\n",
        "  model1 = Activation('relu')(model1)\n",
        "  model1 = Dropout(0.2)(model1)\n",
        "  model1 = Dense(16)(model1)\n",
        "\n",
        "  input2 = Input(2)\n",
        "  model2 = Dense(32, activation='relu')(input2)\n",
        "  model2 = BatchNormalization()(model2)\n",
        "  model2 = Activation('relu')(model2)\n",
        "  model2 = Dropout(0.2)(model2)\n",
        "  model2 = Dense(16)(model2)\n",
        "\n",
        "  model_add = Add()([model1, model2])\n",
        "  model_add = Dense(16)(model_add)\n",
        "  model_add = BatchNormalization()(model_add)\n",
        "  model_add = Dense(16)(model_add)\n",
        "  model_add = BatchNormalization()(model_add)\n",
        "  output = Dense(1, activation='sigmoid')(model_add)\n",
        "\n",
        "  model = Model(inputs=[input1, input2], outputs=output)\n",
        "  model.compile(loss='binary_crossentropy', optimizer=optimizer_cosine, metrics=['AUC'])\n",
        "\n",
        "  return model"
      ],
      "metadata": {
        "id": "Qu6UbPcPbxy-"
      },
      "execution_count": null,
      "outputs": []
    },
    {
      "cell_type": "code",
      "source": [
        "def lstm_bidirect4():\n",
        "  input1 = Input(shape=(13,26))\n",
        "  model1 = Bidirectional(LSTM(125,return_sequences=True))(input1)\n",
        "  model1 = Bidirectional(LSTM(125))(model1)\n",
        "  model1 = Dense(32)(model1)\n",
        "  model1 = BatchNormalization()(model1)\n",
        "  model1 = Activation('relu')(model1)\n",
        "  model1 = Dense(32)(model1)\n",
        "  model1 = BatchNormalization()(model1)\n",
        "  model1 = Activation('relu')(model1)\n",
        "  model1 = Dropout(0.2)(model1)\n",
        "  model1 = Dense(16)(model1)\n",
        "\n",
        "  input2 = Input(2)\n",
        "\n",
        "  concat_output = layers.Concatenate()([model1,input2])\n",
        "  model_add = Dense(16)(concat_output)\n",
        "  model_add = BatchNormalization()(model_add)\n",
        "  model_add = Activation('relu')(model_add)\n",
        "  model_add = Dense(16)(model_add)\n",
        "  model_add = BatchNormalization()(model_add)\n",
        "  output = Dense(1, activation='sigmoid')(model_add)\n",
        "\n",
        "  model = Model(inputs=[input1, input2], outputs=output)\n",
        "  model.compile(loss='binary_crossentropy', optimizer=optimizer_cosine, metrics=['AUC'])\n",
        "\n",
        "  return model"
      ],
      "metadata": {
        "id": "xUXSNUM3csFJ"
      },
      "execution_count": null,
      "outputs": []
    },
    {
      "cell_type": "code",
      "source": [],
      "metadata": {
        "id": "uGoc4QzDY8fu"
      },
      "execution_count": null,
      "outputs": []
    },
    {
      "cell_type": "code",
      "source": [
        "model3=lstm_bidirect3()"
      ],
      "metadata": {
        "id": "AJzeEKc8HKC_"
      },
      "execution_count": null,
      "outputs": []
    },
    {
      "cell_type": "code",
      "source": [
        "from keras.utils import plot_model\n",
        "plot_model(model3, to_file='./model.png')"
      ],
      "metadata": {
        "id": "XJVv07YMokyw"
      },
      "execution_count": null,
      "outputs": []
    },
    {
      "cell_type": "code",
      "source": [
        "callback = [tf.keras.callbacks.EarlyStopping(monitor='val_auc', patience=20),\n",
        "            tf.keras.callbacks.ModelCheckpoint(filepath='/content/gdrive/MyDrive/sepsis_model_weight/lstm_model/lstm_model.{epoch:02d}-{val_auc:.3f}.h5',save_best_only=True)]\n",
        "history_lstm3 = model3.fit(death_train_loader2,validation_data=death_test_loader2,\n",
        "                    batch_size=32, epochs=500,callbacks=callback)"
      ],
      "metadata": {
        "id": "sXwMapF0FNEd"
      },
      "execution_count": null,
      "outputs": []
    },
    {
      "cell_type": "code",
      "execution_count": null,
      "metadata": {
        "id": "6w-7i8CdccJt"
      },
      "outputs": [],
      "source": [
        "from matplotlib import pyplot as plt\n",
        "plt.plot(history_lstm3.history['auc'])\n",
        "plt.plot(history_lstm3.history['val_auc'])\n",
        "plt.title('model auc')\n",
        "plt.ylabel('auc')\n",
        "plt.xlabel('epoch')\n",
        "plt.legend(['train', 'val'], loc='upper left')\n",
        "plt.show()\n",
        "##### lr_schedule2 = keras.optimizers.schedules.CosineDecay(\n",
        "#    initial_learning_rate=0.01,\n",
        "#    decay_steps=10000)\n",
        "# optimizer_cosine = keras.optimizers.SGD(learning_rate=lr_schedule2)"
      ]
    },
    {
      "cell_type": "code",
      "source": [
        "from matplotlib import pyplot as plt\n",
        "plt.plot(history_lstm3.history['auc'])\n",
        "plt.plot(history_lstm3.history['val_auc'])\n",
        "plt.title('model auc')\n",
        "plt.ylabel('auc')\n",
        "plt.xlabel('epoch')\n",
        "plt.legend(['train', 'val'], loc='upper left')\n",
        "plt.show()\n",
        "\n",
        "#lr_schedule3 = keras.optimizers.schedules.CosineDecayRestarts(\n",
        "#    initial_learning_rate=0.01,first_decay_steps=10, t_mul=2, m_mul=0.9, alpha=0)\n",
        "#optimizer_cosine2 = keras.optimizers.SGD(learning_rate=lr_schedule3)\n"
      ],
      "metadata": {
        "id": "9_hP22jRAFoa"
      },
      "execution_count": null,
      "outputs": []
    },
    {
      "cell_type": "code",
      "execution_count": null,
      "metadata": {
        "id": "BvtrN0bDaeuX"
      },
      "outputs": [],
      "source": [
        "# Trainset, Testset에 대한 ROC 커브 그리고 Confusion Matrix 구해보기\n",
        "import matplotlib.pyplot as plt\n",
        "from sklearn.metrics import roc_curve, precision_recall_curve, roc_auc_score, average_precision_score, confusion_matrix\n",
        "\n",
        "%matplotlib inline\n",
        "lstm_train_predicts, lstm_test_predicts = list(), list()\n",
        "lstm_train_labels, lstm_test_labels = list(), list()\n",
        "\n",
        "for tr_x, tr_y in death_train_loader:\n",
        "  batch_predict = death_lstm.predict(tr_x)\n",
        "  lstm_train_predicts.append(batch_predict)\n",
        "  lstm_train_labels.append(tr_y)\n",
        "\n",
        "  batch_predict = death_trans.predict(tr_x)\n",
        "  trans_train_predicts.append(batch_predict)\n",
        "  trans_train_labels.append(tr_y)\n",
        "\n",
        "for test_x, test_y in death_test_loader:\n",
        "  batch_predict = death_lstm.predict(test_x)\n",
        "  lstm_test_predicts.append(batch_predict)\n",
        "  lstm_test_labels.append(test_y)\n",
        "\n",
        "  batch_predict = death_trans.predict(test_x)\n",
        "  trans_test_predicts.append(batch_predict)\n",
        "  trans_test_labels.append(test_y)\n",
        "\n",
        "lstm_train_predicts = np.concatenate(lstm_train_predicts).reshape(-1, 1)\n",
        "lstm_train_labels = np.concatenate(lstm_train_labels).astype('int')\n",
        "lstm_test_predicts = np.concatenate(lstm_test_predicts).reshape(-1, 1)\n",
        "lstm_test_labels = np.concatenate(lstm_test_labels).astype('int')\n",
        "\n",
        "trans_train_predicts = np.concatenate(trans_train_predicts).reshape(-1, 1)\n",
        "trans_train_labels = np.concatenate(trans_train_labels).astype('int')\n",
        "trans_test_predicts = np.concatenate(trans_test_predicts).reshape(-1, 1)\n",
        "trans_test_labels = np.concatenate(trans_test_labels).astype('int')\n",
        "\n",
        "\n",
        "trans_train_roc_x, trans_train_roc_y, _ = roc_curve(trans_train_labels, trans_train_predicts)\n",
        "trans_train_auroc = roc_auc_score(trans_train_labels, trans_train_predicts)\n",
        "trans_test_roc_x, trans_test_roc_y, _ = roc_curve(trans_test_labels, trans_test_predicts)\n",
        "trans_test_auroc = roc_auc_score(trans_test_labels, trans_test_predicts)\n",
        "# trans_train_roc_x, trans_train_roc_y, _ = roc_curve(trans_train_labels, trans_train_predicts)\n",
        "# trans_train_auroc = roc_auc_score(trans_train_labels, trans_train_predicts)\n",
        "# trans_test_roc_x, trans_test_roc_y, _ = roc_curve(trans_test_labels, trans_test_predicts)\n",
        "# trans_test_auroc = roc_auc_score(trans_test_labels, trans_test_predicts)\n",
        "\n",
        "lstm_train_roc_x, lstm_train_roc_y, _ = roc_curve(lstm_train_labels, lstm_train_predicts)\n",
        "lstm_train_auroc = roc_auc_score(lstm_train_labels, lstm_train_predicts)\n",
        "lstm_test_roc_x, lstm_test_roc_y, _ = roc_curve(lstm_test_labels, lstm_test_predicts)\n",
        "lstm_test_auroc = roc_auc_score(lstm_test_labels, lstm_test_predicts)\n",
        "# lstm_train_roc_x, lstm_train_roc_y, _ = roc_curve(lstm_train_labels, lstm_train_predicts)\n",
        "# lstm_train_auroc = roc_auc_score(lstm_train_labels, lstm_train_predicts)\n",
        "# lstm_test_roc_x, lstm_test_roc_y, _ = roc_curve(lstm_test_labels, lstm_test_predicts)\n",
        "# lstm_test_auroc = roc_auc_score(lstm_test_labels, lstm_test_predicts)\n",
        "\n",
        "plt.figure()\n",
        "plt.xlabel('False Positive Rate (1 - Specificity)')\n",
        "plt.ylabel('True Positive Rate (Sensitivity)')\n",
        "plt.title('ROC Curve')\n",
        "\n",
        "\n",
        "plt.plot(lstm_train_roc_x, lstm_train_roc_y, linewidth=1.5, label='{} (AUROC={:.3f})'.format('LSTM Train', lstm_train_auroc))\n",
        "plt.plot(lstm_test_roc_x, lstm_test_roc_y, linewidth=1.5, label='{} (AUROC={:.3f})'.format('LSTM Test', lstm_test_auroc))\n",
        "\n",
        "plt.legend(fancybox=True)\n",
        "\n",
        "plt.show()"
      ]
    },
    {
      "cell_type": "code",
      "execution_count": null,
      "metadata": {
        "id": "JQC8OpbhZmLQ"
      },
      "outputs": [],
      "source": [
        "from keras import backend as k\n",
        "k.clear_session()"
      ]
    },
    {
      "cell_type": "markdown",
      "metadata": {
        "id": "ABTMAjyBXfd-"
      },
      "source": []
    },
    {
      "cell_type": "code",
      "execution_count": null,
      "metadata": {
        "id": "lWCgxDDqYNn2"
      },
      "outputs": [],
      "source": [
        "sum(death_train['LABEL'])/len(death_train['LABEL'])"
      ]
    },
    {
      "cell_type": "markdown",
      "metadata": {
        "id": "Bp43b-ctXfbj"
      },
      "source": [
        "모델 저장과\n",
        "test data로 test( 5개 모델간 차이가 있는지)"
      ]
    },
    {
      "cell_type": "code",
      "execution_count": null,
      "metadata": {
        "id": "iSVsO4EkOi9R"
      },
      "outputs": [],
      "source": []
    }
  ],
  "metadata": {
    "accelerator": "GPU",
    "colab": {
      "collapsed_sections": [],
      "machine_shape": "hm",
      "provenance": [],
      "include_colab_link": true
    },
    "gpuClass": "premium",
    "kernelspec": {
      "display_name": "Python 3",
      "name": "python3"
    },
    "language_info": {
      "name": "python"
    },
    "widgets": {
      "application/vnd.jupyter.widget-state+json": {
        "1ef7c1923d8b4a01b44daf78a54c3811": {
          "model_module": "@jupyter-widgets/controls",
          "model_name": "HBoxModel",
          "model_module_version": "1.5.0",
          "state": {
            "_dom_classes": [],
            "_model_module": "@jupyter-widgets/controls",
            "_model_module_version": "1.5.0",
            "_model_name": "HBoxModel",
            "_view_count": null,
            "_view_module": "@jupyter-widgets/controls",
            "_view_module_version": "1.5.0",
            "_view_name": "HBoxView",
            "box_style": "",
            "children": [
              "IPY_MODEL_4f2bef0f57b94fe8a5b560f444bbe26e",
              "IPY_MODEL_9c0e981b550b4c4bb35ad41fe29fe6fd",
              "IPY_MODEL_acca18f374464d6fbc6fdc6c7270f8cc"
            ],
            "layout": "IPY_MODEL_4818c7611d724cbda801faf31d7d8ee3"
          }
        },
        "4f2bef0f57b94fe8a5b560f444bbe26e": {
          "model_module": "@jupyter-widgets/controls",
          "model_name": "HTMLModel",
          "model_module_version": "1.5.0",
          "state": {
            "_dom_classes": [],
            "_model_module": "@jupyter-widgets/controls",
            "_model_module_version": "1.5.0",
            "_model_name": "HTMLModel",
            "_view_count": null,
            "_view_module": "@jupyter-widgets/controls",
            "_view_module_version": "1.5.0",
            "_view_name": "HTMLView",
            "description": "",
            "description_tooltip": null,
            "layout": "IPY_MODEL_47c893800ea244a7b2b80c29378290c8",
            "placeholder": "​",
            "style": "IPY_MODEL_6f23adddacc845e4adfd3becb9fbb256",
            "value": "Get Death Label: "
          }
        },
        "9c0e981b550b4c4bb35ad41fe29fe6fd": {
          "model_module": "@jupyter-widgets/controls",
          "model_name": "FloatProgressModel",
          "model_module_version": "1.5.0",
          "state": {
            "_dom_classes": [],
            "_model_module": "@jupyter-widgets/controls",
            "_model_module_version": "1.5.0",
            "_model_name": "FloatProgressModel",
            "_view_count": null,
            "_view_module": "@jupyter-widgets/controls",
            "_view_module_version": "1.5.0",
            "_view_name": "ProgressView",
            "bar_style": "success",
            "description": "",
            "description_tooltip": null,
            "layout": "IPY_MODEL_0df0a97333d141558d24603c20da1aaf",
            "max": 1,
            "min": 0,
            "orientation": "horizontal",
            "style": "IPY_MODEL_2ced076c101949f98401644b1c81593d",
            "value": 1
          }
        },
        "acca18f374464d6fbc6fdc6c7270f8cc": {
          "model_module": "@jupyter-widgets/controls",
          "model_name": "HTMLModel",
          "model_module_version": "1.5.0",
          "state": {
            "_dom_classes": [],
            "_model_module": "@jupyter-widgets/controls",
            "_model_module_version": "1.5.0",
            "_model_name": "HTMLModel",
            "_view_count": null,
            "_view_module": "@jupyter-widgets/controls",
            "_view_module_version": "1.5.0",
            "_view_name": "HTMLView",
            "description": "",
            "description_tooltip": null,
            "layout": "IPY_MODEL_48d3947d25ca490b81275191710547d2",
            "placeholder": "​",
            "style": "IPY_MODEL_b8a41a3202e04d069668ba0f65013579",
            "value": " 195836/? [00:07&lt;00:00, 28872.75it/s]"
          }
        },
        "4818c7611d724cbda801faf31d7d8ee3": {
          "model_module": "@jupyter-widgets/base",
          "model_name": "LayoutModel",
          "model_module_version": "1.2.0",
          "state": {
            "_model_module": "@jupyter-widgets/base",
            "_model_module_version": "1.2.0",
            "_model_name": "LayoutModel",
            "_view_count": null,
            "_view_module": "@jupyter-widgets/base",
            "_view_module_version": "1.2.0",
            "_view_name": "LayoutView",
            "align_content": null,
            "align_items": null,
            "align_self": null,
            "border": null,
            "bottom": null,
            "display": null,
            "flex": null,
            "flex_flow": null,
            "grid_area": null,
            "grid_auto_columns": null,
            "grid_auto_flow": null,
            "grid_auto_rows": null,
            "grid_column": null,
            "grid_gap": null,
            "grid_row": null,
            "grid_template_areas": null,
            "grid_template_columns": null,
            "grid_template_rows": null,
            "height": null,
            "justify_content": null,
            "justify_items": null,
            "left": null,
            "margin": null,
            "max_height": null,
            "max_width": null,
            "min_height": null,
            "min_width": null,
            "object_fit": null,
            "object_position": null,
            "order": null,
            "overflow": null,
            "overflow_x": null,
            "overflow_y": null,
            "padding": null,
            "right": null,
            "top": null,
            "visibility": null,
            "width": null
          }
        },
        "47c893800ea244a7b2b80c29378290c8": {
          "model_module": "@jupyter-widgets/base",
          "model_name": "LayoutModel",
          "model_module_version": "1.2.0",
          "state": {
            "_model_module": "@jupyter-widgets/base",
            "_model_module_version": "1.2.0",
            "_model_name": "LayoutModel",
            "_view_count": null,
            "_view_module": "@jupyter-widgets/base",
            "_view_module_version": "1.2.0",
            "_view_name": "LayoutView",
            "align_content": null,
            "align_items": null,
            "align_self": null,
            "border": null,
            "bottom": null,
            "display": null,
            "flex": null,
            "flex_flow": null,
            "grid_area": null,
            "grid_auto_columns": null,
            "grid_auto_flow": null,
            "grid_auto_rows": null,
            "grid_column": null,
            "grid_gap": null,
            "grid_row": null,
            "grid_template_areas": null,
            "grid_template_columns": null,
            "grid_template_rows": null,
            "height": null,
            "justify_content": null,
            "justify_items": null,
            "left": null,
            "margin": null,
            "max_height": null,
            "max_width": null,
            "min_height": null,
            "min_width": null,
            "object_fit": null,
            "object_position": null,
            "order": null,
            "overflow": null,
            "overflow_x": null,
            "overflow_y": null,
            "padding": null,
            "right": null,
            "top": null,
            "visibility": null,
            "width": null
          }
        },
        "6f23adddacc845e4adfd3becb9fbb256": {
          "model_module": "@jupyter-widgets/controls",
          "model_name": "DescriptionStyleModel",
          "model_module_version": "1.5.0",
          "state": {
            "_model_module": "@jupyter-widgets/controls",
            "_model_module_version": "1.5.0",
            "_model_name": "DescriptionStyleModel",
            "_view_count": null,
            "_view_module": "@jupyter-widgets/base",
            "_view_module_version": "1.2.0",
            "_view_name": "StyleView",
            "description_width": ""
          }
        },
        "0df0a97333d141558d24603c20da1aaf": {
          "model_module": "@jupyter-widgets/base",
          "model_name": "LayoutModel",
          "model_module_version": "1.2.0",
          "state": {
            "_model_module": "@jupyter-widgets/base",
            "_model_module_version": "1.2.0",
            "_model_name": "LayoutModel",
            "_view_count": null,
            "_view_module": "@jupyter-widgets/base",
            "_view_module_version": "1.2.0",
            "_view_name": "LayoutView",
            "align_content": null,
            "align_items": null,
            "align_self": null,
            "border": null,
            "bottom": null,
            "display": null,
            "flex": null,
            "flex_flow": null,
            "grid_area": null,
            "grid_auto_columns": null,
            "grid_auto_flow": null,
            "grid_auto_rows": null,
            "grid_column": null,
            "grid_gap": null,
            "grid_row": null,
            "grid_template_areas": null,
            "grid_template_columns": null,
            "grid_template_rows": null,
            "height": null,
            "justify_content": null,
            "justify_items": null,
            "left": null,
            "margin": null,
            "max_height": null,
            "max_width": null,
            "min_height": null,
            "min_width": null,
            "object_fit": null,
            "object_position": null,
            "order": null,
            "overflow": null,
            "overflow_x": null,
            "overflow_y": null,
            "padding": null,
            "right": null,
            "top": null,
            "visibility": null,
            "width": "20px"
          }
        },
        "2ced076c101949f98401644b1c81593d": {
          "model_module": "@jupyter-widgets/controls",
          "model_name": "ProgressStyleModel",
          "model_module_version": "1.5.0",
          "state": {
            "_model_module": "@jupyter-widgets/controls",
            "_model_module_version": "1.5.0",
            "_model_name": "ProgressStyleModel",
            "_view_count": null,
            "_view_module": "@jupyter-widgets/base",
            "_view_module_version": "1.2.0",
            "_view_name": "StyleView",
            "bar_color": null,
            "description_width": ""
          }
        },
        "48d3947d25ca490b81275191710547d2": {
          "model_module": "@jupyter-widgets/base",
          "model_name": "LayoutModel",
          "model_module_version": "1.2.0",
          "state": {
            "_model_module": "@jupyter-widgets/base",
            "_model_module_version": "1.2.0",
            "_model_name": "LayoutModel",
            "_view_count": null,
            "_view_module": "@jupyter-widgets/base",
            "_view_module_version": "1.2.0",
            "_view_name": "LayoutView",
            "align_content": null,
            "align_items": null,
            "align_self": null,
            "border": null,
            "bottom": null,
            "display": null,
            "flex": null,
            "flex_flow": null,
            "grid_area": null,
            "grid_auto_columns": null,
            "grid_auto_flow": null,
            "grid_auto_rows": null,
            "grid_column": null,
            "grid_gap": null,
            "grid_row": null,
            "grid_template_areas": null,
            "grid_template_columns": null,
            "grid_template_rows": null,
            "height": null,
            "justify_content": null,
            "justify_items": null,
            "left": null,
            "margin": null,
            "max_height": null,
            "max_width": null,
            "min_height": null,
            "min_width": null,
            "object_fit": null,
            "object_position": null,
            "order": null,
            "overflow": null,
            "overflow_x": null,
            "overflow_y": null,
            "padding": null,
            "right": null,
            "top": null,
            "visibility": null,
            "width": null
          }
        },
        "b8a41a3202e04d069668ba0f65013579": {
          "model_module": "@jupyter-widgets/controls",
          "model_name": "DescriptionStyleModel",
          "model_module_version": "1.5.0",
          "state": {
            "_model_module": "@jupyter-widgets/controls",
            "_model_module_version": "1.5.0",
            "_model_name": "DescriptionStyleModel",
            "_view_count": null,
            "_view_module": "@jupyter-widgets/base",
            "_view_module_version": "1.2.0",
            "_view_name": "StyleView",
            "description_width": ""
          }
        },
        "8d939fbf1e884671ae86660827b7cd6d": {
          "model_module": "@jupyter-widgets/controls",
          "model_name": "HBoxModel",
          "model_module_version": "1.5.0",
          "state": {
            "_dom_classes": [],
            "_model_module": "@jupyter-widgets/controls",
            "_model_module_version": "1.5.0",
            "_model_name": "HBoxModel",
            "_view_count": null,
            "_view_module": "@jupyter-widgets/controls",
            "_view_module_version": "1.5.0",
            "_view_name": "HBoxView",
            "box_style": "",
            "children": [
              "IPY_MODEL_fb9cb07deed24137a30a69ebd9ddbce5",
              "IPY_MODEL_95d546549b5f4831955b6a774a1852ec",
              "IPY_MODEL_6d0cbd136e46438f87e921a6cbc7fb60"
            ],
            "layout": "IPY_MODEL_9f795f38a49b46a38786706d1ad9dce7"
          }
        },
        "fb9cb07deed24137a30a69ebd9ddbce5": {
          "model_module": "@jupyter-widgets/controls",
          "model_name": "HTMLModel",
          "model_module_version": "1.5.0",
          "state": {
            "_dom_classes": [],
            "_model_module": "@jupyter-widgets/controls",
            "_model_module_version": "1.5.0",
            "_model_name": "HTMLModel",
            "_view_count": null,
            "_view_module": "@jupyter-widgets/controls",
            "_view_module_version": "1.5.0",
            "_view_name": "HTMLView",
            "description": "",
            "description_tooltip": null,
            "layout": "IPY_MODEL_d5dacf9c5383459b8850aab955c21bab",
            "placeholder": "​",
            "style": "IPY_MODEL_8da35447c8354d568f1f4f8d2aeaead4",
            "value": "Doing Quantization:  55%"
          }
        },
        "95d546549b5f4831955b6a774a1852ec": {
          "model_module": "@jupyter-widgets/controls",
          "model_name": "FloatProgressModel",
          "model_module_version": "1.5.0",
          "state": {
            "_dom_classes": [],
            "_model_module": "@jupyter-widgets/controls",
            "_model_module_version": "1.5.0",
            "_model_name": "FloatProgressModel",
            "_view_count": null,
            "_view_module": "@jupyter-widgets/controls",
            "_view_module_version": "1.5.0",
            "_view_name": "ProgressView",
            "bar_style": "",
            "description": "",
            "description_tooltip": null,
            "layout": "IPY_MODEL_64bb19a20da241e78618c2e0812ebd6d",
            "max": 32365,
            "min": 0,
            "orientation": "horizontal",
            "style": "IPY_MODEL_a8c2b8c661d3466386feb4e4e7ec1cee",
            "value": 17934
          }
        },
        "6d0cbd136e46438f87e921a6cbc7fb60": {
          "model_module": "@jupyter-widgets/controls",
          "model_name": "HTMLModel",
          "model_module_version": "1.5.0",
          "state": {
            "_dom_classes": [],
            "_model_module": "@jupyter-widgets/controls",
            "_model_module_version": "1.5.0",
            "_model_name": "HTMLModel",
            "_view_count": null,
            "_view_module": "@jupyter-widgets/controls",
            "_view_module_version": "1.5.0",
            "_view_name": "HTMLView",
            "description": "",
            "description_tooltip": null,
            "layout": "IPY_MODEL_86be5ed8e17641e3977a1f270718cf04",
            "placeholder": "​",
            "style": "IPY_MODEL_ed21ab7c09944a95a3bd3001c7de84d6",
            "value": " 17934/32365 [01:27&lt;01:18, 184.25it/s]"
          }
        },
        "9f795f38a49b46a38786706d1ad9dce7": {
          "model_module": "@jupyter-widgets/base",
          "model_name": "LayoutModel",
          "model_module_version": "1.2.0",
          "state": {
            "_model_module": "@jupyter-widgets/base",
            "_model_module_version": "1.2.0",
            "_model_name": "LayoutModel",
            "_view_count": null,
            "_view_module": "@jupyter-widgets/base",
            "_view_module_version": "1.2.0",
            "_view_name": "LayoutView",
            "align_content": null,
            "align_items": null,
            "align_self": null,
            "border": null,
            "bottom": null,
            "display": null,
            "flex": null,
            "flex_flow": null,
            "grid_area": null,
            "grid_auto_columns": null,
            "grid_auto_flow": null,
            "grid_auto_rows": null,
            "grid_column": null,
            "grid_gap": null,
            "grid_row": null,
            "grid_template_areas": null,
            "grid_template_columns": null,
            "grid_template_rows": null,
            "height": null,
            "justify_content": null,
            "justify_items": null,
            "left": null,
            "margin": null,
            "max_height": null,
            "max_width": null,
            "min_height": null,
            "min_width": null,
            "object_fit": null,
            "object_position": null,
            "order": null,
            "overflow": null,
            "overflow_x": null,
            "overflow_y": null,
            "padding": null,
            "right": null,
            "top": null,
            "visibility": null,
            "width": null
          }
        },
        "d5dacf9c5383459b8850aab955c21bab": {
          "model_module": "@jupyter-widgets/base",
          "model_name": "LayoutModel",
          "model_module_version": "1.2.0",
          "state": {
            "_model_module": "@jupyter-widgets/base",
            "_model_module_version": "1.2.0",
            "_model_name": "LayoutModel",
            "_view_count": null,
            "_view_module": "@jupyter-widgets/base",
            "_view_module_version": "1.2.0",
            "_view_name": "LayoutView",
            "align_content": null,
            "align_items": null,
            "align_self": null,
            "border": null,
            "bottom": null,
            "display": null,
            "flex": null,
            "flex_flow": null,
            "grid_area": null,
            "grid_auto_columns": null,
            "grid_auto_flow": null,
            "grid_auto_rows": null,
            "grid_column": null,
            "grid_gap": null,
            "grid_row": null,
            "grid_template_areas": null,
            "grid_template_columns": null,
            "grid_template_rows": null,
            "height": null,
            "justify_content": null,
            "justify_items": null,
            "left": null,
            "margin": null,
            "max_height": null,
            "max_width": null,
            "min_height": null,
            "min_width": null,
            "object_fit": null,
            "object_position": null,
            "order": null,
            "overflow": null,
            "overflow_x": null,
            "overflow_y": null,
            "padding": null,
            "right": null,
            "top": null,
            "visibility": null,
            "width": null
          }
        },
        "8da35447c8354d568f1f4f8d2aeaead4": {
          "model_module": "@jupyter-widgets/controls",
          "model_name": "DescriptionStyleModel",
          "model_module_version": "1.5.0",
          "state": {
            "_model_module": "@jupyter-widgets/controls",
            "_model_module_version": "1.5.0",
            "_model_name": "DescriptionStyleModel",
            "_view_count": null,
            "_view_module": "@jupyter-widgets/base",
            "_view_module_version": "1.2.0",
            "_view_name": "StyleView",
            "description_width": ""
          }
        },
        "64bb19a20da241e78618c2e0812ebd6d": {
          "model_module": "@jupyter-widgets/base",
          "model_name": "LayoutModel",
          "model_module_version": "1.2.0",
          "state": {
            "_model_module": "@jupyter-widgets/base",
            "_model_module_version": "1.2.0",
            "_model_name": "LayoutModel",
            "_view_count": null,
            "_view_module": "@jupyter-widgets/base",
            "_view_module_version": "1.2.0",
            "_view_name": "LayoutView",
            "align_content": null,
            "align_items": null,
            "align_self": null,
            "border": null,
            "bottom": null,
            "display": null,
            "flex": null,
            "flex_flow": null,
            "grid_area": null,
            "grid_auto_columns": null,
            "grid_auto_flow": null,
            "grid_auto_rows": null,
            "grid_column": null,
            "grid_gap": null,
            "grid_row": null,
            "grid_template_areas": null,
            "grid_template_columns": null,
            "grid_template_rows": null,
            "height": null,
            "justify_content": null,
            "justify_items": null,
            "left": null,
            "margin": null,
            "max_height": null,
            "max_width": null,
            "min_height": null,
            "min_width": null,
            "object_fit": null,
            "object_position": null,
            "order": null,
            "overflow": null,
            "overflow_x": null,
            "overflow_y": null,
            "padding": null,
            "right": null,
            "top": null,
            "visibility": null,
            "width": null
          }
        },
        "a8c2b8c661d3466386feb4e4e7ec1cee": {
          "model_module": "@jupyter-widgets/controls",
          "model_name": "ProgressStyleModel",
          "model_module_version": "1.5.0",
          "state": {
            "_model_module": "@jupyter-widgets/controls",
            "_model_module_version": "1.5.0",
            "_model_name": "ProgressStyleModel",
            "_view_count": null,
            "_view_module": "@jupyter-widgets/base",
            "_view_module_version": "1.2.0",
            "_view_name": "StyleView",
            "bar_color": null,
            "description_width": ""
          }
        },
        "86be5ed8e17641e3977a1f270718cf04": {
          "model_module": "@jupyter-widgets/base",
          "model_name": "LayoutModel",
          "model_module_version": "1.2.0",
          "state": {
            "_model_module": "@jupyter-widgets/base",
            "_model_module_version": "1.2.0",
            "_model_name": "LayoutModel",
            "_view_count": null,
            "_view_module": "@jupyter-widgets/base",
            "_view_module_version": "1.2.0",
            "_view_name": "LayoutView",
            "align_content": null,
            "align_items": null,
            "align_self": null,
            "border": null,
            "bottom": null,
            "display": null,
            "flex": null,
            "flex_flow": null,
            "grid_area": null,
            "grid_auto_columns": null,
            "grid_auto_flow": null,
            "grid_auto_rows": null,
            "grid_column": null,
            "grid_gap": null,
            "grid_row": null,
            "grid_template_areas": null,
            "grid_template_columns": null,
            "grid_template_rows": null,
            "height": null,
            "justify_content": null,
            "justify_items": null,
            "left": null,
            "margin": null,
            "max_height": null,
            "max_width": null,
            "min_height": null,
            "min_width": null,
            "object_fit": null,
            "object_position": null,
            "order": null,
            "overflow": null,
            "overflow_x": null,
            "overflow_y": null,
            "padding": null,
            "right": null,
            "top": null,
            "visibility": null,
            "width": null
          }
        },
        "ed21ab7c09944a95a3bd3001c7de84d6": {
          "model_module": "@jupyter-widgets/controls",
          "model_name": "DescriptionStyleModel",
          "model_module_version": "1.5.0",
          "state": {
            "_model_module": "@jupyter-widgets/controls",
            "_model_module_version": "1.5.0",
            "_model_name": "DescriptionStyleModel",
            "_view_count": null,
            "_view_module": "@jupyter-widgets/base",
            "_view_module_version": "1.2.0",
            "_view_name": "StyleView",
            "description_width": ""
          }
        }
      }
    }
  },
  "nbformat": 4,
  "nbformat_minor": 0
}