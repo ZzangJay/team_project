{
  "nbformat": 4,
  "nbformat_minor": 0,
  "metadata": {
    "colab": {
      "provenance": [],
      "collapsed_sections": [],
      "mount_file_id": "1DVjGu2HPdOyEUoKtxZOs4gyMhWT4m391",
      "authorship_tag": "ABX9TyNGo/6kR9YkmgA1IHooUZqU",
      "include_colab_link": true
    },
    "kernelspec": {
      "name": "python3",
      "display_name": "Python 3"
    },
    "language_info": {
      "name": "python"
    }
  },
  "cells": [
    {
      "cell_type": "markdown",
      "metadata": {
        "id": "view-in-github",
        "colab_type": "text"
      },
      "source": [
        "<a href=\"https://colab.research.google.com/github/ZzangJay/team_project/blob/jangjaewon/20220917_codetest(2).ipynb\" target=\"_parent\"><img src=\"https://colab.research.google.com/assets/colab-badge.svg\" alt=\"Open In Colab\"/></a>"
      ]
    },
    {
      "cell_type": "code",
      "execution_count": 1,
      "metadata": {
        "id": "nWRDyoS1tcxL"
      },
      "outputs": [],
      "source": [
        "## code test"
      ]
    },
    {
      "cell_type": "code",
      "source": [
        "import pandas as pd\n",
        "import numpy as np\n",
        "#import tensorflow as tf \n",
        "import os\n",
        "import sys"
      ],
      "metadata": {
        "id": "by76d5VDtjrm"
      },
      "execution_count": 2,
      "outputs": []
    },
    {
      "cell_type": "code",
      "source": [
        "from google.colab import drive  # for colab\n",
        "drive.mount('/content/gdrive/')  # for colab"
      ],
      "metadata": {
        "colab": {
          "base_uri": "https://localhost:8080/"
        },
        "id": "pwW0kP2GtlEW",
        "outputId": "4bbad8a6-1007-4f54-e25d-43d3f15699ce"
      },
      "execution_count": 3,
      "outputs": [
        {
          "output_type": "stream",
          "name": "stdout",
          "text": [
            "Mounted at /content/gdrive/\n"
          ]
        }
      ]
    },
    {
      "cell_type": "code",
      "source": [
        "cloud_directory = '/content/gdrive/MyDrive/mimiciv_unzip/'\n",
        "os.listdir(cloud_directory) # for colab, check cloud directory mount"
      ],
      "metadata": {
        "colab": {
          "base_uri": "https://localhost:8080/"
        },
        "id": "vuYMhIN9tmKf",
        "outputId": "3433502d-06db-401b-e97b-fe09dd0a10fc"
      },
      "execution_count": 4,
      "outputs": [
        {
          "output_type": "execute_result",
          "data": {
            "text/plain": [
              "['CHANGELOG.txt', 'LICENSE.txt', 'SHA256SUMS.txt', 'index.html', 'icu', 'hosp']"
            ]
          },
          "metadata": {},
          "execution_count": 4
        }
      ]
    },
    {
      "cell_type": "code",
      "source": [
        "admission = pd.read_csv('/content/gdrive/MyDrive/mimiciv_unzip/hosp/admissions.csv')\n",
        "admission"
      ],
      "metadata": {
        "colab": {
          "base_uri": "https://localhost:8080/",
          "height": 835
        },
        "id": "wDS0r071tnmF",
        "outputId": "9140721f-7e6c-4be2-bbbe-c808b2e9f171"
      },
      "execution_count": 5,
      "outputs": [
        {
          "output_type": "execute_result",
          "data": {
            "text/plain": [
              "        subject_id   hadm_id            admittime            dischtime  \\\n",
              "0         10000032  22595853  2180-05-06 22:23:00  2180-05-07 17:15:00   \n",
              "1         10000032  22841357  2180-06-26 18:27:00  2180-06-27 18:49:00   \n",
              "2         10000032  25742920  2180-08-05 23:44:00  2180-08-07 17:50:00   \n",
              "3         10000032  29079034  2180-07-23 12:35:00  2180-07-25 17:55:00   \n",
              "4         10000068  25022803  2160-03-03 23:16:00  2160-03-04 06:26:00   \n",
              "...            ...       ...                  ...                  ...   \n",
              "454319    19999828  25744818  2149-01-08 16:44:00  2149-01-18 17:00:00   \n",
              "454320    19999828  29734428  2147-07-18 16:23:00  2147-08-04 18:10:00   \n",
              "454321    19999840  21033226  2164-09-10 13:47:00  2164-09-17 13:42:00   \n",
              "454322    19999840  26071774  2164-07-25 00:27:00  2164-07-28 12:15:00   \n",
              "454323    19999987  23865745  2145-11-02 21:38:00  2145-11-11 12:57:00   \n",
              "\n",
              "                  deathtime  admission_type      admission_location  \\\n",
              "0                       NaN          URGENT  TRANSFER FROM HOSPITAL   \n",
              "1                       NaN        EW EMER.          EMERGENCY ROOM   \n",
              "2                       NaN        EW EMER.          EMERGENCY ROOM   \n",
              "3                       NaN        EW EMER.          EMERGENCY ROOM   \n",
              "4                       NaN  EU OBSERVATION          EMERGENCY ROOM   \n",
              "...                     ...             ...                     ...   \n",
              "454319                  NaN        EW EMER.  TRANSFER FROM HOSPITAL   \n",
              "454320                  NaN        EW EMER.      PHYSICIAN REFERRAL   \n",
              "454321  2164-09-17 13:42:00        EW EMER.          EMERGENCY ROOM   \n",
              "454322                  NaN        EW EMER.          EMERGENCY ROOM   \n",
              "454323                  NaN        EW EMER.          EMERGENCY ROOM   \n",
              "\n",
              "       discharge_location insurance language marital_status     race  \\\n",
              "0                    HOME     Other  ENGLISH        WIDOWED    WHITE   \n",
              "1                    HOME  Medicaid  ENGLISH        WIDOWED    WHITE   \n",
              "2                 HOSPICE  Medicaid  ENGLISH        WIDOWED    WHITE   \n",
              "3                    HOME  Medicaid  ENGLISH        WIDOWED    WHITE   \n",
              "4                     NaN     Other  ENGLISH         SINGLE    WHITE   \n",
              "...                   ...       ...      ...            ...      ...   \n",
              "454319   HOME HEALTH CARE     Other  ENGLISH         SINGLE    WHITE   \n",
              "454320   HOME HEALTH CARE     Other  ENGLISH         SINGLE    WHITE   \n",
              "454321               DIED     Other  ENGLISH        WIDOWED    WHITE   \n",
              "454322               HOME     Other  ENGLISH        WIDOWED    WHITE   \n",
              "454323              REHAB     Other  ENGLISH            NaN  UNKNOWN   \n",
              "\n",
              "                  edregtime            edouttime  hospital_expire_flag  \n",
              "0       2180-05-06 19:17:00  2180-05-06 23:30:00                     0  \n",
              "1       2180-06-26 15:54:00  2180-06-26 21:31:00                     0  \n",
              "2       2180-08-05 20:58:00  2180-08-06 01:44:00                     0  \n",
              "3       2180-07-23 05:54:00  2180-07-23 14:00:00                     0  \n",
              "4       2160-03-03 21:55:00  2160-03-04 06:26:00                     0  \n",
              "...                     ...                  ...                   ...  \n",
              "454319  2149-01-08 09:11:00  2149-01-08 18:12:00                     0  \n",
              "454320  2147-07-17 17:18:00  2147-07-18 17:34:00                     0  \n",
              "454321  2164-09-10 11:09:00  2164-09-10 14:46:00                     1  \n",
              "454322  2164-07-24 21:16:00  2164-07-25 01:20:00                     0  \n",
              "454323  2145-11-02 19:28:00  2145-11-02 22:59:00                     0  \n",
              "\n",
              "[454324 rows x 15 columns]"
            ],
            "text/html": [
              "\n",
              "  <div id=\"df-0d942e38-b8e6-4357-876b-ecbc65b89b7f\">\n",
              "    <div class=\"colab-df-container\">\n",
              "      <div>\n",
              "<style scoped>\n",
              "    .dataframe tbody tr th:only-of-type {\n",
              "        vertical-align: middle;\n",
              "    }\n",
              "\n",
              "    .dataframe tbody tr th {\n",
              "        vertical-align: top;\n",
              "    }\n",
              "\n",
              "    .dataframe thead th {\n",
              "        text-align: right;\n",
              "    }\n",
              "</style>\n",
              "<table border=\"1\" class=\"dataframe\">\n",
              "  <thead>\n",
              "    <tr style=\"text-align: right;\">\n",
              "      <th></th>\n",
              "      <th>subject_id</th>\n",
              "      <th>hadm_id</th>\n",
              "      <th>admittime</th>\n",
              "      <th>dischtime</th>\n",
              "      <th>deathtime</th>\n",
              "      <th>admission_type</th>\n",
              "      <th>admission_location</th>\n",
              "      <th>discharge_location</th>\n",
              "      <th>insurance</th>\n",
              "      <th>language</th>\n",
              "      <th>marital_status</th>\n",
              "      <th>race</th>\n",
              "      <th>edregtime</th>\n",
              "      <th>edouttime</th>\n",
              "      <th>hospital_expire_flag</th>\n",
              "    </tr>\n",
              "  </thead>\n",
              "  <tbody>\n",
              "    <tr>\n",
              "      <th>0</th>\n",
              "      <td>10000032</td>\n",
              "      <td>22595853</td>\n",
              "      <td>2180-05-06 22:23:00</td>\n",
              "      <td>2180-05-07 17:15:00</td>\n",
              "      <td>NaN</td>\n",
              "      <td>URGENT</td>\n",
              "      <td>TRANSFER FROM HOSPITAL</td>\n",
              "      <td>HOME</td>\n",
              "      <td>Other</td>\n",
              "      <td>ENGLISH</td>\n",
              "      <td>WIDOWED</td>\n",
              "      <td>WHITE</td>\n",
              "      <td>2180-05-06 19:17:00</td>\n",
              "      <td>2180-05-06 23:30:00</td>\n",
              "      <td>0</td>\n",
              "    </tr>\n",
              "    <tr>\n",
              "      <th>1</th>\n",
              "      <td>10000032</td>\n",
              "      <td>22841357</td>\n",
              "      <td>2180-06-26 18:27:00</td>\n",
              "      <td>2180-06-27 18:49:00</td>\n",
              "      <td>NaN</td>\n",
              "      <td>EW EMER.</td>\n",
              "      <td>EMERGENCY ROOM</td>\n",
              "      <td>HOME</td>\n",
              "      <td>Medicaid</td>\n",
              "      <td>ENGLISH</td>\n",
              "      <td>WIDOWED</td>\n",
              "      <td>WHITE</td>\n",
              "      <td>2180-06-26 15:54:00</td>\n",
              "      <td>2180-06-26 21:31:00</td>\n",
              "      <td>0</td>\n",
              "    </tr>\n",
              "    <tr>\n",
              "      <th>2</th>\n",
              "      <td>10000032</td>\n",
              "      <td>25742920</td>\n",
              "      <td>2180-08-05 23:44:00</td>\n",
              "      <td>2180-08-07 17:50:00</td>\n",
              "      <td>NaN</td>\n",
              "      <td>EW EMER.</td>\n",
              "      <td>EMERGENCY ROOM</td>\n",
              "      <td>HOSPICE</td>\n",
              "      <td>Medicaid</td>\n",
              "      <td>ENGLISH</td>\n",
              "      <td>WIDOWED</td>\n",
              "      <td>WHITE</td>\n",
              "      <td>2180-08-05 20:58:00</td>\n",
              "      <td>2180-08-06 01:44:00</td>\n",
              "      <td>0</td>\n",
              "    </tr>\n",
              "    <tr>\n",
              "      <th>3</th>\n",
              "      <td>10000032</td>\n",
              "      <td>29079034</td>\n",
              "      <td>2180-07-23 12:35:00</td>\n",
              "      <td>2180-07-25 17:55:00</td>\n",
              "      <td>NaN</td>\n",
              "      <td>EW EMER.</td>\n",
              "      <td>EMERGENCY ROOM</td>\n",
              "      <td>HOME</td>\n",
              "      <td>Medicaid</td>\n",
              "      <td>ENGLISH</td>\n",
              "      <td>WIDOWED</td>\n",
              "      <td>WHITE</td>\n",
              "      <td>2180-07-23 05:54:00</td>\n",
              "      <td>2180-07-23 14:00:00</td>\n",
              "      <td>0</td>\n",
              "    </tr>\n",
              "    <tr>\n",
              "      <th>4</th>\n",
              "      <td>10000068</td>\n",
              "      <td>25022803</td>\n",
              "      <td>2160-03-03 23:16:00</td>\n",
              "      <td>2160-03-04 06:26:00</td>\n",
              "      <td>NaN</td>\n",
              "      <td>EU OBSERVATION</td>\n",
              "      <td>EMERGENCY ROOM</td>\n",
              "      <td>NaN</td>\n",
              "      <td>Other</td>\n",
              "      <td>ENGLISH</td>\n",
              "      <td>SINGLE</td>\n",
              "      <td>WHITE</td>\n",
              "      <td>2160-03-03 21:55:00</td>\n",
              "      <td>2160-03-04 06:26:00</td>\n",
              "      <td>0</td>\n",
              "    </tr>\n",
              "    <tr>\n",
              "      <th>...</th>\n",
              "      <td>...</td>\n",
              "      <td>...</td>\n",
              "      <td>...</td>\n",
              "      <td>...</td>\n",
              "      <td>...</td>\n",
              "      <td>...</td>\n",
              "      <td>...</td>\n",
              "      <td>...</td>\n",
              "      <td>...</td>\n",
              "      <td>...</td>\n",
              "      <td>...</td>\n",
              "      <td>...</td>\n",
              "      <td>...</td>\n",
              "      <td>...</td>\n",
              "      <td>...</td>\n",
              "    </tr>\n",
              "    <tr>\n",
              "      <th>454319</th>\n",
              "      <td>19999828</td>\n",
              "      <td>25744818</td>\n",
              "      <td>2149-01-08 16:44:00</td>\n",
              "      <td>2149-01-18 17:00:00</td>\n",
              "      <td>NaN</td>\n",
              "      <td>EW EMER.</td>\n",
              "      <td>TRANSFER FROM HOSPITAL</td>\n",
              "      <td>HOME HEALTH CARE</td>\n",
              "      <td>Other</td>\n",
              "      <td>ENGLISH</td>\n",
              "      <td>SINGLE</td>\n",
              "      <td>WHITE</td>\n",
              "      <td>2149-01-08 09:11:00</td>\n",
              "      <td>2149-01-08 18:12:00</td>\n",
              "      <td>0</td>\n",
              "    </tr>\n",
              "    <tr>\n",
              "      <th>454320</th>\n",
              "      <td>19999828</td>\n",
              "      <td>29734428</td>\n",
              "      <td>2147-07-18 16:23:00</td>\n",
              "      <td>2147-08-04 18:10:00</td>\n",
              "      <td>NaN</td>\n",
              "      <td>EW EMER.</td>\n",
              "      <td>PHYSICIAN REFERRAL</td>\n",
              "      <td>HOME HEALTH CARE</td>\n",
              "      <td>Other</td>\n",
              "      <td>ENGLISH</td>\n",
              "      <td>SINGLE</td>\n",
              "      <td>WHITE</td>\n",
              "      <td>2147-07-17 17:18:00</td>\n",
              "      <td>2147-07-18 17:34:00</td>\n",
              "      <td>0</td>\n",
              "    </tr>\n",
              "    <tr>\n",
              "      <th>454321</th>\n",
              "      <td>19999840</td>\n",
              "      <td>21033226</td>\n",
              "      <td>2164-09-10 13:47:00</td>\n",
              "      <td>2164-09-17 13:42:00</td>\n",
              "      <td>2164-09-17 13:42:00</td>\n",
              "      <td>EW EMER.</td>\n",
              "      <td>EMERGENCY ROOM</td>\n",
              "      <td>DIED</td>\n",
              "      <td>Other</td>\n",
              "      <td>ENGLISH</td>\n",
              "      <td>WIDOWED</td>\n",
              "      <td>WHITE</td>\n",
              "      <td>2164-09-10 11:09:00</td>\n",
              "      <td>2164-09-10 14:46:00</td>\n",
              "      <td>1</td>\n",
              "    </tr>\n",
              "    <tr>\n",
              "      <th>454322</th>\n",
              "      <td>19999840</td>\n",
              "      <td>26071774</td>\n",
              "      <td>2164-07-25 00:27:00</td>\n",
              "      <td>2164-07-28 12:15:00</td>\n",
              "      <td>NaN</td>\n",
              "      <td>EW EMER.</td>\n",
              "      <td>EMERGENCY ROOM</td>\n",
              "      <td>HOME</td>\n",
              "      <td>Other</td>\n",
              "      <td>ENGLISH</td>\n",
              "      <td>WIDOWED</td>\n",
              "      <td>WHITE</td>\n",
              "      <td>2164-07-24 21:16:00</td>\n",
              "      <td>2164-07-25 01:20:00</td>\n",
              "      <td>0</td>\n",
              "    </tr>\n",
              "    <tr>\n",
              "      <th>454323</th>\n",
              "      <td>19999987</td>\n",
              "      <td>23865745</td>\n",
              "      <td>2145-11-02 21:38:00</td>\n",
              "      <td>2145-11-11 12:57:00</td>\n",
              "      <td>NaN</td>\n",
              "      <td>EW EMER.</td>\n",
              "      <td>EMERGENCY ROOM</td>\n",
              "      <td>REHAB</td>\n",
              "      <td>Other</td>\n",
              "      <td>ENGLISH</td>\n",
              "      <td>NaN</td>\n",
              "      <td>UNKNOWN</td>\n",
              "      <td>2145-11-02 19:28:00</td>\n",
              "      <td>2145-11-02 22:59:00</td>\n",
              "      <td>0</td>\n",
              "    </tr>\n",
              "  </tbody>\n",
              "</table>\n",
              "<p>454324 rows × 15 columns</p>\n",
              "</div>\n",
              "      <button class=\"colab-df-convert\" onclick=\"convertToInteractive('df-0d942e38-b8e6-4357-876b-ecbc65b89b7f')\"\n",
              "              title=\"Convert this dataframe to an interactive table.\"\n",
              "              style=\"display:none;\">\n",
              "        \n",
              "  <svg xmlns=\"http://www.w3.org/2000/svg\" height=\"24px\"viewBox=\"0 0 24 24\"\n",
              "       width=\"24px\">\n",
              "    <path d=\"M0 0h24v24H0V0z\" fill=\"none\"/>\n",
              "    <path d=\"M18.56 5.44l.94 2.06.94-2.06 2.06-.94-2.06-.94-.94-2.06-.94 2.06-2.06.94zm-11 1L8.5 8.5l.94-2.06 2.06-.94-2.06-.94L8.5 2.5l-.94 2.06-2.06.94zm10 10l.94 2.06.94-2.06 2.06-.94-2.06-.94-.94-2.06-.94 2.06-2.06.94z\"/><path d=\"M17.41 7.96l-1.37-1.37c-.4-.4-.92-.59-1.43-.59-.52 0-1.04.2-1.43.59L10.3 9.45l-7.72 7.72c-.78.78-.78 2.05 0 2.83L4 21.41c.39.39.9.59 1.41.59.51 0 1.02-.2 1.41-.59l7.78-7.78 2.81-2.81c.8-.78.8-2.07 0-2.86zM5.41 20L4 18.59l7.72-7.72 1.47 1.35L5.41 20z\"/>\n",
              "  </svg>\n",
              "      </button>\n",
              "      \n",
              "  <style>\n",
              "    .colab-df-container {\n",
              "      display:flex;\n",
              "      flex-wrap:wrap;\n",
              "      gap: 12px;\n",
              "    }\n",
              "\n",
              "    .colab-df-convert {\n",
              "      background-color: #E8F0FE;\n",
              "      border: none;\n",
              "      border-radius: 50%;\n",
              "      cursor: pointer;\n",
              "      display: none;\n",
              "      fill: #1967D2;\n",
              "      height: 32px;\n",
              "      padding: 0 0 0 0;\n",
              "      width: 32px;\n",
              "    }\n",
              "\n",
              "    .colab-df-convert:hover {\n",
              "      background-color: #E2EBFA;\n",
              "      box-shadow: 0px 1px 2px rgba(60, 64, 67, 0.3), 0px 1px 3px 1px rgba(60, 64, 67, 0.15);\n",
              "      fill: #174EA6;\n",
              "    }\n",
              "\n",
              "    [theme=dark] .colab-df-convert {\n",
              "      background-color: #3B4455;\n",
              "      fill: #D2E3FC;\n",
              "    }\n",
              "\n",
              "    [theme=dark] .colab-df-convert:hover {\n",
              "      background-color: #434B5C;\n",
              "      box-shadow: 0px 1px 3px 1px rgba(0, 0, 0, 0.15);\n",
              "      filter: drop-shadow(0px 1px 2px rgba(0, 0, 0, 0.3));\n",
              "      fill: #FFFFFF;\n",
              "    }\n",
              "  </style>\n",
              "\n",
              "      <script>\n",
              "        const buttonEl =\n",
              "          document.querySelector('#df-0d942e38-b8e6-4357-876b-ecbc65b89b7f button.colab-df-convert');\n",
              "        buttonEl.style.display =\n",
              "          google.colab.kernel.accessAllowed ? 'block' : 'none';\n",
              "\n",
              "        async function convertToInteractive(key) {\n",
              "          const element = document.querySelector('#df-0d942e38-b8e6-4357-876b-ecbc65b89b7f');\n",
              "          const dataTable =\n",
              "            await google.colab.kernel.invokeFunction('convertToInteractive',\n",
              "                                                     [key], {});\n",
              "          if (!dataTable) return;\n",
              "\n",
              "          const docLinkHtml = 'Like what you see? Visit the ' +\n",
              "            '<a target=\"_blank\" href=https://colab.research.google.com/notebooks/data_table.ipynb>data table notebook</a>'\n",
              "            + ' to learn more about interactive tables.';\n",
              "          element.innerHTML = '';\n",
              "          dataTable['output_type'] = 'display_data';\n",
              "          await google.colab.output.renderOutput(dataTable, element);\n",
              "          const docLink = document.createElement('div');\n",
              "          docLink.innerHTML = docLinkHtml;\n",
              "          element.appendChild(docLink);\n",
              "        }\n",
              "      </script>\n",
              "    </div>\n",
              "  </div>\n",
              "  "
            ]
          },
          "metadata": {},
          "execution_count": 5
        }
      ]
    },
    {
      "cell_type": "code",
      "source": [
        "# labevents = pd.read_csv('/content/gdrive/MyDrive/mimiciv_unzip/hosp/labevents.csv')\n",
        "# patients = pd.read_csv('/content/gdrive/MyDrive/mimiciv_unzip/hosp/patients.csv')\n",
        "# d_labitems = pd.read_csv('/content/gdrive/MyDrive/mimiciv_unzip/hosp/d_labitems.csv')\n",
        "# diagnosis = pd.read_csv('/content/gdrive/MyDrive/mimiciv_unzip/hosp/diagnosis.csv')\n"
      ],
      "metadata": {
        "id": "bViz8bHntpC6"
      },
      "execution_count": 16,
      "outputs": []
    },
    {
      "cell_type": "code",
      "source": [
        "import sqlite3"
      ],
      "metadata": {
        "id": "tfsL5ikw3BRT"
      },
      "execution_count": 17,
      "outputs": []
    },
    {
      "cell_type": "code",
      "source": [
        "\n",
        "def pd_to_sqlDB(input_df: pd.DataFrame,\n",
        "                table_name: str,\n",
        "                db_name: str = 'default.db') -> None:\n",
        "\n",
        "    '''Take a Pandas dataframe `input_df` and upload it to `table_name` SQLITE table\n",
        "    Args:\n",
        "        input_df (pd.DataFrame): Dataframe containing data to upload to SQLITE\n",
        "        table_name (str): Name of the SQLITE table to upload to\n",
        "        db_name (str, optional): Name of the SQLITE Database in which the table is created. \n",
        "                                 Defaults to 'default.db'.\n",
        "    '''\n",
        "\n",
        "    # Step 1: Setup local logging\n",
        "    import logging\n",
        "    logging.basicConfig(level=logging.INFO,\n",
        "                        format='%(asctime)s %(levelname)s: %(message)s',\n",
        "                        datefmt='%Y-%m-%d %H:%M:%S')\n",
        "\n",
        "    # Step 2: Find columns in the dataframe\n",
        "    cols = input_df.columns\n",
        "    cols_string = ','.join(cols)\n",
        "    val_wildcard_string = ','.join(['?'] * len(cols))\n",
        "\n",
        "    # Step 3: Connect to a DB file if it exists, else crete a new file\n",
        "    con = sqlite3.connect(db_name)\n",
        "    cur = con.cursor()\n",
        "    logging.info(f'SQL DB {db_name} created')\n",
        "\n",
        "    # Step 4: Create Table\n",
        "    sql_string = f\"\"\"CREATE TABLE {table_name} ({cols_string});\"\"\"\n",
        "    cur.execute(sql_string)\n",
        "    logging.info(f'SQL Table {table_name} created with {len(cols)} columns')\n",
        "\n",
        "    # Step 5: Upload the dataframe\n",
        "    rows_to_upload = input_df.to_dict(orient='split')['data']\n",
        "    sql_string = f\"\"\"INSERT INTO {table_name} ({cols_string}) VALUES ({val_wildcard_string});\"\"\"    \n",
        "    cur.executemany(sql_string, rows_to_upload)\n",
        "    logging.info(f'{len(rows_to_upload)} rows uploaded to {table_name}')\n",
        "  \n",
        "    # Step 6: Commit the changes and close the connection\n",
        "    con.commit()\n",
        "    con.close()"
      ],
      "metadata": {
        "id": "1v__X04o3Fww"
      },
      "execution_count": 18,
      "outputs": []
    },
    {
      "cell_type": "code",
      "source": [
        "def sql_query_to_pd(sql_query_string: str, db_name: str ='default.db') -> pd.DataFrame:\n",
        "    '''Execute an SQL query and return the results as a pandas dataframe\n",
        "    Args:\n",
        "        sql_query_string (str): SQL query string to execute\n",
        "        db_name (str, optional): Name of the SQLITE Database to execute the query in.\n",
        "                                 Defaults to 'default.db'.\n",
        "    Returns:\n",
        "        pd.DataFrame: Results of the SQL query in a pandas dataframe\n",
        "    '''    \n",
        "    # Step 1: Connect to the SQL DB\n",
        "    con = sqlite3.connect(db_name)\n",
        "\n",
        "    # Step 2: Execute the SQL query\n",
        "    cursor = con.execute(sql_query_string)\n",
        "\n",
        "    # Step 3: Fetch the data and column names\n",
        "    result_data = cursor.fetchall()\n",
        "    cols = [description[0] for description in cursor.description]\n",
        "\n",
        "    # Step 4: Close the connection\n",
        "    con.close()\n",
        "\n",
        "    # Step 5: Return as a dataframe\n",
        "    return pd.DataFrame(result_data, columns=cols)"
      ],
      "metadata": {
        "id": "lkkNCr7R3Nmi"
      },
      "execution_count": 19,
      "outputs": []
    },
    {
      "cell_type": "code",
      "source": [
        "# Step 1: Read the csv file into a dataframe\n",
        "# Dataset from https://www.kaggle.com/gpreda/covid-world-vaccination-progress\n",
        "input_df = pd.read_csv('country_vaccinations.csv')\n",
        "\n",
        "# Step 2: Upload the dataframe to a SQL Table\n",
        "pd_to_sqlDB(input_df,\n",
        "            table_name='country_vaccinations',\n",
        "            db_name='default.db')\n",
        "\n",
        "# Step 3: Write the SQL query in a string variable\n",
        "sql_query_string = \"\"\"\n",
        "    SELECT country, SUM(daily_vaccinations) as total_vaccinated\n",
        "    FROM country_vaccinations \n",
        "    WHERE daily_vaccinations IS NOT NULL \n",
        "    GROUP BY country\n",
        "    ORDER BY total_vaccinated DESC\n",
        "\"\"\"\n",
        "\n",
        "# Step 4: Exectue the SQL query\n",
        "result_df = sql_query_to_pd(sql_query_string, db_name='default.db')\n",
        "result_df"
      ],
      "metadata": {
        "id": "TWenajol3Qce"
      },
      "execution_count": null,
      "outputs": []
    },
    {
      "cell_type": "code",
      "source": [
        "input_df = pd.read_csv('/content/gdrive/MyDrive/mimiciv_unzip/hosp/admissions.csv')"
      ],
      "metadata": {
        "id": "snRPphh73S8h"
      },
      "execution_count": 36,
      "outputs": []
    },
    {
      "cell_type": "code",
      "source": [
        "pd_to_sqlDB(input_df,\n",
        "            table_name='admissions',\n",
        "            db_name='default.db')\n"
      ],
      "metadata": {
        "id": "mLK8MeRE3X8m"
      },
      "execution_count": 21,
      "outputs": []
    },
    {
      "cell_type": "code",
      "source": [
        "sql_query_string = \"\"\"\n",
        "    SELECT count(distinct subject_id)\n",
        "    FROM admissions \n",
        "\"\"\""
      ],
      "metadata": {
        "id": "yiQVs5Am3fNP"
      },
      "execution_count": 23,
      "outputs": []
    },
    {
      "cell_type": "code",
      "source": [
        "result_df = sql_query_to_pd(sql_query_string, db_name='default.db')\n",
        "result_df"
      ],
      "metadata": {
        "colab": {
          "base_uri": "https://localhost:8080/",
          "height": 110
        },
        "id": "IDh-UtuW3uem",
        "outputId": "4451ca81-e780-436d-a494-e493a715b242"
      },
      "execution_count": 24,
      "outputs": [
        {
          "output_type": "execute_result",
          "data": {
            "text/plain": [
              "   count(distinct subject_id)\n",
              "0                      190279"
            ],
            "text/html": [
              "\n",
              "  <div id=\"df-334b4434-ba78-48a2-b796-122fa69ae50f\">\n",
              "    <div class=\"colab-df-container\">\n",
              "      <div>\n",
              "<style scoped>\n",
              "    .dataframe tbody tr th:only-of-type {\n",
              "        vertical-align: middle;\n",
              "    }\n",
              "\n",
              "    .dataframe tbody tr th {\n",
              "        vertical-align: top;\n",
              "    }\n",
              "\n",
              "    .dataframe thead th {\n",
              "        text-align: right;\n",
              "    }\n",
              "</style>\n",
              "<table border=\"1\" class=\"dataframe\">\n",
              "  <thead>\n",
              "    <tr style=\"text-align: right;\">\n",
              "      <th></th>\n",
              "      <th>count(distinct subject_id)</th>\n",
              "    </tr>\n",
              "  </thead>\n",
              "  <tbody>\n",
              "    <tr>\n",
              "      <th>0</th>\n",
              "      <td>190279</td>\n",
              "    </tr>\n",
              "  </tbody>\n",
              "</table>\n",
              "</div>\n",
              "      <button class=\"colab-df-convert\" onclick=\"convertToInteractive('df-334b4434-ba78-48a2-b796-122fa69ae50f')\"\n",
              "              title=\"Convert this dataframe to an interactive table.\"\n",
              "              style=\"display:none;\">\n",
              "        \n",
              "  <svg xmlns=\"http://www.w3.org/2000/svg\" height=\"24px\"viewBox=\"0 0 24 24\"\n",
              "       width=\"24px\">\n",
              "    <path d=\"M0 0h24v24H0V0z\" fill=\"none\"/>\n",
              "    <path d=\"M18.56 5.44l.94 2.06.94-2.06 2.06-.94-2.06-.94-.94-2.06-.94 2.06-2.06.94zm-11 1L8.5 8.5l.94-2.06 2.06-.94-2.06-.94L8.5 2.5l-.94 2.06-2.06.94zm10 10l.94 2.06.94-2.06 2.06-.94-2.06-.94-.94-2.06-.94 2.06-2.06.94z\"/><path d=\"M17.41 7.96l-1.37-1.37c-.4-.4-.92-.59-1.43-.59-.52 0-1.04.2-1.43.59L10.3 9.45l-7.72 7.72c-.78.78-.78 2.05 0 2.83L4 21.41c.39.39.9.59 1.41.59.51 0 1.02-.2 1.41-.59l7.78-7.78 2.81-2.81c.8-.78.8-2.07 0-2.86zM5.41 20L4 18.59l7.72-7.72 1.47 1.35L5.41 20z\"/>\n",
              "  </svg>\n",
              "      </button>\n",
              "      \n",
              "  <style>\n",
              "    .colab-df-container {\n",
              "      display:flex;\n",
              "      flex-wrap:wrap;\n",
              "      gap: 12px;\n",
              "    }\n",
              "\n",
              "    .colab-df-convert {\n",
              "      background-color: #E8F0FE;\n",
              "      border: none;\n",
              "      border-radius: 50%;\n",
              "      cursor: pointer;\n",
              "      display: none;\n",
              "      fill: #1967D2;\n",
              "      height: 32px;\n",
              "      padding: 0 0 0 0;\n",
              "      width: 32px;\n",
              "    }\n",
              "\n",
              "    .colab-df-convert:hover {\n",
              "      background-color: #E2EBFA;\n",
              "      box-shadow: 0px 1px 2px rgba(60, 64, 67, 0.3), 0px 1px 3px 1px rgba(60, 64, 67, 0.15);\n",
              "      fill: #174EA6;\n",
              "    }\n",
              "\n",
              "    [theme=dark] .colab-df-convert {\n",
              "      background-color: #3B4455;\n",
              "      fill: #D2E3FC;\n",
              "    }\n",
              "\n",
              "    [theme=dark] .colab-df-convert:hover {\n",
              "      background-color: #434B5C;\n",
              "      box-shadow: 0px 1px 3px 1px rgba(0, 0, 0, 0.15);\n",
              "      filter: drop-shadow(0px 1px 2px rgba(0, 0, 0, 0.3));\n",
              "      fill: #FFFFFF;\n",
              "    }\n",
              "  </style>\n",
              "\n",
              "      <script>\n",
              "        const buttonEl =\n",
              "          document.querySelector('#df-334b4434-ba78-48a2-b796-122fa69ae50f button.colab-df-convert');\n",
              "        buttonEl.style.display =\n",
              "          google.colab.kernel.accessAllowed ? 'block' : 'none';\n",
              "\n",
              "        async function convertToInteractive(key) {\n",
              "          const element = document.querySelector('#df-334b4434-ba78-48a2-b796-122fa69ae50f');\n",
              "          const dataTable =\n",
              "            await google.colab.kernel.invokeFunction('convertToInteractive',\n",
              "                                                     [key], {});\n",
              "          if (!dataTable) return;\n",
              "\n",
              "          const docLinkHtml = 'Like what you see? Visit the ' +\n",
              "            '<a target=\"_blank\" href=https://colab.research.google.com/notebooks/data_table.ipynb>data table notebook</a>'\n",
              "            + ' to learn more about interactive tables.';\n",
              "          element.innerHTML = '';\n",
              "          dataTable['output_type'] = 'display_data';\n",
              "          await google.colab.output.renderOutput(dataTable, element);\n",
              "          const docLink = document.createElement('div');\n",
              "          docLink.innerHTML = docLinkHtml;\n",
              "          element.appendChild(docLink);\n",
              "        }\n",
              "      </script>\n",
              "    </div>\n",
              "  </div>\n",
              "  "
            ],
            "application/vnd.google.colaboratory.module+javascript": "\n      import \"https://ssl.gstatic.com/colaboratory/data_table/a8bd4d5e58f96183/data_table.js\";\n\n      window.createDataTable({\n        data: [[{\n            'v': 0,\n            'f': \"0\",\n        },\n{\n            'v': 190279,\n            'f': \"190279\",\n        }]],\n        columns: [[\"number\", \"index\"], [\"number\", \"count(distinct subject_id)\"]],\n        columnOptions: [{\"width\": \"1px\", \"className\": \"index_column\"}],\n        rowsPerPage: 25,\n        helpUrl: \"https://colab.research.google.com/notebooks/data_table.ipynb\",\n        suppressOutputScrolling: true,\n        minimumWidth: undefined,\n      });\n    "
          },
          "metadata": {},
          "execution_count": 24
        }
      ]
    },
    {
      "cell_type": "code",
      "source": [
        "input_df.columns"
      ],
      "metadata": {
        "colab": {
          "base_uri": "https://localhost:8080/"
        },
        "id": "hF98dCpG3jy-",
        "outputId": "90ae85bb-1b7e-4213-ec7a-f364ca7203c6"
      },
      "execution_count": 22,
      "outputs": [
        {
          "output_type": "execute_result",
          "data": {
            "text/plain": [
              "Index(['subject_id', 'hadm_id', 'admittime', 'dischtime', 'deathtime',\n",
              "       'admission_type', 'admission_location', 'discharge_location',\n",
              "       'insurance', 'language', 'marital_status', 'race', 'edregtime',\n",
              "       'edouttime', 'hospital_expire_flag'],\n",
              "      dtype='object')"
            ]
          },
          "metadata": {},
          "execution_count": 22
        }
      ]
    },
    {
      "cell_type": "code",
      "source": [
        "patients = pd.read_csv('/content/gdrive/MyDrive/mimiciv_unzip/hosp/patients.csv')\n",
        "pd_to_sqlDB(patients,\n",
        "            table_name='patients',\n",
        "            db_name='default.db')"
      ],
      "metadata": {
        "id": "Ju0Cdxh-4X43"
      },
      "execution_count": 31,
      "outputs": []
    },
    {
      "cell_type": "code",
      "source": [
        "patients.columns"
      ],
      "metadata": {
        "colab": {
          "base_uri": "https://localhost:8080/"
        },
        "id": "TzFsvnlS4m5J",
        "outputId": "debad440-e37a-4dd5-f08f-9d590fa5ce64"
      },
      "execution_count": 29,
      "outputs": [
        {
          "output_type": "execute_result",
          "data": {
            "text/plain": [
              "Index(['subject_id', 'gender', 'anchor_age', 'anchor_year',\n",
              "       'anchor_year_group', 'dod'],\n",
              "      dtype='object')"
            ]
          },
          "metadata": {},
          "execution_count": 29
        }
      ]
    },
    {
      "cell_type": "code",
      "source": [
        "sql_query_string = \"\"\"\n",
        "    SELECT count(distinct subject_id)\n",
        "    FROM patients \n",
        "\"\"\"\n",
        "result_df = sql_query_to_pd(sql_query_string, db_name='default.db')\n",
        "result_df"
      ],
      "metadata": {
        "colab": {
          "base_uri": "https://localhost:8080/",
          "height": 110
        },
        "id": "UueDkDMn4dtd",
        "outputId": "b63d553e-c366-4818-a73c-ba85b7aa9f29"
      },
      "execution_count": 32,
      "outputs": [
        {
          "output_type": "execute_result",
          "data": {
            "text/plain": [
              "   count(distinct subject_id)\n",
              "0                      315460"
            ],
            "text/html": [
              "\n",
              "  <div id=\"df-e1b8df98-49a7-455b-aefa-6f2243ebf7d0\">\n",
              "    <div class=\"colab-df-container\">\n",
              "      <div>\n",
              "<style scoped>\n",
              "    .dataframe tbody tr th:only-of-type {\n",
              "        vertical-align: middle;\n",
              "    }\n",
              "\n",
              "    .dataframe tbody tr th {\n",
              "        vertical-align: top;\n",
              "    }\n",
              "\n",
              "    .dataframe thead th {\n",
              "        text-align: right;\n",
              "    }\n",
              "</style>\n",
              "<table border=\"1\" class=\"dataframe\">\n",
              "  <thead>\n",
              "    <tr style=\"text-align: right;\">\n",
              "      <th></th>\n",
              "      <th>count(distinct subject_id)</th>\n",
              "    </tr>\n",
              "  </thead>\n",
              "  <tbody>\n",
              "    <tr>\n",
              "      <th>0</th>\n",
              "      <td>315460</td>\n",
              "    </tr>\n",
              "  </tbody>\n",
              "</table>\n",
              "</div>\n",
              "      <button class=\"colab-df-convert\" onclick=\"convertToInteractive('df-e1b8df98-49a7-455b-aefa-6f2243ebf7d0')\"\n",
              "              title=\"Convert this dataframe to an interactive table.\"\n",
              "              style=\"display:none;\">\n",
              "        \n",
              "  <svg xmlns=\"http://www.w3.org/2000/svg\" height=\"24px\"viewBox=\"0 0 24 24\"\n",
              "       width=\"24px\">\n",
              "    <path d=\"M0 0h24v24H0V0z\" fill=\"none\"/>\n",
              "    <path d=\"M18.56 5.44l.94 2.06.94-2.06 2.06-.94-2.06-.94-.94-2.06-.94 2.06-2.06.94zm-11 1L8.5 8.5l.94-2.06 2.06-.94-2.06-.94L8.5 2.5l-.94 2.06-2.06.94zm10 10l.94 2.06.94-2.06 2.06-.94-2.06-.94-.94-2.06-.94 2.06-2.06.94z\"/><path d=\"M17.41 7.96l-1.37-1.37c-.4-.4-.92-.59-1.43-.59-.52 0-1.04.2-1.43.59L10.3 9.45l-7.72 7.72c-.78.78-.78 2.05 0 2.83L4 21.41c.39.39.9.59 1.41.59.51 0 1.02-.2 1.41-.59l7.78-7.78 2.81-2.81c.8-.78.8-2.07 0-2.86zM5.41 20L4 18.59l7.72-7.72 1.47 1.35L5.41 20z\"/>\n",
              "  </svg>\n",
              "      </button>\n",
              "      \n",
              "  <style>\n",
              "    .colab-df-container {\n",
              "      display:flex;\n",
              "      flex-wrap:wrap;\n",
              "      gap: 12px;\n",
              "    }\n",
              "\n",
              "    .colab-df-convert {\n",
              "      background-color: #E8F0FE;\n",
              "      border: none;\n",
              "      border-radius: 50%;\n",
              "      cursor: pointer;\n",
              "      display: none;\n",
              "      fill: #1967D2;\n",
              "      height: 32px;\n",
              "      padding: 0 0 0 0;\n",
              "      width: 32px;\n",
              "    }\n",
              "\n",
              "    .colab-df-convert:hover {\n",
              "      background-color: #E2EBFA;\n",
              "      box-shadow: 0px 1px 2px rgba(60, 64, 67, 0.3), 0px 1px 3px 1px rgba(60, 64, 67, 0.15);\n",
              "      fill: #174EA6;\n",
              "    }\n",
              "\n",
              "    [theme=dark] .colab-df-convert {\n",
              "      background-color: #3B4455;\n",
              "      fill: #D2E3FC;\n",
              "    }\n",
              "\n",
              "    [theme=dark] .colab-df-convert:hover {\n",
              "      background-color: #434B5C;\n",
              "      box-shadow: 0px 1px 3px 1px rgba(0, 0, 0, 0.15);\n",
              "      filter: drop-shadow(0px 1px 2px rgba(0, 0, 0, 0.3));\n",
              "      fill: #FFFFFF;\n",
              "    }\n",
              "  </style>\n",
              "\n",
              "      <script>\n",
              "        const buttonEl =\n",
              "          document.querySelector('#df-e1b8df98-49a7-455b-aefa-6f2243ebf7d0 button.colab-df-convert');\n",
              "        buttonEl.style.display =\n",
              "          google.colab.kernel.accessAllowed ? 'block' : 'none';\n",
              "\n",
              "        async function convertToInteractive(key) {\n",
              "          const element = document.querySelector('#df-e1b8df98-49a7-455b-aefa-6f2243ebf7d0');\n",
              "          const dataTable =\n",
              "            await google.colab.kernel.invokeFunction('convertToInteractive',\n",
              "                                                     [key], {});\n",
              "          if (!dataTable) return;\n",
              "\n",
              "          const docLinkHtml = 'Like what you see? Visit the ' +\n",
              "            '<a target=\"_blank\" href=https://colab.research.google.com/notebooks/data_table.ipynb>data table notebook</a>'\n",
              "            + ' to learn more about interactive tables.';\n",
              "          element.innerHTML = '';\n",
              "          dataTable['output_type'] = 'display_data';\n",
              "          await google.colab.output.renderOutput(dataTable, element);\n",
              "          const docLink = document.createElement('div');\n",
              "          docLink.innerHTML = docLinkHtml;\n",
              "          element.appendChild(docLink);\n",
              "        }\n",
              "      </script>\n",
              "    </div>\n",
              "  </div>\n",
              "  "
            ],
            "application/vnd.google.colaboratory.module+javascript": "\n      import \"https://ssl.gstatic.com/colaboratory/data_table/a8bd4d5e58f96183/data_table.js\";\n\n      window.createDataTable({\n        data: [[{\n            'v': 0,\n            'f': \"0\",\n        },\n{\n            'v': 315460,\n            'f': \"315460\",\n        }]],\n        columns: [[\"number\", \"index\"], [\"number\", \"count(distinct subject_id)\"]],\n        columnOptions: [{\"width\": \"1px\", \"className\": \"index_column\"}],\n        rowsPerPage: 25,\n        helpUrl: \"https://colab.research.google.com/notebooks/data_table.ipynb\",\n        suppressOutputScrolling: true,\n        minimumWidth: undefined,\n      });\n    "
          },
          "metadata": {},
          "execution_count": 32
        }
      ]
    },
    {
      "cell_type": "code",
      "source": [
        "diagnoses_icd = pd.read_csv('/content/gdrive/MyDrive/mimiciv_unzip/hosp/diagnoses_icd.csv')\n",
        "pd_to_sqlDB(diagnoses_icd,\n",
        "            table_name='diagnoses_icd',\n",
        "            db_name='default.db')"
      ],
      "metadata": {
        "id": "v0jC-Jrs7K5X"
      },
      "execution_count": 60,
      "outputs": []
    },
    {
      "cell_type": "code",
      "source": [
        "diagnoses_icd.columns"
      ],
      "metadata": {
        "colab": {
          "base_uri": "https://localhost:8080/"
        },
        "id": "esucf2a88ZPq",
        "outputId": "d393e34f-8fcb-4b00-fcc5-adaff752eaff"
      },
      "execution_count": 40,
      "outputs": [
        {
          "output_type": "execute_result",
          "data": {
            "text/plain": [
              "Index(['subject_id', 'hadm_id', 'seq_num', 'icd_code', 'icd_version'], dtype='object')"
            ]
          },
          "metadata": {},
          "execution_count": 40
        }
      ]
    },
    {
      "cell_type": "code",
      "source": [
        "diagnoses_icd['icd_code'].head()"
      ],
      "metadata": {
        "colab": {
          "base_uri": "https://localhost:8080/"
        },
        "id": "a5mUo_cP9NGe",
        "outputId": "2cd52258-ec2d-4aef-f63e-19361738cbae"
      },
      "execution_count": 48,
      "outputs": [
        {
          "output_type": "execute_result",
          "data": {
            "text/plain": [
              "0     5723\n",
              "1    78959\n",
              "2     5715\n",
              "3    07070\n",
              "4      496\n",
              "Name: icd_code, dtype: object"
            ]
          },
          "metadata": {},
          "execution_count": 48
        }
      ]
    },
    {
      "cell_type": "code",
      "source": [
        "diagnoses_icd['icd_version'].head()"
      ],
      "metadata": {
        "colab": {
          "base_uri": "https://localhost:8080/"
        },
        "id": "b4UI6z8i9Uj2",
        "outputId": "36130f50-bab8-45f0-d817-bb3f2b898b70"
      },
      "execution_count": 50,
      "outputs": [
        {
          "output_type": "execute_result",
          "data": {
            "text/plain": [
              "0    9\n",
              "1    9\n",
              "2    9\n",
              "3    9\n",
              "4    9\n",
              "Name: icd_version, dtype: int64"
            ]
          },
          "metadata": {},
          "execution_count": 50
        }
      ]
    },
    {
      "cell_type": "code",
      "source": [
        "np.sum(diagnoses_icd['icd_code']=='99591') "
      ],
      "metadata": {
        "colab": {
          "base_uri": "https://localhost:8080/"
        },
        "id": "FkczbmOC8cFH",
        "outputId": "b4dc4311-467d-4dbe-fcef-25500a56ce58"
      },
      "execution_count": 55,
      "outputs": [
        {
          "output_type": "execute_result",
          "data": {
            "text/plain": [
              "2964"
            ]
          },
          "metadata": {},
          "execution_count": 55
        }
      ]
    },
    {
      "cell_type": "code",
      "source": [
        "np.sum(diagnoses_icd['icd_code']=='A419') "
      ],
      "metadata": {
        "colab": {
          "base_uri": "https://localhost:8080/"
        },
        "id": "JOytVHQ0-yjP",
        "outputId": "ae7e2fde-0711-42c2-9f89-05db1b9e455d"
      },
      "execution_count": 62,
      "outputs": [
        {
          "output_type": "execute_result",
          "data": {
            "text/plain": [
              "4757"
            ]
          },
          "metadata": {},
          "execution_count": 62
        }
      ]
    },
    {
      "cell_type": "code",
      "source": [
        "np.sum(diagnoses_icd['icd_version']==9)"
      ],
      "metadata": {
        "colab": {
          "base_uri": "https://localhost:8080/"
        },
        "id": "9bRXnj7A9fqN",
        "outputId": "e2d33a0a-85e3-44bc-e5f7-e03f26aa47e2"
      },
      "execution_count": 56,
      "outputs": [
        {
          "output_type": "execute_result",
          "data": {
            "text/plain": [
              "2915548"
            ]
          },
          "metadata": {},
          "execution_count": 56
        }
      ]
    },
    {
      "cell_type": "code",
      "source": [
        "#ICU 입실한 환자\n",
        "#24시간 이내 사망한 환자 제외\n",
        "#24시간 이내 lab\n",
        "#spesis 뿐만 아니라 infection 코드가 붙어 있는 사람\n",
        "sql_query = \"\"\" \n",
        "create table subject_id_2 as (\n",
        "  select count(distinct subject_id)\n",
        "  from diagnoses_icd\n",
        "  where (icd_version = 9 and icd_code = '99591') or (icd_version = 10 and icd_code = 'A419')\n",
        ");\n",
        "create table subject_id_1 as (\n",
        "  select \n",
        "\n",
        ");\n",
        "\n",
        "\"\"\"\n",
        "\n",
        "result_df = sql_query_to_pd(sql_query, db_name='default.db')\n",
        "result_df"
      ],
      "metadata": {
        "id": "ld4CPlSYADtK"
      },
      "execution_count": null,
      "outputs": []
    },
    {
      "cell_type": "code",
      "source": [
        "#ICU 입실한 환자\n",
        "#24시간 이내 사망한 환자 제외\n",
        "#24시간 이내 lab\n",
        "#spesis 뿐만 아니라 infection 코드가 붙어 있는 사람\n",
        "sql_query = \"\"\" \n",
        "create table subject_id_1 as (\n",
        "  select subject_id\n",
        "  from diagnoses_icd\n",
        "  where (icd_version = 9 and icd_code = '99591') or (icd_version = 10 and icd_code = 'A419')\n",
        ");\n",
        "create table subject_id_2 as (\n",
        "  select \n",
        "  from \n",
        "  where \n",
        ");\n",
        "\n",
        "\"\"\"\n",
        "\n",
        "result_df = sql_query_to_pd(sql_query, db_name='default.db')\n",
        "result_df"
      ],
      "metadata": {
        "colab": {
          "base_uri": "https://localhost:8080/",
          "height": 110
        },
        "id": "dUFo3z1w7o4J",
        "outputId": "b232d41d-c99d-4e1c-ee8f-dd1151a16962"
      },
      "execution_count": 63,
      "outputs": [
        {
          "output_type": "execute_result",
          "data": {
            "text/plain": [
              "   count(distinct subject_id)\n",
              "0                        6759"
            ],
            "text/html": [
              "\n",
              "  <div id=\"df-6b2d9bd3-fad1-457b-a942-1571fdd30b05\">\n",
              "    <div class=\"colab-df-container\">\n",
              "      <div>\n",
              "<style scoped>\n",
              "    .dataframe tbody tr th:only-of-type {\n",
              "        vertical-align: middle;\n",
              "    }\n",
              "\n",
              "    .dataframe tbody tr th {\n",
              "        vertical-align: top;\n",
              "    }\n",
              "\n",
              "    .dataframe thead th {\n",
              "        text-align: right;\n",
              "    }\n",
              "</style>\n",
              "<table border=\"1\" class=\"dataframe\">\n",
              "  <thead>\n",
              "    <tr style=\"text-align: right;\">\n",
              "      <th></th>\n",
              "      <th>count(distinct subject_id)</th>\n",
              "    </tr>\n",
              "  </thead>\n",
              "  <tbody>\n",
              "    <tr>\n",
              "      <th>0</th>\n",
              "      <td>6759</td>\n",
              "    </tr>\n",
              "  </tbody>\n",
              "</table>\n",
              "</div>\n",
              "      <button class=\"colab-df-convert\" onclick=\"convertToInteractive('df-6b2d9bd3-fad1-457b-a942-1571fdd30b05')\"\n",
              "              title=\"Convert this dataframe to an interactive table.\"\n",
              "              style=\"display:none;\">\n",
              "        \n",
              "  <svg xmlns=\"http://www.w3.org/2000/svg\" height=\"24px\"viewBox=\"0 0 24 24\"\n",
              "       width=\"24px\">\n",
              "    <path d=\"M0 0h24v24H0V0z\" fill=\"none\"/>\n",
              "    <path d=\"M18.56 5.44l.94 2.06.94-2.06 2.06-.94-2.06-.94-.94-2.06-.94 2.06-2.06.94zm-11 1L8.5 8.5l.94-2.06 2.06-.94-2.06-.94L8.5 2.5l-.94 2.06-2.06.94zm10 10l.94 2.06.94-2.06 2.06-.94-2.06-.94-.94-2.06-.94 2.06-2.06.94z\"/><path d=\"M17.41 7.96l-1.37-1.37c-.4-.4-.92-.59-1.43-.59-.52 0-1.04.2-1.43.59L10.3 9.45l-7.72 7.72c-.78.78-.78 2.05 0 2.83L4 21.41c.39.39.9.59 1.41.59.51 0 1.02-.2 1.41-.59l7.78-7.78 2.81-2.81c.8-.78.8-2.07 0-2.86zM5.41 20L4 18.59l7.72-7.72 1.47 1.35L5.41 20z\"/>\n",
              "  </svg>\n",
              "      </button>\n",
              "      \n",
              "  <style>\n",
              "    .colab-df-container {\n",
              "      display:flex;\n",
              "      flex-wrap:wrap;\n",
              "      gap: 12px;\n",
              "    }\n",
              "\n",
              "    .colab-df-convert {\n",
              "      background-color: #E8F0FE;\n",
              "      border: none;\n",
              "      border-radius: 50%;\n",
              "      cursor: pointer;\n",
              "      display: none;\n",
              "      fill: #1967D2;\n",
              "      height: 32px;\n",
              "      padding: 0 0 0 0;\n",
              "      width: 32px;\n",
              "    }\n",
              "\n",
              "    .colab-df-convert:hover {\n",
              "      background-color: #E2EBFA;\n",
              "      box-shadow: 0px 1px 2px rgba(60, 64, 67, 0.3), 0px 1px 3px 1px rgba(60, 64, 67, 0.15);\n",
              "      fill: #174EA6;\n",
              "    }\n",
              "\n",
              "    [theme=dark] .colab-df-convert {\n",
              "      background-color: #3B4455;\n",
              "      fill: #D2E3FC;\n",
              "    }\n",
              "\n",
              "    [theme=dark] .colab-df-convert:hover {\n",
              "      background-color: #434B5C;\n",
              "      box-shadow: 0px 1px 3px 1px rgba(0, 0, 0, 0.15);\n",
              "      filter: drop-shadow(0px 1px 2px rgba(0, 0, 0, 0.3));\n",
              "      fill: #FFFFFF;\n",
              "    }\n",
              "  </style>\n",
              "\n",
              "      <script>\n",
              "        const buttonEl =\n",
              "          document.querySelector('#df-6b2d9bd3-fad1-457b-a942-1571fdd30b05 button.colab-df-convert');\n",
              "        buttonEl.style.display =\n",
              "          google.colab.kernel.accessAllowed ? 'block' : 'none';\n",
              "\n",
              "        async function convertToInteractive(key) {\n",
              "          const element = document.querySelector('#df-6b2d9bd3-fad1-457b-a942-1571fdd30b05');\n",
              "          const dataTable =\n",
              "            await google.colab.kernel.invokeFunction('convertToInteractive',\n",
              "                                                     [key], {});\n",
              "          if (!dataTable) return;\n",
              "\n",
              "          const docLinkHtml = 'Like what you see? Visit the ' +\n",
              "            '<a target=\"_blank\" href=https://colab.research.google.com/notebooks/data_table.ipynb>data table notebook</a>'\n",
              "            + ' to learn more about interactive tables.';\n",
              "          element.innerHTML = '';\n",
              "          dataTable['output_type'] = 'display_data';\n",
              "          await google.colab.output.renderOutput(dataTable, element);\n",
              "          const docLink = document.createElement('div');\n",
              "          docLink.innerHTML = docLinkHtml;\n",
              "          element.appendChild(docLink);\n",
              "        }\n",
              "      </script>\n",
              "    </div>\n",
              "  </div>\n",
              "  "
            ],
            "application/vnd.google.colaboratory.module+javascript": "\n      import \"https://ssl.gstatic.com/colaboratory/data_table/a8bd4d5e58f96183/data_table.js\";\n\n      window.createDataTable({\n        data: [[{\n            'v': 0,\n            'f': \"0\",\n        },\n{\n            'v': 6759,\n            'f': \"6759\",\n        }]],\n        columns: [[\"number\", \"index\"], [\"number\", \"count(distinct subject_id)\"]],\n        columnOptions: [{\"width\": \"1px\", \"className\": \"index_column\"}],\n        rowsPerPage: 25,\n        helpUrl: \"https://colab.research.google.com/notebooks/data_table.ipynb\",\n        suppressOutputScrolling: true,\n        minimumWidth: undefined,\n      });\n    "
          },
          "metadata": {},
          "execution_count": 63
        }
      ]
    },
    {
      "cell_type": "code",
      "source": [],
      "metadata": {
        "id": "ajr3fsiQ_Ex-"
      },
      "execution_count": null,
      "outputs": []
    },
    {
      "cell_type": "code",
      "source": [
        "from google.colab import auth\n",
        "auth.authenticate_user()\n",
        "print('Authenticated')"
      ],
      "metadata": {
        "colab": {
          "base_uri": "https://localhost:8080/"
        },
        "id": "x750KTlgziSF",
        "outputId": "34024fed-dc7a-40c7-b8c1-da0f0321adb3"
      },
      "execution_count": 7,
      "outputs": [
        {
          "output_type": "stream",
          "name": "stdout",
          "text": [
            "Authenticated\n"
          ]
        }
      ]
    },
    {
      "cell_type": "code",
      "source": [
        "%load_ext google.colab.data_table"
      ],
      "metadata": {
        "id": "dlYEZyWg1SNL"
      },
      "execution_count": 8,
      "outputs": []
    },
    {
      "cell_type": "code",
      "source": [
        "from google.cloud import bigquery"
      ],
      "metadata": {
        "id": "OZJHrcit1-km"
      },
      "execution_count": 12,
      "outputs": []
    },
    {
      "cell_type": "code",
      "source": [
        "client = bigquery.Client(project='4/0ARtbsJrRvmKJ9YdfG36DUkkIECN4lYSEudwbqY3VilWte6bBI2a8tD3hNAg1B0MPdPOrIQ')"
      ],
      "metadata": {
        "id": "O8Pm1N3F2B58"
      },
      "execution_count": 13,
      "outputs": []
    },
    {
      "cell_type": "code",
      "source": [
        "row_count = client.query('''\n",
        "  SELECT \n",
        "    COUNT(*) as total\n",
        "  FROM `bigquery-public-data.samples.gsod`''').to_dataframe().total[0]\n",
        "\n",
        "df = client.query('''\n",
        "  SELECT\n",
        "    *\n",
        "  FROM\n",
        "    `bigquery-public-data.samples.gsod`\n",
        "  WHERE RAND() < %d/%d\n",
        "''' % (sample_count, row_count)).to_dataframe()\n",
        "\n",
        "print('Full dataset has %d rows' % row_count"
      ],
      "metadata": {
        "colab": {
          "base_uri": "https://localhost:8080/",
          "height": 136
        },
        "id": "HlKCeQsw1VJP",
        "outputId": "51648e80-abc7-4f9c-b47b-2f3a32acfacc"
      },
      "execution_count": 14,
      "outputs": [
        {
          "output_type": "error",
          "ename": "SyntaxError",
          "evalue": "ignored",
          "traceback": [
            "\u001b[0;36m  File \u001b[0;32m\"<ipython-input-14-0ea1a47ed398>\"\u001b[0;36m, line \u001b[0;32m14\u001b[0m\n\u001b[0;31m    print('Full dataset has %d rows' % row_count\u001b[0m\n\u001b[0m                                                ^\u001b[0m\n\u001b[0;31mSyntaxError\u001b[0m\u001b[0;31m:\u001b[0m unexpected EOF while parsing\n"
          ]
        }
      ]
    },
    {
      "cell_type": "markdown",
      "source": [
        "# 새 섹션"
      ],
      "metadata": {
        "id": "xCj-VbXnyUva"
      }
    },
    {
      "cell_type": "markdown",
      "source": [],
      "metadata": {
        "id": "zV6Jucfpv7V_"
      }
    }
  ]
}