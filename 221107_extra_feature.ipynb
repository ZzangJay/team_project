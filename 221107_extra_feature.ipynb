{
  "nbformat": 4,
  "nbformat_minor": 0,
  "metadata": {
    "colab": {
      "provenance": [],
      "authorship_tag": "ABX9TyPnLRW0rWo0NMbz4yrvO2PQ",
      "include_colab_link": true
    },
    "kernelspec": {
      "name": "python3",
      "display_name": "Python 3"
    },
    "language_info": {
      "name": "python"
    }
  },
  "cells": [
    {
      "cell_type": "markdown",
      "metadata": {
        "id": "view-in-github",
        "colab_type": "text"
      },
      "source": [
        "<a href=\"https://colab.research.google.com/github/ZzangJay/team_project/blob/kimjisan/221107_extra_feature.ipynb\" target=\"_parent\"><img src=\"https://colab.research.google.com/assets/colab-badge.svg\" alt=\"Open In Colab\"/></a>"
      ]
    },
    {
      "cell_type": "code",
      "execution_count": 25,
      "metadata": {
        "id": "BwAHi4fT_8r5"
      },
      "outputs": [],
      "source": [
        "import pandas as pd\n",
        "import numpy as np\n",
        "#import tensorflow as tf \n",
        "import os\n",
        "import sys\n",
        "from datetime import datetime, timedelta\n",
        "from tqdm.autonotebook import tqdm\n",
        "import csv\n",
        "import re\n",
        "import gzip\n",
        "import shutil"
      ]
    },
    {
      "cell_type": "code",
      "source": [
        "from google.colab import drive  # for colab\n",
        "drive.mount('/content/gdrive/')  # for colab\n",
        "cloud_directory = '/content/gdrive/MyDrive/mimiciv_unzip/'\n",
        "os.listdir(cloud_directory) # for colab, check cloud directory mount"
      ],
      "metadata": {
        "colab": {
          "base_uri": "https://localhost:8080/"
        },
        "id": "m5pPUE7w_-2G",
        "outputId": "0e3a776a-9fd7-4295-e60c-78685550d4b9"
      },
      "execution_count": 26,
      "outputs": [
        {
          "output_type": "stream",
          "name": "stdout",
          "text": [
            "Drive already mounted at /content/gdrive/; to attempt to forcibly remount, call drive.mount(\"/content/gdrive/\", force_remount=True).\n"
          ]
        },
        {
          "output_type": "execute_result",
          "data": {
            "text/plain": [
              "['CHANGELOG.txt',\n",
              " 'LICENSE.txt',\n",
              " 'SHA256SUMS.txt',\n",
              " 'index.html',\n",
              " 'icu',\n",
              " 'hosp',\n",
              " 'drop_2_chartevents.csv']"
            ]
          },
          "metadata": {},
          "execution_count": 26
        }
      ]
    },
    {
      "cell_type": "code",
      "source": [
        "sepsis = pd.read_csv('/content/gdrive/MyDrive/mimiciv_der/sepsis3.csv', low_memory=False, dtype='str', keep_default_na=False)\n",
        "urine = pd.read_csv('/content/gdrive/MyDrive/mimiciv_der/urine_output_rate.csv', low_memory=False, dtype='str', keep_default_na=False)\n",
        "age = pd.read_csv('/content/gdrive/MyDrive/mimiciv_der/age.csv', low_memory=False, dtype='str', keep_default_na=False)\n",
        "weight = pd.read_csv('/content/gdrive/MyDrive/mimiciv_der/weight_durations.csv', low_memory=False, dtype='str', keep_default_na=False)\n",
        "vaso=pd.read_csv('/content/gdrive/MyDrive/mimiciv_der/vasoactive_agent.csv', low_memory=False, dtype='str', keep_default_na=False)\n",
        "admission = pd.read_csv('/content/gdrive/MyDrive/mimiciv_unzip/hosp/admissions.csv', low_memory=False, dtype='str', keep_default_na=False)"
      ],
      "metadata": {
        "id": "8ACqb2xBAYWK"
      },
      "execution_count": 27,
      "outputs": []
    },
    {
      "cell_type": "code",
      "source": [
        "# vaso"
      ],
      "metadata": {
        "id": "neuYvtspgBOH"
      },
      "execution_count": 28,
      "outputs": []
    },
    {
      "cell_type": "code",
      "source": [
        "admission = pd.merge(left = admission, right = sepsis[['subject_id','stay_id','sepsis3']], how='inner', left_on='subject_id', right_on='subject_id')\n",
        "urine = pd.merge(left = urine, right = admission[['subject_id', 'hadm_id','stay_id']], how='inner', left_on='stay_id', right_on='stay_id')\n",
        "age = pd.merge(left = age, right = admission[['subject_id', 'hadm_id','stay_id']], how='inner', left_on = ['hadm_id','subject_id'], right_on = ['hadm_id', 'subject_id'])\n"
      ],
      "metadata": {
        "colab": {
          "base_uri": "https://localhost:8080/"
        },
        "id": "_WJsQkBsf4gL",
        "outputId": "13470d8d-4dce-4a7f-ead1-1541f6300622"
      },
      "execution_count": 35,
      "outputs": [
        {
          "output_type": "execute_result",
          "data": {
            "text/plain": [
              "Index(['subject_id', 'hadm_id', 'admittime', 'dischtime', 'deathtime',\n",
              "       'admission_type', 'admission_location', 'discharge_location',\n",
              "       'insurance', 'language', 'marital_status', 'race', 'edregtime',\n",
              "       'edouttime', 'hospital_expire_flag', 'stay_id', 'sepsis3'],\n",
              "      dtype='object')"
            ]
          },
          "metadata": {},
          "execution_count": 35
        }
      ]
    },
    {
      "cell_type": "code",
      "source": [
        "urine=urine[['subject_id', 'hadm_id', 'stay_id', 'weight', 'urineoutput_6hr', 'urineoutput_12hr', 'urineoutput_24hr']]"
      ],
      "metadata": {
        "id": "Dq9TsrPhhLu-"
      },
      "execution_count": 45,
      "outputs": []
    },
    {
      "cell_type": "code",
      "source": [
        "extra_feature = pd.merge(left = urine, right = age[['subject_id', 'hadm_id','stay_id','age']], how='inner', left_on=['subject_id', 'hadm_id', 'stay_id'], right_on=['subject_id', 'hadm_id', 'stay_id'])"
      ],
      "metadata": {
        "id": "iAHZtXtDrpGD"
      },
      "execution_count": 50,
      "outputs": []
    },
    {
      "cell_type": "code",
      "source": [
        "extra_feature"
      ],
      "metadata": {
        "colab": {
          "base_uri": "https://localhost:8080/",
          "height": 424
        },
        "id": "SImf8FvexP7y",
        "outputId": "1c1f1e95-7c30-4544-98f3-cd364838e33f"
      },
      "execution_count": 51,
      "outputs": [
        {
          "output_type": "execute_result",
          "data": {
            "text/plain": [
              "         subject_id   hadm_id   stay_id weight urineoutput_6hr  \\\n",
              "0          11861582  27370071  35689140     89             271   \n",
              "1          11861582  27370071  35689140     89             913   \n",
              "2          11861582  27370071  35689140     89             700   \n",
              "3          11861582  27370071  35689140     89             286   \n",
              "4          11861582  27370071  35689140     89             191   \n",
              "...             ...       ...       ...    ...             ...   \n",
              "11715329   18230098  28932526  39012076   78.3              30   \n",
              "11715330   18230098  29218638  39012076   78.3              30   \n",
              "11715331   18230098  29464315  39012076   78.3              30   \n",
              "11715332   18230098  29882068  39012076   78.3              30   \n",
              "11715333   18230098  29907488  39012076   78.3              30   \n",
              "\n",
              "         urineoutput_12hr urineoutput_24hr age  \n",
              "0                     971              971  53  \n",
              "1                     913              913  53  \n",
              "2                     700              700  53  \n",
              "3                     986              986  53  \n",
              "4                    1001             1001  53  \n",
              "...                   ...              ...  ..  \n",
              "11715329               30               30  93  \n",
              "11715330               30               30  88  \n",
              "11715331               30               30  91  \n",
              "11715332               30               30  89  \n",
              "11715333               30               30  87  \n",
              "\n",
              "[11715334 rows x 8 columns]"
            ],
            "text/html": [
              "\n",
              "  <div id=\"df-d38f7e09-868d-405f-856a-4aceef78ba9f\">\n",
              "    <div class=\"colab-df-container\">\n",
              "      <div>\n",
              "<style scoped>\n",
              "    .dataframe tbody tr th:only-of-type {\n",
              "        vertical-align: middle;\n",
              "    }\n",
              "\n",
              "    .dataframe tbody tr th {\n",
              "        vertical-align: top;\n",
              "    }\n",
              "\n",
              "    .dataframe thead th {\n",
              "        text-align: right;\n",
              "    }\n",
              "</style>\n",
              "<table border=\"1\" class=\"dataframe\">\n",
              "  <thead>\n",
              "    <tr style=\"text-align: right;\">\n",
              "      <th></th>\n",
              "      <th>subject_id</th>\n",
              "      <th>hadm_id</th>\n",
              "      <th>stay_id</th>\n",
              "      <th>weight</th>\n",
              "      <th>urineoutput_6hr</th>\n",
              "      <th>urineoutput_12hr</th>\n",
              "      <th>urineoutput_24hr</th>\n",
              "      <th>age</th>\n",
              "    </tr>\n",
              "  </thead>\n",
              "  <tbody>\n",
              "    <tr>\n",
              "      <th>0</th>\n",
              "      <td>11861582</td>\n",
              "      <td>27370071</td>\n",
              "      <td>35689140</td>\n",
              "      <td>89</td>\n",
              "      <td>271</td>\n",
              "      <td>971</td>\n",
              "      <td>971</td>\n",
              "      <td>53</td>\n",
              "    </tr>\n",
              "    <tr>\n",
              "      <th>1</th>\n",
              "      <td>11861582</td>\n",
              "      <td>27370071</td>\n",
              "      <td>35689140</td>\n",
              "      <td>89</td>\n",
              "      <td>913</td>\n",
              "      <td>913</td>\n",
              "      <td>913</td>\n",
              "      <td>53</td>\n",
              "    </tr>\n",
              "    <tr>\n",
              "      <th>2</th>\n",
              "      <td>11861582</td>\n",
              "      <td>27370071</td>\n",
              "      <td>35689140</td>\n",
              "      <td>89</td>\n",
              "      <td>700</td>\n",
              "      <td>700</td>\n",
              "      <td>700</td>\n",
              "      <td>53</td>\n",
              "    </tr>\n",
              "    <tr>\n",
              "      <th>3</th>\n",
              "      <td>11861582</td>\n",
              "      <td>27370071</td>\n",
              "      <td>35689140</td>\n",
              "      <td>89</td>\n",
              "      <td>286</td>\n",
              "      <td>986</td>\n",
              "      <td>986</td>\n",
              "      <td>53</td>\n",
              "    </tr>\n",
              "    <tr>\n",
              "      <th>4</th>\n",
              "      <td>11861582</td>\n",
              "      <td>27370071</td>\n",
              "      <td>35689140</td>\n",
              "      <td>89</td>\n",
              "      <td>191</td>\n",
              "      <td>1001</td>\n",
              "      <td>1001</td>\n",
              "      <td>53</td>\n",
              "    </tr>\n",
              "    <tr>\n",
              "      <th>...</th>\n",
              "      <td>...</td>\n",
              "      <td>...</td>\n",
              "      <td>...</td>\n",
              "      <td>...</td>\n",
              "      <td>...</td>\n",
              "      <td>...</td>\n",
              "      <td>...</td>\n",
              "      <td>...</td>\n",
              "    </tr>\n",
              "    <tr>\n",
              "      <th>11715329</th>\n",
              "      <td>18230098</td>\n",
              "      <td>28932526</td>\n",
              "      <td>39012076</td>\n",
              "      <td>78.3</td>\n",
              "      <td>30</td>\n",
              "      <td>30</td>\n",
              "      <td>30</td>\n",
              "      <td>93</td>\n",
              "    </tr>\n",
              "    <tr>\n",
              "      <th>11715330</th>\n",
              "      <td>18230098</td>\n",
              "      <td>29218638</td>\n",
              "      <td>39012076</td>\n",
              "      <td>78.3</td>\n",
              "      <td>30</td>\n",
              "      <td>30</td>\n",
              "      <td>30</td>\n",
              "      <td>88</td>\n",
              "    </tr>\n",
              "    <tr>\n",
              "      <th>11715331</th>\n",
              "      <td>18230098</td>\n",
              "      <td>29464315</td>\n",
              "      <td>39012076</td>\n",
              "      <td>78.3</td>\n",
              "      <td>30</td>\n",
              "      <td>30</td>\n",
              "      <td>30</td>\n",
              "      <td>91</td>\n",
              "    </tr>\n",
              "    <tr>\n",
              "      <th>11715332</th>\n",
              "      <td>18230098</td>\n",
              "      <td>29882068</td>\n",
              "      <td>39012076</td>\n",
              "      <td>78.3</td>\n",
              "      <td>30</td>\n",
              "      <td>30</td>\n",
              "      <td>30</td>\n",
              "      <td>89</td>\n",
              "    </tr>\n",
              "    <tr>\n",
              "      <th>11715333</th>\n",
              "      <td>18230098</td>\n",
              "      <td>29907488</td>\n",
              "      <td>39012076</td>\n",
              "      <td>78.3</td>\n",
              "      <td>30</td>\n",
              "      <td>30</td>\n",
              "      <td>30</td>\n",
              "      <td>87</td>\n",
              "    </tr>\n",
              "  </tbody>\n",
              "</table>\n",
              "<p>11715334 rows × 8 columns</p>\n",
              "</div>\n",
              "      <button class=\"colab-df-convert\" onclick=\"convertToInteractive('df-d38f7e09-868d-405f-856a-4aceef78ba9f')\"\n",
              "              title=\"Convert this dataframe to an interactive table.\"\n",
              "              style=\"display:none;\">\n",
              "        \n",
              "  <svg xmlns=\"http://www.w3.org/2000/svg\" height=\"24px\"viewBox=\"0 0 24 24\"\n",
              "       width=\"24px\">\n",
              "    <path d=\"M0 0h24v24H0V0z\" fill=\"none\"/>\n",
              "    <path d=\"M18.56 5.44l.94 2.06.94-2.06 2.06-.94-2.06-.94-.94-2.06-.94 2.06-2.06.94zm-11 1L8.5 8.5l.94-2.06 2.06-.94-2.06-.94L8.5 2.5l-.94 2.06-2.06.94zm10 10l.94 2.06.94-2.06 2.06-.94-2.06-.94-.94-2.06-.94 2.06-2.06.94z\"/><path d=\"M17.41 7.96l-1.37-1.37c-.4-.4-.92-.59-1.43-.59-.52 0-1.04.2-1.43.59L10.3 9.45l-7.72 7.72c-.78.78-.78 2.05 0 2.83L4 21.41c.39.39.9.59 1.41.59.51 0 1.02-.2 1.41-.59l7.78-7.78 2.81-2.81c.8-.78.8-2.07 0-2.86zM5.41 20L4 18.59l7.72-7.72 1.47 1.35L5.41 20z\"/>\n",
              "  </svg>\n",
              "      </button>\n",
              "      \n",
              "  <style>\n",
              "    .colab-df-container {\n",
              "      display:flex;\n",
              "      flex-wrap:wrap;\n",
              "      gap: 12px;\n",
              "    }\n",
              "\n",
              "    .colab-df-convert {\n",
              "      background-color: #E8F0FE;\n",
              "      border: none;\n",
              "      border-radius: 50%;\n",
              "      cursor: pointer;\n",
              "      display: none;\n",
              "      fill: #1967D2;\n",
              "      height: 32px;\n",
              "      padding: 0 0 0 0;\n",
              "      width: 32px;\n",
              "    }\n",
              "\n",
              "    .colab-df-convert:hover {\n",
              "      background-color: #E2EBFA;\n",
              "      box-shadow: 0px 1px 2px rgba(60, 64, 67, 0.3), 0px 1px 3px 1px rgba(60, 64, 67, 0.15);\n",
              "      fill: #174EA6;\n",
              "    }\n",
              "\n",
              "    [theme=dark] .colab-df-convert {\n",
              "      background-color: #3B4455;\n",
              "      fill: #D2E3FC;\n",
              "    }\n",
              "\n",
              "    [theme=dark] .colab-df-convert:hover {\n",
              "      background-color: #434B5C;\n",
              "      box-shadow: 0px 1px 3px 1px rgba(0, 0, 0, 0.15);\n",
              "      filter: drop-shadow(0px 1px 2px rgba(0, 0, 0, 0.3));\n",
              "      fill: #FFFFFF;\n",
              "    }\n",
              "  </style>\n",
              "\n",
              "      <script>\n",
              "        const buttonEl =\n",
              "          document.querySelector('#df-d38f7e09-868d-405f-856a-4aceef78ba9f button.colab-df-convert');\n",
              "        buttonEl.style.display =\n",
              "          google.colab.kernel.accessAllowed ? 'block' : 'none';\n",
              "\n",
              "        async function convertToInteractive(key) {\n",
              "          const element = document.querySelector('#df-d38f7e09-868d-405f-856a-4aceef78ba9f');\n",
              "          const dataTable =\n",
              "            await google.colab.kernel.invokeFunction('convertToInteractive',\n",
              "                                                     [key], {});\n",
              "          if (!dataTable) return;\n",
              "\n",
              "          const docLinkHtml = 'Like what you see? Visit the ' +\n",
              "            '<a target=\"_blank\" href=https://colab.research.google.com/notebooks/data_table.ipynb>data table notebook</a>'\n",
              "            + ' to learn more about interactive tables.';\n",
              "          element.innerHTML = '';\n",
              "          dataTable['output_type'] = 'display_data';\n",
              "          await google.colab.output.renderOutput(dataTable, element);\n",
              "          const docLink = document.createElement('div');\n",
              "          docLink.innerHTML = docLinkHtml;\n",
              "          element.appendChild(docLink);\n",
              "        }\n",
              "      </script>\n",
              "    </div>\n",
              "  </div>\n",
              "  "
            ]
          },
          "metadata": {},
          "execution_count": 51
        }
      ]
    }
  ]
}