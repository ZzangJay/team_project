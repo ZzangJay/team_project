{
  "nbformat": 4,
  "nbformat_minor": 0,
  "metadata": {
    "colab": {
      "provenance": [],
      "authorship_tag": "ABX9TyN4eiWmZ6OGXRjNo/Sw+xPy",
      "include_colab_link": true
    },
    "kernelspec": {
      "name": "python3",
      "display_name": "Python 3"
    },
    "language_info": {
      "name": "python"
    }
  },
  "cells": [
    {
      "cell_type": "markdown",
      "metadata": {
        "id": "view-in-github",
        "colab_type": "text"
      },
      "source": [
        "<a href=\"https://colab.research.google.com/github/ZzangJay/team_project/blob/kimjisan/221107_extra_feature.ipynb\" target=\"_parent\"><img src=\"https://colab.research.google.com/assets/colab-badge.svg\" alt=\"Open In Colab\"/></a>"
      ]
    },
    {
      "cell_type": "code",
      "execution_count": 1,
      "metadata": {
        "colab": {
          "base_uri": "https://localhost:8080/"
        },
        "id": "BwAHi4fT_8r5",
        "outputId": "005a8a18-0af5-42c8-cfe4-dd2ae83525b8"
      },
      "outputs": [
        {
          "output_type": "stream",
          "name": "stderr",
          "text": [
            "/usr/local/lib/python3.7/dist-packages/ipykernel_launcher.py:7: TqdmExperimentalWarning: Using `tqdm.autonotebook.tqdm` in notebook mode. Use `tqdm.tqdm` instead to force console mode (e.g. in jupyter console)\n",
            "  import sys\n"
          ]
        }
      ],
      "source": [
        "import pandas as pd\n",
        "import numpy as np\n",
        "#import tensorflow as tf \n",
        "import os\n",
        "import sys\n",
        "from datetime import datetime, timedelta\n",
        "from tqdm.autonotebook import tqdm\n",
        "import csv\n",
        "import re\n",
        "import gzip\n",
        "import shutil"
      ]
    },
    {
      "cell_type": "code",
      "source": [
        "from google.colab import drive  # for colab\n",
        "drive.mount('/content/gdrive/')  # for colab\n",
        "cloud_directory = '/content/gdrive/MyDrive/mimiciv_unzip/'\n",
        "os.listdir(cloud_directory) # for colab, check cloud directory mount"
      ],
      "metadata": {
        "colab": {
          "base_uri": "https://localhost:8080/"
        },
        "id": "m5pPUE7w_-2G",
        "outputId": "e5273808-7785-4106-bd8e-f78732bddd11"
      },
      "execution_count": 2,
      "outputs": [
        {
          "output_type": "stream",
          "name": "stdout",
          "text": [
            "Drive already mounted at /content/gdrive/; to attempt to forcibly remount, call drive.mount(\"/content/gdrive/\", force_remount=True).\n"
          ]
        },
        {
          "output_type": "execute_result",
          "data": {
            "text/plain": [
              "['CHANGELOG.txt',\n",
              " 'LICENSE.txt',\n",
              " 'SHA256SUMS.txt',\n",
              " 'index.html',\n",
              " 'icu',\n",
              " 'hosp',\n",
              " 'drop_2_chartevents.csv']"
            ]
          },
          "metadata": {},
          "execution_count": 2
        }
      ]
    },
    {
      "cell_type": "code",
      "source": [
        "sepsis = pd.read_csv('/content/gdrive/MyDrive/mimiciv_der/sepsis3.csv', low_memory=False, dtype='str', keep_default_na=False)\n",
        "urine = pd.read_csv('/content/gdrive/MyDrive/mimiciv_der/urine_output_rate.csv', low_memory=False, dtype='str', keep_default_na=False)\n",
        "age = pd.read_csv('/content/gdrive/MyDrive/mimiciv_der/age.csv', low_memory=False, dtype='str', keep_default_na=False)\n",
        "weight = pd.read_csv('/content/gdrive/MyDrive/mimiciv_der/weight_durations.csv', low_memory=False, dtype='str', keep_default_na=False)\n",
        "vaso=pd.read_csv('/content/gdrive/MyDrive/mimiciv_der/vasoactive_agent.csv', low_memory=False, dtype='str', keep_default_na=False)\n",
        "admission = pd.read_csv('/content/gdrive/MyDrive/mimiciv_unzip/hosp/admissions.csv', low_memory=False, dtype='str', keep_default_na=False)"
      ],
      "metadata": {
        "id": "8ACqb2xBAYWK"
      },
      "execution_count": 3,
      "outputs": []
    },
    {
      "cell_type": "code",
      "source": [
        "# vaso"
      ],
      "metadata": {
        "id": "neuYvtspgBOH"
      },
      "execution_count": 4,
      "outputs": []
    },
    {
      "cell_type": "code",
      "source": [
        "admission = pd.merge(left = admission, right = sepsis[['subject_id','stay_id','sepsis3']], how='inner', left_on='subject_id', right_on='subject_id')\n",
        "urine = pd.merge(left = urine, right = admission[['subject_id', 'hadm_id','stay_id']], how='inner', left_on='stay_id', right_on='stay_id')\n",
        "age = pd.merge(left = age, right = admission[['subject_id', 'hadm_id','stay_id']], how='inner', left_on = ['hadm_id','subject_id'], right_on = ['hadm_id', 'subject_id'])\n"
      ],
      "metadata": {
        "id": "_WJsQkBsf4gL"
      },
      "execution_count": 5,
      "outputs": []
    },
    {
      "cell_type": "code",
      "source": [
        "# urine=urine[['subject_id', 'hadm_id', 'weight', 'urineoutput_6hr', 'urineoutput_12hr', 'urineoutput_24hr']]\n",
        "urine=urine[['subject_id', 'hadm_id', 'weight']]"
      ],
      "metadata": {
        "id": "Dq9TsrPhhLu-"
      },
      "execution_count": 6,
      "outputs": []
    },
    {
      "cell_type": "code",
      "source": [
        "extra_features = pd.merge(left = urine, right = age[['subject_id', 'hadm_id','age']], how='inner', left_on=['subject_id', 'hadm_id'], right_on=['subject_id', 'hadm_id'])"
      ],
      "metadata": {
        "id": "iAHZtXtDrpGD"
      },
      "execution_count": 7,
      "outputs": []
    },
    {
      "cell_type": "code",
      "source": [
        "extra_features = extra_features.drop_duplicates(subset=['subject_id','hadm_id'], keep='first')"
      ],
      "metadata": {
        "id": "SImf8FvexP7y"
      },
      "execution_count": 14,
      "outputs": []
    },
    {
      "cell_type": "code",
      "source": [
        "extra_features['age']=pd.to_numeric(extra_features['age'])\n",
        "extra_features['weight']=pd.to_numeric(extra_features['weight'])"
      ],
      "metadata": {
        "colab": {
          "base_uri": "https://localhost:8080/"
        },
        "id": "CLktYdy9HGZW",
        "outputId": "1ea9b781-fb3f-4ad5-a265-854587f2c0e9"
      },
      "execution_count": 17,
      "outputs": [
        {
          "output_type": "stream",
          "name": "stderr",
          "text": [
            "/usr/local/lib/python3.7/dist-packages/ipykernel_launcher.py:1: SettingWithCopyWarning: \n",
            "A value is trying to be set on a copy of a slice from a DataFrame.\n",
            "Try using .loc[row_indexer,col_indexer] = value instead\n",
            "\n",
            "See the caveats in the documentation: https://pandas.pydata.org/pandas-docs/stable/user_guide/indexing.html#returning-a-view-versus-a-copy\n",
            "  \"\"\"Entry point for launching an IPython kernel.\n",
            "/usr/local/lib/python3.7/dist-packages/ipykernel_launcher.py:2: SettingWithCopyWarning: \n",
            "A value is trying to be set on a copy of a slice from a DataFrame.\n",
            "Try using .loc[row_indexer,col_indexer] = value instead\n",
            "\n",
            "See the caveats in the documentation: https://pandas.pydata.org/pandas-docs/stable/user_guide/indexing.html#returning-a-view-versus-a-copy\n",
            "  \n"
          ]
        }
      ]
    },
    {
      "cell_type": "code",
      "source": [
        "extra_features.info()"
      ],
      "metadata": {
        "colab": {
          "base_uri": "https://localhost:8080/"
        },
        "id": "oISnBDfcFwjm",
        "outputId": "bb92e231-704d-4471-c6d2-3965a7a09dc2"
      },
      "execution_count": 18,
      "outputs": [
        {
          "output_type": "stream",
          "name": "stdout",
          "text": [
            "<class 'pandas.core.frame.DataFrame'>\n",
            "Int64Index: 105622 entries, 0 to 37015877\n",
            "Data columns (total 4 columns):\n",
            " #   Column      Non-Null Count   Dtype  \n",
            "---  ------      --------------   -----  \n",
            " 0   subject_id  105622 non-null  object \n",
            " 1   hadm_id     105622 non-null  object \n",
            " 2   weight      104408 non-null  float64\n",
            " 3   age         105622 non-null  int64  \n",
            "dtypes: float64(1), int64(1), object(2)\n",
            "memory usage: 4.0+ MB\n"
          ]
        }
      ]
    },
    {
      "cell_type": "code",
      "source": [
        "extra_features=extra_features.dropna(subset=['weight'], axis=0)"
      ],
      "metadata": {
        "id": "s2hfSg8lHsw3"
      },
      "execution_count": 19,
      "outputs": []
    },
    {
      "cell_type": "code",
      "source": [
        "extra_features.info()"
      ],
      "metadata": {
        "colab": {
          "base_uri": "https://localhost:8080/"
        },
        "id": "Wi1Z-jylH3g8",
        "outputId": "561bb7e4-0a16-4b83-a109-e561cf4d060c"
      },
      "execution_count": 20,
      "outputs": [
        {
          "output_type": "stream",
          "name": "stdout",
          "text": [
            "<class 'pandas.core.frame.DataFrame'>\n",
            "Int64Index: 104408 entries, 0 to 37015876\n",
            "Data columns (total 4 columns):\n",
            " #   Column      Non-Null Count   Dtype  \n",
            "---  ------      --------------   -----  \n",
            " 0   subject_id  104408 non-null  object \n",
            " 1   hadm_id     104408 non-null  object \n",
            " 2   weight      104408 non-null  float64\n",
            " 3   age         104408 non-null  int64  \n",
            "dtypes: float64(1), int64(1), object(2)\n",
            "memory usage: 4.0+ MB\n"
          ]
        }
      ]
    },
    {
      "cell_type": "code",
      "source": [
        "extra_features.to_csv('/content/gdrive/MyDrive/mimiciv preprocessing_js/extra_features.csv',index=False)"
      ],
      "metadata": {
        "id": "tsqN0T-lANk6"
      },
      "execution_count": 21,
      "outputs": []
    }
  ]
}