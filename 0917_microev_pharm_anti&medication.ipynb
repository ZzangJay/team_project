{
  "nbformat": 4,
  "nbformat_minor": 0,
  "metadata": {
    "colab": {
      "provenance": [],
      "machine_shape": "hm",
      "mount_file_id": "https://github.com/KimJisanER/Sepsis_Antibiotics_Recomm/blob/main/0906_microev_pharm_EDA.ipynb",
      "authorship_tag": "ABX9TyMluCv2EUFjCMtkr9Y6eol9",
      "include_colab_link": true
    },
    "kernelspec": {
      "name": "python3",
      "display_name": "Python 3"
    },
    "language_info": {
      "name": "python"
    },
    "accelerator": "GPU",
    "gpuClass": "standard"
  },
  "cells": [
    {
      "cell_type": "markdown",
      "metadata": {
        "id": "view-in-github",
        "colab_type": "text"
      },
      "source": [
        "<a href=\"https://colab.research.google.com/github/ZzangJay/team_project/blob/kimjisan/0917_microev_pharm_anti%26medication.ipynb\" target=\"_parent\"><img src=\"https://colab.research.google.com/assets/colab-badge.svg\" alt=\"Open In Colab\"/></a>"
      ]
    },
    {
      "cell_type": "code",
      "source": [
        "import pandas as pd\n",
        "import numpy as np\n",
        "import matplotlib.pyplot as plt "
      ],
      "metadata": {
        "id": "WVSWoa5dOCip"
      },
      "execution_count": 1,
      "outputs": []
    },
    {
      "cell_type": "code",
      "source": [
        "microev=pd.read_csv('/content/drive/MyDrive/mimiciv_unzip/hosp/microbiologyevents.csv')\n",
        "pharm=pd.read_csv('/content/drive/MyDrive/mimiciv_unzip/hosp/pharmacy.csv')"
      ],
      "metadata": {
        "colab": {
          "base_uri": "https://localhost:8080/"
        },
        "id": "mFw6trwBOA0f",
        "outputId": "026f7f60-e7a5-4adb-a2cd-f4f85397490e"
      },
      "execution_count": 5,
      "outputs": [
        {
          "output_type": "stream",
          "name": "stderr",
          "text": [
            "/usr/local/lib/python3.7/dist-packages/IPython/core/interactiveshell.py:3326: DtypeWarning: Columns (16) have mixed types.Specify dtype option on import or set low_memory=False.\n",
            "  exec(code_obj, self.user_global_ns, self.user_ns)\n",
            "/usr/local/lib/python3.7/dist-packages/IPython/core/interactiveshell.py:3326: DtypeWarning: Columns (16,18,24,26) have mixed types.Specify dtype option on import or set low_memory=False.\n",
            "  exec(code_obj, self.user_global_ns, self.user_ns)\n"
          ]
        }
      ]
    },
    {
      "cell_type": "code",
      "source": [
        "pd.set_option('display.max_columns',None)"
      ],
      "metadata": {
        "id": "yablCZ-wFN6a"
      },
      "execution_count": 22,
      "outputs": []
    },
    {
      "cell_type": "code",
      "source": [
        "print(microev[['micro_specimen_id','org_name','comments','']].head())"
      ],
      "metadata": {
        "id": "CDPyna3HE9-W",
        "outputId": "ff437758-2711-48ae-a840-06e11b1e26c8",
        "colab": {
          "base_uri": "https://localhost:8080/"
        }
      },
      "execution_count": 23,
      "outputs": [
        {
          "output_type": "stream",
          "name": "stdout",
          "text": [
            "    microevent_id  subject_id  hadm_id  micro_specimen_id  \\\n",
            "19             20    10000032      NaN            5842819   \n",
            "20             21    10000032      NaN            5842819   \n",
            "21             22    10000032      NaN            5842819   \n",
            "22             23    10000032      NaN            5842819   \n",
            "40             41    10000108      NaN            3019793   \n",
            "\n",
            "              chartdate            charttime  spec_itemid spec_type_desc  \\\n",
            "19  2180-06-26 00:00:00  2180-06-26 18:30:00        70079          URINE   \n",
            "20  2180-06-26 00:00:00  2180-06-26 18:30:00        70079          URINE   \n",
            "21  2180-06-26 00:00:00  2180-06-26 18:30:00        70079          URINE   \n",
            "22  2180-06-26 00:00:00  2180-06-26 18:30:00        70079          URINE   \n",
            "40  2163-09-27 00:00:00  2163-09-27 22:27:00        70067           SWAB   \n",
            "\n",
            "    test_seq            storedate            storetime  test_itemid  \\\n",
            "19         1  2180-06-29 00:00:00  2180-06-29 14:32:00        90039   \n",
            "20         1  2180-06-29 00:00:00  2180-06-29 14:32:00        90039   \n",
            "21         1  2180-06-29 00:00:00  2180-06-29 14:32:00        90039   \n",
            "22         1  2180-06-29 00:00:00  2180-06-29 14:32:00        90039   \n",
            "40         2  2163-10-02 00:00:00  2163-10-02 14:42:00        90046   \n",
            "\n",
            "        test_name  org_itemid                              org_name  \\\n",
            "19  URINE CULTURE     80053.0                      ENTEROCOCCUS SP.   \n",
            "20  URINE CULTURE     80053.0                      ENTEROCOCCUS SP.   \n",
            "21  URINE CULTURE     80053.0                      ENTEROCOCCUS SP.   \n",
            "22  URINE CULTURE     80053.0                      ENTEROCOCCUS SP.   \n",
            "40  WOUND CULTURE     90383.0  ACTINOBACILLUS ACTINOMYCETEMCOMITANS   \n",
            "\n",
            "    isolate_num quantity  ab_itemid         ab_name dilution_text  \\\n",
            "19          1.0      NaN    90004.0      AMPICILLIN           <=2   \n",
            "20          1.0      NaN    90010.0  NITROFURANTOIN          <=16   \n",
            "21          1.0      NaN    90011.0    TETRACYCLINE          =>16   \n",
            "22          1.0      NaN    90015.0      VANCOMYCIN             1   \n",
            "40          1.0      NaN        NaN             NaN           NaN   \n",
            "\n",
            "   dilution_comparison  dilution_value interpretation  \\\n",
            "19          <=                     2.0              S   \n",
            "20          <=                    16.0              S   \n",
            "21          =>                    16.0              R   \n",
            "22          =                      1.0              S   \n",
            "40                 NaN             NaN            NaN   \n",
            "\n",
            "                                             comments  \n",
            "19  MIXED BACTERIAL FLORA ( >= 3 COLONY TYPES), CO...  \n",
            "20  MIXED BACTERIAL FLORA ( >= 3 COLONY TYPES), CO...  \n",
            "21  MIXED BACTERIAL FLORA ( >= 3 COLONY TYPES), CO...  \n",
            "22  MIXED BACTERIAL FLORA ( >= 3 COLONY TYPES), CO...  \n",
            "40                                                NaN  \n"
          ]
        }
      ]
    },
    {
      "cell_type": "code",
      "source": [
        "microev=microev[microev['org_name'].notnull()]\n",
        "microev_bld=microev[(microev['spec_type_desc']=='BLOOD CULTURE') & (microev['org_name']!='CANCELLED')]"
      ],
      "metadata": {
        "id": "cb7u74HlOBam"
      },
      "execution_count": 6,
      "outputs": []
    },
    {
      "cell_type": "code",
      "source": [
        "subject_id_bld=microev_bld['subject_id'].unique()\n",
        "len(subject_id_bld)"
      ],
      "metadata": {
        "colab": {
          "base_uri": "https://localhost:8080/"
        },
        "id": "vWLWECwSPykS",
        "outputId": "96e047d9-6d75-4500-f9ef-84b4f8e044a6"
      },
      "execution_count": 7,
      "outputs": [
        {
          "output_type": "execute_result",
          "data": {
            "text/plain": [
              "11556"
            ]
          },
          "metadata": {},
          "execution_count": 7
        }
      ]
    },
    {
      "cell_type": "markdown",
      "source": [
        "혈액배양을 수행한 환자의 pharmacy 기록 추출"
      ],
      "metadata": {
        "id": "85iiBG46Sb3j"
      }
    },
    {
      "cell_type": "code",
      "source": [
        "pharm_bld=pharm[pharm['subject_id'].isin(subject_id_bld)]\n",
        "len(pharm_bld['subject_id'].unique())"
      ],
      "metadata": {
        "colab": {
          "base_uri": "https://localhost:8080/"
        },
        "id": "aiIWts6fQTFd",
        "outputId": "097fe867-3dda-4e81-daf7-b7e0a72fb57b"
      },
      "execution_count": 8,
      "outputs": [
        {
          "output_type": "execute_result",
          "data": {
            "text/plain": [
              "11488"
            ]
          },
          "metadata": {},
          "execution_count": 8
        }
      ]
    },
    {
      "cell_type": "code",
      "source": [
        "pd.set_option('display.max_rows', 20)"
      ],
      "metadata": {
        "id": "rQDCaPnZTop5"
      },
      "execution_count": 9,
      "outputs": []
    },
    {
      "cell_type": "code",
      "source": [
        "pharm_bld=pd.DataFrame(pharm_bld)"
      ],
      "metadata": {
        "id": "1JMaT-xlbTFq"
      },
      "execution_count": 10,
      "outputs": []
    },
    {
      "cell_type": "code",
      "source": [
        "pharm_bld['medication']=pharm_bld['medication'].astype(str)\n",
        "pharm_bld['medication']=pharm_bld['medication'].map(str.upper)"
      ],
      "metadata": {
        "id": "yHfYouFqd0ao"
      },
      "execution_count": 11,
      "outputs": []
    },
    {
      "cell_type": "code",
      "source": [
        "pharm_bld['medication'].value_counts()"
      ],
      "metadata": {
        "colab": {
          "base_uri": "https://localhost:8080/"
        },
        "id": "fCbfUnA7SaHN",
        "outputId": "fc0ad695-eef4-42fc-848f-b51b503ebc2c"
      },
      "execution_count": 12,
      "outputs": [
        {
          "output_type": "execute_result",
          "data": {
            "text/plain": [
              "NAN                            248399\n",
              "INSULIN                        205460\n",
              "SODIUM CHLORIDE 0.9%  FLUSH    113227\n",
              "POTASSIUM CHLORIDE              97010\n",
              "FUROSEMIDE                      92392\n",
              "                                ...  \n",
              "ATOVAQUONE                          1\n",
              "RYTHMOL                             1\n",
              "VENLAF                              1\n",
              "NYST                                1\n",
              "BENAZEPRIL-HCTZ 20-25MG             1\n",
              "Name: medication, Length: 4068, dtype: int64"
            ]
          },
          "metadata": {},
          "execution_count": 12
        }
      ]
    },
    {
      "cell_type": "code",
      "source": [
        "len(pharm_bld['medication'])"
      ],
      "metadata": {
        "colab": {
          "base_uri": "https://localhost:8080/"
        },
        "id": "nK48h5CHSwt7",
        "outputId": "574aba6e-e9d9-47e6-81aa-c92d9c7bfbf1"
      },
      "execution_count": 13,
      "outputs": [
        {
          "output_type": "execute_result",
          "data": {
            "text/plain": [
              "3413252"
            ]
          },
          "metadata": {},
          "execution_count": 13
        }
      ]
    },
    {
      "cell_type": "code",
      "source": [
        "microev_bld['ab_name']=microev_bld['ab_name'].replace('TRIMETHOPRIM/SULFA','TRIMETHOPRIM')\n",
        "microev_bld['ab_name']=microev_bld['ab_name'].replace('PIPERACILLIN/TAZO','PIPERACILLIN')\n",
        "ab_list = microev_bld['ab_name'].unique()\n"
      ],
      "metadata": {
        "id": "RfsrFToySEnP",
        "outputId": "d29fe65f-3afb-42ab-8a35-2bf9bcdc9590",
        "colab": {
          "base_uri": "https://localhost:8080/"
        }
      },
      "execution_count": 14,
      "outputs": [
        {
          "output_type": "stream",
          "name": "stderr",
          "text": [
            "/usr/local/lib/python3.7/dist-packages/ipykernel_launcher.py:1: SettingWithCopyWarning: \n",
            "A value is trying to be set on a copy of a slice from a DataFrame.\n",
            "Try using .loc[row_indexer,col_indexer] = value instead\n",
            "\n",
            "See the caveats in the documentation: https://pandas.pydata.org/pandas-docs/stable/user_guide/indexing.html#returning-a-view-versus-a-copy\n",
            "  \"\"\"Entry point for launching an IPython kernel.\n",
            "/usr/local/lib/python3.7/dist-packages/ipykernel_launcher.py:2: SettingWithCopyWarning: \n",
            "A value is trying to be set on a copy of a slice from a DataFrame.\n",
            "Try using .loc[row_indexer,col_indexer] = value instead\n",
            "\n",
            "See the caveats in the documentation: https://pandas.pydata.org/pandas-docs/stable/user_guide/indexing.html#returning-a-view-versus-a-copy\n",
            "  \n"
          ]
        }
      ]
    },
    {
      "cell_type": "code",
      "source": [
        "print(ab_list) #'TRIMETHOPRIM/SULFA', 'PIPERACILLIN/TAZO'\n",
        "ab_list=ab_list.astype(str)"
      ],
      "metadata": {
        "colab": {
          "base_uri": "https://localhost:8080/"
        },
        "id": "EHOGNqExi7-1",
        "outputId": "3709b6b4-ea9c-423c-dbda-02459bb219fe"
      },
      "execution_count": 15,
      "outputs": [
        {
          "output_type": "stream",
          "name": "stdout",
          "text": [
            "['TRIMETHOPRIM' 'GENTAMICIN' 'TOBRAMYCIN' 'CEFTAZIDIME' 'CEFTRIAXONE'\n",
            " 'CIPROFLOXACIN' 'PIPERACILLIN' 'CEFEPIME' 'MEROPENEM' nan 'PENICILLIN G'\n",
            " 'AMPICILLIN' 'ERYTHROMYCIN' 'CLINDAMYCIN' 'VANCOMYCIN' 'CEFAZOLIN'\n",
            " 'AMPICILLIN/SULBACTAM' 'TETRACYCLINE' 'OXACILLIN' 'LEVOFLOXACIN'\n",
            " 'RIFAMPIN' 'DAPTOMYCIN' 'LINEZOLID' 'AMIKACIN' 'IMIPENEM' 'CEFUROXIME'\n",
            " 'NITROFURANTOIN']\n"
          ]
        }
      ]
    },
    {
      "cell_type": "markdown",
      "source": [
        "ab_list에 있는 문자열을 포함하는 문자열을 가진 행만 추출"
      ],
      "metadata": {
        "id": "CG-8ONawn0ru"
      }
    },
    {
      "cell_type": "code",
      "source": [
        "# join함수를 이용하여 이어주고 contains 함수에 넣기\n",
        "ab_list_patt = '|'.join(ab_list)\n",
        "pharm_bld_ab = pharm_bld[pharm_bld['medication'].str.contains(ab_list_patt)]"
      ],
      "metadata": {
        "id": "uq80XlNSm3bt"
      },
      "execution_count": 16,
      "outputs": []
    },
    {
      "cell_type": "code",
      "source": [
        "pharm_bld_ab['medication'].unique()"
      ],
      "metadata": {
        "colab": {
          "base_uri": "https://localhost:8080/"
        },
        "id": "iHFwqffcnYcx",
        "outputId": "68d9b8c3-20a4-4134-c4df-ef65a1292922"
      },
      "execution_count": 17,
      "outputs": [
        {
          "output_type": "execute_result",
          "data": {
            "text/plain": [
              "array(['NITROFURANTOIN MONOHYD (MACROBID)', 'CEFAZOLIN', 'AMPICILLIN',\n",
              "       'CEFTRIAXONE', 'SULFAMETH/TRIMETHOPRIM DS', 'CIPROFLOXACIN',\n",
              "       'CIPROFLOXACIN HCL', 'CEFTAZIDIME', 'VANCOMYCIN',\n",
              "       'PIPERACILLIN-TAZOBACTAM', 'VANCOMYCIN ORAL LIQUID', 'CEFEPIME',\n",
              "       'MEROPENEM', 'LEVOFLOXACIN', 'VANCOMYCIN ENEMA',\n",
              "       'AMPICILLIN-SULBACTAM', 'TOBRAMYCIN', 'LINEZOLID', 'DAPTOMYCIN',\n",
              "       'DAPTOMYCIN-HEPARIN LOCK', 'GENTAMICIN', 'RIFAMPIN', 'CLINDAMYCIN',\n",
              "       'AMIKACIN', 'CEFEPIME DESENSITIZATION',\n",
              "       'VANCOMYCIN DESENSITIZATION', 'SULFAMETH/TRIMETHOPRIM SS',\n",
              "       'ERYTHROMYCIN 0.5% OPHTH OINT', 'SULFAMETH/TRIMETHOPRIM',\n",
              "       'SULFAMETH/TRIMETHOPRIM SUSPENSION', 'DICLOXACILLIN',\n",
              "       'PIPERACILLIN-TAZOBACTAM NA', 'SULFAMETHOXAZOLE-TRIMETHOPRIM',\n",
              "       'PENICILLIN G POTASSIUM', 'TETRACYCLINE HCL', 'ERYTHROMYCIN',\n",
              "       'IMIPENEM-CILASTATIN', 'NITROFURANTOIN (MACRODANTIN)',\n",
              "       'ERYTHROMYCIN ETHYLSUCCINATE SUSPENSION',\n",
              "       'TOBRAMYCIN-DEXAMETHASONE OPHTH SUSP',\n",
              "       'TOBRAMYCIN-DEXAMETHASONE OPHTH OINT', 'GENTAMICIN 0.1% CREAM',\n",
              "       'VANCOMYCIN-HEPARIN LOCK (FOR HD/PHERESIS CATHETERS)',\n",
              "       'TOBRAMYCIN 0.3% OPHTH SOLN', 'VANCOMYCIN-HEPARIN LOCK',\n",
              "       'CLINDAMYCIN 1% SOLUTION', 'CIPROFLOXACIN 0.3% OPHTH SOLN',\n",
              "       'VANCOMYCIN (0.5 MG/ML)-HEPARIN (100 UNITS/ML) LOCK',\n",
              "       'CEFEPIME GRADED CHALLENGE', 'PIPERACILLIN-TAZO GRADED CHALLENGE',\n",
              "       'VANCOMYCIN IN SODIUM CITRATE 4%, ', 'VANCOMYCIN 1MG/0.1ML',\n",
              "       'PENICILLIN G BENZATHINE', 'CEFTAZIDIME GRADED CHALLENGE',\n",
              "       'CEFAZOLIN GRADED CHALLENGE',\n",
              "       'POLYMYXIN B -TRIMETHOPRIM OPHTH SOLN', 'TETRACYCLINE',\n",
              "       'AMPICILLIN GRADED CHALLENGE', 'CIPROFLOXACIN-DEXAMETHASONE',\n",
              "       'VANCOMYCIN ANTIBIOTIC LOCK', 'CEFTAZIDIME-HEPARIN LOCK',\n",
              "       'TOBRAMYCIN INHALATION SOLN',\n",
              "       'CEFAZOLIN-HEPARIN LOCK (FOR HD/PHERESIS CATHETER)',\n",
              "       'NITROFURANTOIN MACROCRYSTAL', 'MEROPENEM GRADED CHALLENGE',\n",
              "       'CEFTRIAXONE GRADED CHALLENGE',\n",
              "       'TOBRAMYCIN FORTIFIED OPHTH. SOLN.',\n",
              "       'GENTAMICIN 2.5 MG/ML IN SODIUM CITRATE 4%',\n",
              "       'AMPICILLIN-HEPARIN LOCK', 'TOBRAMYCIN 0.3% OPHTH OINTMENT',\n",
              "       'GENTAMICIN 0.3% OPHTH. OINTMENT', 'TOBRAMYCIN IN 0.225 % NACL',\n",
              "       'CLINDAMYCIN SOLUTION', 'TRIMETHOPRIM', 'SULFAMETH/TRIMETHOPRIM ',\n",
              "       'TOBRAMYCIN 2.5 MG/ML IN SODIUM CITRATE 4%',\n",
              "       'PIPERACILLIN-TAZOBACTAM-HEPARIN LOCK', 'TOBRAMYCIN-DEXAMETHASONE',\n",
              "       'CEFTAZIDIME-AVIBACTAM (AVYCAZ)', 'NITROFURANTOIN',\n",
              "       'CEFUROXIME AXETIL', 'OXACILLIN', 'AMPICILLIN DESENSITIZATION',\n",
              "       'CEFTRIAXONE DESENSITIZATION', 'CEFAZOLIN DUPLE 2G/50ML 50ML BAG',\n",
              "       'VANCOMYCIN 14MG/ML OPHTH SOLN', 'VANCOMYCIN ',\n",
              "       'VANCOMYCIN 25MG/ML OPHTH SOLN', 'VANCOMYCIN (BULK)',\n",
              "       'MEROPENEM DESENSITIZATION', 'LINEZOLID SUSPENSION',\n",
              "       'CEFAZOLIN DESENSITIZATION', 'LINEZOLID-HEPARIN LOCK',\n",
              "       'GENTAMICIN ANTIBIOTIC LOCK', 'AMPICILLIN ANTIBIOTIC LOCK',\n",
              "       'VANCOMYCIN CAPSULE', 'AMPICILLIN-SULBACT GRADED CHALLENGE',\n",
              "       'CEFTAZIDIME-AVIBACTAM', 'CEFTAZIDIME DESENSITIZATION',\n",
              "       'PENICILLIN G K GRADED CHALLENGE',\n",
              "       'CIPROFLOXACIN ORAL DESENSITIZATION', 'CIPROFLOXACIN ',\n",
              "       'PENICILLIN G K DESENSITIZATION', 'GENTAMICIN SULF. OPHTH. SOLN',\n",
              "       'CIPROFLOXACIN-HEPARIN LOCK', 'CEFTAZIDIME 2MG/0.1ML',\n",
              "       'AMPICILLIN SODIUM', 'GENTAMICIN 0.3% OPHTH. SOLN',\n",
              "       'LEVOFLOXACIN 100MG/4ML SOLUTION', 'VANCOMYCIN INTRAVENTRICULAR',\n",
              "       'VANCOMYCIN CAPS', 'VANCOMYCIN ORAL CAPSULE',\n",
              "       'TOBRAMYCIN WITH NEBULIZER', 'VANCOMYCIN INTRATHECAL',\n",
              "       'ERYTHROMYCIN OPTHALMIC', 'GENTAMICIN-HEPARIN LOCK',\n",
              "       'CLINDAMYCIN SUSPENSION', 'GENTAMICIN DESENSITIZATION',\n",
              "       'POLYMYXIN B SUL-TRIMETHOPRIM', 'DAPTOMYCIN DESENSITIZATION',\n",
              "       'AMIKACIN INHALATION', 'ERYTHROMYCIN ',\n",
              "       'VANCOMYCIN 25MG/ML EAR DROPS'], dtype=object)"
            ]
          },
          "metadata": {},
          "execution_count": 17
        }
      ]
    },
    {
      "cell_type": "code",
      "source": [
        "len(pharm_bld_ab['medication'].unique())"
      ],
      "metadata": {
        "colab": {
          "base_uri": "https://localhost:8080/"
        },
        "id": "zgi4vffNgDoQ",
        "outputId": "fe105364-d9bf-4da6-a270-2236abe005dc"
      },
      "execution_count": 18,
      "outputs": [
        {
          "output_type": "execute_result",
          "data": {
            "text/plain": [
              "123"
            ]
          },
          "metadata": {},
          "execution_count": 18
        }
      ]
    },
    {
      "cell_type": "code",
      "source": [
        "pharm_bld_ab['medication'].value_counts().head(20)"
      ],
      "metadata": {
        "colab": {
          "base_uri": "https://localhost:8080/"
        },
        "id": "Pj3Lxdkjo-rd",
        "outputId": "2cd85f53-88cf-4fd0-8c0d-b27729d80ae3"
      },
      "execution_count": 19,
      "outputs": [
        {
          "output_type": "execute_result",
          "data": {
            "text/plain": [
              "VANCOMYCIN                    70416\n",
              "CEFEPIME                      20410\n",
              "CEFTRIAXONE                   15133\n",
              "PIPERACILLIN-TAZOBACTAM       14759\n",
              "CIPROFLOXACIN HCL             11959\n",
              "MEROPENEM                     10912\n",
              "LEVOFLOXACIN                   8407\n",
              "CIPROFLOXACIN                  6777\n",
              "CEFAZOLIN                      6660\n",
              "VANCOMYCIN ORAL LIQUID         5501\n",
              "SULFAMETH/TRIMETHOPRIM SS      5105\n",
              "DAPTOMYCIN                     4543\n",
              "SULFAMETH/TRIMETHOPRIM DS      4164\n",
              "CEFTAZIDIME                    3721\n",
              "LINEZOLID                      3677\n",
              "AMPICILLIN-SULBACTAM           3279\n",
              "CLINDAMYCIN                    2299\n",
              "GENTAMICIN                     2021\n",
              "PIPERACILLIN-TAZOBACTAM NA     1972\n",
              "AMPICILLIN                     1589\n",
              "Name: medication, dtype: int64"
            ]
          },
          "metadata": {},
          "execution_count": 19
        }
      ]
    },
    {
      "cell_type": "code",
      "source": [
        "pharm_bld_ab.head(10)"
      ],
      "metadata": {
        "id": "6ijsICOQGZgK"
      },
      "execution_count": null,
      "outputs": []
    },
    {
      "cell_type": "markdown",
      "source": [
        "### micro event의 항생제감수성 결과와 실제로 처방된 medication과 비교해서 label을 만들 수 있을까해서 case를 뽑아 봤음."
      ],
      "metadata": {
        "id": "DZnU0YMcMfYW"
      }
    },
    {
      "cell_type": "code",
      "source": [
        "submi=microev_bld['subject_id'].unique()\n",
        "print(len(microev_bld['subject_id'].unique()))"
      ],
      "metadata": {
        "id": "9WpWifYHNeMp",
        "outputId": "343bcb50-d80d-4111-882f-a9f411b0e8d2",
        "colab": {
          "base_uri": "https://localhost:8080/"
        }
      },
      "execution_count": 58,
      "outputs": [
        {
          "output_type": "stream",
          "name": "stdout",
          "text": [
            "11556\n"
          ]
        }
      ]
    },
    {
      "cell_type": "markdown",
      "source": [
        "###microevent에서 blood culture를 받은 subject_id는 11556명이다"
      ],
      "metadata": {
        "id": "hWfdl4mKS8lC"
      }
    },
    {
      "cell_type": "code",
      "source": [
        "# blood culture 받은 랜덤 환자의 항생제 감수성과 처방된 항생제를 print\n",
        "def ant_medi():\n",
        "  x=np.random.randint(0,11555)\n",
        "  t=submi[x]\n",
        "  ph_ex=pharm_bld_ab[pharm_bld_ab['subject_id']==t]\n",
        "  mi_ex=microev_bld[microev_bld['subject_id']==t]\n",
        "  print(ph_ex[['subject_id','medication']])\n",
        "  print(mi_ex[['subject_id','org_name','ab_name','interpretation']])"
      ],
      "metadata": {
        "id": "RkEdgMI_SA7k"
      },
      "execution_count": 71,
      "outputs": []
    },
    {
      "cell_type": "code",
      "source": [
        "ant_medi()"
      ],
      "metadata": {
        "id": "8t11Ng6xSto9",
        "outputId": "06c8004e-af02-4799-df42-9a37147ea39a",
        "colab": {
          "base_uri": "https://localhost:8080/"
        }
      },
      "execution_count": 67,
      "outputs": [
        {
          "output_type": "stream",
          "name": "stdout",
          "text": [
            "         subject_id               medication\n",
            "3756978    12627028              CEFTRIAXONE\n",
            "3757015    12627028        CIPROFLOXACIN HCL\n",
            "3757017    12627028        CIPROFLOXACIN HCL\n",
            "3757026    12627028        CIPROFLOXACIN HCL\n",
            "3757101    12627028                CEFAZOLIN\n",
            "3757114    12627028  PIPERACILLIN-TAZOBACTAM\n",
            "3757115    12627028  PIPERACILLIN-TAZOBACTAM\n",
            "3757126    12627028        CIPROFLOXACIN HCL\n",
            "3757156    12627028        CIPROFLOXACIN HCL\n",
            "        subject_id            org_name               ab_name interpretation\n",
            "891858    12627028  KLEBSIELLA OXYTOCA             CEFAZOLIN              S\n",
            "891859    12627028  KLEBSIELLA OXYTOCA          TRIMETHOPRIM              S\n",
            "891860    12627028  KLEBSIELLA OXYTOCA            GENTAMICIN              S\n",
            "891861    12627028  KLEBSIELLA OXYTOCA            TOBRAMYCIN              S\n",
            "891862    12627028  KLEBSIELLA OXYTOCA           CEFTAZIDIME              S\n",
            "891863    12627028  KLEBSIELLA OXYTOCA           CEFTRIAXONE              S\n",
            "891864    12627028  KLEBSIELLA OXYTOCA         CIPROFLOXACIN              S\n",
            "891865    12627028  KLEBSIELLA OXYTOCA  AMPICILLIN/SULBACTAM              S\n",
            "891866    12627028  KLEBSIELLA OXYTOCA          PIPERACILLIN              S\n",
            "891867    12627028  KLEBSIELLA OXYTOCA              CEFEPIME              S\n",
            "891868    12627028  KLEBSIELLA OXYTOCA             MEROPENEM              S\n"
          ]
        }
      ]
    },
    {
      "cell_type": "code",
      "source": [
        "ant_medi()"
      ],
      "metadata": {
        "id": "fjTa9tC8VGKf",
        "outputId": "41501192-2f66-4a4a-c8bc-f675031ed401",
        "colab": {
          "base_uri": "https://localhost:8080/"
        }
      },
      "execution_count": 68,
      "outputs": [
        {
          "output_type": "stream",
          "name": "stdout",
          "text": [
            "        subject_id                 medication\n",
            "643189    10465217  SULFAMETH/TRIMETHOPRIM SS\n",
            "643199    10465217  SULFAMETH/TRIMETHOPRIM SS\n",
            "643241    10465217  SULFAMETH/TRIMETHOPRIM SS\n",
            "643257    10465217  SULFAMETH/TRIMETHOPRIM SS\n",
            "        subject_id                            org_name ab_name interpretation\n",
            "156614    10465217  STAPHYLOCOCCUS, COAGULASE NEGATIVE     NaN            NaN\n",
            "156615    10465217  STAPHYLOCOCCUS, COAGULASE NEGATIVE     NaN            NaN\n"
          ]
        }
      ]
    },
    {
      "cell_type": "code",
      "source": [
        "ant_medi()"
      ],
      "metadata": {
        "id": "-ug6YPIVVcPO",
        "outputId": "25d67956-2588-4620-f131-798c1a52ad18",
        "colab": {
          "base_uri": "https://localhost:8080/"
        }
      },
      "execution_count": 69,
      "outputs": [
        {
          "output_type": "stream",
          "name": "stdout",
          "text": [
            "         subject_id                  medication\n",
            "9827068    16879557                  VANCOMYCIN\n",
            "9827088    16879557                   MEROPENEM\n",
            "9827104    16879557                   MEROPENEM\n",
            "9827118    16879557                  VANCOMYCIN\n",
            "9827130    16879557                  VANCOMYCIN\n",
            "9827141    16879557                   MEROPENEM\n",
            "9827142    16879557                  VANCOMYCIN\n",
            "9827150    16879557               CIPROFLOXACIN\n",
            "9827164    16879557  PIPERACILLIN-TAZOBACTAM NA\n",
            "9827203    16879557                LEVOFLOXACIN\n",
            "9827214    16879557                   CEFAZOLIN\n",
            "         subject_id          org_name ab_name interpretation\n",
            "2332228    16879557  CANDIDA ALBICANS     NaN            NaN\n"
          ]
        }
      ]
    },
    {
      "cell_type": "code",
      "source": [
        "ant_medi()"
      ],
      "metadata": {
        "id": "te6kIe-kR8WO",
        "outputId": "b5af69da-f2c7-4e6f-ef2f-bf82a610bb31",
        "colab": {
          "base_uri": "https://localhost:8080/"
        }
      },
      "execution_count": 70,
      "outputs": [
        {
          "output_type": "stream",
          "name": "stdout",
          "text": [
            "          subject_id         medication\n",
            "10165166    17111670  CIPROFLOXACIN HCL\n",
            "10165169    17111670      CIPROFLOXACIN\n",
            "10165195    17111670         VANCOMYCIN\n",
            "10165220    17111670         GENTAMICIN\n",
            "10165223    17111670         VANCOMYCIN\n",
            "...              ...                ...\n",
            "10165448    17111670  CIPROFLOXACIN HCL\n",
            "10165450    17111670  CIPROFLOXACIN HCL\n",
            "10165463    17111670         VANCOMYCIN\n",
            "10165470    17111670  CIPROFLOXACIN HCL\n",
            "10165471    17111670           CEFEPIME\n",
            "\n",
            "[22 rows x 2 columns]\n",
            "         subject_id                      org_name               ab_name  \\\n",
            "2413590    17111670         KLEBSIELLA PNEUMONIAE             CEFAZOLIN   \n",
            "2413591    17111670         KLEBSIELLA PNEUMONIAE          TRIMETHOPRIM   \n",
            "2413592    17111670         KLEBSIELLA PNEUMONIAE            GENTAMICIN   \n",
            "2413593    17111670         KLEBSIELLA PNEUMONIAE            TOBRAMYCIN   \n",
            "2413594    17111670         KLEBSIELLA PNEUMONIAE              AMIKACIN   \n",
            "2413595    17111670         KLEBSIELLA PNEUMONIAE           CEFTAZIDIME   \n",
            "2413596    17111670         KLEBSIELLA PNEUMONIAE           CEFTRIAXONE   \n",
            "2413597    17111670         KLEBSIELLA PNEUMONIAE         CIPROFLOXACIN   \n",
            "2413598    17111670         KLEBSIELLA PNEUMONIAE  AMPICILLIN/SULBACTAM   \n",
            "2413599    17111670         KLEBSIELLA PNEUMONIAE          PIPERACILLIN   \n",
            "2413600    17111670         KLEBSIELLA PNEUMONIAE              CEFEPIME   \n",
            "2413601    17111670         KLEBSIELLA PNEUMONIAE             MEROPENEM   \n",
            "2413602    17111670  STENOTROPHOMONAS MALTOPHILIA          TRIMETHOPRIM   \n",
            "2413603    17111670  STENOTROPHOMONAS MALTOPHILIA          LEVOFLOXACIN   \n",
            "2413606    17111670         KLEBSIELLA PNEUMONIAE                   NaN   \n",
            "\n",
            "        interpretation  \n",
            "2413590              R  \n",
            "2413591              S  \n",
            "2413592              R  \n",
            "2413593              R  \n",
            "2413594              R  \n",
            "2413595              R  \n",
            "2413596              R  \n",
            "2413597              R  \n",
            "2413598              R  \n",
            "2413599              R  \n",
            "2413600              R  \n",
            "2413601              S  \n",
            "2413602              S  \n",
            "2413603              S  \n",
            "2413606            NaN  \n"
          ]
        }
      ]
    },
    {
      "cell_type": "code",
      "source": [
        "ant_medi()"
      ],
      "metadata": {
        "id": "nLeZUSGpR0tq",
        "outputId": "e2ad36bf-f807-4b6d-a509-ffc47d7d8f32",
        "colab": {
          "base_uri": "https://localhost:8080/"
        }
      },
      "execution_count": 77,
      "outputs": [
        {
          "output_type": "stream",
          "name": "stdout",
          "text": [
            "         subject_id   medication\n",
            "9146516    16389432     CEFEPIME\n",
            "9146518    16389432   VANCOMYCIN\n",
            "9146520    16389432  CEFTAZIDIME\n",
            "9146525    16389432   VANCOMYCIN\n",
            "9146528    16389432  CEFTAZIDIME\n",
            "9146565    16389432   VANCOMYCIN\n",
            "9146571    16389432   VANCOMYCIN\n",
            "9146621    16389432  CEFTAZIDIME\n",
            "         subject_id                            org_name ab_name interpretation\n",
            "2173774    16389432  STAPHYLOCOCCUS, COAGULASE NEGATIVE     NaN            NaN\n"
          ]
        }
      ]
    },
    {
      "cell_type": "code",
      "source": [
        "ant_medi()"
      ],
      "metadata": {
        "id": "FyTAvRL7V6PB",
        "outputId": "d86b1424-bd1d-45be-a80a-305364c410c2",
        "colab": {
          "base_uri": "https://localhost:8080/"
        }
      },
      "execution_count": 80,
      "outputs": [
        {
          "output_type": "stream",
          "name": "stdout",
          "text": [
            "         subject_id    medication\n",
            "9077005    16336326  LEVOFLOXACIN\n",
            "9077094    16336326      CEFEPIME\n",
            "9077100    16336326    VANCOMYCIN\n",
            "9077107    16336326    VANCOMYCIN\n",
            "9077112    16336326    VANCOMYCIN\n",
            "9077115    16336326      CEFEPIME\n",
            "9077125    16336326    VANCOMYCIN\n",
            "9077129    16336326    VANCOMYCIN\n",
            "         subject_id             org_name       ab_name interpretation\n",
            "2157511    16336326  STAPH AUREUS COAG +  ERYTHROMYCIN              R\n",
            "2157512    16336326  STAPH AUREUS COAG +   CLINDAMYCIN              R\n",
            "2157513    16336326  STAPH AUREUS COAG +  TRIMETHOPRIM              S\n",
            "2157514    16336326  STAPH AUREUS COAG +    GENTAMICIN              S\n",
            "2157515    16336326  STAPH AUREUS COAG +    VANCOMYCIN              S\n",
            "2157516    16336326  STAPH AUREUS COAG +     OXACILLIN              R\n",
            "2157517    16336326  STAPH AUREUS COAG +  LEVOFLOXACIN              R\n",
            "2157518    16336326  STAPH AUREUS COAG +      RIFAMPIN              S\n",
            "2157519    16336326  STAPH AUREUS COAG +           NaN            NaN\n"
          ]
        }
      ]
    },
    {
      "cell_type": "code",
      "source": [
        "ant_medi()"
      ],
      "metadata": {
        "id": "LFpPGWogW4Kb",
        "outputId": "cc32fa1e-e893-40ed-dbd1-cb8ccaf429d2",
        "colab": {
          "base_uri": "https://localhost:8080/"
        }
      },
      "execution_count": 81,
      "outputs": [
        {
          "output_type": "stream",
          "name": "stdout",
          "text": [
            "        subject_id                 medication\n",
            "710991    10514578                CEFTRIAXONE\n",
            "710995    10514578                  CEFAZOLIN\n",
            "711005    10514578          CIPROFLOXACIN HCL\n",
            "711020    10514578                 VANCOMYCIN\n",
            "711049    10514578                 VANCOMYCIN\n",
            "711114    10514578  SULFAMETH/TRIMETHOPRIM DS\n",
            "        subject_id                            org_name       ab_name  \\\n",
            "171235    10514578          STAPHYLOCOCCUS EPIDERMIDIS  ERYTHROMYCIN   \n",
            "171236    10514578          STAPHYLOCOCCUS EPIDERMIDIS   CLINDAMYCIN   \n",
            "171237    10514578          STAPHYLOCOCCUS EPIDERMIDIS    GENTAMICIN   \n",
            "171238    10514578          STAPHYLOCOCCUS EPIDERMIDIS    VANCOMYCIN   \n",
            "171239    10514578          STAPHYLOCOCCUS EPIDERMIDIS     OXACILLIN   \n",
            "171240    10514578          STAPHYLOCOCCUS EPIDERMIDIS  LEVOFLOXACIN   \n",
            "171243    10514578          STAPHYLOCOCCUS EPIDERMIDIS  ERYTHROMYCIN   \n",
            "171244    10514578          STAPHYLOCOCCUS EPIDERMIDIS   CLINDAMYCIN   \n",
            "171245    10514578          STAPHYLOCOCCUS EPIDERMIDIS    GENTAMICIN   \n",
            "171246    10514578          STAPHYLOCOCCUS EPIDERMIDIS    VANCOMYCIN   \n",
            "171247    10514578          STAPHYLOCOCCUS EPIDERMIDIS     OXACILLIN   \n",
            "171248    10514578          STAPHYLOCOCCUS EPIDERMIDIS  LEVOFLOXACIN   \n",
            "171249    10514578  STAPHYLOCOCCUS, COAGULASE NEGATIVE  ERYTHROMYCIN   \n",
            "171250    10514578  STAPHYLOCOCCUS, COAGULASE NEGATIVE   CLINDAMYCIN   \n",
            "171251    10514578  STAPHYLOCOCCUS, COAGULASE NEGATIVE    GENTAMICIN   \n",
            "171252    10514578  STAPHYLOCOCCUS, COAGULASE NEGATIVE    VANCOMYCIN   \n",
            "171253    10514578  STAPHYLOCOCCUS, COAGULASE NEGATIVE     OXACILLIN   \n",
            "171254    10514578  STAPHYLOCOCCUS, COAGULASE NEGATIVE  LEVOFLOXACIN   \n",
            "171255    10514578  STAPHYLOCOCCUS, COAGULASE NEGATIVE      RIFAMPIN   \n",
            "\n",
            "       interpretation  \n",
            "171235              S  \n",
            "171236              S  \n",
            "171237              S  \n",
            "171238              S  \n",
            "171239              S  \n",
            "171240              S  \n",
            "171243              S  \n",
            "171244              S  \n",
            "171245              S  \n",
            "171246              S  \n",
            "171247              S  \n",
            "171248              S  \n",
            "171249              R  \n",
            "171250              R  \n",
            "171251              S  \n",
            "171252              S  \n",
            "171253              R  \n",
            "171254              S  \n",
            "171255              S  \n"
          ]
        }
      ]
    },
    {
      "cell_type": "markdown",
      "source": [
        "###medication과 항생제감수성 결과로는 새로운 feature나 label을 확보하기 어려워 보임\n",
        "\n",
        "- 처방 medication과 감수성검사 약제가 차이가 있는 점\n",
        "- 감수성검사가 R이 나오더라도 그 항생제에 관해서 잘못되었다 라벨링 하는게 맞는가 > 일반화가 힘들 것 같음\n",
        "\n",
        ">>차라리 org_name으로 무언가 시도해보는게 나은가 싶었음.\n",
        "(vital, lab data, 1차 감염부위 등으로 병원균 예측)\n",
        "병원균 예측 후  guidline에 따라 antibiotic 추천"
      ],
      "metadata": {
        "id": "sAJ1whoGYc4-"
      }
    }
  ]
}