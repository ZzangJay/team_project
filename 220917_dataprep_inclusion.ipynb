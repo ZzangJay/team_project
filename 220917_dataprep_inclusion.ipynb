{
  "nbformat": 4,
  "nbformat_minor": 0,
  "metadata": {
    "colab": {
      "provenance": [],
      "collapsed_sections": [],
      "authorship_tag": "ABX9TyMwuwJiPr8KKLwpeCklLEjF",
      "include_colab_link": true
    },
    "kernelspec": {
      "name": "python3",
      "display_name": "Python 3"
    },
    "language_info": {
      "name": "python"
    }
  },
  "cells": [
    {
      "cell_type": "markdown",
      "metadata": {
        "id": "view-in-github",
        "colab_type": "text"
      },
      "source": [
        "<a href=\"https://colab.research.google.com/github/ZzangJay/team_project/blob/YoungahChoi/220917_dataprep_inclusion.ipynb\" target=\"_parent\"><img src=\"https://colab.research.google.com/assets/colab-badge.svg\" alt=\"Open In Colab\"/></a>"
      ]
    },
    {
      "cell_type": "markdown",
      "source": [
        "### 환경설정"
      ],
      "metadata": {
        "id": "3AWJIzfEk-H7"
      }
    },
    {
      "cell_type": "code",
      "execution_count": 2,
      "metadata": {
        "id": "RIm_C-SskdZG"
      },
      "outputs": [],
      "source": [
        "import pandas as pd\n",
        "import numpy as np\n",
        "#import tensorflow as tf \n",
        "import os\n",
        "import sys\n",
        "import sqlite3"
      ]
    },
    {
      "cell_type": "code",
      "source": [
        "from google.colab import drive  # for colab\n",
        "drive.mount('/content/gdrive/')  # for colab"
      ],
      "metadata": {
        "colab": {
          "base_uri": "https://localhost:8080/"
        },
        "id": "R0qjK9POkm8k",
        "outputId": "7d5a6996-495d-40d6-81a6-5543afbff00b"
      },
      "execution_count": 4,
      "outputs": [
        {
          "output_type": "stream",
          "name": "stdout",
          "text": [
            "Drive already mounted at /content/gdrive/; to attempt to forcibly remount, call drive.mount(\"/content/gdrive/\", force_remount=True).\n"
          ]
        }
      ]
    },
    {
      "cell_type": "code",
      "source": [
        "cloud_directory = '/content/gdrive/My Drive/mimiciv_unzip/'\n",
        "os.listdir(cloud_directory) # for colab, check cloud directory mount"
      ],
      "metadata": {
        "colab": {
          "base_uri": "https://localhost:8080/"
        },
        "id": "3hXAhEhyk1BD",
        "outputId": "c602cd2d-0314-401e-9f3a-7570f1c03a12"
      },
      "execution_count": 6,
      "outputs": [
        {
          "output_type": "execute_result",
          "data": {
            "text/plain": [
              "['CHANGELOG.txt', 'LICENSE.txt', 'SHA256SUMS.txt', 'index.html', 'icu', 'hosp']"
            ]
          },
          "metadata": {},
          "execution_count": 6
        }
      ]
    },
    {
      "cell_type": "code",
      "source": [
        "# labevents = pd.read_csv('/content/gdrive/MyDrive/mimiciv_unzip/hosp/labevents.csv')\n",
        "# patients = pd.read_csv('/content/gdrive/MyDrive/mimiciv_unzip/hosp/patients.csv')\n",
        "# d_labitems = pd.read_csv('/content/gdrive/MyDrive/mimiciv_unzip/hosp/d_labitems.csv')\n",
        "# diagnosis = pd.read_csv('/content/gdrive/MyDrive/mimiciv_unzip/hosp/diagnosis.csv')\n"
      ],
      "metadata": {
        "id": "Of6uqNtuk5yc"
      },
      "execution_count": 8,
      "outputs": []
    },
    {
      "cell_type": "markdown",
      "source": [
        "### 데이터 업로드 (SQL)"
      ],
      "metadata": {
        "id": "8gkDImsBlRlb"
      }
    },
    {
      "cell_type": "markdown",
      "source": [
        "## **sql 함수**"
      ],
      "metadata": {
        "id": "X8Nzs9Djlf2T"
      }
    },
    {
      "cell_type": "code",
      "source": [],
      "metadata": {
        "id": "CINKvYPllVwb"
      },
      "execution_count": null,
      "outputs": []
    }
  ]
}