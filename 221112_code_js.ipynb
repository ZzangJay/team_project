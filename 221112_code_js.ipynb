{
  "cells": [
    {
      "cell_type": "markdown",
      "metadata": {
        "id": "view-in-github",
        "colab_type": "text"
      },
      "source": [
        "<a href=\"https://colab.research.google.com/github/ZzangJay/team_project/blob/kimjisan/20221112_code_js.ipynb\" target=\"_parent\"><img src=\"https://colab.research.google.com/assets/colab-badge.svg\" alt=\"Open In Colab\"/></a>"
      ]
    },
    {
      "cell_type": "code",
      "execution_count": 1,
      "metadata": {
        "id": "xCBwZEG88iTZ",
        "colab": {
          "base_uri": "https://localhost:8080/"
        },
        "outputId": "2811072b-79b5-4b61-fbd6-d074a4507068"
      },
      "outputs": [
        {
          "output_type": "stream",
          "name": "stderr",
          "text": [
            "/usr/local/lib/python3.7/dist-packages/ipykernel_launcher.py:7: TqdmExperimentalWarning: Using `tqdm.autonotebook.tqdm` in notebook mode. Use `tqdm.tqdm` instead to force console mode (e.g. in jupyter console)\n",
            "  import sys\n"
          ]
        }
      ],
      "source": [
        "import pandas as pd\n",
        "import numpy as np\n",
        "#import tensorflow as tf \n",
        "import os\n",
        "import sys\n",
        "from datetime import datetime, timedelta\n",
        "from tqdm.autonotebook import tqdm\n",
        "import csv\n",
        "import re\n",
        "import gzip\n",
        "import shutil"
      ]
    },
    {
      "cell_type": "code",
      "execution_count": 2,
      "metadata": {
        "colab": {
          "base_uri": "https://localhost:8080/"
        },
        "id": "dKfa-fAw8qIn",
        "outputId": "b8a81f4a-b6f1-4cab-cc7f-d26b2ca7ffbf"
      },
      "outputs": [
        {
          "output_type": "stream",
          "name": "stdout",
          "text": [
            "Mounted at /content/gdrive/\n"
          ]
        },
        {
          "output_type": "execute_result",
          "data": {
            "text/plain": [
              "['CHANGELOG.txt',\n",
              " 'LICENSE.txt',\n",
              " 'SHA256SUMS.txt',\n",
              " 'index.html',\n",
              " 'icu',\n",
              " 'hosp',\n",
              " 'drop_2_chartevents.csv']"
            ]
          },
          "metadata": {},
          "execution_count": 2
        }
      ],
      "source": [
        "from google.colab import drive  # for colab\n",
        "drive.mount('/content/gdrive/')  # for colab\n",
        "cloud_directory = '/content/gdrive/MyDrive/mimiciv_unzip/'\n",
        "os.listdir(cloud_directory) # for colab, check cloud directory mount"
      ]
    },
    {
      "cell_type": "code",
      "execution_count": 3,
      "metadata": {
        "id": "gicdKWPb8xfP"
      },
      "outputs": [],
      "source": [
        "admission = pd.read_csv('/content/gdrive/MyDrive/mimiciv_unzip/hosp/admissions.csv', low_memory=False, dtype='str', keep_default_na=False)\n",
        "patients = pd.read_csv('/content/gdrive/MyDrive/mimiciv_unzip/hosp/patients.csv', low_memory=False, dtype='str', keep_default_na=False)\n",
        "diagnoses_icd = pd.read_csv('/content/gdrive/MyDrive/mimiciv_unzip/hosp/diagnoses_icd.csv', low_memory=False, dtype='str', keep_default_na=False)\n",
        "icustays = pd.read_csv('/content/gdrive/MyDrive/mimiciv_unzip/icu/icustays.csv', low_memory=False, dtype='str', keep_default_na=False)\n",
        "sepsis = pd.read_csv('/content/gdrive/MyDrive/mimiciv_der/sepsis3.csv', low_memory=False, dtype='str', keep_default_na=False)"
      ]
    },
    {
      "cell_type": "code",
      "execution_count": 63,
      "metadata": {
        "id": "AeGGWQyKAMET"
      },
      "outputs": [],
      "source": [
        "extra_features = pd.read_csv('/content/gdrive/MyDrive/mimiciv preprocessing_js/extra_features_1112_2.csv', low_memory=False, keep_default_na=False)"
      ]
    },
    {
      "cell_type": "code",
      "execution_count": 5,
      "metadata": {
        "id": "M4GF5YNSEXLE"
      },
      "outputs": [],
      "source": [
        "admission = pd.merge(left = admission, right = sepsis[['subject_id','sepsis3']], how='inner', left_on='subject_id', right_on='subject_id')\n",
        "patients = pd.merge(left = patients, right = sepsis[['subject_id','sepsis3']], how='inner', left_on='subject_id', right_on='subject_id')\n",
        "diagnoses_icd = pd.merge(left = diagnoses_icd, right = sepsis[['subject_id','sepsis3']], how='inner', left_on='subject_id', right_on='subject_id')\n",
        "sepsis = pd.merge(left = sepsis, right = icustays[['hadm_id','stay_id']], how='left', left_on='stay_id', right_on='stay_id')\n",
        "\n",
        "#####1108\n",
        "sepsis2 = pd.merge(left = sepsis, right = extra_features['hadm_id'].astype(str), how='inner', left_on='hadm_id', right_on='hadm_id')"
      ]
    },
    {
      "cell_type": "code",
      "execution_count": 6,
      "metadata": {
        "id": "ga1QlWtYrpgE"
      },
      "outputs": [],
      "source": [
        "Total_HADMIDS = set(sepsis2['hadm_id'])"
      ]
    },
    {
      "cell_type": "code",
      "execution_count": 7,
      "metadata": {
        "id": "xD5AA-mHrl4B"
      },
      "outputs": [],
      "source": [
        "# feature_keys = ['FiO2', 'HR', 'PaO2', 'SBP', 'Temperature','Creatinine','Glucose', 'Hb', 'Lactate', 'Plt','Sodium' ,'WBC']\n",
        "feature_keys = ['FiO2', 'HR', 'PaO2', 'SBP', 'Temperature','Creatinine','Glucose', 'Hb', 'Lactate', 'Plt','Sodium' ,'WBC', 'DBP', 'MAP', 'RESP', 'Chloride', 'Hct', 'PCO2', 'Potassium', 'PH', 'Anion Gap', 'Bilirubin']"
      ]
    },
    {
      "cell_type": "code",
      "source": [
        "len(feature_keys)"
      ],
      "metadata": {
        "colab": {
          "base_uri": "https://localhost:8080/"
        },
        "id": "xKYj7k_uVgPO",
        "outputId": "b15eedb9-f8b1-419c-c292-44733d6f378e"
      },
      "execution_count": 51,
      "outputs": [
        {
          "output_type": "execute_result",
          "data": {
            "text/plain": [
              "22"
            ]
          },
          "metadata": {},
          "execution_count": 51
        }
      ]
    },
    {
      "cell_type": "code",
      "source": [
        "EXTRACT_FEATURE_CODES_VS = dict({\n",
        "    '226754': 'FiO2', '223835': 'FiO2', '227010': 'FiO2', '229280': 'FiO2', '229841': 'FiO2',\n",
        "    '220045': 'HR', '220046': 'HR', '226764': 'HR', '227018': 'HR',\n",
        "    '220224': 'PaO2', '227039': 'PaO2', '227516': 'PaO2',\n",
        "    '220050': 'SBP' ,'220179': 'SBP', '224167': 'SBP', '227243': 'SBP', '228152': 'SBP',\n",
        "    '223762': 'Temperature', '226329': 'Temperature', '227632': 'Temperature', '227634': 'Temperature',\n",
        "    '50825': 'Temperature',\n",
        "    ####### 새로운 features ##########\n",
        "   '223761': 'TEMP_F',\n",
        "   '225310': 'DBP', '220051': 'DBP', '220180': 'DBP',\n",
        "   '225312': 'MAP', '220052': 'MAP', '220181': 'MAP',\n",
        "   '220210': 'RESP', '224690': 'RESP'\n",
        "    })\n",
        "EXTRACT_FEATURE_CODES_LAB = dict({\n",
        "    '220615': 'Creatinine', '229761': 'Creatinine',\n",
        "    '52024': 'Creatinine', '50912': 'Creatinine', '52546': 'Creatinine', '51977': 'Creatinine',  '51081': 'Creatinine',\n",
        "    '220621': 'Glucose', '225664': 'Glucose', '226537': 'Glucose',\n",
        "    '50809': 'Glucose', '52027': 'Glucose', '50931': 'Glucose', '52569': 'Glucose', '51981': 'Glucose', '51478': 'Glucose',\n",
        "    '220228': 'Hb',\n",
        "    '50811': 'Hb', '50855': 'Hb', '51640': 'Hb', '51645': 'Hb', '51222': 'Hb', '52157': 'Hb',\n",
        "    '225668': 'Lactate',\n",
        "    '50813': 'Lactate', '52442': 'Lactate',\n",
        "    '227457': 'Plt',\n",
        "    '51704': 'Plt', '51265': 'Plt',\n",
        "    '220645': 'Sodium', '226534': 'Sodium',\n",
        "    '50824': 'Sodium', '52455': 'Sodium', '50983': 'Sodium', '52623': 'Sodium',\n",
        "    '220546': 'WBC',\n",
        "    '51755': 'WBC', '51756': 'WBC', '51301': 'WBC',\n",
        "    ######### 새로운 features ############\n",
        "    '50902': 'Chloride', '50806': 'Chloride',\n",
        "    '50810': 'Hct', '51221': 'Hct',\n",
        "    '50810': 'PCO2',\n",
        "    '50822': 'Potassium', '50971': 'Potassium', '845825': 'Potassium',\n",
        "    '50820': 'PH',\n",
        "    '50868': 'Anion Gap', '769895': 'Anion Gap', '52456': 'Anion Gap', \n",
        "    '50885': 'Bilirubin'})\n",
        "\n",
        "EXTRACT_FEATURE_CODES_NORMAL = dict({ #outlier 범위 - medical knowledge에 기반하여 계산\n",
        "        'FiO2': [10, 100],\n",
        "        'HR': [30, 200],\n",
        "        'PaO2': [50, 200],\n",
        "        'SBP': [40, 250],\n",
        "        'Temperature': [30, 45],\n",
        "        'Creatinine': [0.2, 100],\n",
        "        'Glucose': [30, 1000],\n",
        "        'Hb': [5, 20],\n",
        "        'Lactate': [0.5, 2.5],\n",
        "        'Plt': [10, 500],\n",
        "        'Sodium': [90, 170],\n",
        "        'WBC': [1, 30],\n",
        "        'DBP':[30, 200],\n",
        "        'MAP':[33, 216],\n",
        "        'RESP':[0, 35],\n",
        "        'Chloride':[70, 130],\n",
        "        'Hct':[10, 50], \n",
        "        'PCO2':[5, 100],\n",
        "        'Potassium':[1.0, 10.0],\n",
        "        'PH':[5.5, 8.0],\n",
        "        'Anion Gap':[5, 50],\n",
        "        'Bilirubin':[0.1, 10]\n",
        "})\n",
        "NORMAL_VALUE = dict({ #missing value 대체값\n",
        "        'FiO2': 40,\n",
        "        'HR': 75, #(50+100)/2\n",
        "        'PaO2': 87.5, #(75+100)/2\n",
        "        'SBP': 115, #(90+140)/2 = 115\n",
        "        'Temperature': 36.65, #(36.1+37.2)/2\n",
        "        'Creatinine': 1.0, #(0.7+1.0)/2\n",
        "        'Glucose': 100, #(60+140)/2\n",
        "        'Hb': 15.0, #(13.8+17.2)/2\n",
        "        'Lactate': 1.35, #(0.5+2.2)/2 = 1.35\n",
        "        'Plt': 270, #(140+400)/2\n",
        "        'Sodium': 140, #(135+145)/2\n",
        "        'WBC': 7.5, #(5+10)/2\n",
        "        'DBP': 90, #(80+100)/2 \n",
        "        'MAP': 98, # (115 + 2*90) / \n",
        "        'RESP': 13, \n",
        "        'Chloride': 102, #(96+108) / 2\n",
        "        'Hct': 34.5, #(34+45)/2\n",
        "        'PCO2': 40, #(35+45)/2\n",
        "        'Potassium': 4.5, #(3.5+5.4)/2\n",
        "        'PH': 7.4, #(7.35 + 7.45) / 2\n",
        "        'Anion Gap': 14, #8+20/2\n",
        "        'Bilirubin': 0.8 #0+1.5/2\n",
        "})"
      ],
      "metadata": {
        "id": "h8XQ3qBTO2m3"
      },
      "execution_count": 8,
      "outputs": []
    },
    {
      "cell_type": "code",
      "execution_count": 9,
      "metadata": {
        "id": "ZwMLOPrMI-6d"
      },
      "outputs": [],
      "source": [
        "## Define some util functions\n",
        "NOT_CONVERTED = 'NOT_CONVERTED'\n",
        "## 문자로 기록된 날짜 값들을 파이썬의 datetime 데이터로 바꿔주는 함수 작성\n",
        "def str2datetime(s):\n",
        "    def _convert(_s, _dformat):\n",
        "        try:\n",
        "            converted_dt = datetime.strptime(_s, _dformat)\n",
        "        except Exception:\n",
        "            return NOT_CONVERTED\n",
        "\n",
        "        return converted_dt\n",
        "\n",
        "    if isinstance(s, datetime):\n",
        "        return s\n",
        "\n",
        "    dformats = [\n",
        "        '%Y-%m-%d %p %I:%M:%S',\n",
        "        '%Y-%m-%d %H:%M:%S.%f',\n",
        "        '%Y-%m-%d %H:%M:%S',\n",
        "        '%Y-%m-%d %H:%M',\n",
        "        '%y-%m-%d %H:%M',\n",
        "        '%Y-%m-%d',\n",
        "        '%Y%m%d',\n",
        "        '%Y-%m-%d +%H:%M',\n",
        "        '%Y%m%d %H%M',\n",
        "        '%Y%m%d%H%M%S',\n",
        "        ]\n",
        "\n",
        "    s = s.split('.')[0]\n",
        "    s = s.replace('오전', 'am').replace('오후', 'pm')\n",
        "    for dformat in dformats:\n",
        "        dt = _convert(s, dformat)\n",
        "        if dt != NOT_CONVERTED:\n",
        "            return dt\n",
        "\n",
        "    return NOT_CONVERTED"
      ]
    },
    {
      "cell_type": "code",
      "execution_count": 10,
      "metadata": {
        "id": "l4eGWeCbGRQR"
      },
      "outputs": [],
      "source": [
        "def extract_features():\n",
        "  features_hadm_id = dict()\n",
        "  chartevents = csv.DictReader(open('/content/gdrive/MyDrive/mimiciv_unzip/icu/chartevents.csv', 'r', encoding='utf-8'))\n",
        "  labevents = csv.DictReader(open('/content/gdrive/MyDrive/mimiciv_unzip/hosp/labevents.csv', 'r', encoding='utf-8'))\n",
        "  for row in tqdm(chartevents, desc='Extract_VS', total=329822285, ncols=700):\n",
        "    if row['hadm_id'] in Total_HADMIDS:\n",
        "      hadm_id = row['hadm_id']\n",
        "      features_hadm_id[hadm_id] = features_hadm_id.get(hadm_id, dict()) #get 없으면 2번째로 return\n",
        "\n",
        "      item_id = row['itemid']\n",
        "      if item_id not in EXTRACT_FEATURE_CODES_VS:\n",
        "        continue\n",
        "      item_name = EXTRACT_FEATURE_CODES_VS[item_id]\n",
        "      try:\n",
        "        #정규식을 이용해서 기록된 값에서 숫자 형태의 값만 가져오기\n",
        "        #소수점 둘째자리 까지만 값을 사용하기\n",
        "        item_value = round(float(re.findall(\"\\d+\\.\\d+|\\d+\", row['valuenum'])[0]), 2)\n",
        "      except Exception:\n",
        "        continue\n",
        "      \n",
        "      item_time = str2datetime(row['charttime'])\n",
        "      if item_time == NOT_CONVERTED:\n",
        "        continue\n",
        "      #GCP total score도 시간대에 총합으로 사용함\n",
        "      if item_name == 'TEMP_F':\n",
        "        item_value = round((item_value - 32.0) / 1.8, 2)\n",
        "        item_name = 'TEMP'\n",
        "\n",
        "    #   if item_value > FEATURE_NORMAL_RANGE[item_name][1]:\n",
        "    #     item_value = FEATURE_NORMAL_RANGE[item_name][1]\n",
        "    #   elif item_value < FEATURE_NORMAL_RANGE[item_name][0]:\n",
        "    #     item_value = FEATURE_NORMAL_RANGE[item_name][0]\n",
        "\n",
        "      features_hadm_id[hadm_id][item_name] = features_hadm_id[hadm_id].get(item_name, list()) #같은 환자의 여러개 feature가 있으면 list로 반환하도록\n",
        "      features_hadm_id[hadm_id][item_name].append((item_time, item_value))\n",
        "      \n",
        "    else:\n",
        "      continue\n",
        "\n",
        "  for row in tqdm(labevents, desc='Extract_LAB', total=124342638, ncols=700):\n",
        "    if row['hadm_id'] in Total_HADMIDS:\n",
        "      hadm_id = row['hadm_id']\n",
        "      features_hadm_id[hadm_id] = features_hadm_id.get(hadm_id, dict())\n",
        "\n",
        "      item_id = row['itemid']\n",
        "      if item_id not in EXTRACT_FEATURE_CODES_LAB:\n",
        "        continue\n",
        "      item_name = EXTRACT_FEATURE_CODES_LAB[item_id]\n",
        "      try:\n",
        "        #정규식을 이용해서 기록된 값에서 숫자 형태의 값만 가져오기\n",
        "        #소수점 둘째자리 까지만 값을 사용하기\n",
        "        item_value = round(float(re.findall(\"\\d+\\.\\d+|\\d+\", row['valuenum'])[0]), 2)\n",
        "      except Exception:\n",
        "        continue\n",
        "      \n",
        "      item_time = str2datetime(row['charttime'])\n",
        "      if item_time == NOT_CONVERTED:\n",
        "        continue\n",
        "\n",
        "      #if item_value > FEATURE_NORMAL_RANGE[item_name][1]:\n",
        "      #  item_value = FEATURE_NORMAL_RANGE[item_name][1]\n",
        "      #elif item_value < FEATURE_NORMAL_RANGE[item_name][0]:\n",
        "      #  item_value = FEATURE_NORMAL_RANGE[item_name][0]\n",
        "        \n",
        "      features_hadm_id[hadm_id][item_name] = features_hadm_id[hadm_id].get(item_name, list())\n",
        "      features_hadm_id[hadm_id][item_name].append((item_time, item_value))\n",
        "      \n",
        "    else:\n",
        "      continue\n",
        "      \n",
        "  return features_hadm_id"
      ]
    },
    {
      "cell_type": "code",
      "execution_count": 11,
      "metadata": {
        "id": "eIuZed5Vt0eL"
      },
      "outputs": [],
      "source": [
        "import pickle\n",
        "import gzip"
      ]
    },
    {
      "cell_type": "code",
      "source": [
        "# extracted_features = extract_features()"
      ],
      "metadata": {
        "id": "NyV7771WZJnJ"
      },
      "execution_count": 12,
      "outputs": []
    },
    {
      "cell_type": "code",
      "source": [
        "# with gzip.open('/content/gdrive/MyDrive/sepsis_model_weight/extracted_features_1112.pickle', 'wb') as f:\n",
        "#     pickle.dump(extracted_features, f)"
      ],
      "metadata": {
        "id": "sVz4LlqJd2Co"
      },
      "execution_count": 13,
      "outputs": []
    },
    {
      "cell_type": "code",
      "source": [
        "with gzip.open('/content/gdrive/MyDrive/sepsis_model_weight/extracted_features_1112.pickle','rb') as f:\n",
        "    extracted_features = pickle.load(f)"
      ],
      "metadata": {
        "id": "3v40lXdusCd1"
      },
      "execution_count": 14,
      "outputs": []
    },
    {
      "cell_type": "code",
      "execution_count": 15,
      "metadata": {
        "id": "GUHXlnCqNTjo",
        "colab": {
          "base_uri": "https://localhost:8080/",
          "height": 49,
          "referenced_widgets": [
            "c3da6ff9029f444e96cc5578c09e49b0",
            "231221e0ec6f4984807b0ccf78b4f7bd",
            "d8e21959d45c47cca9a0664f00266716",
            "244a5fc4774342d79d93fa511716a021",
            "798cce7fce034531860edd2e8b568ea9",
            "c248559b56354d79a22c622a27dacf10",
            "be1afeed60e943ae9bdf5f803558f803",
            "0590aab3dcf14e3fb0147e5d9031b549",
            "e795de0da39047d6bfb4d6e87258119b",
            "3c8d9fa7a1024e4798bb8191b819b395",
            "b9532c8aabe44caa8aeee4055bcd9af2"
          ]
        },
        "outputId": "b2c5025b-c142-4da9-8a30-db1c06a9133a"
      },
      "outputs": [
        {
          "output_type": "display_data",
          "data": {
            "text/plain": [
              "Get Death Label: 0it [00:00, ?it/s]"
            ],
            "application/vnd.jupyter.widget-view+json": {
              "version_major": 2,
              "version_minor": 0,
              "model_id": "c3da6ff9029f444e96cc5578c09e49b0"
            }
          },
          "metadata": {}
        }
      ],
      "source": [
        "# 사망 레이블 하기\n",
        "death_labels = dict()\n",
        "admissions = csv.DictReader(open('/content/gdrive/MyDrive/mimiciv_der/sepsis3_admissions.csv', 'r', encoding='utf-8'))\n",
        "for row in tqdm(admissions, desc='Get Death Label'):\n",
        "  hadm_id = row['hadm_id']\n",
        "  death_yn = int(row['hospital_expire_flag'])\n",
        "  if death_yn:\n",
        "    event_time = str2datetime(row['deathtime'])\n",
        "  else:\n",
        "    event_time = str2datetime(row['dischtime'])\n",
        "  death_labels[hadm_id] = dict({'DEATH': death_yn, 'EVENT_TIME': event_time})"
      ]
    },
    {
      "cell_type": "code",
      "execution_count": 16,
      "metadata": {
        "id": "Zm7qGtNPOH3p"
      },
      "outputs": [],
      "source": [
        "## 환자의 입실 퇴실 시간 정보 가져오기\n",
        "Extracted_HADMIDS = list(extracted_features.keys())\n",
        "admin_disc_time = dict()\n",
        "\n",
        "admissions = csv.DictReader(open('/content/gdrive/MyDrive/mimiciv_der/sepsis3_admissions.csv', 'r', encoding='utf-8'))\n",
        "for row in admissions:\n",
        "  hadm_id = row['hadm_id']\n",
        "  admin_time = str2datetime(row['admittime'])\n",
        "  disc_time = str2datetime(row['dischtime'])\n",
        "\n",
        "  if (admin_time != NOT_CONVERTED) and (disc_time != NOT_CONVERTED):\n",
        "    admin_disc_time[hadm_id] = dict({'ADMIN': admin_time, 'DISC': disc_time})"
      ]
    },
    {
      "cell_type": "code",
      "execution_count": 17,
      "metadata": {
        "id": "Auy7XQu0N5cN"
      },
      "outputs": [],
      "source": [
        "## 입실 시점으로부터 1시간 간격으로 데이터를 읽어오는 함수 정의\n",
        "def quantize_features(feature_list, admin_time, disc_time, missing_feature=False):\n",
        "  total_hours = int((disc_time - admin_time).total_seconds() / (60*60))\n",
        "  #입실 이후 최대 24시간 동안의 데이터만 가져오기\n",
        "  if total_hours > 24:\n",
        "    total_hours = 24\n",
        "  \n",
        "  quantized_features = list()\n",
        "  if missing_feature:\n",
        "    for i in range(total_hours):\n",
        "      quantized_time = admin_time + timedelta(hours=i)\n",
        "      quantized_value = np.nan #지금은 dic 형태라, pandas 쓰면 NAN이랑 동일, carry forward 도 가능\n",
        "      quantized_features.append((quantized_time, quantized_value))\n",
        "  else:\n",
        "    feature_list = list(sorted(feature_list, key=lambda x: x[0]))\n",
        "    for i in range(total_hours):\n",
        "      quantized_time = admin_time + timedelta(hours=i)\n",
        "      quantized_time_start = quantized_time - timedelta(hours=1)\n",
        "      quantized_values = list(filter(lambda x: quantized_time_start < x[0] <= quantized_time, feature_list)) #filter함수 True만 필터\n",
        "      if len(quantized_values) > 0:\n",
        "        quantized_value = quantized_values[-1][1]\n",
        "      else:\n",
        "        quantized_value = np.nan \n",
        "\n",
        "      quantized_features.append((quantized_time, quantized_value))\n",
        "  \n",
        "  return quantized_features"
      ]
    },
    {
      "cell_type": "code",
      "execution_count": 18,
      "metadata": {
        "id": "SxMcge9WRy-m",
        "colab": {
          "base_uri": "https://localhost:8080/",
          "height": 49,
          "referenced_widgets": [
            "23a669aa0e6b43b0bbb5193af9e67f9f",
            "c2993414c1954395b80eec26dcbea23b",
            "49970200e6bd4045a01b65e342ab4e39",
            "12b3829aa8334d41b6e85aa44fdf56d0",
            "d0aa67892bad44a9b10fa12b91e400c0",
            "2dfcbfcf650b4ac18a18b8e5f3519c2f",
            "0f6dfe5c496845a697ec5870c46d4409",
            "a3b1423791ac4bd0afd6569ff0b78c0d",
            "032d6ebcb5ba4a8eb067646a719bddf3",
            "9118f073a7f24a7aaf2863d9d4600a9e",
            "658594a869034e26abdc189c35a9c38e"
          ]
        },
        "outputId": "04e972be-10f8-4b57-edaf-aa0c035bf121"
      },
      "outputs": [
        {
          "output_type": "display_data",
          "data": {
            "text/plain": [
              "Doing Quantization:   0%|          | 0/32365 [00:00<?, ?it/s]"
            ],
            "application/vnd.jupyter.widget-view+json": {
              "version_major": 2,
              "version_minor": 0,
              "model_id": "23a669aa0e6b43b0bbb5193af9e67f9f"
            }
          },
          "metadata": {}
        }
      ],
      "source": [
        "## 전체 데이터에 대해서 데이터 변환하기\n",
        "quantized_features = dict()\n",
        "for hadm_id in tqdm(Extracted_HADMIDS, desc='Doing Quantization'):\n",
        "    admin_time = admin_disc_time[hadm_id]['ADMIN']\n",
        "    disc_time = admin_disc_time[hadm_id]['DISC']\n",
        "    if (disc_time - admin_time).total_seconds() / (60*60) < 1.0:\n",
        "      continue\n",
        "    quantized_features[hadm_id] = dict()\n",
        "    for kk in feature_keys:\n",
        "      if kk in extracted_features[hadm_id]:\n",
        "        feature_list = extracted_features[hadm_id][kk]\n",
        "        quantized_features[hadm_id][kk] = quantize_features(feature_list, admin_time, disc_time)\n",
        "      else:\n",
        "        quantized_features[hadm_id][kk] = quantize_features(None, admin_time, disc_time, missing_feature=True)\n"
      ]
    },
    {
      "cell_type": "code",
      "execution_count": 19,
      "metadata": {
        "id": "th7CkR4pSJE8"
      },
      "outputs": [],
      "source": [
        "def carry_forward(feature_name, feature_list):\n",
        "  imputed_features = list()\n",
        "  for i, (feature_t, feature_v) in enumerate(feature_list):\n",
        "    if np.isnan(feature_v):\n",
        "      last_observations = list(filter(lambda x: (x[0] <= feature_t) and (not np.isnan(x[1])), feature_list))\n",
        "      if len(last_observations) > 0:\n",
        "        imputed_features.append((feature_t, last_observations[-1][1]))\n",
        "      else:\n",
        "        imputed_features.append((feature_t, NORMAL_VALUE[feature_name]))\n",
        "    else:\n",
        "      imputed_features.append((feature_t, feature_v))\n",
        "\n",
        "  return imputed_features"
      ]
    },
    {
      "cell_type": "code",
      "execution_count": 20,
      "metadata": {
        "id": "uhmbOBT_Shgz",
        "colab": {
          "base_uri": "https://localhost:8080/",
          "height": 49,
          "referenced_widgets": [
            "25b4b36be3f946f7910a1221cc8a65e4",
            "c51258259c934bb489b55c2a52e5efb1",
            "5d9861602ed5489f83b0fce15c5f7ed2",
            "cec6ef3047634a9484124e6fed43b523",
            "a574c562c78c4ba9ac28b60ae825530c",
            "26e8f4ff8a454586a8ec593daba1683d",
            "bccc14dcfa654055ba91a89017354a6c",
            "ee9ea6d0fedf41d5b4ff021e3e361cbd",
            "71d5d9515b1f43b59a57e6bca7892d7b",
            "e792741e0f9349b6b4a499606b0ea9ae",
            "f083a86d5c4744519661c5da9e9e0414"
          ]
        },
        "outputId": "e1e399b8-9569-4e0e-9ac1-571c4e6405bf"
      },
      "outputs": [
        {
          "output_type": "display_data",
          "data": {
            "text/plain": [
              "Carry-Forward:   0%|          | 0/32340 [00:00<?, ?it/s]"
            ],
            "application/vnd.jupyter.widget-view+json": {
              "version_major": 2,
              "version_minor": 0,
              "model_id": "25b4b36be3f946f7910a1221cc8a65e4"
            }
          },
          "metadata": {}
        }
      ],
      "source": [
        "Quantized_HADMIDS = list(quantized_features.keys())\n",
        "carry_forwarded_features = dict()\n",
        "for hadm_id in tqdm(Quantized_HADMIDS, desc='Carry-Forward'):\n",
        "  carry_forwarded_features[hadm_id] = dict()\n",
        "\n",
        "  for kk in feature_keys:\n",
        "    feature_list = quantized_features[hadm_id][kk]\n",
        "    carry_forwarded_features[hadm_id][kk] = carry_forward(kk, feature_list)"
      ]
    },
    {
      "cell_type": "code",
      "execution_count": 21,
      "metadata": {
        "id": "uOusHtWwTGAV",
        "colab": {
          "base_uri": "https://localhost:8080/",
          "height": 49,
          "referenced_widgets": [
            "9935faf214fd42ca8e746c91a7a03e50",
            "223bdd226f924da8a859ef5f1dcb55de",
            "4fab4f4901384d81a57397d663d9a4bf",
            "c812ce2bc80945838bc6a429bc9eade0",
            "4880add3b3d34130aee0f0d553ebe126",
            "c78d70c0c65c451ea57550fa2deaa0da",
            "4daa96ef5ae74bd6bdc2557759ea319c",
            "3a74ed4a8d264c26b9f221440701265c",
            "33c1ebd7011743ca8d4ee27362cd4eee",
            "95ecba51632f41f4aa4d1305a081f0f0",
            "7c42334f1efd4ed7acbc4cf99a38aee5"
          ]
        },
        "outputId": "5944f4b0-ae9c-46ae-8ba1-f58303d0e973"
      },
      "outputs": [
        {
          "output_type": "display_data",
          "data": {
            "text/plain": [
              "Min-Max Normalization:   0%|                                                                                  …"
            ],
            "application/vnd.jupyter.widget-view+json": {
              "version_major": 2,
              "version_minor": 0,
              "model_id": "9935faf214fd42ca8e746c91a7a03e50"
            }
          },
          "metadata": {}
        }
      ],
      "source": [
        "#Min-Max Normalization\n",
        "min_max_normalized = dict()\n",
        "for hadm_id in tqdm(Quantized_HADMIDS, desc='Min-Max Normalization', ncols=700):\n",
        "  min_max_normalized[hadm_id] = dict()\n",
        "  for kk in feature_keys:\n",
        "    features = np.array(carry_forwarded_features[hadm_id][kk])\n",
        "\n",
        "    min = EXTRACT_FEATURE_CODES_NORMAL[kk][0]\n",
        "    max = EXTRACT_FEATURE_CODES_NORMAL[kk][1]\n",
        "\n",
        "    features[:, 1] = (features[:, 1] - min) / (max - min)\n",
        "    min_max_normalized[hadm_id][kk] = features"
      ]
    },
    {
      "cell_type": "code",
      "execution_count": 22,
      "metadata": {
        "id": "Tg6sx0ytTLzE"
      },
      "outputs": [],
      "source": [
        "total_death_included_hadm_ids = list(death_labels.keys())"
      ]
    },
    {
      "cell_type": "code",
      "execution_count": 23,
      "metadata": {
        "id": "GLGBtCnTk0XN",
        "colab": {
          "base_uri": "https://localhost:8080/",
          "height": 49,
          "referenced_widgets": [
            "f40c328bff214ce79a98311fc5fece94",
            "f31c6e8f10c640499cff1ca064c9cc17",
            "bfa6847f3ff843a1bfcbec5042a95772",
            "64ad981639084961a3e16ee2e88df1bd",
            "09ecb539ba2c449cb88b16425760fcbd",
            "f5f0771fd664496bac919eb90f9a9dbb",
            "5b17c4394a4f4aaca26267fee3bb9349",
            "338ab82507174f65a9a4ddf2e4286012",
            "5fc9a79ba120486cbb9c0d460fdb560d",
            "f5f981cc7794437199ae6073dcfc52e9",
            "e1f3bbe79abf4501b832a16e5d6b766f"
          ]
        },
        "outputId": "1fb93831-4466-4ea7-ee67-85aac2e7cef2"
      },
      "outputs": [
        {
          "output_type": "display_data",
          "data": {
            "text/plain": [
              "Make Death Dataset:   0%|                                                                                     …"
            ],
            "application/vnd.jupyter.widget-view+json": {
              "version_major": 2,
              "version_minor": 0,
              "model_id": "f40c328bff214ce79a98311fc5fece94"
            }
          },
          "metadata": {}
        }
      ],
      "source": [
        "## 사망 예측용 데이터\n",
        "death_dataset = dict({\n",
        "    'HADM_IDS': list(),\n",
        "    'LABEL': list(),\n",
        "    'DATA': list()\n",
        "})\n",
        "\n",
        "for hadm_id in tqdm(total_death_included_hadm_ids, desc='Make Death Dataset', ncols=700):\n",
        "  if hadm_id not in min_max_normalized:\n",
        "    continue\n",
        "  if len(min_max_normalized[hadm_id][feature_keys[0]]) >= 24:\n",
        "    time_len = 24\n",
        "  else:\n",
        "    time_len = len(min_max_normalized[hadm_id][feature_keys[0]])\n",
        "  \n",
        "  try:\n",
        "    data = np.array(min_max_normalized[hadm_id][feature_keys[0]])[:time_len, 1].reshape(time_len, 1)\n",
        "  except:\n",
        "    continue\n",
        "\n",
        "  for kk in feature_keys[1:]:\n",
        "    data = np.concatenate((data, np.array(min_max_normalized[hadm_id][kk])[:time_len, 1].reshape(time_len, 1)), axis=1)\n",
        "  \n",
        "  death_dataset['HADM_IDS'].append(hadm_id)\n",
        "  death_dataset['LABEL'].append(death_labels[hadm_id]['DEATH'])\n",
        "  death_dataset['DATA'].append(data)"
      ]
    },
    {
      "cell_type": "code",
      "source": [
        "#################################################################EXTRA FEATURE 바꾸면 여기서부터 ###########################################################################"
      ],
      "metadata": {
        "id": "99b6lNQ8bW2m"
      },
      "execution_count": null,
      "outputs": []
    },
    {
      "cell_type": "code",
      "execution_count": 64,
      "metadata": {
        "id": "qyiUdaz7oU6w"
      },
      "outputs": [],
      "source": [
        "# extra_features"
      ]
    },
    {
      "cell_type": "code",
      "source": [
        "extra_features.set_index('hadm_id', drop=True, append=False, inplace=True, verify_integrity=False)"
      ],
      "metadata": {
        "id": "MFF3byfJ1Wyt"
      },
      "execution_count": 65,
      "outputs": []
    },
    {
      "cell_type": "code",
      "source": [
        "# extra_features"
      ],
      "metadata": {
        "id": "tNFsBN4f1y-z"
      },
      "execution_count": 66,
      "outputs": []
    },
    {
      "cell_type": "code",
      "source": [
        "# extra_features=extra_features[['weight','age']]\n",
        "# #subject_id가 data에 처음 부터 없다면 필요없는 부분"
      ],
      "metadata": {
        "id": "Lqn9hOGZsqGt"
      },
      "execution_count": 67,
      "outputs": []
    },
    {
      "cell_type": "code",
      "execution_count": 68,
      "metadata": {
        "id": "OwbTPNWOUzMu",
        "colab": {
          "base_uri": "https://localhost:8080/",
          "height": 81,
          "referenced_widgets": [
            "998720021bb84ffc94b307578db50db3",
            "7fccd8328f584c64a59485d19923b739",
            "2326c1d06cfd464d8df8344e1a3f730a",
            "e5300247c9da4b75a57161a582971b94",
            "233d929351c44000b53512bc2960023f",
            "51743d476bb8451fbfba474a9a17c142",
            "9bf345c142eb4592936c416a0c6983d2",
            "d82646819a004a9f888b8ed5dc38e465",
            "add161813b3d4536a165d04158ba776e",
            "3c6087f516d14fc3a02d0e1790a3563f",
            "e6d13c921edd4ce0830a1da4eff82d44",
            "0eec5c9b06ab47d8b772df919177852c",
            "637cd5b8de144d5abdbfd9ee45f182c6",
            "d990a7bc146d4c3fbdbd130a317823b7",
            "7b6ded7462dc447c8f2d1bb39dff984a",
            "a82cc56d603242a594cc6843fbcbf930",
            "7f9a5d4ab2f549daa306b4109e14f9cd",
            "0b587906aa04435686318efe8791db37",
            "b5a3ba77156c4f84819c6853e54ea262",
            "72a5706cbc3a45fa91d33a06ba2313b7",
            "4979c8de23494456a8d223d0aa5c3a89",
            "3be9299f9b75468db7e076f88ddec132"
          ]
        },
        "outputId": "8f76b08d-082b-4e6d-a24b-e7c454dde3ed"
      },
      "outputs": [
        {
          "output_type": "display_data",
          "data": {
            "text/plain": [
              "Make Death Dataset:   0%|                                                                                     …"
            ],
            "application/vnd.jupyter.widget-view+json": {
              "version_major": 2,
              "version_minor": 0,
              "model_id": "998720021bb84ffc94b307578db50db3"
            }
          },
          "metadata": {}
        },
        {
          "output_type": "display_data",
          "data": {
            "text/plain": [
              "+ Extra_features:   0%|                                                                                       …"
            ],
            "application/vnd.jupyter.widget-view+json": {
              "version_major": 2,
              "version_minor": 0,
              "model_id": "0eec5c9b06ab47d8b772df919177852c"
            }
          },
          "metadata": {}
        }
      ],
      "source": [
        "## 사망 예측용 데이터\n",
        "death_dataset2 = dict({\n",
        "    'HADM_IDS': list(),\n",
        "    'LABEL': list(),\n",
        "    'DATA': list(),\n",
        "    'EXTRA' : list(),\n",
        "})\n",
        "\n",
        "for hadm_id in tqdm(total_death_included_hadm_ids, desc='Make Death Dataset', ncols=700):\n",
        "  if hadm_id not in min_max_normalized:\n",
        "    continue\n",
        "  if len(min_max_normalized[hadm_id][feature_keys[0]]) >= 24:\n",
        "    time_len = 24\n",
        "  else:\n",
        "    time_len = len(min_max_normalized[hadm_id][feature_keys[0]])\n",
        "  \n",
        "  try:\n",
        "    data = np.array(min_max_normalized[hadm_id][feature_keys[0]])[:time_len, 1].reshape(time_len, 1)\n",
        "  except:\n",
        "    continue\n",
        "\n",
        "  for kk in feature_keys[1:]:\n",
        "    data = np.concatenate((data, np.array(min_max_normalized[hadm_id][kk])[:time_len, 1].reshape(time_len, 1)), axis=1)\n",
        "  \n",
        "  death_dataset2['HADM_IDS'].append(hadm_id)\n",
        "  death_dataset2['LABEL'].append(death_labels[hadm_id]['DEATH'])\n",
        "  death_dataset2['DATA'].append(data)\n",
        "\n",
        "# 추가 feature 입력\n",
        "extra_features=extra_features.reindex(pd.to_numeric(death_dataset2['HADM_IDS']))\n",
        "extra_features=np.array(extra_features)\n",
        "\n",
        "for ef in tqdm(extra_features, desc='+ Extra_features', ncols=700):\n",
        "  death_dataset2['EXTRA'].append(ef)"
      ]
    },
    {
      "cell_type": "code",
      "source": [
        "len(death_dataset2['HADM_IDS'])"
      ],
      "metadata": {
        "id": "1qfMd7js2yk8",
        "colab": {
          "base_uri": "https://localhost:8080/"
        },
        "outputId": "226c668c-fee6-45a4-9657-bba4f7dcfe7c"
      },
      "execution_count": 69,
      "outputs": [
        {
          "output_type": "execute_result",
          "data": {
            "text/plain": [
              "32340"
            ]
          },
          "metadata": {},
          "execution_count": 69
        }
      ]
    },
    {
      "cell_type": "code",
      "source": [
        "# with gzip.open('/content/gdrive/MyDrive/sepsis_model_weight/death_dataset2_1112.pickle', 'wb') as f:\n",
        "#     pickle.dump(death_dataset2, f)"
      ],
      "metadata": {
        "id": "ZIfQJg2VKUNy"
      },
      "execution_count": 123,
      "outputs": []
    },
    {
      "cell_type": "code",
      "source": [
        "with gzip.open('/content/gdrive/MyDrive/sepsis_model_weight/extracted_features_1112.pickle','rb') as f:\n",
        "#     death_dataset2 = pickle.load(f)"
      ],
      "metadata": {
        "id": "WjsHsz36rcGA"
      },
      "execution_count": null,
      "outputs": []
    },
    {
      "cell_type": "markdown",
      "metadata": {
        "id": "78GmjAzpqJWt"
      },
      "source": [
        "## train-test 분할"
      ]
    },
    {
      "cell_type": "code",
      "execution_count": 124,
      "metadata": {
        "id": "FR3Pnr0pTwn3"
      },
      "outputs": [],
      "source": [
        "## 학습용 검증용 데이터 나누기 (8:2)\n",
        "def split_train_test2(dataset, train_ratio=0.8, pos_neg=True):\n",
        "  #레이블이 양성, 음성인 경우, 학습 데이터, 테스트 데이터를 나눌 때 \n",
        "  #양성, 음성의 비율을 각각 유지할 수 있도록 구현\n",
        "  if pos_neg:\n",
        "    pos_idx = np.where(np.array(dataset['LABEL']) == 1)[0]\n",
        "    neg_idx = np.where(np.array(dataset['LABEL']) == 0)[0]\n",
        "\n",
        "    # suffle 넣어줘서 index 섞어줘야함. np.random, random,suffle\n",
        "    np.random.shuffle(pos_idx)\n",
        "    np.random.shuffle(neg_idx)\n",
        "\n",
        "    pos_num = len(pos_idx)\n",
        "    neg_num = len(neg_idx)\n",
        "\n",
        "    train_pos_idx = list(pos_idx[:int(pos_num * train_ratio)])\n",
        "    test_pos_idx = list(pos_idx[int(pos_num * train_ratio):])\n",
        "\n",
        "    train_neg_idx = list(neg_idx[:int(neg_num * train_ratio)])\n",
        "    test_neg_idx = list(neg_idx[int(neg_num * train_ratio):])\n",
        "\n",
        "    train_idx = train_pos_idx + train_neg_idx\n",
        "    test_idx = test_pos_idx + test_neg_idx\n",
        "  \n",
        "  #레이블이 양성, 음성이 아닌경우 단순하게 전체 데이터에서 학습, 테스트 비율만큼 나누기\n",
        "  else:\n",
        "    idx = np.arange(len(dataset['LABEL']))\n",
        "    np.random.shuffle(idx)\n",
        "    train_idx = idx[:int(len(idx) * train_ratio)]\n",
        "    test_idx = idx[int(len(idx) * train_ratio):]\n",
        "\n",
        "  train_set = dict({\n",
        "      'HADM_IDS': np.array(dataset['HADM_IDS'])[train_idx],\n",
        "      'LABEL': np.array(dataset['LABEL'])[train_idx],\n",
        "      'DATA': np.array(dataset['DATA'])[train_idx]\n",
        "  })\n",
        "\n",
        "  train_set2 = dict({\n",
        "      'HADM_IDS': np.array(dataset['HADM_IDS'])[train_idx],\n",
        "      'EXTRA': np.array(dataset['EXTRA'])[train_idx].reshape((-1,37))\n",
        "  })\n",
        "\n",
        "  test_set = dict({\n",
        "      'HADM_IDS': np.array(dataset['HADM_IDS'])[test_idx],\n",
        "      'LABEL': np.array(dataset['LABEL'])[test_idx],\n",
        "      'DATA': np.array(dataset['DATA'])[test_idx]\n",
        "  })\n",
        "\n",
        "  test_set2 = dict({\n",
        "      'HADM_IDS': np.array(dataset['HADM_IDS'])[test_idx],\n",
        "      'EXTRA': np.array(dataset['EXTRA'])[test_idx].reshape((-1,37))\n",
        "  })\n",
        "  return train_set,train_set2, test_set, test_set2"
      ]
    },
    {
      "cell_type": "code",
      "source": [
        "d_train,d_train2, d_test,d_test2 = split_train_test2(death_dataset2)"
      ],
      "metadata": {
        "id": "TJWtbljp_yCD",
        "colab": {
          "base_uri": "https://localhost:8080/"
        },
        "outputId": "dd997629-8bba-47d5-c0ac-369e30524297"
      },
      "execution_count": 125,
      "outputs": [
        {
          "output_type": "stream",
          "name": "stderr",
          "text": [
            "/usr/local/lib/python3.7/dist-packages/ipykernel_launcher.py:35: VisibleDeprecationWarning: Creating an ndarray from ragged nested sequences (which is a list-or-tuple of lists-or-tuples-or ndarrays with different lengths or shapes) is deprecated. If you meant to do this, you must specify 'dtype=object' when creating the ndarray.\n",
            "/usr/local/lib/python3.7/dist-packages/ipykernel_launcher.py:46: VisibleDeprecationWarning: Creating an ndarray from ragged nested sequences (which is a list-or-tuple of lists-or-tuples-or ndarrays with different lengths or shapes) is deprecated. If you meant to do this, you must specify 'dtype=object' when creating the ndarray.\n"
          ]
        }
      ]
    },
    {
      "cell_type": "code",
      "source": [
        "print(len(d_train['HADM_IDS']))\n",
        "print(len(d_train['DATA']))\n",
        "print(len(d_train2['HADM_IDS']))\n",
        "print(len(d_train2['EXTRA']))\n",
        "print(len(d_test['HADM_IDS']))\n",
        "print(len(d_test2['HADM_IDS']))\n",
        "print(len(d_test2['EXTRA']))"
      ],
      "metadata": {
        "id": "0oE6X6jPAaYN",
        "colab": {
          "base_uri": "https://localhost:8080/"
        },
        "outputId": "b387d23c-23fd-4d45-b096-9f152a96b218"
      },
      "execution_count": 126,
      "outputs": [
        {
          "output_type": "stream",
          "name": "stdout",
          "text": [
            "25871\n",
            "25871\n",
            "25871\n",
            "25871\n",
            "6469\n",
            "6469\n",
            "6469\n"
          ]
        }
      ]
    },
    {
      "cell_type": "markdown",
      "metadata": {
        "id": "VZvM3xUVqF5A"
      },
      "source": [
        "## 모델 학습 \n"
      ]
    },
    {
      "cell_type": "code",
      "execution_count": 127,
      "metadata": {
        "id": "b38QBa6_TYQm"
      },
      "outputs": [],
      "source": [
        "import tensorflow as tf\n",
        "from tensorflow import keras\n",
        "from tensorflow.keras import layers\n",
        "import math\n",
        "from tensorflow.keras.utils import Sequence\n",
        "import numpy as np\n",
        "from tensorflow.keras.models import Sequential,Model\n",
        "from tensorflow.keras.layers import LSTM, Dense, Embedding,Bidirectional,Activation,GRU,BatchNormalization,Dropout,LeakyReLU,ReLU,Input,Add\n",
        "from tensorflow.keras.layers import Concatenate"
      ]
    },
    {
      "cell_type": "code",
      "execution_count": 128,
      "metadata": {
        "id": "ljiVxEwrRGuG"
      },
      "outputs": [],
      "source": [
        "## 사망예측 모델용 데이터 로더_2\n",
        "class Death_Dataloader2(Sequence):\n",
        "    def __init__(self, x_set,x_set2, y_set, hadm_id_set, batch_size, shuffle=False):\n",
        "        self.x, self.x2, self.y, self.hadm_id = x_set, x_set2, y_set, hadm_id_set\n",
        "        self.batch_size = batch_size\n",
        "        self.shuffle = shuffle\n",
        "        self.on_epoch_end()\n",
        "\n",
        "    def __len__(self):\n",
        "        return math.ceil(len(self.x) / self.batch_size)\n",
        "\n",
        "\t\t# batch 단위로 직접 묶어줘야 함\n",
        "    def __getitem__(self, idx):\n",
        "\t\t# sampler의 역할(index를 batch_size만큼 sampling해줌)\n",
        "        indices = self.indices[idx*self.batch_size:(idx+1)*self.batch_size]\n",
        "\n",
        "        batch_x = [self.x[i] for i in indices]\n",
        "        \n",
        "        batch_x2 = [self.x2[i] for i in indices]\n",
        "\n",
        "        ## 입력 데이터들의 크기를 최대 24시간으로 통일하고 24시간 보다 짧은 데이터들의 경우 끝에 '0' padding 붙이기\n",
        "        padded_batch_x = np.zeros((len(batch_x), 24, len(feature_keys)))\n",
        "        for i in range(len(batch_x)):\n",
        "          valid_length = len(batch_x[i])\n",
        "          padded_batch_x[i][:valid_length, :] = batch_x[i]\n",
        "        \n",
        "\n",
        "        batch_y = [self.y[i] for i in indices]\n",
        "        batch_hadm_id = [self.hadm_id[i] for i in indices]\n",
        "\n",
        "        return [np.array(padded_batch_x).astype('float32'), np.array(batch_x2).astype('float32')] ,np.array(batch_y).astype('float32')\n",
        "\n",
        "    # epoch이 끝날때마다 실행\n",
        "    def on_epoch_end(self):\n",
        "        self.indices = np.arange(len(self.x))\n",
        "        if self.shuffle == True:\n",
        "            np.random.shuffle(self.indices)\n"
      ]
    },
    {
      "cell_type": "code",
      "source": [
        "death_train_loader2 = Death_Dataloader2(d_train['DATA'],d_train2['EXTRA'], d_train['LABEL'], d_train['HADM_IDS'], 64, True)\n",
        "death_test_loader2 = Death_Dataloader2(d_test['DATA'],d_test2['EXTRA'], d_test['LABEL'], d_test['HADM_IDS'], 64, False)"
      ],
      "metadata": {
        "id": "zXHI5C3RBlsI"
      },
      "execution_count": 129,
      "outputs": []
    },
    {
      "cell_type": "code",
      "source": [
        "# lr_schedule = keras.optimizers.schedules.ExponentialDecay(\n",
        "#     initial_learning_rate=0.005,\n",
        "#     decay_steps=100000,\n",
        "#     decay_rate=0.96)\n",
        "# optimizer_decay = keras.optimizers.SGD(learning_rate=lr_schedule)\n",
        "\n",
        "#########################################\n",
        "\n",
        "lr_schedule2 = keras.optimizers.schedules.CosineDecay(\n",
        "    initial_learning_rate=0.02,\n",
        "    decay_steps=10000)\n",
        "optimizer_cosine = keras.optimizers.SGD(learning_rate=lr_schedule2)\n",
        "\n",
        "#########################################\n",
        "\n",
        "# lr_schedule3 = keras.optimizers.schedules.CosineDecayRestarts(\n",
        "#     initial_learning_rate=0.02,first_decay_steps=10, t_mul=2, m_mul=0.9, alpha=0)\n",
        "# optimizer_cosine = keras.optimizers.SGD(learning_rate=lr_schedule3)\n",
        "\n"
      ],
      "metadata": {
        "id": "xI-dquLeRZsz"
      },
      "execution_count": 137,
      "outputs": []
    },
    {
      "cell_type": "code",
      "source": [
        "def lstm_bidirect3():\n",
        "  input1 = Input(shape=(25,22))\n",
        "  model1 = Bidirectional(LSTM(125,return_sequences=True))(input1)\n",
        "  model1 = Bidirectional(LSTM(125))(model1)\n",
        "  model1 = Dense(32)(model1)\n",
        "  model1 = BatchNormalization()(model1)\n",
        "  model1 = Activation('relu')(model1)\n",
        "  model1 = Dense(32)(model1)\n",
        "  model1 = BatchNormalization()(model1)\n",
        "  model1 = Activation('relu')(model1)\n",
        "  model1 = Dropout(0.2)(model1)\n",
        "  model1 = Dense(16)(model1)\n",
        "\n",
        "  input2 = Input(37)\n",
        "  model2 = Dense(64, activation='relu')(input2)\n",
        "  model2 = BatchNormalization()(model2)\n",
        "  model2 = Activation('relu')(model2)\n",
        "  model2 = Dense(32, activation='relu')(input2)\n",
        "  model2 = BatchNormalization()(model2)\n",
        "  model2 = Activation('relu')(model2)\n",
        "  model2 = Dropout(0.2)(model2)\n",
        "  model2 = Dense(16)(model2)\n",
        "\n",
        "  model_add = Add()([model1, model2])\n",
        "  model_add = Dense(16)(model_add)\n",
        "  model_add = BatchNormalization()(model_add)\n",
        "  model_add = Dense(16)(model_add)\n",
        "  model_add = BatchNormalization()(model_add)\n",
        "  output = Dense(1, activation='sigmoid')(model_add)\n",
        "\n",
        "  model = Model(inputs=[input1, input2], outputs=output)\n",
        "  model.compile(loss='binary_crossentropy', optimizer=optimizer_cosine, metrics=['AUC'])\n",
        "\n",
        "  return model"
      ],
      "metadata": {
        "id": "Qu6UbPcPbxy-"
      },
      "execution_count": 138,
      "outputs": []
    },
    {
      "cell_type": "code",
      "source": [
        "model3=lstm_bidirect3()"
      ],
      "metadata": {
        "id": "AJzeEKc8HKC_"
      },
      "execution_count": 139,
      "outputs": []
    },
    {
      "cell_type": "code",
      "source": [
        "from keras.utils import plot_model\n",
        "plot_model(model3, to_file='./model.png')"
      ],
      "metadata": {
        "id": "XJVv07YMokyw",
        "colab": {
          "base_uri": "https://localhost:8080/",
          "height": 1000
        },
        "outputId": "cffbc3ba-f9cc-40f9-dc34-a35d8502e2b2"
      },
      "execution_count": 140,
      "outputs": [
        {
          "output_type": "execute_result",
          "data": {
            "image/png": "[encoded data removed]",
            "text/plain": [
              "<IPython.core.display.Image object>"
            ]
          },
          "metadata": {},
          "execution_count": 140
        }
      ]
    },
    {
      "cell_type": "code",
      "source": [
        "callback = [tf.keras.callbacks.EarlyStopping(monitor='val_auc', patience=20),\n",
        "            tf.keras.callbacks.ModelCheckpoint(filepath='/content/gdrive/MyDrive/sepsis_model_weight/lstm_model/lstm_model.{epoch:02d}-{val_auc:.3f}.h5',save_best_only=True)]\n",
        "history_lstm3 = model3.fit(death_train_loader2,validation_data=death_test_loader2,\n",
        "                    batch_size=32, epochs=500,callbacks=callback)"
      ],
      "metadata": {
        "id": "sXwMapF0FNEd",
        "colab": {
          "base_uri": "https://localhost:8080/",
          "height": 1000
        },
        "outputId": "fb8037c5-02ed-4c81-8070-7fcae210ba95"
      },
      "execution_count": 141,
      "outputs": [
        {
          "output_type": "stream",
          "name": "stdout",
          "text": [
            "Epoch 1/500\n",
            "405/405 [==============================] - 20s 21ms/step - loss: 0.4310 - auc: 0.6432 - val_loss: 0.4154 - val_auc: 0.6631\n",
            "Epoch 2/500\n",
            "405/405 [==============================] - 7s 17ms/step - loss: 0.3843 - auc: 0.7146 - val_loss: 0.3776 - val_auc: 0.7407\n",
            "Epoch 3/500\n",
            "405/405 [==============================] - 7s 17ms/step - loss: 0.3739 - auc: 0.7406 - val_loss: 0.3750 - val_auc: 0.7526\n",
            "Epoch 4/500\n",
            "405/405 [==============================] - 7s 17ms/step - loss: 0.3687 - auc: 0.7552 - val_loss: 0.3730 - val_auc: 0.7584\n",
            "Epoch 5/500\n",
            "405/405 [==============================] - 7s 17ms/step - loss: 0.3631 - auc: 0.7663 - val_loss: 0.3902 - val_auc: 0.7570\n",
            "Epoch 6/500\n",
            "405/405 [==============================] - 7s 18ms/step - loss: 0.3619 - auc: 0.7694 - val_loss: 0.3648 - val_auc: 0.7749\n",
            "Epoch 7/500\n",
            "405/405 [==============================] - 7s 17ms/step - loss: 0.3587 - auc: 0.7726 - val_loss: 0.3702 - val_auc: 0.7710\n",
            "Epoch 8/500\n",
            "405/405 [==============================] - 7s 17ms/step - loss: 0.3572 - auc: 0.7784 - val_loss: 0.3634 - val_auc: 0.7756\n",
            "Epoch 9/500\n",
            "405/405 [==============================] - 7s 17ms/step - loss: 0.3561 - auc: 0.7807 - val_loss: 0.3670 - val_auc: 0.7695\n",
            "Epoch 10/500\n",
            "405/405 [==============================] - 7s 17ms/step - loss: 0.3539 - auc: 0.7814 - val_loss: 0.3697 - val_auc: 0.7630\n",
            "Epoch 11/500\n",
            "405/405 [==============================] - 7s 17ms/step - loss: 0.3527 - auc: 0.7843 - val_loss: 0.3655 - val_auc: 0.7710\n",
            "Epoch 12/500\n",
            "405/405 [==============================] - 7s 17ms/step - loss: 0.3499 - auc: 0.7878 - val_loss: 0.3622 - val_auc: 0.7748\n",
            "Epoch 13/500\n",
            "405/405 [==============================] - 7s 17ms/step - loss: 0.3490 - auc: 0.7911 - val_loss: 0.3648 - val_auc: 0.7800\n",
            "Epoch 14/500\n",
            "405/405 [==============================] - 7s 17ms/step - loss: 0.3492 - auc: 0.7896 - val_loss: 0.3621 - val_auc: 0.7757\n",
            "Epoch 15/500\n",
            "405/405 [==============================] - 7s 17ms/step - loss: 0.3464 - auc: 0.7932 - val_loss: 0.3586 - val_auc: 0.7835\n",
            "Epoch 16/500\n",
            "405/405 [==============================] - 7s 17ms/step - loss: 0.3460 - auc: 0.7948 - val_loss: 0.3726 - val_auc: 0.7737\n",
            "Epoch 17/500\n",
            "405/405 [==============================] - 7s 17ms/step - loss: 0.3452 - auc: 0.7972 - val_loss: 0.3597 - val_auc: 0.7842\n",
            "Epoch 18/500\n",
            "405/405 [==============================] - 7s 18ms/step - loss: 0.3446 - auc: 0.7978 - val_loss: 0.3586 - val_auc: 0.7854\n",
            "Epoch 19/500\n",
            "405/405 [==============================] - 7s 18ms/step - loss: 0.3433 - auc: 0.7989 - val_loss: 0.3588 - val_auc: 0.7842\n",
            "Epoch 20/500\n",
            "405/405 [==============================] - 7s 17ms/step - loss: 0.3427 - auc: 0.7997 - val_loss: 0.3615 - val_auc: 0.7868\n",
            "Epoch 21/500\n",
            "405/405 [==============================] - 7s 17ms/step - loss: 0.3399 - auc: 0.8033 - val_loss: 0.3578 - val_auc: 0.7868\n",
            "Epoch 22/500\n",
            "405/405 [==============================] - 7s 17ms/step - loss: 0.3402 - auc: 0.8046 - val_loss: 0.3573 - val_auc: 0.7870\n",
            "Epoch 23/500\n",
            "405/405 [==============================] - 7s 17ms/step - loss: 0.3394 - auc: 0.8034 - val_loss: 0.3576 - val_auc: 0.7868\n",
            "Epoch 24/500\n",
            "405/405 [==============================] - 7s 17ms/step - loss: 0.3391 - auc: 0.8040 - val_loss: 0.3578 - val_auc: 0.7868\n",
            "Epoch 25/500\n",
            "405/405 [==============================] - 7s 17ms/step - loss: 0.3407 - auc: 0.8034 - val_loss: 0.3576 - val_auc: 0.7867\n",
            "Epoch 26/500\n",
            "405/405 [==============================] - 7s 17ms/step - loss: 0.3412 - auc: 0.8007 - val_loss: 0.3578 - val_auc: 0.7866\n",
            "Epoch 27/500\n",
            "405/405 [==============================] - 7s 17ms/step - loss: 0.3405 - auc: 0.8036 - val_loss: 0.3577 - val_auc: 0.7869\n",
            "Epoch 28/500\n",
            "405/405 [==============================] - 7s 17ms/step - loss: 0.3425 - auc: 0.8003 - val_loss: 0.3578 - val_auc: 0.7866\n",
            "Epoch 29/500\n",
            "405/405 [==============================] - 7s 17ms/step - loss: 0.3406 - auc: 0.8028 - val_loss: 0.3579 - val_auc: 0.7869\n",
            "Epoch 30/500\n",
            "405/405 [==============================] - 7s 17ms/step - loss: 0.3395 - auc: 0.8032 - val_loss: 0.3577 - val_auc: 0.7865\n",
            "Epoch 31/500\n",
            "405/405 [==============================] - 7s 17ms/step - loss: 0.3419 - auc: 0.7998 - val_loss: 0.3579 - val_auc: 0.7869\n",
            "Epoch 32/500\n",
            "405/405 [==============================] - 7s 17ms/step - loss: 0.3414 - auc: 0.8001 - val_loss: 0.3578 - val_auc: 0.7868\n",
            "Epoch 33/500\n",
            "405/405 [==============================] - 7s 17ms/step - loss: 0.3398 - auc: 0.8027 - val_loss: 0.3578 - val_auc: 0.7867\n",
            "Epoch 34/500\n",
            "405/405 [==============================] - 7s 17ms/step - loss: 0.3411 - auc: 0.8010 - val_loss: 0.3578 - val_auc: 0.7864\n",
            "Epoch 35/500\n",
            "405/405 [==============================] - 7s 17ms/step - loss: 0.3409 - auc: 0.8029 - val_loss: 0.3581 - val_auc: 0.7868\n",
            "Epoch 36/500\n",
            "405/405 [==============================] - 7s 18ms/step - loss: 0.3404 - auc: 0.8026 - val_loss: 0.3576 - val_auc: 0.7868\n",
            "Epoch 37/500\n",
            "405/405 [==============================] - 7s 17ms/step - loss: 0.3393 - auc: 0.8044 - val_loss: 0.3578 - val_auc: 0.7865\n",
            "Epoch 38/500\n",
            "405/405 [==============================] - 7s 17ms/step - loss: 0.3400 - auc: 0.8035 - val_loss: 0.3578 - val_auc: 0.7869\n",
            "Epoch 39/500\n",
            "405/405 [==============================] - 7s 17ms/step - loss: 0.3414 - auc: 0.8009 - val_loss: 0.3576 - val_auc: 0.7867\n",
            "Epoch 40/500\n",
            "405/405 [==============================] - 7s 17ms/step - loss: 0.3420 - auc: 0.7986 - val_loss: 0.3578 - val_auc: 0.7871\n",
            "Epoch 41/500\n",
            "405/405 [==============================] - 7s 17ms/step - loss: 0.3407 - auc: 0.8032 - val_loss: 0.3578 - val_auc: 0.7864\n",
            "Epoch 42/500\n",
            "405/405 [==============================] - 7s 17ms/step - loss: 0.3398 - auc: 0.8031 - val_loss: 0.3575 - val_auc: 0.7866\n",
            "Epoch 43/500\n",
            "405/405 [==============================] - 7s 17ms/step - loss: 0.3408 - auc: 0.8033 - val_loss: 0.3577 - val_auc: 0.7866\n",
            "Epoch 44/500\n",
            "405/405 [==============================] - 7s 17ms/step - loss: 0.3392 - auc: 0.8041 - val_loss: 0.3574 - val_auc: 0.7868\n",
            "Epoch 45/500\n",
            "405/405 [==============================] - 7s 17ms/step - loss: 0.3399 - auc: 0.8022 - val_loss: 0.3578 - val_auc: 0.7867\n",
            "Epoch 46/500\n",
            "405/405 [==============================] - 7s 17ms/step - loss: 0.3392 - auc: 0.8057 - val_loss: 0.3575 - val_auc: 0.7868\n",
            "Epoch 47/500\n",
            "405/405 [==============================] - 7s 17ms/step - loss: 0.3394 - auc: 0.8033 - val_loss: 0.3576 - val_auc: 0.7867\n",
            "Epoch 48/500\n",
            "405/405 [==============================] - 7s 17ms/step - loss: 0.3414 - auc: 0.8009 - val_loss: 0.3576 - val_auc: 0.7869\n",
            "Epoch 49/500\n",
            "405/405 [==============================] - 7s 17ms/step - loss: 0.3402 - auc: 0.8036 - val_loss: 0.3578 - val_auc: 0.7863\n",
            "Epoch 50/500\n",
            "405/405 [==============================] - 7s 17ms/step - loss: 0.3402 - auc: 0.8028 - val_loss: 0.3576 - val_auc: 0.7868\n",
            "Epoch 51/500\n",
            "405/405 [==============================] - 7s 17ms/step - loss: 0.3390 - auc: 0.8054 - val_loss: 0.3582 - val_auc: 0.7866\n",
            "Epoch 52/500\n",
            "405/405 [==============================] - 7s 17ms/step - loss: 0.3413 - auc: 0.8008 - val_loss: 0.3576 - val_auc: 0.7865\n",
            "Epoch 53/500\n",
            "405/405 [==============================] - 7s 17ms/step - loss: 0.3411 - auc: 0.8016 - val_loss: 0.3576 - val_auc: 0.7867\n",
            "Epoch 54/500\n",
            "405/405 [==============================] - 7s 17ms/step - loss: 0.3409 - auc: 0.8024 - val_loss: 0.3576 - val_auc: 0.7868\n",
            "Epoch 55/500\n",
            "405/405 [==============================] - 7s 17ms/step - loss: 0.3398 - auc: 0.8034 - val_loss: 0.3577 - val_auc: 0.7868\n",
            "Epoch 56/500\n",
            "260/405 [==================>...........] - ETA: 2s - loss: 0.3395 - auc: 0.7977"
          ]
        },
        {
          "output_type": "error",
          "ename": "KeyboardInterrupt",
          "evalue": "ignored",
          "traceback": [
            "\u001b[0;31m---------------------------------------------------------------------------\u001b[0m",
            "\u001b[0;31mKeyboardInterrupt\u001b[0m                         Traceback (most recent call last)",
            "\u001b[0;32m<ipython-input-141-a24b2972db86>\u001b[0m in \u001b[0;36m<module>\u001b[0;34m\u001b[0m\n\u001b[1;32m      2\u001b[0m             tf.keras.callbacks.ModelCheckpoint(filepath='/content/gdrive/MyDrive/sepsis_model_weight/lstm_model/lstm_model.{epoch:02d}-{val_auc:.3f}.h5',save_best_only=True)]\n\u001b[1;32m      3\u001b[0m history_lstm3 = model3.fit(death_train_loader2,validation_data=death_test_loader2,\n\u001b[0;32m----> 4\u001b[0;31m                     batch_size=32, epochs=500,callbacks=callback)\n\u001b[0m",
            "\u001b[0;32m/usr/local/lib/python3.7/dist-packages/keras/utils/traceback_utils.py\u001b[0m in \u001b[0;36merror_handler\u001b[0;34m(*args, **kwargs)\u001b[0m\n\u001b[1;32m     62\u001b[0m     \u001b[0mfiltered_tb\u001b[0m \u001b[0;34m=\u001b[0m \u001b[0;32mNone\u001b[0m\u001b[0;34m\u001b[0m\u001b[0;34m\u001b[0m\u001b[0m\n\u001b[1;32m     63\u001b[0m     \u001b[0;32mtry\u001b[0m\u001b[0;34m:\u001b[0m\u001b[0;34m\u001b[0m\u001b[0;34m\u001b[0m\u001b[0m\n\u001b[0;32m---> 64\u001b[0;31m       \u001b[0;32mreturn\u001b[0m \u001b[0mfn\u001b[0m\u001b[0;34m(\u001b[0m\u001b[0;34m*\u001b[0m\u001b[0margs\u001b[0m\u001b[0;34m,\u001b[0m \u001b[0;34m**\u001b[0m\u001b[0mkwargs\u001b[0m\u001b[0;34m)\u001b[0m\u001b[0;34m\u001b[0m\u001b[0;34m\u001b[0m\u001b[0m\n\u001b[0m\u001b[1;32m     65\u001b[0m     \u001b[0;32mexcept\u001b[0m \u001b[0mException\u001b[0m \u001b[0;32mas\u001b[0m \u001b[0me\u001b[0m\u001b[0;34m:\u001b[0m  \u001b[0;31m# pylint: disable=broad-except\u001b[0m\u001b[0;34m\u001b[0m\u001b[0;34m\u001b[0m\u001b[0m\n\u001b[1;32m     66\u001b[0m       \u001b[0mfiltered_tb\u001b[0m \u001b[0;34m=\u001b[0m \u001b[0m_process_traceback_frames\u001b[0m\u001b[0;34m(\u001b[0m\u001b[0me\u001b[0m\u001b[0;34m.\u001b[0m\u001b[0m__traceback__\u001b[0m\u001b[0;34m)\u001b[0m\u001b[0;34m\u001b[0m\u001b[0;34m\u001b[0m\u001b[0m\n",
            "\u001b[0;32m/usr/local/lib/python3.7/dist-packages/keras/engine/training.py\u001b[0m in \u001b[0;36mfit\u001b[0;34m(self, x, y, batch_size, epochs, verbose, callbacks, validation_split, validation_data, shuffle, class_weight, sample_weight, initial_epoch, steps_per_epoch, validation_steps, validation_batch_size, validation_freq, max_queue_size, workers, use_multiprocessing)\u001b[0m\n\u001b[1;32m   1407\u001b[0m                 _r=1):\n\u001b[1;32m   1408\u001b[0m               \u001b[0mcallbacks\u001b[0m\u001b[0;34m.\u001b[0m\u001b[0mon_train_batch_begin\u001b[0m\u001b[0;34m(\u001b[0m\u001b[0mstep\u001b[0m\u001b[0;34m)\u001b[0m\u001b[0;34m\u001b[0m\u001b[0;34m\u001b[0m\u001b[0m\n\u001b[0;32m-> 1409\u001b[0;31m               \u001b[0mtmp_logs\u001b[0m \u001b[0;34m=\u001b[0m \u001b[0mself\u001b[0m\u001b[0;34m.\u001b[0m\u001b[0mtrain_function\u001b[0m\u001b[0;34m(\u001b[0m\u001b[0miterator\u001b[0m\u001b[0;34m)\u001b[0m\u001b[0;34m\u001b[0m\u001b[0;34m\u001b[0m\u001b[0m\n\u001b[0m\u001b[1;32m   1410\u001b[0m               \u001b[0;32mif\u001b[0m \u001b[0mdata_handler\u001b[0m\u001b[0;34m.\u001b[0m\u001b[0mshould_sync\u001b[0m\u001b[0;34m:\u001b[0m\u001b[0;34m\u001b[0m\u001b[0;34m\u001b[0m\u001b[0m\n\u001b[1;32m   1411\u001b[0m                 \u001b[0mcontext\u001b[0m\u001b[0;34m.\u001b[0m\u001b[0masync_wait\u001b[0m\u001b[0;34m(\u001b[0m\u001b[0;34m)\u001b[0m\u001b[0;34m\u001b[0m\u001b[0;34m\u001b[0m\u001b[0m\n",
            "\u001b[0;32m/usr/local/lib/python3.7/dist-packages/tensorflow/python/util/traceback_utils.py\u001b[0m in \u001b[0;36merror_handler\u001b[0;34m(*args, **kwargs)\u001b[0m\n\u001b[1;32m    148\u001b[0m     \u001b[0mfiltered_tb\u001b[0m \u001b[0;34m=\u001b[0m \u001b[0;32mNone\u001b[0m\u001b[0;34m\u001b[0m\u001b[0;34m\u001b[0m\u001b[0m\n\u001b[1;32m    149\u001b[0m     \u001b[0;32mtry\u001b[0m\u001b[0;34m:\u001b[0m\u001b[0;34m\u001b[0m\u001b[0;34m\u001b[0m\u001b[0m\n\u001b[0;32m--> 150\u001b[0;31m       \u001b[0;32mreturn\u001b[0m \u001b[0mfn\u001b[0m\u001b[0;34m(\u001b[0m\u001b[0;34m*\u001b[0m\u001b[0margs\u001b[0m\u001b[0;34m,\u001b[0m \u001b[0;34m**\u001b[0m\u001b[0mkwargs\u001b[0m\u001b[0;34m)\u001b[0m\u001b[0;34m\u001b[0m\u001b[0;34m\u001b[0m\u001b[0m\n\u001b[0m\u001b[1;32m    151\u001b[0m     \u001b[0;32mexcept\u001b[0m \u001b[0mException\u001b[0m \u001b[0;32mas\u001b[0m \u001b[0me\u001b[0m\u001b[0;34m:\u001b[0m\u001b[0;34m\u001b[0m\u001b[0;34m\u001b[0m\u001b[0m\n\u001b[1;32m    152\u001b[0m       \u001b[0mfiltered_tb\u001b[0m \u001b[0;34m=\u001b[0m \u001b[0m_process_traceback_frames\u001b[0m\u001b[0;34m(\u001b[0m\u001b[0me\u001b[0m\u001b[0;34m.\u001b[0m\u001b[0m__traceback__\u001b[0m\u001b[0;34m)\u001b[0m\u001b[0;34m\u001b[0m\u001b[0;34m\u001b[0m\u001b[0m\n",
            "\u001b[0;32m/usr/local/lib/python3.7/dist-packages/tensorflow/python/eager/def_function.py\u001b[0m in \u001b[0;36m__call__\u001b[0;34m(self, *args, **kwds)\u001b[0m\n\u001b[1;32m    913\u001b[0m \u001b[0;34m\u001b[0m\u001b[0m\n\u001b[1;32m    914\u001b[0m       \u001b[0;32mwith\u001b[0m \u001b[0mOptionalXlaContext\u001b[0m\u001b[0;34m(\u001b[0m\u001b[0mself\u001b[0m\u001b[0;34m.\u001b[0m\u001b[0m_jit_compile\u001b[0m\u001b[0;34m)\u001b[0m\u001b[0;34m:\u001b[0m\u001b[0;34m\u001b[0m\u001b[0;34m\u001b[0m\u001b[0m\n\u001b[0;32m--> 915\u001b[0;31m         \u001b[0mresult\u001b[0m \u001b[0;34m=\u001b[0m \u001b[0mself\u001b[0m\u001b[0;34m.\u001b[0m\u001b[0m_call\u001b[0m\u001b[0;34m(\u001b[0m\u001b[0;34m*\u001b[0m\u001b[0margs\u001b[0m\u001b[0;34m,\u001b[0m \u001b[0;34m**\u001b[0m\u001b[0mkwds\u001b[0m\u001b[0;34m)\u001b[0m\u001b[0;34m\u001b[0m\u001b[0;34m\u001b[0m\u001b[0m\n\u001b[0m\u001b[1;32m    916\u001b[0m \u001b[0;34m\u001b[0m\u001b[0m\n\u001b[1;32m    917\u001b[0m       \u001b[0mnew_tracing_count\u001b[0m \u001b[0;34m=\u001b[0m \u001b[0mself\u001b[0m\u001b[0;34m.\u001b[0m\u001b[0mexperimental_get_tracing_count\u001b[0m\u001b[0;34m(\u001b[0m\u001b[0;34m)\u001b[0m\u001b[0;34m\u001b[0m\u001b[0;34m\u001b[0m\u001b[0m\n",
            "\u001b[0;32m/usr/local/lib/python3.7/dist-packages/tensorflow/python/eager/def_function.py\u001b[0m in \u001b[0;36m_call\u001b[0;34m(self, *args, **kwds)\u001b[0m\n\u001b[1;32m    945\u001b[0m       \u001b[0;31m# In this case we have created variables on the first call, so we run the\u001b[0m\u001b[0;34m\u001b[0m\u001b[0;34m\u001b[0m\u001b[0;34m\u001b[0m\u001b[0m\n\u001b[1;32m    946\u001b[0m       \u001b[0;31m# defunned version which is guaranteed to never create variables.\u001b[0m\u001b[0;34m\u001b[0m\u001b[0;34m\u001b[0m\u001b[0;34m\u001b[0m\u001b[0m\n\u001b[0;32m--> 947\u001b[0;31m       \u001b[0;32mreturn\u001b[0m \u001b[0mself\u001b[0m\u001b[0;34m.\u001b[0m\u001b[0m_stateless_fn\u001b[0m\u001b[0;34m(\u001b[0m\u001b[0;34m*\u001b[0m\u001b[0margs\u001b[0m\u001b[0;34m,\u001b[0m \u001b[0;34m**\u001b[0m\u001b[0mkwds\u001b[0m\u001b[0;34m)\u001b[0m  \u001b[0;31m# pylint: disable=not-callable\u001b[0m\u001b[0;34m\u001b[0m\u001b[0;34m\u001b[0m\u001b[0m\n\u001b[0m\u001b[1;32m    948\u001b[0m     \u001b[0;32melif\u001b[0m \u001b[0mself\u001b[0m\u001b[0;34m.\u001b[0m\u001b[0m_stateful_fn\u001b[0m \u001b[0;32mis\u001b[0m \u001b[0;32mnot\u001b[0m \u001b[0;32mNone\u001b[0m\u001b[0;34m:\u001b[0m\u001b[0;34m\u001b[0m\u001b[0;34m\u001b[0m\u001b[0m\n\u001b[1;32m    949\u001b[0m       \u001b[0;31m# Release the lock early so that multiple threads can perform the call\u001b[0m\u001b[0;34m\u001b[0m\u001b[0;34m\u001b[0m\u001b[0;34m\u001b[0m\u001b[0m\n",
            "\u001b[0;32m/usr/local/lib/python3.7/dist-packages/tensorflow/python/eager/function.py\u001b[0m in \u001b[0;36m__call__\u001b[0;34m(self, *args, **kwargs)\u001b[0m\n\u001b[1;32m   2452\u001b[0m        filtered_flat_args) = self._maybe_define_function(args, kwargs)\n\u001b[1;32m   2453\u001b[0m     return graph_function._call_flat(\n\u001b[0;32m-> 2454\u001b[0;31m         filtered_flat_args, captured_inputs=graph_function.captured_inputs)  # pylint: disable=protected-access\n\u001b[0m\u001b[1;32m   2455\u001b[0m \u001b[0;34m\u001b[0m\u001b[0m\n\u001b[1;32m   2456\u001b[0m   \u001b[0;34m@\u001b[0m\u001b[0mproperty\u001b[0m\u001b[0;34m\u001b[0m\u001b[0;34m\u001b[0m\u001b[0m\n",
            "\u001b[0;32m/usr/local/lib/python3.7/dist-packages/tensorflow/python/eager/function.py\u001b[0m in \u001b[0;36m_call_flat\u001b[0;34m(self, args, captured_inputs, cancellation_manager)\u001b[0m\n\u001b[1;32m   1859\u001b[0m       \u001b[0;31m# No tape is watching; skip to running the function.\u001b[0m\u001b[0;34m\u001b[0m\u001b[0;34m\u001b[0m\u001b[0;34m\u001b[0m\u001b[0m\n\u001b[1;32m   1860\u001b[0m       return self._build_call_outputs(self._inference_function.call(\n\u001b[0;32m-> 1861\u001b[0;31m           ctx, args, cancellation_manager=cancellation_manager))\n\u001b[0m\u001b[1;32m   1862\u001b[0m     forward_backward = self._select_forward_and_backward_functions(\n\u001b[1;32m   1863\u001b[0m         \u001b[0margs\u001b[0m\u001b[0;34m,\u001b[0m\u001b[0;34m\u001b[0m\u001b[0;34m\u001b[0m\u001b[0m\n",
            "\u001b[0;32m/usr/local/lib/python3.7/dist-packages/tensorflow/python/eager/function.py\u001b[0m in \u001b[0;36mcall\u001b[0;34m(self, ctx, args, cancellation_manager)\u001b[0m\n\u001b[1;32m    500\u001b[0m               \u001b[0minputs\u001b[0m\u001b[0;34m=\u001b[0m\u001b[0margs\u001b[0m\u001b[0;34m,\u001b[0m\u001b[0;34m\u001b[0m\u001b[0;34m\u001b[0m\u001b[0m\n\u001b[1;32m    501\u001b[0m               \u001b[0mattrs\u001b[0m\u001b[0;34m=\u001b[0m\u001b[0mattrs\u001b[0m\u001b[0;34m,\u001b[0m\u001b[0;34m\u001b[0m\u001b[0;34m\u001b[0m\u001b[0m\n\u001b[0;32m--> 502\u001b[0;31m               ctx=ctx)\n\u001b[0m\u001b[1;32m    503\u001b[0m         \u001b[0;32melse\u001b[0m\u001b[0;34m:\u001b[0m\u001b[0;34m\u001b[0m\u001b[0;34m\u001b[0m\u001b[0m\n\u001b[1;32m    504\u001b[0m           outputs = execute.execute_with_cancellation(\n",
            "\u001b[0;32m/usr/local/lib/python3.7/dist-packages/tensorflow/python/eager/execute.py\u001b[0m in \u001b[0;36mquick_execute\u001b[0;34m(op_name, num_outputs, inputs, attrs, ctx, name)\u001b[0m\n\u001b[1;32m     53\u001b[0m     \u001b[0mctx\u001b[0m\u001b[0;34m.\u001b[0m\u001b[0mensure_initialized\u001b[0m\u001b[0;34m(\u001b[0m\u001b[0;34m)\u001b[0m\u001b[0;34m\u001b[0m\u001b[0;34m\u001b[0m\u001b[0m\n\u001b[1;32m     54\u001b[0m     tensors = pywrap_tfe.TFE_Py_Execute(ctx._handle, device_name, op_name,\n\u001b[0;32m---> 55\u001b[0;31m                                         inputs, attrs, num_outputs)\n\u001b[0m\u001b[1;32m     56\u001b[0m   \u001b[0;32mexcept\u001b[0m \u001b[0mcore\u001b[0m\u001b[0;34m.\u001b[0m\u001b[0m_NotOkStatusException\u001b[0m \u001b[0;32mas\u001b[0m \u001b[0me\u001b[0m\u001b[0;34m:\u001b[0m\u001b[0;34m\u001b[0m\u001b[0;34m\u001b[0m\u001b[0m\n\u001b[1;32m     57\u001b[0m     \u001b[0;32mif\u001b[0m \u001b[0mname\u001b[0m \u001b[0;32mis\u001b[0m \u001b[0;32mnot\u001b[0m \u001b[0;32mNone\u001b[0m\u001b[0;34m:\u001b[0m\u001b[0;34m\u001b[0m\u001b[0;34m\u001b[0m\u001b[0m\n",
            "\u001b[0;31mKeyboardInterrupt\u001b[0m: "
          ]
        }
      ]
    },
    {
      "cell_type": "code",
      "source": [
        "plt.plot(history_lstm3.history['auc'])\n",
        "plt.plot(history_lstm3.history['val_auc'])\n",
        "plt.title('model auc')\n",
        "plt.ylabel('auc')\n",
        "plt.xlabel('epoch')\n",
        "plt.legend(['train', 'val'], loc='upper left')\n",
        "plt.show()"
      ],
      "metadata": {
        "colab": {
          "base_uri": "https://localhost:8080/",
          "height": 295
        },
        "id": "yWrqoIX_gv9z",
        "outputId": "2ef8b522-974d-4e50-a1d3-2557e8fff764"
      },
      "execution_count": 142,
      "outputs": [
        {
          "output_type": "display_data",
          "data": {
            "text/plain": [
              "<Figure size 432x288 with 1 Axes>"
            ],
            "image/png": "[encoded data removed]"
          },
          "metadata": {
            "needs_background": "light"
          }
        }
      ]
    },
    {
      "cell_type": "code",
      "source": [],
      "metadata": {
        "id": "ZCzZefxkuKa0"
      },
      "execution_count": null,
      "outputs": []
    },
    {
      "cell_type": "code",
      "execution_count": null,
      "metadata": {
        "id": "BvtrN0bDaeuX"
      },
      "outputs": [],
      "source": [
        "# Trainset, Testset에 대한 ROC 커브 그리고 Confusion Matrix 구해보기\n",
        "import matplotlib.pyplot as plt\n",
        "from sklearn.metrics import roc_curve, precision_recall_curve, roc_auc_score, average_precision_score, confusion_matrix\n",
        "\n",
        "%matplotlib inline\n",
        "lstm_train_predicts, lstm_test_predicts = list(), list()\n",
        "lstm_train_labels, lstm_test_labels = list(), list()\n",
        "\n",
        "for tr_x, tr_y in death_train_loader:\n",
        "  batch_predict = death_lstm.predict(tr_x)\n",
        "  lstm_train_predicts.append(batch_predict)\n",
        "  lstm_train_labels.append(tr_y)\n",
        "\n",
        "  batch_predict = death_trans.predict(tr_x)\n",
        "  trans_train_predicts.append(batch_predict)\n",
        "  trans_train_labels.append(tr_y)\n",
        "\n",
        "for test_x, test_y in death_test_loader:\n",
        "  batch_predict = death_lstm.predict(test_x)\n",
        "  lstm_test_predicts.append(batch_predict)\n",
        "  lstm_test_labels.append(test_y)\n",
        "\n",
        "  batch_predict = death_trans.predict(test_x)\n",
        "  trans_test_predicts.append(batch_predict)\n",
        "  trans_test_labels.append(test_y)\n",
        "\n",
        "lstm_train_predicts = np.concatenate(lstm_train_predicts).reshape(-1, 1)\n",
        "lstm_train_labels = np.concatenate(lstm_train_labels).astype('int')\n",
        "lstm_test_predicts = np.concatenate(lstm_test_predicts).reshape(-1, 1)\n",
        "lstm_test_labels = np.concatenate(lstm_test_labels).astype('int')\n",
        "\n",
        "trans_train_predicts = np.concatenate(trans_train_predicts).reshape(-1, 1)\n",
        "trans_train_labels = np.concatenate(trans_train_labels).astype('int')\n",
        "trans_test_predicts = np.concatenate(trans_test_predicts).reshape(-1, 1)\n",
        "trans_test_labels = np.concatenate(trans_test_labels).astype('int')\n",
        "\n",
        "\n",
        "trans_train_roc_x, trans_train_roc_y, _ = roc_curve(trans_train_labels, trans_train_predicts)\n",
        "trans_train_auroc = roc_auc_score(trans_train_labels, trans_train_predicts)\n",
        "trans_test_roc_x, trans_test_roc_y, _ = roc_curve(trans_test_labels, trans_test_predicts)\n",
        "trans_test_auroc = roc_auc_score(trans_test_labels, trans_test_predicts)\n",
        "# trans_train_roc_x, trans_train_roc_y, _ = roc_curve(trans_train_labels, trans_train_predicts)\n",
        "# trans_train_auroc = roc_auc_score(trans_train_labels, trans_train_predicts)\n",
        "# trans_test_roc_x, trans_test_roc_y, _ = roc_curve(trans_test_labels, trans_test_predicts)\n",
        "# trans_test_auroc = roc_auc_score(trans_test_labels, trans_test_predicts)\n",
        "\n",
        "lstm_train_roc_x, lstm_train_roc_y, _ = roc_curve(lstm_train_labels, lstm_train_predicts)\n",
        "lstm_train_auroc = roc_auc_score(lstm_train_labels, lstm_train_predicts)\n",
        "lstm_test_roc_x, lstm_test_roc_y, _ = roc_curve(lstm_test_labels, lstm_test_predicts)\n",
        "lstm_test_auroc = roc_auc_score(lstm_test_labels, lstm_test_predicts)\n",
        "# lstm_train_roc_x, lstm_train_roc_y, _ = roc_curve(lstm_train_labels, lstm_train_predicts)\n",
        "# lstm_train_auroc = roc_auc_score(lstm_train_labels, lstm_train_predicts)\n",
        "# lstm_test_roc_x, lstm_test_roc_y, _ = roc_curve(lstm_test_labels, lstm_test_predicts)\n",
        "# lstm_test_auroc = roc_auc_score(lstm_test_labels, lstm_test_predicts)\n",
        "\n",
        "plt.figure()\n",
        "plt.xlabel('False Positive Rate (1 - Specificity)')\n",
        "plt.ylabel('True Positive Rate (Sensitivity)')\n",
        "plt.title('ROC Curve')\n",
        "\n",
        "\n",
        "plt.plot(lstm_train_roc_x, lstm_train_roc_y, linewidth=1.5, label='{} (AUROC={:.3f})'.format('LSTM Train', lstm_train_auroc))\n",
        "plt.plot(lstm_test_roc_x, lstm_test_roc_y, linewidth=1.5, label='{} (AUROC={:.3f})'.format('LSTM Test', lstm_test_auroc))\n",
        "\n",
        "plt.legend(fancybox=True)\n",
        "\n",
        "plt.show()"
      ]
    },
    {
      "cell_type": "code",
      "execution_count": null,
      "metadata": {
        "id": "JQC8OpbhZmLQ"
      },
      "outputs": [],
      "source": [
        "from keras import backend as k\n",
        "k.clear_session()"
      ]
    },
    {
      "cell_type": "markdown",
      "metadata": {
        "id": "ABTMAjyBXfd-"
      },
      "source": []
    },
    {
      "cell_type": "code",
      "execution_count": null,
      "metadata": {
        "id": "lWCgxDDqYNn2"
      },
      "outputs": [],
      "source": [
        "sum(death_train['LABEL'])/len(death_train['LABEL'])"
      ]
    },
    {
      "cell_type": "markdown",
      "metadata": {
        "id": "Bp43b-ctXfbj"
      },
      "source": [
        "모델 저장과\n",
        "test data로 test( 5개 모델간 차이가 있는지)"
      ]
    },
    {
      "cell_type": "code",
      "execution_count": null,
      "metadata": {
        "id": "iSVsO4EkOi9R"
      },
      "outputs": [],
      "source": []
    }
  ],
  "metadata": {
    "accelerator": "GPU",
    "colab": {
      "collapsed_sections": [],
      "machine_shape": "hm",
      "provenance": [],
      "include_colab_link": true
    },
    "gpuClass": "premium",
    "kernelspec": {
      "display_name": "Python 3",
      "name": "python3"
    },
    "language_info": {
      "name": "python"
    },
    "widgets": {
      "application/vnd.jupyter.widget-state+json": {
        "c3da6ff9029f444e96cc5578c09e49b0": {
          "model_module": "@jupyter-widgets/controls",
          "model_name": "HBoxModel",
          "model_module_version": "1.5.0",
          "state": {
            "_dom_classes": [],
            "_model_module": "@jupyter-widgets/controls",
            "_model_module_version": "1.5.0",
            "_model_name": "HBoxModel",
            "_view_count": null,
            "_view_module": "@jupyter-widgets/controls",
            "_view_module_version": "1.5.0",
            "_view_name": "HBoxView",
            "box_style": "",
            "children": [
              "IPY_MODEL_231221e0ec6f4984807b0ccf78b4f7bd",
              "IPY_MODEL_d8e21959d45c47cca9a0664f00266716",
              "IPY_MODEL_244a5fc4774342d79d93fa511716a021"
            ],
            "layout": "IPY_MODEL_798cce7fce034531860edd2e8b568ea9"
          }
        },
        "231221e0ec6f4984807b0ccf78b4f7bd": {
          "model_module": "@jupyter-widgets/controls",
          "model_name": "HTMLModel",
          "model_module_version": "1.5.0",
          "state": {
            "_dom_classes": [],
            "_model_module": "@jupyter-widgets/controls",
            "_model_module_version": "1.5.0",
            "_model_name": "HTMLModel",
            "_view_count": null,
            "_view_module": "@jupyter-widgets/controls",
            "_view_module_version": "1.5.0",
            "_view_name": "HTMLView",
            "description": "",
            "description_tooltip": null,
            "layout": "IPY_MODEL_c248559b56354d79a22c622a27dacf10",
            "placeholder": "​",
            "style": "IPY_MODEL_be1afeed60e943ae9bdf5f803558f803",
            "value": "Get Death Label: "
          }
        },
        "d8e21959d45c47cca9a0664f00266716": {
          "model_module": "@jupyter-widgets/controls",
          "model_name": "FloatProgressModel",
          "model_module_version": "1.5.0",
          "state": {
            "_dom_classes": [],
            "_model_module": "@jupyter-widgets/controls",
            "_model_module_version": "1.5.0",
            "_model_name": "FloatProgressModel",
            "_view_count": null,
            "_view_module": "@jupyter-widgets/controls",
            "_view_module_version": "1.5.0",
            "_view_name": "ProgressView",
            "bar_style": "success",
            "description": "",
            "description_tooltip": null,
            "layout": "IPY_MODEL_0590aab3dcf14e3fb0147e5d9031b549",
            "max": 1,
            "min": 0,
            "orientation": "horizontal",
            "style": "IPY_MODEL_e795de0da39047d6bfb4d6e87258119b",
            "value": 1
          }
        },
        "244a5fc4774342d79d93fa511716a021": {
          "model_module": "@jupyter-widgets/controls",
          "model_name": "HTMLModel",
          "model_module_version": "1.5.0",
          "state": {
            "_dom_classes": [],
            "_model_module": "@jupyter-widgets/controls",
            "_model_module_version": "1.5.0",
            "_model_name": "HTMLModel",
            "_view_count": null,
            "_view_module": "@jupyter-widgets/controls",
            "_view_module_version": "1.5.0",
            "_view_name": "HTMLView",
            "description": "",
            "description_tooltip": null,
            "layout": "IPY_MODEL_3c8d9fa7a1024e4798bb8191b819b395",
            "placeholder": "​",
            "style": "IPY_MODEL_b9532c8aabe44caa8aeee4055bcd9af2",
            "value": " 195836/? [00:06&lt;00:00, 32872.59it/s]"
          }
        },
        "798cce7fce034531860edd2e8b568ea9": {
          "model_module": "@jupyter-widgets/base",
          "model_name": "LayoutModel",
          "model_module_version": "1.2.0",
          "state": {
            "_model_module": "@jupyter-widgets/base",
            "_model_module_version": "1.2.0",
            "_model_name": "LayoutModel",
            "_view_count": null,
            "_view_module": "@jupyter-widgets/base",
            "_view_module_version": "1.2.0",
            "_view_name": "LayoutView",
            "align_content": null,
            "align_items": null,
            "align_self": null,
            "border": null,
            "bottom": null,
            "display": null,
            "flex": null,
            "flex_flow": null,
            "grid_area": null,
            "grid_auto_columns": null,
            "grid_auto_flow": null,
            "grid_auto_rows": null,
            "grid_column": null,
            "grid_gap": null,
            "grid_row": null,
            "grid_template_areas": null,
            "grid_template_columns": null,
            "grid_template_rows": null,
            "height": null,
            "justify_content": null,
            "justify_items": null,
            "left": null,
            "margin": null,
            "max_height": null,
            "max_width": null,
            "min_height": null,
            "min_width": null,
            "object_fit": null,
            "object_position": null,
            "order": null,
            "overflow": null,
            "overflow_x": null,
            "overflow_y": null,
            "padding": null,
            "right": null,
            "top": null,
            "visibility": null,
            "width": null
          }
        },
        "c248559b56354d79a22c622a27dacf10": {
          "model_module": "@jupyter-widgets/base",
          "model_name": "LayoutModel",
          "model_module_version": "1.2.0",
          "state": {
            "_model_module": "@jupyter-widgets/base",
            "_model_module_version": "1.2.0",
            "_model_name": "LayoutModel",
            "_view_count": null,
            "_view_module": "@jupyter-widgets/base",
            "_view_module_version": "1.2.0",
            "_view_name": "LayoutView",
            "align_content": null,
            "align_items": null,
            "align_self": null,
            "border": null,
            "bottom": null,
            "display": null,
            "flex": null,
            "flex_flow": null,
            "grid_area": null,
            "grid_auto_columns": null,
            "grid_auto_flow": null,
            "grid_auto_rows": null,
            "grid_column": null,
            "grid_gap": null,
            "grid_row": null,
            "grid_template_areas": null,
            "grid_template_columns": null,
            "grid_template_rows": null,
            "height": null,
            "justify_content": null,
            "justify_items": null,
            "left": null,
            "margin": null,
            "max_height": null,
            "max_width": null,
            "min_height": null,
            "min_width": null,
            "object_fit": null,
            "object_position": null,
            "order": null,
            "overflow": null,
            "overflow_x": null,
            "overflow_y": null,
            "padding": null,
            "right": null,
            "top": null,
            "visibility": null,
            "width": null
          }
        },
        "be1afeed60e943ae9bdf5f803558f803": {
          "model_module": "@jupyter-widgets/controls",
          "model_name": "DescriptionStyleModel",
          "model_module_version": "1.5.0",
          "state": {
            "_model_module": "@jupyter-widgets/controls",
            "_model_module_version": "1.5.0",
            "_model_name": "DescriptionStyleModel",
            "_view_count": null,
            "_view_module": "@jupyter-widgets/base",
            "_view_module_version": "1.2.0",
            "_view_name": "StyleView",
            "description_width": ""
          }
        },
        "0590aab3dcf14e3fb0147e5d9031b549": {
          "model_module": "@jupyter-widgets/base",
          "model_name": "LayoutModel",
          "model_module_version": "1.2.0",
          "state": {
            "_model_module": "@jupyter-widgets/base",
            "_model_module_version": "1.2.0",
            "_model_name": "LayoutModel",
            "_view_count": null,
            "_view_module": "@jupyter-widgets/base",
            "_view_module_version": "1.2.0",
            "_view_name": "LayoutView",
            "align_content": null,
            "align_items": null,
            "align_self": null,
            "border": null,
            "bottom": null,
            "display": null,
            "flex": null,
            "flex_flow": null,
            "grid_area": null,
            "grid_auto_columns": null,
            "grid_auto_flow": null,
            "grid_auto_rows": null,
            "grid_column": null,
            "grid_gap": null,
            "grid_row": null,
            "grid_template_areas": null,
            "grid_template_columns": null,
            "grid_template_rows": null,
            "height": null,
            "justify_content": null,
            "justify_items": null,
            "left": null,
            "margin": null,
            "max_height": null,
            "max_width": null,
            "min_height": null,
            "min_width": null,
            "object_fit": null,
            "object_position": null,
            "order": null,
            "overflow": null,
            "overflow_x": null,
            "overflow_y": null,
            "padding": null,
            "right": null,
            "top": null,
            "visibility": null,
            "width": "20px"
          }
        },
        "e795de0da39047d6bfb4d6e87258119b": {
          "model_module": "@jupyter-widgets/controls",
          "model_name": "ProgressStyleModel",
          "model_module_version": "1.5.0",
          "state": {
            "_model_module": "@jupyter-widgets/controls",
            "_model_module_version": "1.5.0",
            "_model_name": "ProgressStyleModel",
            "_view_count": null,
            "_view_module": "@jupyter-widgets/base",
            "_view_module_version": "1.2.0",
            "_view_name": "StyleView",
            "bar_color": null,
            "description_width": ""
          }
        },
        "3c8d9fa7a1024e4798bb8191b819b395": {
          "model_module": "@jupyter-widgets/base",
          "model_name": "LayoutModel",
          "model_module_version": "1.2.0",
          "state": {
            "_model_module": "@jupyter-widgets/base",
            "_model_module_version": "1.2.0",
            "_model_name": "LayoutModel",
            "_view_count": null,
            "_view_module": "@jupyter-widgets/base",
            "_view_module_version": "1.2.0",
            "_view_name": "LayoutView",
            "align_content": null,
            "align_items": null,
            "align_self": null,
            "border": null,
            "bottom": null,
            "display": null,
            "flex": null,
            "flex_flow": null,
            "grid_area": null,
            "grid_auto_columns": null,
            "grid_auto_flow": null,
            "grid_auto_rows": null,
            "grid_column": null,
            "grid_gap": null,
            "grid_row": null,
            "grid_template_areas": null,
            "grid_template_columns": null,
            "grid_template_rows": null,
            "height": null,
            "justify_content": null,
            "justify_items": null,
            "left": null,
            "margin": null,
            "max_height": null,
            "max_width": null,
            "min_height": null,
            "min_width": null,
            "object_fit": null,
            "object_position": null,
            "order": null,
            "overflow": null,
            "overflow_x": null,
            "overflow_y": null,
            "padding": null,
            "right": null,
            "top": null,
            "visibility": null,
            "width": null
          }
        },
        "b9532c8aabe44caa8aeee4055bcd9af2": {
          "model_module": "@jupyter-widgets/controls",
          "model_name": "DescriptionStyleModel",
          "model_module_version": "1.5.0",
          "state": {
            "_model_module": "@jupyter-widgets/controls",
            "_model_module_version": "1.5.0",
            "_model_name": "DescriptionStyleModel",
            "_view_count": null,
            "_view_module": "@jupyter-widgets/base",
            "_view_module_version": "1.2.0",
            "_view_name": "StyleView",
            "description_width": ""
          }
        },
        "23a669aa0e6b43b0bbb5193af9e67f9f": {
          "model_module": "@jupyter-widgets/controls",
          "model_name": "HBoxModel",
          "model_module_version": "1.5.0",
          "state": {
            "_dom_classes": [],
            "_model_module": "@jupyter-widgets/controls",
            "_model_module_version": "1.5.0",
            "_model_name": "HBoxModel",
            "_view_count": null,
            "_view_module": "@jupyter-widgets/controls",
            "_view_module_version": "1.5.0",
            "_view_name": "HBoxView",
            "box_style": "",
            "children": [
              "IPY_MODEL_c2993414c1954395b80eec26dcbea23b",
              "IPY_MODEL_49970200e6bd4045a01b65e342ab4e39",
              "IPY_MODEL_12b3829aa8334d41b6e85aa44fdf56d0"
            ],
            "layout": "IPY_MODEL_d0aa67892bad44a9b10fa12b91e400c0"
          }
        },
        "c2993414c1954395b80eec26dcbea23b": {
          "model_module": "@jupyter-widgets/controls",
          "model_name": "HTMLModel",
          "model_module_version": "1.5.0",
          "state": {
            "_dom_classes": [],
            "_model_module": "@jupyter-widgets/controls",
            "_model_module_version": "1.5.0",
            "_model_name": "HTMLModel",
            "_view_count": null,
            "_view_module": "@jupyter-widgets/controls",
            "_view_module_version": "1.5.0",
            "_view_name": "HTMLView",
            "description": "",
            "description_tooltip": null,
            "layout": "IPY_MODEL_2dfcbfcf650b4ac18a18b8e5f3519c2f",
            "placeholder": "​",
            "style": "IPY_MODEL_0f6dfe5c496845a697ec5870c46d4409",
            "value": "Doing Quantization: 100%"
          }
        },
        "49970200e6bd4045a01b65e342ab4e39": {
          "model_module": "@jupyter-widgets/controls",
          "model_name": "FloatProgressModel",
          "model_module_version": "1.5.0",
          "state": {
            "_dom_classes": [],
            "_model_module": "@jupyter-widgets/controls",
            "_model_module_version": "1.5.0",
            "_model_name": "FloatProgressModel",
            "_view_count": null,
            "_view_module": "@jupyter-widgets/controls",
            "_view_module_version": "1.5.0",
            "_view_name": "ProgressView",
            "bar_style": "success",
            "description": "",
            "description_tooltip": null,
            "layout": "IPY_MODEL_a3b1423791ac4bd0afd6569ff0b78c0d",
            "max": 32365,
            "min": 0,
            "orientation": "horizontal",
            "style": "IPY_MODEL_032d6ebcb5ba4a8eb067646a719bddf3",
            "value": 32365
          }
        },
        "12b3829aa8334d41b6e85aa44fdf56d0": {
          "model_module": "@jupyter-widgets/controls",
          "model_name": "HTMLModel",
          "model_module_version": "1.5.0",
          "state": {
            "_dom_classes": [],
            "_model_module": "@jupyter-widgets/controls",
            "_model_module_version": "1.5.0",
            "_model_name": "HTMLModel",
            "_view_count": null,
            "_view_module": "@jupyter-widgets/controls",
            "_view_module_version": "1.5.0",
            "_view_name": "HTMLView",
            "description": "",
            "description_tooltip": null,
            "layout": "IPY_MODEL_9118f073a7f24a7aaf2863d9d4600a9e",
            "placeholder": "​",
            "style": "IPY_MODEL_658594a869034e26abdc189c35a9c38e",
            "value": " 32365/32365 [02:23&lt;00:00, 216.59it/s]"
          }
        },
        "d0aa67892bad44a9b10fa12b91e400c0": {
          "model_module": "@jupyter-widgets/base",
          "model_name": "LayoutModel",
          "model_module_version": "1.2.0",
          "state": {
            "_model_module": "@jupyter-widgets/base",
            "_model_module_version": "1.2.0",
            "_model_name": "LayoutModel",
            "_view_count": null,
            "_view_module": "@jupyter-widgets/base",
            "_view_module_version": "1.2.0",
            "_view_name": "LayoutView",
            "align_content": null,
            "align_items": null,
            "align_self": null,
            "border": null,
            "bottom": null,
            "display": null,
            "flex": null,
            "flex_flow": null,
            "grid_area": null,
            "grid_auto_columns": null,
            "grid_auto_flow": null,
            "grid_auto_rows": null,
            "grid_column": null,
            "grid_gap": null,
            "grid_row": null,
            "grid_template_areas": null,
            "grid_template_columns": null,
            "grid_template_rows": null,
            "height": null,
            "justify_content": null,
            "justify_items": null,
            "left": null,
            "margin": null,
            "max_height": null,
            "max_width": null,
            "min_height": null,
            "min_width": null,
            "object_fit": null,
            "object_position": null,
            "order": null,
            "overflow": null,
            "overflow_x": null,
            "overflow_y": null,
            "padding": null,
            "right": null,
            "top": null,
            "visibility": null,
            "width": null
          }
        },
        "2dfcbfcf650b4ac18a18b8e5f3519c2f": {
          "model_module": "@jupyter-widgets/base",
          "model_name": "LayoutModel",
          "model_module_version": "1.2.0",
          "state": {
            "_model_module": "@jupyter-widgets/base",
            "_model_module_version": "1.2.0",
            "_model_name": "LayoutModel",
            "_view_count": null,
            "_view_module": "@jupyter-widgets/base",
            "_view_module_version": "1.2.0",
            "_view_name": "LayoutView",
            "align_content": null,
            "align_items": null,
            "align_self": null,
            "border": null,
            "bottom": null,
            "display": null,
            "flex": null,
            "flex_flow": null,
            "grid_area": null,
            "grid_auto_columns": null,
            "grid_auto_flow": null,
            "grid_auto_rows": null,
            "grid_column": null,
            "grid_gap": null,
            "grid_row": null,
            "grid_template_areas": null,
            "grid_template_columns": null,
            "grid_template_rows": null,
            "height": null,
            "justify_content": null,
            "justify_items": null,
            "left": null,
            "margin": null,
            "max_height": null,
            "max_width": null,
            "min_height": null,
            "min_width": null,
            "object_fit": null,
            "object_position": null,
            "order": null,
            "overflow": null,
            "overflow_x": null,
            "overflow_y": null,
            "padding": null,
            "right": null,
            "top": null,
            "visibility": null,
            "width": null
          }
        },
        "0f6dfe5c496845a697ec5870c46d4409": {
          "model_module": "@jupyter-widgets/controls",
          "model_name": "DescriptionStyleModel",
          "model_module_version": "1.5.0",
          "state": {
            "_model_module": "@jupyter-widgets/controls",
            "_model_module_version": "1.5.0",
            "_model_name": "DescriptionStyleModel",
            "_view_count": null,
            "_view_module": "@jupyter-widgets/base",
            "_view_module_version": "1.2.0",
            "_view_name": "StyleView",
            "description_width": ""
          }
        },
        "a3b1423791ac4bd0afd6569ff0b78c0d": {
          "model_module": "@jupyter-widgets/base",
          "model_name": "LayoutModel",
          "model_module_version": "1.2.0",
          "state": {
            "_model_module": "@jupyter-widgets/base",
            "_model_module_version": "1.2.0",
            "_model_name": "LayoutModel",
            "_view_count": null,
            "_view_module": "@jupyter-widgets/base",
            "_view_module_version": "1.2.0",
            "_view_name": "LayoutView",
            "align_content": null,
            "align_items": null,
            "align_self": null,
            "border": null,
            "bottom": null,
            "display": null,
            "flex": null,
            "flex_flow": null,
            "grid_area": null,
            "grid_auto_columns": null,
            "grid_auto_flow": null,
            "grid_auto_rows": null,
            "grid_column": null,
            "grid_gap": null,
            "grid_row": null,
            "grid_template_areas": null,
            "grid_template_columns": null,
            "grid_template_rows": null,
            "height": null,
            "justify_content": null,
            "justify_items": null,
            "left": null,
            "margin": null,
            "max_height": null,
            "max_width": null,
            "min_height": null,
            "min_width": null,
            "object_fit": null,
            "object_position": null,
            "order": null,
            "overflow": null,
            "overflow_x": null,
            "overflow_y": null,
            "padding": null,
            "right": null,
            "top": null,
            "visibility": null,
            "width": null
          }
        },
        "032d6ebcb5ba4a8eb067646a719bddf3": {
          "model_module": "@jupyter-widgets/controls",
          "model_name": "ProgressStyleModel",
          "model_module_version": "1.5.0",
          "state": {
            "_model_module": "@jupyter-widgets/controls",
            "_model_module_version": "1.5.0",
            "_model_name": "ProgressStyleModel",
            "_view_count": null,
            "_view_module": "@jupyter-widgets/base",
            "_view_module_version": "1.2.0",
            "_view_name": "StyleView",
            "bar_color": null,
            "description_width": ""
          }
        },
        "9118f073a7f24a7aaf2863d9d4600a9e": {
          "model_module": "@jupyter-widgets/base",
          "model_name": "LayoutModel",
          "model_module_version": "1.2.0",
          "state": {
            "_model_module": "@jupyter-widgets/base",
            "_model_module_version": "1.2.0",
            "_model_name": "LayoutModel",
            "_view_count": null,
            "_view_module": "@jupyter-widgets/base",
            "_view_module_version": "1.2.0",
            "_view_name": "LayoutView",
            "align_content": null,
            "align_items": null,
            "align_self": null,
            "border": null,
            "bottom": null,
            "display": null,
            "flex": null,
            "flex_flow": null,
            "grid_area": null,
            "grid_auto_columns": null,
            "grid_auto_flow": null,
            "grid_auto_rows": null,
            "grid_column": null,
            "grid_gap": null,
            "grid_row": null,
            "grid_template_areas": null,
            "grid_template_columns": null,
            "grid_template_rows": null,
            "height": null,
            "justify_content": null,
            "justify_items": null,
            "left": null,
            "margin": null,
            "max_height": null,
            "max_width": null,
            "min_height": null,
            "min_width": null,
            "object_fit": null,
            "object_position": null,
            "order": null,
            "overflow": null,
            "overflow_x": null,
            "overflow_y": null,
            "padding": null,
            "right": null,
            "top": null,
            "visibility": null,
            "width": null
          }
        },
        "658594a869034e26abdc189c35a9c38e": {
          "model_module": "@jupyter-widgets/controls",
          "model_name": "DescriptionStyleModel",
          "model_module_version": "1.5.0",
          "state": {
            "_model_module": "@jupyter-widgets/controls",
            "_model_module_version": "1.5.0",
            "_model_name": "DescriptionStyleModel",
            "_view_count": null,
            "_view_module": "@jupyter-widgets/base",
            "_view_module_version": "1.2.0",
            "_view_name": "StyleView",
            "description_width": ""
          }
        },
        "25b4b36be3f946f7910a1221cc8a65e4": {
          "model_module": "@jupyter-widgets/controls",
          "model_name": "HBoxModel",
          "model_module_version": "1.5.0",
          "state": {
            "_dom_classes": [],
            "_model_module": "@jupyter-widgets/controls",
            "_model_module_version": "1.5.0",
            "_model_name": "HBoxModel",
            "_view_count": null,
            "_view_module": "@jupyter-widgets/controls",
            "_view_module_version": "1.5.0",
            "_view_name": "HBoxView",
            "box_style": "",
            "children": [
              "IPY_MODEL_c51258259c934bb489b55c2a52e5efb1",
              "IPY_MODEL_5d9861602ed5489f83b0fce15c5f7ed2",
              "IPY_MODEL_cec6ef3047634a9484124e6fed43b523"
            ],
            "layout": "IPY_MODEL_a574c562c78c4ba9ac28b60ae825530c"
          }
        },
        "c51258259c934bb489b55c2a52e5efb1": {
          "model_module": "@jupyter-widgets/controls",
          "model_name": "HTMLModel",
          "model_module_version": "1.5.0",
          "state": {
            "_dom_classes": [],
            "_model_module": "@jupyter-widgets/controls",
            "_model_module_version": "1.5.0",
            "_model_name": "HTMLModel",
            "_view_count": null,
            "_view_module": "@jupyter-widgets/controls",
            "_view_module_version": "1.5.0",
            "_view_name": "HTMLView",
            "description": "",
            "description_tooltip": null,
            "layout": "IPY_MODEL_26e8f4ff8a454586a8ec593daba1683d",
            "placeholder": "​",
            "style": "IPY_MODEL_bccc14dcfa654055ba91a89017354a6c",
            "value": "Carry-Forward: 100%"
          }
        },
        "5d9861602ed5489f83b0fce15c5f7ed2": {
          "model_module": "@jupyter-widgets/controls",
          "model_name": "FloatProgressModel",
          "model_module_version": "1.5.0",
          "state": {
            "_dom_classes": [],
            "_model_module": "@jupyter-widgets/controls",
            "_model_module_version": "1.5.0",
            "_model_name": "FloatProgressModel",
            "_view_count": null,
            "_view_module": "@jupyter-widgets/controls",
            "_view_module_version": "1.5.0",
            "_view_name": "ProgressView",
            "bar_style": "success",
            "description": "",
            "description_tooltip": null,
            "layout": "IPY_MODEL_ee9ea6d0fedf41d5b4ff021e3e361cbd",
            "max": 32340,
            "min": 0,
            "orientation": "horizontal",
            "style": "IPY_MODEL_71d5d9515b1f43b59a57e6bca7892d7b",
            "value": 32340
          }
        },
        "cec6ef3047634a9484124e6fed43b523": {
          "model_module": "@jupyter-widgets/controls",
          "model_name": "HTMLModel",
          "model_module_version": "1.5.0",
          "state": {
            "_dom_classes": [],
            "_model_module": "@jupyter-widgets/controls",
            "_model_module_version": "1.5.0",
            "_model_name": "HTMLModel",
            "_view_count": null,
            "_view_module": "@jupyter-widgets/controls",
            "_view_module_version": "1.5.0",
            "_view_name": "HTMLView",
            "description": "",
            "description_tooltip": null,
            "layout": "IPY_MODEL_e792741e0f9349b6b4a499606b0ea9ae",
            "placeholder": "​",
            "style": "IPY_MODEL_f083a86d5c4744519661c5da9e9e0414",
            "value": " 32340/32340 [04:54&lt;00:00, 109.33it/s]"
          }
        },
        "a574c562c78c4ba9ac28b60ae825530c": {
          "model_module": "@jupyter-widgets/base",
          "model_name": "LayoutModel",
          "model_module_version": "1.2.0",
          "state": {
            "_model_module": "@jupyter-widgets/base",
            "_model_module_version": "1.2.0",
            "_model_name": "LayoutModel",
            "_view_count": null,
            "_view_module": "@jupyter-widgets/base",
            "_view_module_version": "1.2.0",
            "_view_name": "LayoutView",
            "align_content": null,
            "align_items": null,
            "align_self": null,
            "border": null,
            "bottom": null,
            "display": null,
            "flex": null,
            "flex_flow": null,
            "grid_area": null,
            "grid_auto_columns": null,
            "grid_auto_flow": null,
            "grid_auto_rows": null,
            "grid_column": null,
            "grid_gap": null,
            "grid_row": null,
            "grid_template_areas": null,
            "grid_template_columns": null,
            "grid_template_rows": null,
            "height": null,
            "justify_content": null,
            "justify_items": null,
            "left": null,
            "margin": null,
            "max_height": null,
            "max_width": null,
            "min_height": null,
            "min_width": null,
            "object_fit": null,
            "object_position": null,
            "order": null,
            "overflow": null,
            "overflow_x": null,
            "overflow_y": null,
            "padding": null,
            "right": null,
            "top": null,
            "visibility": null,
            "width": null
          }
        },
        "26e8f4ff8a454586a8ec593daba1683d": {
          "model_module": "@jupyter-widgets/base",
          "model_name": "LayoutModel",
          "model_module_version": "1.2.0",
          "state": {
            "_model_module": "@jupyter-widgets/base",
            "_model_module_version": "1.2.0",
            "_model_name": "LayoutModel",
            "_view_count": null,
            "_view_module": "@jupyter-widgets/base",
            "_view_module_version": "1.2.0",
            "_view_name": "LayoutView",
            "align_content": null,
            "align_items": null,
            "align_self": null,
            "border": null,
            "bottom": null,
            "display": null,
            "flex": null,
            "flex_flow": null,
            "grid_area": null,
            "grid_auto_columns": null,
            "grid_auto_flow": null,
            "grid_auto_rows": null,
            "grid_column": null,
            "grid_gap": null,
            "grid_row": null,
            "grid_template_areas": null,
            "grid_template_columns": null,
            "grid_template_rows": null,
            "height": null,
            "justify_content": null,
            "justify_items": null,
            "left": null,
            "margin": null,
            "max_height": null,
            "max_width": null,
            "min_height": null,
            "min_width": null,
            "object_fit": null,
            "object_position": null,
            "order": null,
            "overflow": null,
            "overflow_x": null,
            "overflow_y": null,
            "padding": null,
            "right": null,
            "top": null,
            "visibility": null,
            "width": null
          }
        },
        "bccc14dcfa654055ba91a89017354a6c": {
          "model_module": "@jupyter-widgets/controls",
          "model_name": "DescriptionStyleModel",
          "model_module_version": "1.5.0",
          "state": {
            "_model_module": "@jupyter-widgets/controls",
            "_model_module_version": "1.5.0",
            "_model_name": "DescriptionStyleModel",
            "_view_count": null,
            "_view_module": "@jupyter-widgets/base",
            "_view_module_version": "1.2.0",
            "_view_name": "StyleView",
            "description_width": ""
          }
        },
        "ee9ea6d0fedf41d5b4ff021e3e361cbd": {
          "model_module": "@jupyter-widgets/base",
          "model_name": "LayoutModel",
          "model_module_version": "1.2.0",
          "state": {
            "_model_module": "@jupyter-widgets/base",
            "_model_module_version": "1.2.0",
            "_model_name": "LayoutModel",
            "_view_count": null,
            "_view_module": "@jupyter-widgets/base",
            "_view_module_version": "1.2.0",
            "_view_name": "LayoutView",
            "align_content": null,
            "align_items": null,
            "align_self": null,
            "border": null,
            "bottom": null,
            "display": null,
            "flex": null,
            "flex_flow": null,
            "grid_area": null,
            "grid_auto_columns": null,
            "grid_auto_flow": null,
            "grid_auto_rows": null,
            "grid_column": null,
            "grid_gap": null,
            "grid_row": null,
            "grid_template_areas": null,
            "grid_template_columns": null,
            "grid_template_rows": null,
            "height": null,
            "justify_content": null,
            "justify_items": null,
            "left": null,
            "margin": null,
            "max_height": null,
            "max_width": null,
            "min_height": null,
            "min_width": null,
            "object_fit": null,
            "object_position": null,
            "order": null,
            "overflow": null,
            "overflow_x": null,
            "overflow_y": null,
            "padding": null,
            "right": null,
            "top": null,
            "visibility": null,
            "width": null
          }
        },
        "71d5d9515b1f43b59a57e6bca7892d7b": {
          "model_module": "@jupyter-widgets/controls",
          "model_name": "ProgressStyleModel",
          "model_module_version": "1.5.0",
          "state": {
            "_model_module": "@jupyter-widgets/controls",
            "_model_module_version": "1.5.0",
            "_model_name": "ProgressStyleModel",
            "_view_count": null,
            "_view_module": "@jupyter-widgets/base",
            "_view_module_version": "1.2.0",
            "_view_name": "StyleView",
            "bar_color": null,
            "description_width": ""
          }
        },
        "e792741e0f9349b6b4a499606b0ea9ae": {
          "model_module": "@jupyter-widgets/base",
          "model_name": "LayoutModel",
          "model_module_version": "1.2.0",
          "state": {
            "_model_module": "@jupyter-widgets/base",
            "_model_module_version": "1.2.0",
            "_model_name": "LayoutModel",
            "_view_count": null,
            "_view_module": "@jupyter-widgets/base",
            "_view_module_version": "1.2.0",
            "_view_name": "LayoutView",
            "align_content": null,
            "align_items": null,
            "align_self": null,
            "border": null,
            "bottom": null,
            "display": null,
            "flex": null,
            "flex_flow": null,
            "grid_area": null,
            "grid_auto_columns": null,
            "grid_auto_flow": null,
            "grid_auto_rows": null,
            "grid_column": null,
            "grid_gap": null,
            "grid_row": null,
            "grid_template_areas": null,
            "grid_template_columns": null,
            "grid_template_rows": null,
            "height": null,
            "justify_content": null,
            "justify_items": null,
            "left": null,
            "margin": null,
            "max_height": null,
            "max_width": null,
            "min_height": null,
            "min_width": null,
            "object_fit": null,
            "object_position": null,
            "order": null,
            "overflow": null,
            "overflow_x": null,
            "overflow_y": null,
            "padding": null,
            "right": null,
            "top": null,
            "visibility": null,
            "width": null
          }
        },
        "f083a86d5c4744519661c5da9e9e0414": {
          "model_module": "@jupyter-widgets/controls",
          "model_name": "DescriptionStyleModel",
          "model_module_version": "1.5.0",
          "state": {
            "_model_module": "@jupyter-widgets/controls",
            "_model_module_version": "1.5.0",
            "_model_name": "DescriptionStyleModel",
            "_view_count": null,
            "_view_module": "@jupyter-widgets/base",
            "_view_module_version": "1.2.0",
            "_view_name": "StyleView",
            "description_width": ""
          }
        },
        "9935faf214fd42ca8e746c91a7a03e50": {
          "model_module": "@jupyter-widgets/controls",
          "model_name": "HBoxModel",
          "model_module_version": "1.5.0",
          "state": {
            "_dom_classes": [],
            "_model_module": "@jupyter-widgets/controls",
            "_model_module_version": "1.5.0",
            "_model_name": "HBoxModel",
            "_view_count": null,
            "_view_module": "@jupyter-widgets/controls",
            "_view_module_version": "1.5.0",
            "_view_name": "HBoxView",
            "box_style": "",
            "children": [
              "IPY_MODEL_223bdd226f924da8a859ef5f1dcb55de",
              "IPY_MODEL_4fab4f4901384d81a57397d663d9a4bf",
              "IPY_MODEL_c812ce2bc80945838bc6a429bc9eade0"
            ],
            "layout": "IPY_MODEL_4880add3b3d34130aee0f0d553ebe126"
          }
        },
        "223bdd226f924da8a859ef5f1dcb55de": {
          "model_module": "@jupyter-widgets/controls",
          "model_name": "HTMLModel",
          "model_module_version": "1.5.0",
          "state": {
            "_dom_classes": [],
            "_model_module": "@jupyter-widgets/controls",
            "_model_module_version": "1.5.0",
            "_model_name": "HTMLModel",
            "_view_count": null,
            "_view_module": "@jupyter-widgets/controls",
            "_view_module_version": "1.5.0",
            "_view_name": "HTMLView",
            "description": "",
            "description_tooltip": null,
            "layout": "IPY_MODEL_c78d70c0c65c451ea57550fa2deaa0da",
            "placeholder": "​",
            "style": "IPY_MODEL_4daa96ef5ae74bd6bdc2557759ea319c",
            "value": "Min-Max Normalization: 100%"
          }
        },
        "4fab4f4901384d81a57397d663d9a4bf": {
          "model_module": "@jupyter-widgets/controls",
          "model_name": "FloatProgressModel",
          "model_module_version": "1.5.0",
          "state": {
            "_dom_classes": [],
            "_model_module": "@jupyter-widgets/controls",
            "_model_module_version": "1.5.0",
            "_model_name": "FloatProgressModel",
            "_view_count": null,
            "_view_module": "@jupyter-widgets/controls",
            "_view_module_version": "1.5.0",
            "_view_name": "ProgressView",
            "bar_style": "success",
            "description": "",
            "description_tooltip": null,
            "layout": "IPY_MODEL_3a74ed4a8d264c26b9f221440701265c",
            "max": 32340,
            "min": 0,
            "orientation": "horizontal",
            "style": "IPY_MODEL_33c1ebd7011743ca8d4ee27362cd4eee",
            "value": 32340
          }
        },
        "c812ce2bc80945838bc6a429bc9eade0": {
          "model_module": "@jupyter-widgets/controls",
          "model_name": "HTMLModel",
          "model_module_version": "1.5.0",
          "state": {
            "_dom_classes": [],
            "_model_module": "@jupyter-widgets/controls",
            "_model_module_version": "1.5.0",
            "_model_name": "HTMLModel",
            "_view_count": null,
            "_view_module": "@jupyter-widgets/controls",
            "_view_module_version": "1.5.0",
            "_view_name": "HTMLView",
            "description": "",
            "description_tooltip": null,
            "layout": "IPY_MODEL_95ecba51632f41f4aa4d1305a081f0f0",
            "placeholder": "​",
            "style": "IPY_MODEL_7c42334f1efd4ed7acbc4cf99a38aee5",
            "value": " 32340/32340 [00:32&lt;00:00, 993.41it/s]"
          }
        },
        "4880add3b3d34130aee0f0d553ebe126": {
          "model_module": "@jupyter-widgets/base",
          "model_name": "LayoutModel",
          "model_module_version": "1.2.0",
          "state": {
            "_model_module": "@jupyter-widgets/base",
            "_model_module_version": "1.2.0",
            "_model_name": "LayoutModel",
            "_view_count": null,
            "_view_module": "@jupyter-widgets/base",
            "_view_module_version": "1.2.0",
            "_view_name": "LayoutView",
            "align_content": null,
            "align_items": null,
            "align_self": null,
            "border": null,
            "bottom": null,
            "display": "inline-flex",
            "flex": null,
            "flex_flow": "row wrap",
            "grid_area": null,
            "grid_auto_columns": null,
            "grid_auto_flow": null,
            "grid_auto_rows": null,
            "grid_column": null,
            "grid_gap": null,
            "grid_row": null,
            "grid_template_areas": null,
            "grid_template_columns": null,
            "grid_template_rows": null,
            "height": null,
            "justify_content": null,
            "justify_items": null,
            "left": null,
            "margin": null,
            "max_height": null,
            "max_width": null,
            "min_height": null,
            "min_width": null,
            "object_fit": null,
            "object_position": null,
            "order": null,
            "overflow": null,
            "overflow_x": null,
            "overflow_y": null,
            "padding": null,
            "right": null,
            "top": null,
            "visibility": null,
            "width": "700px"
          }
        },
        "c78d70c0c65c451ea57550fa2deaa0da": {
          "model_module": "@jupyter-widgets/base",
          "model_name": "LayoutModel",
          "model_module_version": "1.2.0",
          "state": {
            "_model_module": "@jupyter-widgets/base",
            "_model_module_version": "1.2.0",
            "_model_name": "LayoutModel",
            "_view_count": null,
            "_view_module": "@jupyter-widgets/base",
            "_view_module_version": "1.2.0",
            "_view_name": "LayoutView",
            "align_content": null,
            "align_items": null,
            "align_self": null,
            "border": null,
            "bottom": null,
            "display": null,
            "flex": null,
            "flex_flow": null,
            "grid_area": null,
            "grid_auto_columns": null,
            "grid_auto_flow": null,
            "grid_auto_rows": null,
            "grid_column": null,
            "grid_gap": null,
            "grid_row": null,
            "grid_template_areas": null,
            "grid_template_columns": null,
            "grid_template_rows": null,
            "height": null,
            "justify_content": null,
            "justify_items": null,
            "left": null,
            "margin": null,
            "max_height": null,
            "max_width": null,
            "min_height": null,
            "min_width": null,
            "object_fit": null,
            "object_position": null,
            "order": null,
            "overflow": null,
            "overflow_x": null,
            "overflow_y": null,
            "padding": null,
            "right": null,
            "top": null,
            "visibility": null,
            "width": null
          }
        },
        "4daa96ef5ae74bd6bdc2557759ea319c": {
          "model_module": "@jupyter-widgets/controls",
          "model_name": "DescriptionStyleModel",
          "model_module_version": "1.5.0",
          "state": {
            "_model_module": "@jupyter-widgets/controls",
            "_model_module_version": "1.5.0",
            "_model_name": "DescriptionStyleModel",
            "_view_count": null,
            "_view_module": "@jupyter-widgets/base",
            "_view_module_version": "1.2.0",
            "_view_name": "StyleView",
            "description_width": ""
          }
        },
        "3a74ed4a8d264c26b9f221440701265c": {
          "model_module": "@jupyter-widgets/base",
          "model_name": "LayoutModel",
          "model_module_version": "1.2.0",
          "state": {
            "_model_module": "@jupyter-widgets/base",
            "_model_module_version": "1.2.0",
            "_model_name": "LayoutModel",
            "_view_count": null,
            "_view_module": "@jupyter-widgets/base",
            "_view_module_version": "1.2.0",
            "_view_name": "LayoutView",
            "align_content": null,
            "align_items": null,
            "align_self": null,
            "border": null,
            "bottom": null,
            "display": null,
            "flex": "2",
            "flex_flow": null,
            "grid_area": null,
            "grid_auto_columns": null,
            "grid_auto_flow": null,
            "grid_auto_rows": null,
            "grid_column": null,
            "grid_gap": null,
            "grid_row": null,
            "grid_template_areas": null,
            "grid_template_columns": null,
            "grid_template_rows": null,
            "height": null,
            "justify_content": null,
            "justify_items": null,
            "left": null,
            "margin": null,
            "max_height": null,
            "max_width": null,
            "min_height": null,
            "min_width": null,
            "object_fit": null,
            "object_position": null,
            "order": null,
            "overflow": null,
            "overflow_x": null,
            "overflow_y": null,
            "padding": null,
            "right": null,
            "top": null,
            "visibility": null,
            "width": null
          }
        },
        "33c1ebd7011743ca8d4ee27362cd4eee": {
          "model_module": "@jupyter-widgets/controls",
          "model_name": "ProgressStyleModel",
          "model_module_version": "1.5.0",
          "state": {
            "_model_module": "@jupyter-widgets/controls",
            "_model_module_version": "1.5.0",
            "_model_name": "ProgressStyleModel",
            "_view_count": null,
            "_view_module": "@jupyter-widgets/base",
            "_view_module_version": "1.2.0",
            "_view_name": "StyleView",
            "bar_color": null,
            "description_width": ""
          }
        },
        "95ecba51632f41f4aa4d1305a081f0f0": {
          "model_module": "@jupyter-widgets/base",
          "model_name": "LayoutModel",
          "model_module_version": "1.2.0",
          "state": {
            "_model_module": "@jupyter-widgets/base",
            "_model_module_version": "1.2.0",
            "_model_name": "LayoutModel",
            "_view_count": null,
            "_view_module": "@jupyter-widgets/base",
            "_view_module_version": "1.2.0",
            "_view_name": "LayoutView",
            "align_content": null,
            "align_items": null,
            "align_self": null,
            "border": null,
            "bottom": null,
            "display": null,
            "flex": null,
            "flex_flow": null,
            "grid_area": null,
            "grid_auto_columns": null,
            "grid_auto_flow": null,
            "grid_auto_rows": null,
            "grid_column": null,
            "grid_gap": null,
            "grid_row": null,
            "grid_template_areas": null,
            "grid_template_columns": null,
            "grid_template_rows": null,
            "height": null,
            "justify_content": null,
            "justify_items": null,
            "left": null,
            "margin": null,
            "max_height": null,
            "max_width": null,
            "min_height": null,
            "min_width": null,
            "object_fit": null,
            "object_position": null,
            "order": null,
            "overflow": null,
            "overflow_x": null,
            "overflow_y": null,
            "padding": null,
            "right": null,
            "top": null,
            "visibility": null,
            "width": null
          }
        },
        "7c42334f1efd4ed7acbc4cf99a38aee5": {
          "model_module": "@jupyter-widgets/controls",
          "model_name": "DescriptionStyleModel",
          "model_module_version": "1.5.0",
          "state": {
            "_model_module": "@jupyter-widgets/controls",
            "_model_module_version": "1.5.0",
            "_model_name": "DescriptionStyleModel",
            "_view_count": null,
            "_view_module": "@jupyter-widgets/base",
            "_view_module_version": "1.2.0",
            "_view_name": "StyleView",
            "description_width": ""
          }
        },
        "f40c328bff214ce79a98311fc5fece94": {
          "model_module": "@jupyter-widgets/controls",
          "model_name": "HBoxModel",
          "model_module_version": "1.5.0",
          "state": {
            "_dom_classes": [],
            "_model_module": "@jupyter-widgets/controls",
            "_model_module_version": "1.5.0",
            "_model_name": "HBoxModel",
            "_view_count": null,
            "_view_module": "@jupyter-widgets/controls",
            "_view_module_version": "1.5.0",
            "_view_name": "HBoxView",
            "box_style": "",
            "children": [
              "IPY_MODEL_f31c6e8f10c640499cff1ca064c9cc17",
              "IPY_MODEL_bfa6847f3ff843a1bfcbec5042a95772",
              "IPY_MODEL_64ad981639084961a3e16ee2e88df1bd"
            ],
            "layout": "IPY_MODEL_09ecb539ba2c449cb88b16425760fcbd"
          }
        },
        "f31c6e8f10c640499cff1ca064c9cc17": {
          "model_module": "@jupyter-widgets/controls",
          "model_name": "HTMLModel",
          "model_module_version": "1.5.0",
          "state": {
            "_dom_classes": [],
            "_model_module": "@jupyter-widgets/controls",
            "_model_module_version": "1.5.0",
            "_model_name": "HTMLModel",
            "_view_count": null,
            "_view_module": "@jupyter-widgets/controls",
            "_view_module_version": "1.5.0",
            "_view_name": "HTMLView",
            "description": "",
            "description_tooltip": null,
            "layout": "IPY_MODEL_f5f0771fd664496bac919eb90f9a9dbb",
            "placeholder": "​",
            "style": "IPY_MODEL_5b17c4394a4f4aaca26267fee3bb9349",
            "value": "Make Death Dataset: 100%"
          }
        },
        "bfa6847f3ff843a1bfcbec5042a95772": {
          "model_module": "@jupyter-widgets/controls",
          "model_name": "FloatProgressModel",
          "model_module_version": "1.5.0",
          "state": {
            "_dom_classes": [],
            "_model_module": "@jupyter-widgets/controls",
            "_model_module_version": "1.5.0",
            "_model_name": "FloatProgressModel",
            "_view_count": null,
            "_view_module": "@jupyter-widgets/controls",
            "_view_module_version": "1.5.0",
            "_view_name": "ProgressView",
            "bar_style": "success",
            "description": "",
            "description_tooltip": null,
            "layout": "IPY_MODEL_338ab82507174f65a9a4ddf2e4286012",
            "max": 107935,
            "min": 0,
            "orientation": "horizontal",
            "style": "IPY_MODEL_5fc9a79ba120486cbb9c0d460fdb560d",
            "value": 107935
          }
        },
        "64ad981639084961a3e16ee2e88df1bd": {
          "model_module": "@jupyter-widgets/controls",
          "model_name": "HTMLModel",
          "model_module_version": "1.5.0",
          "state": {
            "_dom_classes": [],
            "_model_module": "@jupyter-widgets/controls",
            "_model_module_version": "1.5.0",
            "_model_name": "HTMLModel",
            "_view_count": null,
            "_view_module": "@jupyter-widgets/controls",
            "_view_module_version": "1.5.0",
            "_view_name": "HTMLView",
            "description": "",
            "description_tooltip": null,
            "layout": "IPY_MODEL_f5f981cc7794437199ae6073dcfc52e9",
            "placeholder": "​",
            "style": "IPY_MODEL_e1f3bbe79abf4501b832a16e5d6b766f",
            "value": " 107935/107935 [00:03&lt;00:00, 35330.33it/s]"
          }
        },
        "09ecb539ba2c449cb88b16425760fcbd": {
          "model_module": "@jupyter-widgets/base",
          "model_name": "LayoutModel",
          "model_module_version": "1.2.0",
          "state": {
            "_model_module": "@jupyter-widgets/base",
            "_model_module_version": "1.2.0",
            "_model_name": "LayoutModel",
            "_view_count": null,
            "_view_module": "@jupyter-widgets/base",
            "_view_module_version": "1.2.0",
            "_view_name": "LayoutView",
            "align_content": null,
            "align_items": null,
            "align_self": null,
            "border": null,
            "bottom": null,
            "display": "inline-flex",
            "flex": null,
            "flex_flow": "row wrap",
            "grid_area": null,
            "grid_auto_columns": null,
            "grid_auto_flow": null,
            "grid_auto_rows": null,
            "grid_column": null,
            "grid_gap": null,
            "grid_row": null,
            "grid_template_areas": null,
            "grid_template_columns": null,
            "grid_template_rows": null,
            "height": null,
            "justify_content": null,
            "justify_items": null,
            "left": null,
            "margin": null,
            "max_height": null,
            "max_width": null,
            "min_height": null,
            "min_width": null,
            "object_fit": null,
            "object_position": null,
            "order": null,
            "overflow": null,
            "overflow_x": null,
            "overflow_y": null,
            "padding": null,
            "right": null,
            "top": null,
            "visibility": null,
            "width": "700px"
          }
        },
        "f5f0771fd664496bac919eb90f9a9dbb": {
          "model_module": "@jupyter-widgets/base",
          "model_name": "LayoutModel",
          "model_module_version": "1.2.0",
          "state": {
            "_model_module": "@jupyter-widgets/base",
            "_model_module_version": "1.2.0",
            "_model_name": "LayoutModel",
            "_view_count": null,
            "_view_module": "@jupyter-widgets/base",
            "_view_module_version": "1.2.0",
            "_view_name": "LayoutView",
            "align_content": null,
            "align_items": null,
            "align_self": null,
            "border": null,
            "bottom": null,
            "display": null,
            "flex": null,
            "flex_flow": null,
            "grid_area": null,
            "grid_auto_columns": null,
            "grid_auto_flow": null,
            "grid_auto_rows": null,
            "grid_column": null,
            "grid_gap": null,
            "grid_row": null,
            "grid_template_areas": null,
            "grid_template_columns": null,
            "grid_template_rows": null,
            "height": null,
            "justify_content": null,
            "justify_items": null,
            "left": null,
            "margin": null,
            "max_height": null,
            "max_width": null,
            "min_height": null,
            "min_width": null,
            "object_fit": null,
            "object_position": null,
            "order": null,
            "overflow": null,
            "overflow_x": null,
            "overflow_y": null,
            "padding": null,
            "right": null,
            "top": null,
            "visibility": null,
            "width": null
          }
        },
        "5b17c4394a4f4aaca26267fee3bb9349": {
          "model_module": "@jupyter-widgets/controls",
          "model_name": "DescriptionStyleModel",
          "model_module_version": "1.5.0",
          "state": {
            "_model_module": "@jupyter-widgets/controls",
            "_model_module_version": "1.5.0",
            "_model_name": "DescriptionStyleModel",
            "_view_count": null,
            "_view_module": "@jupyter-widgets/base",
            "_view_module_version": "1.2.0",
            "_view_name": "StyleView",
            "description_width": ""
          }
        },
        "338ab82507174f65a9a4ddf2e4286012": {
          "model_module": "@jupyter-widgets/base",
          "model_name": "LayoutModel",
          "model_module_version": "1.2.0",
          "state": {
            "_model_module": "@jupyter-widgets/base",
            "_model_module_version": "1.2.0",
            "_model_name": "LayoutModel",
            "_view_count": null,
            "_view_module": "@jupyter-widgets/base",
            "_view_module_version": "1.2.0",
            "_view_name": "LayoutView",
            "align_content": null,
            "align_items": null,
            "align_self": null,
            "border": null,
            "bottom": null,
            "display": null,
            "flex": "2",
            "flex_flow": null,
            "grid_area": null,
            "grid_auto_columns": null,
            "grid_auto_flow": null,
            "grid_auto_rows": null,
            "grid_column": null,
            "grid_gap": null,
            "grid_row": null,
            "grid_template_areas": null,
            "grid_template_columns": null,
            "grid_template_rows": null,
            "height": null,
            "justify_content": null,
            "justify_items": null,
            "left": null,
            "margin": null,
            "max_height": null,
            "max_width": null,
            "min_height": null,
            "min_width": null,
            "object_fit": null,
            "object_position": null,
            "order": null,
            "overflow": null,
            "overflow_x": null,
            "overflow_y": null,
            "padding": null,
            "right": null,
            "top": null,
            "visibility": null,
            "width": null
          }
        },
        "5fc9a79ba120486cbb9c0d460fdb560d": {
          "model_module": "@jupyter-widgets/controls",
          "model_name": "ProgressStyleModel",
          "model_module_version": "1.5.0",
          "state": {
            "_model_module": "@jupyter-widgets/controls",
            "_model_module_version": "1.5.0",
            "_model_name": "ProgressStyleModel",
            "_view_count": null,
            "_view_module": "@jupyter-widgets/base",
            "_view_module_version": "1.2.0",
            "_view_name": "StyleView",
            "bar_color": null,
            "description_width": ""
          }
        },
        "f5f981cc7794437199ae6073dcfc52e9": {
          "model_module": "@jupyter-widgets/base",
          "model_name": "LayoutModel",
          "model_module_version": "1.2.0",
          "state": {
            "_model_module": "@jupyter-widgets/base",
            "_model_module_version": "1.2.0",
            "_model_name": "LayoutModel",
            "_view_count": null,
            "_view_module": "@jupyter-widgets/base",
            "_view_module_version": "1.2.0",
            "_view_name": "LayoutView",
            "align_content": null,
            "align_items": null,
            "align_self": null,
            "border": null,
            "bottom": null,
            "display": null,
            "flex": null,
            "flex_flow": null,
            "grid_area": null,
            "grid_auto_columns": null,
            "grid_auto_flow": null,
            "grid_auto_rows": null,
            "grid_column": null,
            "grid_gap": null,
            "grid_row": null,
            "grid_template_areas": null,
            "grid_template_columns": null,
            "grid_template_rows": null,
            "height": null,
            "justify_content": null,
            "justify_items": null,
            "left": null,
            "margin": null,
            "max_height": null,
            "max_width": null,
            "min_height": null,
            "min_width": null,
            "object_fit": null,
            "object_position": null,
            "order": null,
            "overflow": null,
            "overflow_x": null,
            "overflow_y": null,
            "padding": null,
            "right": null,
            "top": null,
            "visibility": null,
            "width": null
          }
        },
        "e1f3bbe79abf4501b832a16e5d6b766f": {
          "model_module": "@jupyter-widgets/controls",
          "model_name": "DescriptionStyleModel",
          "model_module_version": "1.5.0",
          "state": {
            "_model_module": "@jupyter-widgets/controls",
            "_model_module_version": "1.5.0",
            "_model_name": "DescriptionStyleModel",
            "_view_count": null,
            "_view_module": "@jupyter-widgets/base",
            "_view_module_version": "1.2.0",
            "_view_name": "StyleView",
            "description_width": ""
          }
        },
        "998720021bb84ffc94b307578db50db3": {
          "model_module": "@jupyter-widgets/controls",
          "model_name": "HBoxModel",
          "model_module_version": "1.5.0",
          "state": {
            "_dom_classes": [],
            "_model_module": "@jupyter-widgets/controls",
            "_model_module_version": "1.5.0",
            "_model_name": "HBoxModel",
            "_view_count": null,
            "_view_module": "@jupyter-widgets/controls",
            "_view_module_version": "1.5.0",
            "_view_name": "HBoxView",
            "box_style": "",
            "children": [
              "IPY_MODEL_7fccd8328f584c64a59485d19923b739",
              "IPY_MODEL_2326c1d06cfd464d8df8344e1a3f730a",
              "IPY_MODEL_e5300247c9da4b75a57161a582971b94"
            ],
            "layout": "IPY_MODEL_233d929351c44000b53512bc2960023f"
          }
        },
        "7fccd8328f584c64a59485d19923b739": {
          "model_module": "@jupyter-widgets/controls",
          "model_name": "HTMLModel",
          "model_module_version": "1.5.0",
          "state": {
            "_dom_classes": [],
            "_model_module": "@jupyter-widgets/controls",
            "_model_module_version": "1.5.0",
            "_model_name": "HTMLModel",
            "_view_count": null,
            "_view_module": "@jupyter-widgets/controls",
            "_view_module_version": "1.5.0",
            "_view_name": "HTMLView",
            "description": "",
            "description_tooltip": null,
            "layout": "IPY_MODEL_51743d476bb8451fbfba474a9a17c142",
            "placeholder": "​",
            "style": "IPY_MODEL_9bf345c142eb4592936c416a0c6983d2",
            "value": "Make Death Dataset: 100%"
          }
        },
        "2326c1d06cfd464d8df8344e1a3f730a": {
          "model_module": "@jupyter-widgets/controls",
          "model_name": "FloatProgressModel",
          "model_module_version": "1.5.0",
          "state": {
            "_dom_classes": [],
            "_model_module": "@jupyter-widgets/controls",
            "_model_module_version": "1.5.0",
            "_model_name": "FloatProgressModel",
            "_view_count": null,
            "_view_module": "@jupyter-widgets/controls",
            "_view_module_version": "1.5.0",
            "_view_name": "ProgressView",
            "bar_style": "success",
            "description": "",
            "description_tooltip": null,
            "layout": "IPY_MODEL_d82646819a004a9f888b8ed5dc38e465",
            "max": 107935,
            "min": 0,
            "orientation": "horizontal",
            "style": "IPY_MODEL_add161813b3d4536a165d04158ba776e",
            "value": 107935
          }
        },
        "e5300247c9da4b75a57161a582971b94": {
          "model_module": "@jupyter-widgets/controls",
          "model_name": "HTMLModel",
          "model_module_version": "1.5.0",
          "state": {
            "_dom_classes": [],
            "_model_module": "@jupyter-widgets/controls",
            "_model_module_version": "1.5.0",
            "_model_name": "HTMLModel",
            "_view_count": null,
            "_view_module": "@jupyter-widgets/controls",
            "_view_module_version": "1.5.0",
            "_view_name": "HTMLView",
            "description": "",
            "description_tooltip": null,
            "layout": "IPY_MODEL_3c6087f516d14fc3a02d0e1790a3563f",
            "placeholder": "​",
            "style": "IPY_MODEL_e6d13c921edd4ce0830a1da4eff82d44",
            "value": " 107935/107935 [00:03&lt;00:00, 31206.21it/s]"
          }
        },
        "233d929351c44000b53512bc2960023f": {
          "model_module": "@jupyter-widgets/base",
          "model_name": "LayoutModel",
          "model_module_version": "1.2.0",
          "state": {
            "_model_module": "@jupyter-widgets/base",
            "_model_module_version": "1.2.0",
            "_model_name": "LayoutModel",
            "_view_count": null,
            "_view_module": "@jupyter-widgets/base",
            "_view_module_version": "1.2.0",
            "_view_name": "LayoutView",
            "align_content": null,
            "align_items": null,
            "align_self": null,
            "border": null,
            "bottom": null,
            "display": "inline-flex",
            "flex": null,
            "flex_flow": "row wrap",
            "grid_area": null,
            "grid_auto_columns": null,
            "grid_auto_flow": null,
            "grid_auto_rows": null,
            "grid_column": null,
            "grid_gap": null,
            "grid_row": null,
            "grid_template_areas": null,
            "grid_template_columns": null,
            "grid_template_rows": null,
            "height": null,
            "justify_content": null,
            "justify_items": null,
            "left": null,
            "margin": null,
            "max_height": null,
            "max_width": null,
            "min_height": null,
            "min_width": null,
            "object_fit": null,
            "object_position": null,
            "order": null,
            "overflow": null,
            "overflow_x": null,
            "overflow_y": null,
            "padding": null,
            "right": null,
            "top": null,
            "visibility": null,
            "width": "700px"
          }
        },
        "51743d476bb8451fbfba474a9a17c142": {
          "model_module": "@jupyter-widgets/base",
          "model_name": "LayoutModel",
          "model_module_version": "1.2.0",
          "state": {
            "_model_module": "@jupyter-widgets/base",
            "_model_module_version": "1.2.0",
            "_model_name": "LayoutModel",
            "_view_count": null,
            "_view_module": "@jupyter-widgets/base",
            "_view_module_version": "1.2.0",
            "_view_name": "LayoutView",
            "align_content": null,
            "align_items": null,
            "align_self": null,
            "border": null,
            "bottom": null,
            "display": null,
            "flex": null,
            "flex_flow": null,
            "grid_area": null,
            "grid_auto_columns": null,
            "grid_auto_flow": null,
            "grid_auto_rows": null,
            "grid_column": null,
            "grid_gap": null,
            "grid_row": null,
            "grid_template_areas": null,
            "grid_template_columns": null,
            "grid_template_rows": null,
            "height": null,
            "justify_content": null,
            "justify_items": null,
            "left": null,
            "margin": null,
            "max_height": null,
            "max_width": null,
            "min_height": null,
            "min_width": null,
            "object_fit": null,
            "object_position": null,
            "order": null,
            "overflow": null,
            "overflow_x": null,
            "overflow_y": null,
            "padding": null,
            "right": null,
            "top": null,
            "visibility": null,
            "width": null
          }
        },
        "9bf345c142eb4592936c416a0c6983d2": {
          "model_module": "@jupyter-widgets/controls",
          "model_name": "DescriptionStyleModel",
          "model_module_version": "1.5.0",
          "state": {
            "_model_module": "@jupyter-widgets/controls",
            "_model_module_version": "1.5.0",
            "_model_name": "DescriptionStyleModel",
            "_view_count": null,
            "_view_module": "@jupyter-widgets/base",
            "_view_module_version": "1.2.0",
            "_view_name": "StyleView",
            "description_width": ""
          }
        },
        "d82646819a004a9f888b8ed5dc38e465": {
          "model_module": "@jupyter-widgets/base",
          "model_name": "LayoutModel",
          "model_module_version": "1.2.0",
          "state": {
            "_model_module": "@jupyter-widgets/base",
            "_model_module_version": "1.2.0",
            "_model_name": "LayoutModel",
            "_view_count": null,
            "_view_module": "@jupyter-widgets/base",
            "_view_module_version": "1.2.0",
            "_view_name": "LayoutView",
            "align_content": null,
            "align_items": null,
            "align_self": null,
            "border": null,
            "bottom": null,
            "display": null,
            "flex": "2",
            "flex_flow": null,
            "grid_area": null,
            "grid_auto_columns": null,
            "grid_auto_flow": null,
            "grid_auto_rows": null,
            "grid_column": null,
            "grid_gap": null,
            "grid_row": null,
            "grid_template_areas": null,
            "grid_template_columns": null,
            "grid_template_rows": null,
            "height": null,
            "justify_content": null,
            "justify_items": null,
            "left": null,
            "margin": null,
            "max_height": null,
            "max_width": null,
            "min_height": null,
            "min_width": null,
            "object_fit": null,
            "object_position": null,
            "order": null,
            "overflow": null,
            "overflow_x": null,
            "overflow_y": null,
            "padding": null,
            "right": null,
            "top": null,
            "visibility": null,
            "width": null
          }
        },
        "add161813b3d4536a165d04158ba776e": {
          "model_module": "@jupyter-widgets/controls",
          "model_name": "ProgressStyleModel",
          "model_module_version": "1.5.0",
          "state": {
            "_model_module": "@jupyter-widgets/controls",
            "_model_module_version": "1.5.0",
            "_model_name": "ProgressStyleModel",
            "_view_count": null,
            "_view_module": "@jupyter-widgets/base",
            "_view_module_version": "1.2.0",
            "_view_name": "StyleView",
            "bar_color": null,
            "description_width": ""
          }
        },
        "3c6087f516d14fc3a02d0e1790a3563f": {
          "model_module": "@jupyter-widgets/base",
          "model_name": "LayoutModel",
          "model_module_version": "1.2.0",
          "state": {
            "_model_module": "@jupyter-widgets/base",
            "_model_module_version": "1.2.0",
            "_model_name": "LayoutModel",
            "_view_count": null,
            "_view_module": "@jupyter-widgets/base",
            "_view_module_version": "1.2.0",
            "_view_name": "LayoutView",
            "align_content": null,
            "align_items": null,
            "align_self": null,
            "border": null,
            "bottom": null,
            "display": null,
            "flex": null,
            "flex_flow": null,
            "grid_area": null,
            "grid_auto_columns": null,
            "grid_auto_flow": null,
            "grid_auto_rows": null,
            "grid_column": null,
            "grid_gap": null,
            "grid_row": null,
            "grid_template_areas": null,
            "grid_template_columns": null,
            "grid_template_rows": null,
            "height": null,
            "justify_content": null,
            "justify_items": null,
            "left": null,
            "margin": null,
            "max_height": null,
            "max_width": null,
            "min_height": null,
            "min_width": null,
            "object_fit": null,
            "object_position": null,
            "order": null,
            "overflow": null,
            "overflow_x": null,
            "overflow_y": null,
            "padding": null,
            "right": null,
            "top": null,
            "visibility": null,
            "width": null
          }
        },
        "e6d13c921edd4ce0830a1da4eff82d44": {
          "model_module": "@jupyter-widgets/controls",
          "model_name": "DescriptionStyleModel",
          "model_module_version": "1.5.0",
          "state": {
            "_model_module": "@jupyter-widgets/controls",
            "_model_module_version": "1.5.0",
            "_model_name": "DescriptionStyleModel",
            "_view_count": null,
            "_view_module": "@jupyter-widgets/base",
            "_view_module_version": "1.2.0",
            "_view_name": "StyleView",
            "description_width": ""
          }
        },
        "0eec5c9b06ab47d8b772df919177852c": {
          "model_module": "@jupyter-widgets/controls",
          "model_name": "HBoxModel",
          "model_module_version": "1.5.0",
          "state": {
            "_dom_classes": [],
            "_model_module": "@jupyter-widgets/controls",
            "_model_module_version": "1.5.0",
            "_model_name": "HBoxModel",
            "_view_count": null,
            "_view_module": "@jupyter-widgets/controls",
            "_view_module_version": "1.5.0",
            "_view_name": "HBoxView",
            "box_style": "",
            "children": [
              "IPY_MODEL_637cd5b8de144d5abdbfd9ee45f182c6",
              "IPY_MODEL_d990a7bc146d4c3fbdbd130a317823b7",
              "IPY_MODEL_7b6ded7462dc447c8f2d1bb39dff984a"
            ],
            "layout": "IPY_MODEL_a82cc56d603242a594cc6843fbcbf930"
          }
        },
        "637cd5b8de144d5abdbfd9ee45f182c6": {
          "model_module": "@jupyter-widgets/controls",
          "model_name": "HTMLModel",
          "model_module_version": "1.5.0",
          "state": {
            "_dom_classes": [],
            "_model_module": "@jupyter-widgets/controls",
            "_model_module_version": "1.5.0",
            "_model_name": "HTMLModel",
            "_view_count": null,
            "_view_module": "@jupyter-widgets/controls",
            "_view_module_version": "1.5.0",
            "_view_name": "HTMLView",
            "description": "",
            "description_tooltip": null,
            "layout": "IPY_MODEL_7f9a5d4ab2f549daa306b4109e14f9cd",
            "placeholder": "​",
            "style": "IPY_MODEL_0b587906aa04435686318efe8791db37",
            "value": "+ Extra_features: 100%"
          }
        },
        "d990a7bc146d4c3fbdbd130a317823b7": {
          "model_module": "@jupyter-widgets/controls",
          "model_name": "FloatProgressModel",
          "model_module_version": "1.5.0",
          "state": {
            "_dom_classes": [],
            "_model_module": "@jupyter-widgets/controls",
            "_model_module_version": "1.5.0",
            "_model_name": "FloatProgressModel",
            "_view_count": null,
            "_view_module": "@jupyter-widgets/controls",
            "_view_module_version": "1.5.0",
            "_view_name": "ProgressView",
            "bar_style": "success",
            "description": "",
            "description_tooltip": null,
            "layout": "IPY_MODEL_b5a3ba77156c4f84819c6853e54ea262",
            "max": 32340,
            "min": 0,
            "orientation": "horizontal",
            "style": "IPY_MODEL_72a5706cbc3a45fa91d33a06ba2313b7",
            "value": 32340
          }
        },
        "7b6ded7462dc447c8f2d1bb39dff984a": {
          "model_module": "@jupyter-widgets/controls",
          "model_name": "HTMLModel",
          "model_module_version": "1.5.0",
          "state": {
            "_dom_classes": [],
            "_model_module": "@jupyter-widgets/controls",
            "_model_module_version": "1.5.0",
            "_model_name": "HTMLModel",
            "_view_count": null,
            "_view_module": "@jupyter-widgets/controls",
            "_view_module_version": "1.5.0",
            "_view_name": "HTMLView",
            "description": "",
            "description_tooltip": null,
            "layout": "IPY_MODEL_4979c8de23494456a8d223d0aa5c3a89",
            "placeholder": "​",
            "style": "IPY_MODEL_3be9299f9b75468db7e076f88ddec132",
            "value": " 32340/32340 [00:00&lt;00:00, 718372.38it/s]"
          }
        },
        "a82cc56d603242a594cc6843fbcbf930": {
          "model_module": "@jupyter-widgets/base",
          "model_name": "LayoutModel",
          "model_module_version": "1.2.0",
          "state": {
            "_model_module": "@jupyter-widgets/base",
            "_model_module_version": "1.2.0",
            "_model_name": "LayoutModel",
            "_view_count": null,
            "_view_module": "@jupyter-widgets/base",
            "_view_module_version": "1.2.0",
            "_view_name": "LayoutView",
            "align_content": null,
            "align_items": null,
            "align_self": null,
            "border": null,
            "bottom": null,
            "display": "inline-flex",
            "flex": null,
            "flex_flow": "row wrap",
            "grid_area": null,
            "grid_auto_columns": null,
            "grid_auto_flow": null,
            "grid_auto_rows": null,
            "grid_column": null,
            "grid_gap": null,
            "grid_row": null,
            "grid_template_areas": null,
            "grid_template_columns": null,
            "grid_template_rows": null,
            "height": null,
            "justify_content": null,
            "justify_items": null,
            "left": null,
            "margin": null,
            "max_height": null,
            "max_width": null,
            "min_height": null,
            "min_width": null,
            "object_fit": null,
            "object_position": null,
            "order": null,
            "overflow": null,
            "overflow_x": null,
            "overflow_y": null,
            "padding": null,
            "right": null,
            "top": null,
            "visibility": null,
            "width": "700px"
          }
        },
        "7f9a5d4ab2f549daa306b4109e14f9cd": {
          "model_module": "@jupyter-widgets/base",
          "model_name": "LayoutModel",
          "model_module_version": "1.2.0",
          "state": {
            "_model_module": "@jupyter-widgets/base",
            "_model_module_version": "1.2.0",
            "_model_name": "LayoutModel",
            "_view_count": null,
            "_view_module": "@jupyter-widgets/base",
            "_view_module_version": "1.2.0",
            "_view_name": "LayoutView",
            "align_content": null,
            "align_items": null,
            "align_self": null,
            "border": null,
            "bottom": null,
            "display": null,
            "flex": null,
            "flex_flow": null,
            "grid_area": null,
            "grid_auto_columns": null,
            "grid_auto_flow": null,
            "grid_auto_rows": null,
            "grid_column": null,
            "grid_gap": null,
            "grid_row": null,
            "grid_template_areas": null,
            "grid_template_columns": null,
            "grid_template_rows": null,
            "height": null,
            "justify_content": null,
            "justify_items": null,
            "left": null,
            "margin": null,
            "max_height": null,
            "max_width": null,
            "min_height": null,
            "min_width": null,
            "object_fit": null,
            "object_position": null,
            "order": null,
            "overflow": null,
            "overflow_x": null,
            "overflow_y": null,
            "padding": null,
            "right": null,
            "top": null,
            "visibility": null,
            "width": null
          }
        },
        "0b587906aa04435686318efe8791db37": {
          "model_module": "@jupyter-widgets/controls",
          "model_name": "DescriptionStyleModel",
          "model_module_version": "1.5.0",
          "state": {
            "_model_module": "@jupyter-widgets/controls",
            "_model_module_version": "1.5.0",
            "_model_name": "DescriptionStyleModel",
            "_view_count": null,
            "_view_module": "@jupyter-widgets/base",
            "_view_module_version": "1.2.0",
            "_view_name": "StyleView",
            "description_width": ""
          }
        },
        "b5a3ba77156c4f84819c6853e54ea262": {
          "model_module": "@jupyter-widgets/base",
          "model_name": "LayoutModel",
          "model_module_version": "1.2.0",
          "state": {
            "_model_module": "@jupyter-widgets/base",
            "_model_module_version": "1.2.0",
            "_model_name": "LayoutModel",
            "_view_count": null,
            "_view_module": "@jupyter-widgets/base",
            "_view_module_version": "1.2.0",
            "_view_name": "LayoutView",
            "align_content": null,
            "align_items": null,
            "align_self": null,
            "border": null,
            "bottom": null,
            "display": null,
            "flex": "2",
            "flex_flow": null,
            "grid_area": null,
            "grid_auto_columns": null,
            "grid_auto_flow": null,
            "grid_auto_rows": null,
            "grid_column": null,
            "grid_gap": null,
            "grid_row": null,
            "grid_template_areas": null,
            "grid_template_columns": null,
            "grid_template_rows": null,
            "height": null,
            "justify_content": null,
            "justify_items": null,
            "left": null,
            "margin": null,
            "max_height": null,
            "max_width": null,
            "min_height": null,
            "min_width": null,
            "object_fit": null,
            "object_position": null,
            "order": null,
            "overflow": null,
            "overflow_x": null,
            "overflow_y": null,
            "padding": null,
            "right": null,
            "top": null,
            "visibility": null,
            "width": null
          }
        },
        "72a5706cbc3a45fa91d33a06ba2313b7": {
          "model_module": "@jupyter-widgets/controls",
          "model_name": "ProgressStyleModel",
          "model_module_version": "1.5.0",
          "state": {
            "_model_module": "@jupyter-widgets/controls",
            "_model_module_version": "1.5.0",
            "_model_name": "ProgressStyleModel",
            "_view_count": null,
            "_view_module": "@jupyter-widgets/base",
            "_view_module_version": "1.2.0",
            "_view_name": "StyleView",
            "bar_color": null,
            "description_width": ""
          }
        },
        "4979c8de23494456a8d223d0aa5c3a89": {
          "model_module": "@jupyter-widgets/base",
          "model_name": "LayoutModel",
          "model_module_version": "1.2.0",
          "state": {
            "_model_module": "@jupyter-widgets/base",
            "_model_module_version": "1.2.0",
            "_model_name": "LayoutModel",
            "_view_count": null,
            "_view_module": "@jupyter-widgets/base",
            "_view_module_version": "1.2.0",
            "_view_name": "LayoutView",
            "align_content": null,
            "align_items": null,
            "align_self": null,
            "border": null,
            "bottom": null,
            "display": null,
            "flex": null,
            "flex_flow": null,
            "grid_area": null,
            "grid_auto_columns": null,
            "grid_auto_flow": null,
            "grid_auto_rows": null,
            "grid_column": null,
            "grid_gap": null,
            "grid_row": null,
            "grid_template_areas": null,
            "grid_template_columns": null,
            "grid_template_rows": null,
            "height": null,
            "justify_content": null,
            "justify_items": null,
            "left": null,
            "margin": null,
            "max_height": null,
            "max_width": null,
            "min_height": null,
            "min_width": null,
            "object_fit": null,
            "object_position": null,
            "order": null,
            "overflow": null,
            "overflow_x": null,
            "overflow_y": null,
            "padding": null,
            "right": null,
            "top": null,
            "visibility": null,
            "width": null
          }
        },
        "3be9299f9b75468db7e076f88ddec132": {
          "model_module": "@jupyter-widgets/controls",
          "model_name": "DescriptionStyleModel",
          "model_module_version": "1.5.0",
          "state": {
            "_model_module": "@jupyter-widgets/controls",
            "_model_module_version": "1.5.0",
            "_model_name": "DescriptionStyleModel",
            "_view_count": null,
            "_view_module": "@jupyter-widgets/base",
            "_view_module_version": "1.2.0",
            "_view_name": "StyleView",
            "description_width": ""
          }
        }
      }
    }
  },
  "nbformat": 4,
  "nbformat_minor": 0
}
