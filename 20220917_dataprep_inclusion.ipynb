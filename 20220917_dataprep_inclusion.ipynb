{
  "nbformat": 4,
  "nbformat_minor": 0,
  "metadata": {
    "colab": {
      "provenance": [],
      "collapsed_sections": [
        "77ivvXD_K8jW",
        "ElSXF3FYLRy7",
        "w_UiMdxlLWKE",
        "Ie9CXAgkKoD3"
      ],
      "mount_file_id": "1DVjGu2HPdOyEUoKtxZOs4gyMhWT4m391",
      "authorship_tag": "ABX9TyNynD9MecnbqVKhLh8n5/Vi",
      "include_colab_link": true
    },
    "kernelspec": {
      "name": "python3",
      "display_name": "Python 3"
    },
    "language_info": {
      "name": "python"
    }
  },
  "cells": [
    {
      "cell_type": "markdown",
      "metadata": {
        "id": "view-in-github",
        "colab_type": "text"
      },
      "source": [
        "<a href=\"https://colab.research.google.com/github/ZzangJay/team_project/blob/jangjaewon/20220917_dataprep_inclusion.ipynb\" target=\"_parent\"><img src=\"https://colab.research.google.com/assets/colab-badge.svg\" alt=\"Open In Colab\"/></a>"
      ]
    },
    {
      "cell_type": "markdown",
      "source": [
        "## 환경설정"
      ],
      "metadata": {
        "id": "77ivvXD_K8jW"
      }
    },
    {
      "cell_type": "code",
      "source": [
        "import pandas as pd\n",
        "import numpy as np\n",
        "#import tensorflow as tf \n",
        "import os\n",
        "import sys\n",
        "import sqlite3"
      ],
      "metadata": {
        "id": "by76d5VDtjrm"
      },
      "execution_count": 2,
      "outputs": []
    },
    {
      "cell_type": "code",
      "source": [
        "from google.colab import drive  # for colab\n",
        "drive.mount('/content/gdrive/')  # for colab"
      ],
      "metadata": {
        "colab": {
          "base_uri": "https://localhost:8080/"
        },
        "id": "pwW0kP2GtlEW",
        "outputId": "4bbad8a6-1007-4f54-e25d-43d3f15699ce"
      },
      "execution_count": 3,
      "outputs": [
        {
          "output_type": "stream",
          "name": "stdout",
          "text": [
            "Mounted at /content/gdrive/\n"
          ]
        }
      ]
    },
    {
      "cell_type": "code",
      "source": [
        "cloud_directory = '/content/gdrive/MyDrive/mimiciv_unzip/'\n",
        "os.listdir(cloud_directory) # for colab, check cloud directory mount"
      ],
      "metadata": {
        "colab": {
          "base_uri": "https://localhost:8080/"
        },
        "id": "vuYMhIN9tmKf",
        "outputId": "3433502d-06db-401b-e97b-fe09dd0a10fc"
      },
      "execution_count": 4,
      "outputs": [
        {
          "output_type": "execute_result",
          "data": {
            "text/plain": [
              "['CHANGELOG.txt', 'LICENSE.txt', 'SHA256SUMS.txt', 'index.html', 'icu', 'hosp']"
            ]
          },
          "metadata": {},
          "execution_count": 4
        }
      ]
    },
    {
      "cell_type": "code",
      "source": [
        "# labevents = pd.read_csv('/content/gdrive/MyDrive/mimiciv_unzip/hosp/labevents.csv')\n",
        "# patients = pd.read_csv('/content/gdrive/MyDrive/mimiciv_unzip/hosp/patients.csv')\n",
        "# d_labitems = pd.read_csv('/content/gdrive/MyDrive/mimiciv_unzip/hosp/d_labitems.csv')\n",
        "# diagnosis = pd.read_csv('/content/gdrive/MyDrive/mimiciv_unzip/hosp/diagnosis.csv')"
      ],
      "metadata": {
        "id": "bViz8bHntpC6"
      },
      "execution_count": 16,
      "outputs": []
    },
    {
      "cell_type": "markdown",
      "source": [
        "## 데이터 업로드(SQL)"
      ],
      "metadata": {
        "id": "E9eNTgRbK2Uz"
      }
    },
    {
      "cell_type": "markdown",
      "source": [
        "### sql 함수 "
      ],
      "metadata": {
        "id": "ElSXF3FYLRy7"
      }
    },
    {
      "cell_type": "code",
      "source": [
        "def pd_to_sqlDB(input_df: pd.DataFrame,\n",
        "                table_name: str,\n",
        "                db_name: str = 'default.db') -> None:\n",
        "\n",
        "    '''Take a Pandas dataframe `input_df` and upload it to `table_name` SQLITE table\n",
        "    Args:\n",
        "        input_df (pd.DataFrame): Dataframe containing data to upload to SQLITE\n",
        "        table_name (str): Name of the SQLITE table to upload to\n",
        "        db_name (str, optional): Name of the SQLITE Database in which the table is created. \n",
        "                                 Defaults to 'default.db'.\n",
        "    '''\n",
        "\n",
        "    # Step 1: Setup local logging\n",
        "    import logging\n",
        "    logging.basicConfig(level=logging.INFO,\n",
        "                        format='%(asctime)s %(levelname)s: %(message)s',\n",
        "                        datefmt='%Y-%m-%d %H:%M:%S')\n",
        "\n",
        "    # Step 2: Find columns in the dataframe\n",
        "    cols = input_df.columns\n",
        "    cols_string = ','.join(cols)\n",
        "    val_wildcard_string = ','.join(['?'] * len(cols))\n",
        "\n",
        "    # Step 3: Connect to a DB file if it exists, else crete a new file\n",
        "    con = sqlite3.connect(db_name)\n",
        "    cur = con.cursor()\n",
        "    logging.info(f'SQL DB {db_name} created')\n",
        "\n",
        "    # Step 4: Create Table\n",
        "    sql_string = f\"\"\"CREATE TABLE {table_name} ({cols_string});\"\"\"\n",
        "    cur.execute(sql_string)\n",
        "    logging.info(f'SQL Table {table_name} created with {len(cols)} columns')\n",
        "\n",
        "    # Step 5: Upload the dataframe\n",
        "    rows_to_upload = input_df.to_dict(orient='split')['data']\n",
        "    sql_string = f\"\"\"INSERT INTO {table_name} ({cols_string}) VALUES ({val_wildcard_string});\"\"\"    \n",
        "    cur.executemany(sql_string, rows_to_upload)\n",
        "    logging.info(f'{len(rows_to_upload)} rows uploaded to {table_name}')\n",
        "  \n",
        "    # Step 6: Commit the changes and close the connection\n",
        "    con.commit()\n",
        "    con.close()"
      ],
      "metadata": {
        "id": "1v__X04o3Fww"
      },
      "execution_count": 18,
      "outputs": []
    },
    {
      "cell_type": "code",
      "source": [
        "def sql_query_to_pd(sql_query_string: str, db_name: str ='default.db') -> pd.DataFrame:\n",
        "    '''Execute an SQL query and return the results as a pandas dataframe\n",
        "    Args:\n",
        "        sql_query_string (str): SQL query string to execute\n",
        "        db_name (str, optional): Name of the SQLITE Database to execute the query in.\n",
        "                                 Defaults to 'default.db'.\n",
        "    Returns:\n",
        "        pd.DataFrame: Results of the SQL query in a pandas dataframe\n",
        "    '''    \n",
        "    # Step 1: Connect to the SQL DB\n",
        "    con = sqlite3.connect(db_name)\n",
        "\n",
        "    # Step 2: Execute the SQL query\n",
        "    cursor = con.execute(sql_query_string)\n",
        "\n",
        "    # Step 3: Fetch the data and column names\n",
        "    result_data = cursor.fetchall()\n",
        "    cols = [description[0] for description in cursor.description]\n",
        "\n",
        "    # Step 4: Close the connection\n",
        "    con.close()\n",
        "\n",
        "    # Step 5: Return as a dataframe\n",
        "    return pd.DataFrame(result_data, columns=cols)"
      ],
      "metadata": {
        "id": "lkkNCr7R3Nmi"
      },
      "execution_count": 19,
      "outputs": []
    },
    {
      "cell_type": "markdown",
      "source": [
        "### sql code"
      ],
      "metadata": {
        "id": "w_UiMdxlLWKE"
      }
    },
    {
      "cell_type": "code",
      "source": [
        "input_df = pd.read_csv('/content/gdrive/MyDrive/mimiciv_unzip/hosp/admissions.csv')\n",
        "# input_df.columns\n",
        "\n",
        "pd_to_sqlDB(input_df,\n",
        "            table_name='admissions',\n",
        "            db_name='default.db')\n",
        "sql_query_string = \"\"\"\n",
        "    SELECT count(distinct subject_id)\n",
        "    FROM admissions \n",
        "\"\"\"\n",
        "\n",
        "result_df = sql_query_to_pd(sql_query_string, db_name='default.db')\n",
        "result_df"
      ],
      "metadata": {
        "id": "mLK8MeRE3X8m"
      },
      "execution_count": 21,
      "outputs": []
    },
    {
      "cell_type": "code",
      "source": [
        "patients = pd.read_csv('/content/gdrive/MyDrive/mimiciv_unzip/hosp/patients.csv')\n",
        "# patients.columns\n",
        "\n",
        "pd_to_sqlDB(patients,table_name='patients',db_name='default.db')\n",
        "sql_query_string = \"\"\"\n",
        "    SELECT count(distinct subject_id)\n",
        "    FROM patients \n",
        "\"\"\"\n",
        "result_df = sql_query_to_pd(sql_query_string, db_name='default.db')\n",
        "result_df"
      ],
      "metadata": {
        "id": "Ju0Cdxh-4X43"
      },
      "execution_count": 31,
      "outputs": []
    },
    {
      "cell_type": "code",
      "source": [
        "diagnoses_icd = pd.read_csv('/content/gdrive/MyDrive/mimiciv_unzip/hosp/diagnoses_icd.csv')\n",
        "# diagnoses_icd.columns\n",
        "# diagnoses_icd['icd_code'].head()\n",
        "# diagnoses_icd['icd_version'].head()\n",
        "\n",
        "pd_to_sqlDB(diagnoses_icd,\n",
        "            table_name='diagnoses_icd',\n",
        "            db_name='default.db')\n",
        "\n",
        "# np.sum(diagnoses_icd['icd_version']==9)\n",
        "# np.sum(diagnoses_icd['icd_code']=='99591') \n",
        "# np.sum(diagnoses_icd['icd_code']=='A419') \n",
        "\n",
        "sql_query = \"\"\" \n",
        "  select count(distinct subject_id)\n",
        "  from icustays \n",
        "\"\"\"\n",
        "\n",
        "result_df = sql_query_to_pd(sql_query, db_name='default.db')\n",
        "result_df # 53569명"
      ],
      "metadata": {
        "id": "v0jC-Jrs7K5X"
      },
      "execution_count": 60,
      "outputs": []
    },
    {
      "cell_type": "code",
      "source": [
        "icustays = pd.read_csv('/content/gdrive/MyDrive/mimiciv_unzip/icu/icustays.csv')\n",
        "pd_to_sqlDB(icustays,\n",
        "            table_name='icustays',\n",
        "            db_name='default.db')\n",
        "\n",
        "#icustays.columns\n",
        "#icustays\n"
      ],
      "metadata": {
        "id": "D1fCGZMFMdgK"
      },
      "execution_count": null,
      "outputs": []
    },
    {
      "cell_type": "markdown",
      "source": [
        "## 환자수 확인"
      ],
      "metadata": {
        "id": "TjncuKWmKxaz"
      }
    },
    {
      "cell_type": "code",
      "source": [
        "sql_query1 = \"\"\" \n",
        "  select subject_id\n",
        "  from diagnoses_icd\n",
        "  where (icd_version = 9 and icd_code = '99591') or (icd_version = 10 and icd_code = 'A419')\n",
        "\"\"\"\n",
        "sql_query2 = \"\"\" \n",
        "  select subject_id\n",
        "  from icustays\n",
        "\"\"\"\n",
        "\n",
        "sql_query_to_pd(sql_query1, db_name='default.db')\n",
        "sql_query_to_pd(sql_query2, db_name='default.db')\n",
        "\n",
        "sql_query3 = \"\"\" \n",
        "  select distinct t1.subject_id\n",
        "  from \n",
        "    (select distinct subject_id\n",
        "    from diagnoses_icd\n",
        "    where (icd_version = 9 and icd_code = '99591') or (icd_version = 10 and icd_code = 'A419')) as t1\n",
        "  inner join \n",
        "    (select distinct subject_id from icustays) as t2\n",
        "  on t1.subject_id = t2.subject_id\n",
        "\"\"\"\n",
        "\n",
        "\n",
        "result_df = sql_query_to_pd(sql_query3, db_name='default.db')\n",
        "\n",
        "result_df['subject_id'] #4,931명"
      ],
      "metadata": {
        "colab": {
          "base_uri": "https://localhost:8080/"
        },
        "id": "dUFo3z1w7o4J",
        "outputId": "5a5f2b28-a78e-49b2-c15c-456499c8c85b"
      },
      "execution_count": 74,
      "outputs": [
        {
          "output_type": "execute_result",
          "data": {
            "text/plain": [
              "0       10002013\n",
              "1       10002428\n",
              "2       10003400\n",
              "3       10004401\n",
              "4       10011365\n",
              "          ...   \n",
              "4926    19979469\n",
              "4927    19981210\n",
              "4928    19983009\n",
              "4929    19986715\n",
              "4930    19997886\n",
              "Name: subject_id, Length: 4931, dtype: int64"
            ]
          },
          "metadata": {},
          "execution_count": 74
        }
      ]
    },
    {
      "cell_type": "code",
      "source": [
        "# "
      ],
      "metadata": {
        "id": "1RnlygqOMyxf"
      },
      "execution_count": null,
      "outputs": []
    },
    {
      "cell_type": "code",
      "source": [
        "#ICU 입실한 환자\n",
        "#24시간 이내 사망한 환자 제외\n",
        "#24시간 이내 lab\n",
        "#spesis 뿐만 아니라 infection 코드가 붙어 있는 사람\n",
        "\n",
        "# JAMA spesis 정의\n",
        "# blood 24시간 이내 의심되는 환자 코드 ~\n",
        "# 항생제를 쓴 사람 ~ \n",
        "# \n",
        "# 소파 2점 이상\n"
      ],
      "metadata": {
        "id": "ROT7Bl2pMoaP"
      },
      "execution_count": null,
      "outputs": []
    },
    {
      "cell_type": "markdown",
      "source": [
        "## google big query test"
      ],
      "metadata": {
        "id": "Ie9CXAgkKoD3"
      }
    },
    {
      "cell_type": "code",
      "source": [
        "from google.colab import auth\n",
        "auth.authenticate_user()\n",
        "print('Authenticated')"
      ],
      "metadata": {
        "colab": {
          "base_uri": "https://localhost:8080/"
        },
        "id": "x750KTlgziSF",
        "outputId": "34024fed-dc7a-40c7-b8c1-da0f0321adb3"
      },
      "execution_count": 7,
      "outputs": [
        {
          "output_type": "stream",
          "name": "stdout",
          "text": [
            "Authenticated\n"
          ]
        }
      ]
    },
    {
      "cell_type": "code",
      "source": [
        "%load_ext google.colab.data_table"
      ],
      "metadata": {
        "id": "dlYEZyWg1SNL"
      },
      "execution_count": 8,
      "outputs": []
    },
    {
      "cell_type": "code",
      "source": [
        "from google.cloud import bigquery"
      ],
      "metadata": {
        "id": "OZJHrcit1-km"
      },
      "execution_count": 12,
      "outputs": []
    },
    {
      "cell_type": "code",
      "source": [
        "client = bigquery.Client(project='4/0ARtbsJrRvmKJ9YdfG36DUkkIECN4lYSEudwbqY3VilWte6bBI2a8tD3hNAg1B0MPdPOrIQ')"
      ],
      "metadata": {
        "id": "O8Pm1N3F2B58"
      },
      "execution_count": 13,
      "outputs": []
    },
    {
      "cell_type": "code",
      "source": [
        "row_count = client.query('''\n",
        "  SELECT \n",
        "    COUNT(*) as total\n",
        "  FROM `bigquery-public-data.samples.gsod`''').to_dataframe().total[0]\n",
        "\n",
        "df = client.query('''\n",
        "  SELECT\n",
        "    *\n",
        "  FROM\n",
        "    `bigquery-public-data.samples.gsod`\n",
        "  WHERE RAND() < %d/%d\n",
        "''' % (sample_count, row_count)).to_dataframe()\n",
        "\n",
        "print('Full dataset has %d rows' % row_count"
      ],
      "metadata": {
        "colab": {
          "base_uri": "https://localhost:8080/",
          "height": 136
        },
        "id": "HlKCeQsw1VJP",
        "outputId": "51648e80-abc7-4f9c-b47b-2f3a32acfacc"
      },
      "execution_count": 14,
      "outputs": [
        {
          "output_type": "error",
          "ename": "SyntaxError",
          "evalue": "ignored",
          "traceback": [
            "\u001b[0;36m  File \u001b[0;32m\"<ipython-input-14-0ea1a47ed398>\"\u001b[0;36m, line \u001b[0;32m14\u001b[0m\n\u001b[0;31m    print('Full dataset has %d rows' % row_count\u001b[0m\n\u001b[0m                                                ^\u001b[0m\n\u001b[0;31mSyntaxError\u001b[0m\u001b[0;31m:\u001b[0m unexpected EOF while parsing\n"
          ]
        }
      ]
    },
    {
      "cell_type": "markdown",
      "source": [
        "# 새 섹션"
      ],
      "metadata": {
        "id": "xCj-VbXnyUva"
      }
    },
    {
      "cell_type": "markdown",
      "source": [],
      "metadata": {
        "id": "zV6Jucfpv7V_"
      }
    }
  ]
}