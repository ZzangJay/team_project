{
  "nbformat": 4,
  "nbformat_minor": 0,
  "metadata": {
    "colab": {
      "provenance": [],
      "mount_file_id": "1da05S524ZCwp3u67oBiSauOkAl3TUPEx",
      "authorship_tag": "ABX9TyOGHAiGB4FOLqE5kG3165dS",
      "include_colab_link": true
    },
    "kernelspec": {
      "name": "python3",
      "display_name": "Python 3"
    },
    "language_info": {
      "name": "python"
    }
  },
  "cells": [
    {
      "cell_type": "markdown",
      "metadata": {
        "id": "view-in-github",
        "colab_type": "text"
      },
      "source": [
        "<a href=\"https://colab.research.google.com/github/ZzangJay/team_project/blob/kimjisan/221029_id_antibiotics.ipynb\" target=\"_parent\"><img src=\"https://colab.research.google.com/assets/colab-badge.svg\" alt=\"Open In Colab\"/></a>"
      ]
    },
    {
      "cell_type": "code",
      "execution_count": 61,
      "metadata": {
        "id": "T5PeB5OaZ24b"
      },
      "outputs": [],
      "source": [
        "from tqdm import tqdm\n",
        "import warnings\n",
        "warnings.filterwarnings(\"ignore\")\n",
        "import pandas as pd\n",
        "import numpy as np\n",
        "import os\n",
        "import matplotlib.pyplot as plt\n",
        "%matplotlib inline"
      ]
    },
    {
      "cell_type": "code",
      "source": [
        "antibio=pd.read_csv('/content/drive/MyDrive/mimiciv preprocessing_js/icu_ab_join.csv')\n",
        "sepsis3=pd.read_csv('/content/drive/MyDrive/mimiciv_der/sepsis3.csv')"
      ],
      "metadata": {
        "id": "ijMvG57JZ-K3"
      },
      "execution_count": 62,
      "outputs": []
    },
    {
      "cell_type": "code",
      "source": [
        "stay_id=[]\n",
        "for i in sepsis3['stay_id']:\n",
        "  stay_id.append(i)"
      ],
      "metadata": {
        "id": "O_Ie_LnPmyWj"
      },
      "execution_count": 63,
      "outputs": []
    },
    {
      "cell_type": "code",
      "source": [
        "antibio.columns"
      ],
      "metadata": {
        "colab": {
          "base_uri": "https://localhost:8080/"
        },
        "id": "twjA0JpknXj5",
        "outputId": "c7a049df-4fbf-4b57-b323-e7cf8260e0ed"
      },
      "execution_count": 64,
      "outputs": [
        {
          "output_type": "execute_result",
          "data": {
            "text/plain": [
              "Index(['subject_id', 'hadm_id', 'stay_id', 'icu_intime', 'icu_outtime', 'drug',\n",
              "       'ab_starttime', 'ab_stoptime'],\n",
              "      dtype='object')"
            ]
          },
          "metadata": {},
          "execution_count": 64
        }
      ]
    },
    {
      "cell_type": "code",
      "source": [
        "antibio_sep=antibio[antibio['stay_id'].isin(stay_id)]"
      ],
      "metadata": {
        "id": "kN-XzT3enhF5"
      },
      "execution_count": 65,
      "outputs": []
    },
    {
      "cell_type": "code",
      "source": [
        "print(len(antibio))\n",
        "print(len(antibio_sep))"
      ],
      "metadata": {
        "colab": {
          "base_uri": "https://localhost:8080/"
        },
        "id": "rCmVG3MCogdt",
        "outputId": "05b1df11-12b1-4937-8c68-e669daddc555"
      },
      "execution_count": 66,
      "outputs": [
        {
          "output_type": "stream",
          "name": "stdout",
          "text": [
            "371251\n",
            "263770\n"
          ]
        }
      ]
    },
    {
      "cell_type": "code",
      "source": [
        "antibio_sep"
      ],
      "metadata": {
        "colab": {
          "base_uri": "https://localhost:8080/",
          "height": 641
        },
        "id": "FGL9FzSTonPv",
        "outputId": "78150ee6-371b-4346-98d3-2b3256d4af23"
      },
      "execution_count": 67,
      "outputs": [
        {
          "output_type": "execute_result",
          "data": {
            "text/plain": [
              "        subject_id   hadm_id   stay_id           icu_intime  \\\n",
              "10        10001884  26184834  37510196  2131-01-11 04:20:05   \n",
              "11        10001884  26184834  37510196  2131-01-11 04:20:05   \n",
              "12        10001884  26184834  37510196  2131-01-11 04:20:05   \n",
              "13        10001884  26184834  37510196  2131-01-11 04:20:05   \n",
              "14        10001884  26184834  37510196  2131-01-11 04:20:05   \n",
              "...            ...       ...       ...                  ...   \n",
              "371243    19999840  21033226  38978960  2164-09-12 09:26:28   \n",
              "371244    19999840  21033226  38978960  2164-09-12 09:26:28   \n",
              "371245    19999840  21033226  38978960  2164-09-12 09:26:28   \n",
              "371246    19999840  21033226  38978960  2164-09-12 09:26:28   \n",
              "371247    19999840  21033226  38978960  2164-09-12 09:26:28   \n",
              "\n",
              "                icu_outtime                         drug         ab_starttime  \\\n",
              "10      2131-01-20 08:27:30                   vancomycin  2131-01-14 20:00:00   \n",
              "11      2131-01-20 08:27:30  amoxicillin-clavulanic acid  2131-01-12 11:00:00   \n",
              "12      2131-01-20 08:27:30                     cefepime  2131-01-11 10:00:00   \n",
              "13      2131-01-20 08:27:30    sulfameth/trimethoprim ss  2131-01-11 08:00:00   \n",
              "14      2131-01-20 08:27:30  amoxicillin-clavulanic acid  2131-01-09 11:00:00   \n",
              "...                     ...                          ...                  ...   \n",
              "371243  2164-09-17 16:35:15            ampicillin sodium  2164-09-16 15:00:00   \n",
              "371244  2164-09-17 16:35:15       metronidazole (flagyl)  2164-09-12 23:00:00   \n",
              "371245  2164-09-17 16:35:15                 levofloxacin  2164-09-16 14:00:00   \n",
              "371246  2164-09-17 16:35:15                   vancomycin  2164-09-15 20:00:00   \n",
              "371247  2164-09-17 16:35:15   piperacillin-tazobactam na  2164-09-15 12:00:00   \n",
              "\n",
              "                ab_stoptime  \n",
              "10      2131-01-16 07:00:00  \n",
              "11      2131-01-18 11:00:00  \n",
              "12      2131-01-12 10:00:00  \n",
              "13      2131-01-20 12:00:00  \n",
              "14      2131-01-11 05:00:00  \n",
              "...                     ...  \n",
              "371243  2164-09-17 21:00:00  \n",
              "371244  2164-09-13 08:00:00  \n",
              "371245  2164-09-16 14:00:00  \n",
              "371246  2164-09-16 12:00:00  \n",
              "371247  2164-09-16 12:00:00  \n",
              "\n",
              "[263770 rows x 8 columns]"
            ],
            "text/html": [
              "\n",
              "  <div id=\"df-c68a393a-27ae-4b0b-bb18-bf38bf63e4f1\">\n",
              "    <div class=\"colab-df-container\">\n",
              "      <div>\n",
              "<style scoped>\n",
              "    .dataframe tbody tr th:only-of-type {\n",
              "        vertical-align: middle;\n",
              "    }\n",
              "\n",
              "    .dataframe tbody tr th {\n",
              "        vertical-align: top;\n",
              "    }\n",
              "\n",
              "    .dataframe thead th {\n",
              "        text-align: right;\n",
              "    }\n",
              "</style>\n",
              "<table border=\"1\" class=\"dataframe\">\n",
              "  <thead>\n",
              "    <tr style=\"text-align: right;\">\n",
              "      <th></th>\n",
              "      <th>subject_id</th>\n",
              "      <th>hadm_id</th>\n",
              "      <th>stay_id</th>\n",
              "      <th>icu_intime</th>\n",
              "      <th>icu_outtime</th>\n",
              "      <th>drug</th>\n",
              "      <th>ab_starttime</th>\n",
              "      <th>ab_stoptime</th>\n",
              "    </tr>\n",
              "  </thead>\n",
              "  <tbody>\n",
              "    <tr>\n",
              "      <th>10</th>\n",
              "      <td>10001884</td>\n",
              "      <td>26184834</td>\n",
              "      <td>37510196</td>\n",
              "      <td>2131-01-11 04:20:05</td>\n",
              "      <td>2131-01-20 08:27:30</td>\n",
              "      <td>vancomycin</td>\n",
              "      <td>2131-01-14 20:00:00</td>\n",
              "      <td>2131-01-16 07:00:00</td>\n",
              "    </tr>\n",
              "    <tr>\n",
              "      <th>11</th>\n",
              "      <td>10001884</td>\n",
              "      <td>26184834</td>\n",
              "      <td>37510196</td>\n",
              "      <td>2131-01-11 04:20:05</td>\n",
              "      <td>2131-01-20 08:27:30</td>\n",
              "      <td>amoxicillin-clavulanic acid</td>\n",
              "      <td>2131-01-12 11:00:00</td>\n",
              "      <td>2131-01-18 11:00:00</td>\n",
              "    </tr>\n",
              "    <tr>\n",
              "      <th>12</th>\n",
              "      <td>10001884</td>\n",
              "      <td>26184834</td>\n",
              "      <td>37510196</td>\n",
              "      <td>2131-01-11 04:20:05</td>\n",
              "      <td>2131-01-20 08:27:30</td>\n",
              "      <td>cefepime</td>\n",
              "      <td>2131-01-11 10:00:00</td>\n",
              "      <td>2131-01-12 10:00:00</td>\n",
              "    </tr>\n",
              "    <tr>\n",
              "      <th>13</th>\n",
              "      <td>10001884</td>\n",
              "      <td>26184834</td>\n",
              "      <td>37510196</td>\n",
              "      <td>2131-01-11 04:20:05</td>\n",
              "      <td>2131-01-20 08:27:30</td>\n",
              "      <td>sulfameth/trimethoprim ss</td>\n",
              "      <td>2131-01-11 08:00:00</td>\n",
              "      <td>2131-01-20 12:00:00</td>\n",
              "    </tr>\n",
              "    <tr>\n",
              "      <th>14</th>\n",
              "      <td>10001884</td>\n",
              "      <td>26184834</td>\n",
              "      <td>37510196</td>\n",
              "      <td>2131-01-11 04:20:05</td>\n",
              "      <td>2131-01-20 08:27:30</td>\n",
              "      <td>amoxicillin-clavulanic acid</td>\n",
              "      <td>2131-01-09 11:00:00</td>\n",
              "      <td>2131-01-11 05:00:00</td>\n",
              "    </tr>\n",
              "    <tr>\n",
              "      <th>...</th>\n",
              "      <td>...</td>\n",
              "      <td>...</td>\n",
              "      <td>...</td>\n",
              "      <td>...</td>\n",
              "      <td>...</td>\n",
              "      <td>...</td>\n",
              "      <td>...</td>\n",
              "      <td>...</td>\n",
              "    </tr>\n",
              "    <tr>\n",
              "      <th>371243</th>\n",
              "      <td>19999840</td>\n",
              "      <td>21033226</td>\n",
              "      <td>38978960</td>\n",
              "      <td>2164-09-12 09:26:28</td>\n",
              "      <td>2164-09-17 16:35:15</td>\n",
              "      <td>ampicillin sodium</td>\n",
              "      <td>2164-09-16 15:00:00</td>\n",
              "      <td>2164-09-17 21:00:00</td>\n",
              "    </tr>\n",
              "    <tr>\n",
              "      <th>371244</th>\n",
              "      <td>19999840</td>\n",
              "      <td>21033226</td>\n",
              "      <td>38978960</td>\n",
              "      <td>2164-09-12 09:26:28</td>\n",
              "      <td>2164-09-17 16:35:15</td>\n",
              "      <td>metronidazole (flagyl)</td>\n",
              "      <td>2164-09-12 23:00:00</td>\n",
              "      <td>2164-09-13 08:00:00</td>\n",
              "    </tr>\n",
              "    <tr>\n",
              "      <th>371245</th>\n",
              "      <td>19999840</td>\n",
              "      <td>21033226</td>\n",
              "      <td>38978960</td>\n",
              "      <td>2164-09-12 09:26:28</td>\n",
              "      <td>2164-09-17 16:35:15</td>\n",
              "      <td>levofloxacin</td>\n",
              "      <td>2164-09-16 14:00:00</td>\n",
              "      <td>2164-09-16 14:00:00</td>\n",
              "    </tr>\n",
              "    <tr>\n",
              "      <th>371246</th>\n",
              "      <td>19999840</td>\n",
              "      <td>21033226</td>\n",
              "      <td>38978960</td>\n",
              "      <td>2164-09-12 09:26:28</td>\n",
              "      <td>2164-09-17 16:35:15</td>\n",
              "      <td>vancomycin</td>\n",
              "      <td>2164-09-15 20:00:00</td>\n",
              "      <td>2164-09-16 12:00:00</td>\n",
              "    </tr>\n",
              "    <tr>\n",
              "      <th>371247</th>\n",
              "      <td>19999840</td>\n",
              "      <td>21033226</td>\n",
              "      <td>38978960</td>\n",
              "      <td>2164-09-12 09:26:28</td>\n",
              "      <td>2164-09-17 16:35:15</td>\n",
              "      <td>piperacillin-tazobactam na</td>\n",
              "      <td>2164-09-15 12:00:00</td>\n",
              "      <td>2164-09-16 12:00:00</td>\n",
              "    </tr>\n",
              "  </tbody>\n",
              "</table>\n",
              "<p>263770 rows × 8 columns</p>\n",
              "</div>\n",
              "      <button class=\"colab-df-convert\" onclick=\"convertToInteractive('df-c68a393a-27ae-4b0b-bb18-bf38bf63e4f1')\"\n",
              "              title=\"Convert this dataframe to an interactive table.\"\n",
              "              style=\"display:none;\">\n",
              "        \n",
              "  <svg xmlns=\"http://www.w3.org/2000/svg\" height=\"24px\"viewBox=\"0 0 24 24\"\n",
              "       width=\"24px\">\n",
              "    <path d=\"M0 0h24v24H0V0z\" fill=\"none\"/>\n",
              "    <path d=\"M18.56 5.44l.94 2.06.94-2.06 2.06-.94-2.06-.94-.94-2.06-.94 2.06-2.06.94zm-11 1L8.5 8.5l.94-2.06 2.06-.94-2.06-.94L8.5 2.5l-.94 2.06-2.06.94zm10 10l.94 2.06.94-2.06 2.06-.94-2.06-.94-.94-2.06-.94 2.06-2.06.94z\"/><path d=\"M17.41 7.96l-1.37-1.37c-.4-.4-.92-.59-1.43-.59-.52 0-1.04.2-1.43.59L10.3 9.45l-7.72 7.72c-.78.78-.78 2.05 0 2.83L4 21.41c.39.39.9.59 1.41.59.51 0 1.02-.2 1.41-.59l7.78-7.78 2.81-2.81c.8-.78.8-2.07 0-2.86zM5.41 20L4 18.59l7.72-7.72 1.47 1.35L5.41 20z\"/>\n",
              "  </svg>\n",
              "      </button>\n",
              "      \n",
              "  <style>\n",
              "    .colab-df-container {\n",
              "      display:flex;\n",
              "      flex-wrap:wrap;\n",
              "      gap: 12px;\n",
              "    }\n",
              "\n",
              "    .colab-df-convert {\n",
              "      background-color: #E8F0FE;\n",
              "      border: none;\n",
              "      border-radius: 50%;\n",
              "      cursor: pointer;\n",
              "      display: none;\n",
              "      fill: #1967D2;\n",
              "      height: 32px;\n",
              "      padding: 0 0 0 0;\n",
              "      width: 32px;\n",
              "    }\n",
              "\n",
              "    .colab-df-convert:hover {\n",
              "      background-color: #E2EBFA;\n",
              "      box-shadow: 0px 1px 2px rgba(60, 64, 67, 0.3), 0px 1px 3px 1px rgba(60, 64, 67, 0.15);\n",
              "      fill: #174EA6;\n",
              "    }\n",
              "\n",
              "    [theme=dark] .colab-df-convert {\n",
              "      background-color: #3B4455;\n",
              "      fill: #D2E3FC;\n",
              "    }\n",
              "\n",
              "    [theme=dark] .colab-df-convert:hover {\n",
              "      background-color: #434B5C;\n",
              "      box-shadow: 0px 1px 3px 1px rgba(0, 0, 0, 0.15);\n",
              "      filter: drop-shadow(0px 1px 2px rgba(0, 0, 0, 0.3));\n",
              "      fill: #FFFFFF;\n",
              "    }\n",
              "  </style>\n",
              "\n",
              "      <script>\n",
              "        const buttonEl =\n",
              "          document.querySelector('#df-c68a393a-27ae-4b0b-bb18-bf38bf63e4f1 button.colab-df-convert');\n",
              "        buttonEl.style.display =\n",
              "          google.colab.kernel.accessAllowed ? 'block' : 'none';\n",
              "\n",
              "        async function convertToInteractive(key) {\n",
              "          const element = document.querySelector('#df-c68a393a-27ae-4b0b-bb18-bf38bf63e4f1');\n",
              "          const dataTable =\n",
              "            await google.colab.kernel.invokeFunction('convertToInteractive',\n",
              "                                                     [key], {});\n",
              "          if (!dataTable) return;\n",
              "\n",
              "          const docLinkHtml = 'Like what you see? Visit the ' +\n",
              "            '<a target=\"_blank\" href=https://colab.research.google.com/notebooks/data_table.ipynb>data table notebook</a>'\n",
              "            + ' to learn more about interactive tables.';\n",
              "          element.innerHTML = '';\n",
              "          dataTable['output_type'] = 'display_data';\n",
              "          await google.colab.output.renderOutput(dataTable, element);\n",
              "          const docLink = document.createElement('div');\n",
              "          docLink.innerHTML = docLinkHtml;\n",
              "          element.appendChild(docLink);\n",
              "        }\n",
              "      </script>\n",
              "    </div>\n",
              "  </div>\n",
              "  "
            ]
          },
          "metadata": {},
          "execution_count": 67
        }
      ]
    },
    {
      "cell_type": "code",
      "source": [
        "bbio=antibio_sep['drug'].value_counts()"
      ],
      "metadata": {
        "id": "YGKOPvfejvHW"
      },
      "execution_count": 124,
      "outputs": []
    },
    {
      "cell_type": "code",
      "source": [
        "bbio.to_csv('/content/drive/MyDrive/mimiciv preprocessing_js/antibio_sep3',index=True)"
      ],
      "metadata": {
        "id": "VQQ1U-3qj-3R"
      },
      "execution_count": 126,
      "outputs": []
    },
    {
      "cell_type": "code",
      "source": [
        "antibio_sep_col=antibio_sep[['hadm_id', 'stay_id','drug','ab_starttime']]"
      ],
      "metadata": {
        "id": "daKA2F_-8fYF"
      },
      "execution_count": 68,
      "outputs": []
    },
    {
      "cell_type": "code",
      "source": [
        "antibio_sep_col.columns=['hadm_id', 'stay_id','drug','antibiotic_time']"
      ],
      "metadata": {
        "id": "lUZf4pqlAIoG"
      },
      "execution_count": 69,
      "outputs": []
    },
    {
      "cell_type": "code",
      "source": [
        "antibio_sep_col=pd.merge(antibio_sep_col,sepsis3, on=['stay_id','antibiotic_time'])"
      ],
      "metadata": {
        "id": "DDmYRo_z9bNM"
      },
      "execution_count": 70,
      "outputs": []
    },
    {
      "cell_type": "code",
      "source": [
        "len(sepsis3)"
      ],
      "metadata": {
        "colab": {
          "base_uri": "https://localhost:8080/"
        },
        "id": "tNwTTGwqA9pP",
        "outputId": "352b9ed3-52c6-4c89-9246-dfffd0e6dd64"
      },
      "execution_count": 71,
      "outputs": [
        {
          "output_type": "execute_result",
          "data": {
            "text/plain": [
              "34678"
            ]
          },
          "metadata": {},
          "execution_count": 71
        }
      ]
    },
    {
      "cell_type": "code",
      "source": [
        "antibio_sep_col.info()"
      ],
      "metadata": {
        "colab": {
          "base_uri": "https://localhost:8080/"
        },
        "id": "NTlDCb47Aad6",
        "outputId": "6e13d36a-d1d4-493d-9d47-f2be5140c754"
      },
      "execution_count": 72,
      "outputs": [
        {
          "output_type": "stream",
          "name": "stdout",
          "text": [
            "<class 'pandas.core.frame.DataFrame'>\n",
            "Int64Index: 42868 entries, 0 to 42867\n",
            "Data columns (total 16 columns):\n",
            " #   Column                    Non-Null Count  Dtype \n",
            "---  ------                    --------------  ----- \n",
            " 0   hadm_id                   42868 non-null  int64 \n",
            " 1   stay_id                   42868 non-null  int64 \n",
            " 2   drug                      42868 non-null  object\n",
            " 3   antibiotic_time           42868 non-null  object\n",
            " 4   subject_id                42868 non-null  int64 \n",
            " 5   culture_time              42868 non-null  object\n",
            " 6   suspected_infection_time  42868 non-null  object\n",
            " 7   sofa_time                 42868 non-null  object\n",
            " 8   sofa_score                42868 non-null  int64 \n",
            " 9   respiration               42868 non-null  int64 \n",
            " 10  coagulation               42868 non-null  int64 \n",
            " 11  liver                     42868 non-null  int64 \n",
            " 12  cardiovascular            42868 non-null  int64 \n",
            " 13  cns                       42868 non-null  int64 \n",
            " 14  renal                     42868 non-null  int64 \n",
            " 15  sepsis3                   42868 non-null  bool  \n",
            "dtypes: bool(1), int64(10), object(5)\n",
            "memory usage: 5.3+ MB\n"
          ]
        }
      ]
    },
    {
      "cell_type": "code",
      "source": [
        "antibio_sep_col.columns"
      ],
      "metadata": {
        "colab": {
          "base_uri": "https://localhost:8080/"
        },
        "id": "o3GkTTRRDswF",
        "outputId": "51f2ed54-bd9c-4f85-d33c-d7586d8eb84e"
      },
      "execution_count": 73,
      "outputs": [
        {
          "output_type": "execute_result",
          "data": {
            "text/plain": [
              "Index(['hadm_id', 'stay_id', 'drug', 'antibiotic_time', 'subject_id',\n",
              "       'culture_time', 'suspected_infection_time', 'sofa_time', 'sofa_score',\n",
              "       'respiration', 'coagulation', 'liver', 'cardiovascular', 'cns', 'renal',\n",
              "       'sepsis3'],\n",
              "      dtype='object')"
            ]
          },
          "metadata": {},
          "execution_count": 73
        }
      ]
    },
    {
      "cell_type": "code",
      "source": [
        "antibio_sep_col.sort_values(by=['hadm_id','antibiotic_time'])"
      ],
      "metadata": {
        "colab": {
          "base_uri": "https://localhost:8080/",
          "height": 424
        },
        "id": "E6vRM5vwSOcU",
        "outputId": "578e55ea-0f29-4989-ee69-378e908628c0"
      },
      "execution_count": 89,
      "outputs": [
        {
          "output_type": "execute_result",
          "data": {
            "text/plain": [
              "        hadm_id   stay_id              drug      antibiotic_time\n",
              "21351  20000147  30503572    cephalosporins  2121-08-30 20:00:00\n",
              "25860  20001305  36916968    cephalosporins  2178-03-25 04:00:00\n",
              "19717  20001361  33475095  fluoroquinolones  2143-05-04 21:00:00\n",
              "19718  20001361  33475095       penicillins  2143-05-04 21:00:00\n",
              "30546  20001687  37766114    cephalosporins  2196-06-13 13:00:00\n",
              "...         ...       ...               ...                  ...\n",
              "29905  29998702  37074618    cephalosporins  2190-11-14 12:00:00\n",
              "21910  29999098  33475199     glycopeptides  2128-06-11 19:00:00\n",
              "21911  29999098  33475199       penicillins  2128-06-11 19:00:00\n",
              "14898  29999498  33874605    cephalosporins  2188-05-13 15:00:00\n",
              "1480   29999625  36975675    cephalosporins  2157-11-07 14:00:00\n",
              "\n",
              "[40001 rows x 4 columns]"
            ],
            "text/html": [
              "\n",
              "  <div id=\"df-46ba8455-e04e-4035-abd9-771f88e70d41\">\n",
              "    <div class=\"colab-df-container\">\n",
              "      <div>\n",
              "<style scoped>\n",
              "    .dataframe tbody tr th:only-of-type {\n",
              "        vertical-align: middle;\n",
              "    }\n",
              "\n",
              "    .dataframe tbody tr th {\n",
              "        vertical-align: top;\n",
              "    }\n",
              "\n",
              "    .dataframe thead th {\n",
              "        text-align: right;\n",
              "    }\n",
              "</style>\n",
              "<table border=\"1\" class=\"dataframe\">\n",
              "  <thead>\n",
              "    <tr style=\"text-align: right;\">\n",
              "      <th></th>\n",
              "      <th>hadm_id</th>\n",
              "      <th>stay_id</th>\n",
              "      <th>drug</th>\n",
              "      <th>antibiotic_time</th>\n",
              "    </tr>\n",
              "  </thead>\n",
              "  <tbody>\n",
              "    <tr>\n",
              "      <th>21351</th>\n",
              "      <td>20000147</td>\n",
              "      <td>30503572</td>\n",
              "      <td>cephalosporins</td>\n",
              "      <td>2121-08-30 20:00:00</td>\n",
              "    </tr>\n",
              "    <tr>\n",
              "      <th>25860</th>\n",
              "      <td>20001305</td>\n",
              "      <td>36916968</td>\n",
              "      <td>cephalosporins</td>\n",
              "      <td>2178-03-25 04:00:00</td>\n",
              "    </tr>\n",
              "    <tr>\n",
              "      <th>19717</th>\n",
              "      <td>20001361</td>\n",
              "      <td>33475095</td>\n",
              "      <td>fluoroquinolones</td>\n",
              "      <td>2143-05-04 21:00:00</td>\n",
              "    </tr>\n",
              "    <tr>\n",
              "      <th>19718</th>\n",
              "      <td>20001361</td>\n",
              "      <td>33475095</td>\n",
              "      <td>penicillins</td>\n",
              "      <td>2143-05-04 21:00:00</td>\n",
              "    </tr>\n",
              "    <tr>\n",
              "      <th>30546</th>\n",
              "      <td>20001687</td>\n",
              "      <td>37766114</td>\n",
              "      <td>cephalosporins</td>\n",
              "      <td>2196-06-13 13:00:00</td>\n",
              "    </tr>\n",
              "    <tr>\n",
              "      <th>...</th>\n",
              "      <td>...</td>\n",
              "      <td>...</td>\n",
              "      <td>...</td>\n",
              "      <td>...</td>\n",
              "    </tr>\n",
              "    <tr>\n",
              "      <th>29905</th>\n",
              "      <td>29998702</td>\n",
              "      <td>37074618</td>\n",
              "      <td>cephalosporins</td>\n",
              "      <td>2190-11-14 12:00:00</td>\n",
              "    </tr>\n",
              "    <tr>\n",
              "      <th>21910</th>\n",
              "      <td>29999098</td>\n",
              "      <td>33475199</td>\n",
              "      <td>glycopeptides</td>\n",
              "      <td>2128-06-11 19:00:00</td>\n",
              "    </tr>\n",
              "    <tr>\n",
              "      <th>21911</th>\n",
              "      <td>29999098</td>\n",
              "      <td>33475199</td>\n",
              "      <td>penicillins</td>\n",
              "      <td>2128-06-11 19:00:00</td>\n",
              "    </tr>\n",
              "    <tr>\n",
              "      <th>14898</th>\n",
              "      <td>29999498</td>\n",
              "      <td>33874605</td>\n",
              "      <td>cephalosporins</td>\n",
              "      <td>2188-05-13 15:00:00</td>\n",
              "    </tr>\n",
              "    <tr>\n",
              "      <th>1480</th>\n",
              "      <td>29999625</td>\n",
              "      <td>36975675</td>\n",
              "      <td>cephalosporins</td>\n",
              "      <td>2157-11-07 14:00:00</td>\n",
              "    </tr>\n",
              "  </tbody>\n",
              "</table>\n",
              "<p>40001 rows × 4 columns</p>\n",
              "</div>\n",
              "      <button class=\"colab-df-convert\" onclick=\"convertToInteractive('df-46ba8455-e04e-4035-abd9-771f88e70d41')\"\n",
              "              title=\"Convert this dataframe to an interactive table.\"\n",
              "              style=\"display:none;\">\n",
              "        \n",
              "  <svg xmlns=\"http://www.w3.org/2000/svg\" height=\"24px\"viewBox=\"0 0 24 24\"\n",
              "       width=\"24px\">\n",
              "    <path d=\"M0 0h24v24H0V0z\" fill=\"none\"/>\n",
              "    <path d=\"M18.56 5.44l.94 2.06.94-2.06 2.06-.94-2.06-.94-.94-2.06-.94 2.06-2.06.94zm-11 1L8.5 8.5l.94-2.06 2.06-.94-2.06-.94L8.5 2.5l-.94 2.06-2.06.94zm10 10l.94 2.06.94-2.06 2.06-.94-2.06-.94-.94-2.06-.94 2.06-2.06.94z\"/><path d=\"M17.41 7.96l-1.37-1.37c-.4-.4-.92-.59-1.43-.59-.52 0-1.04.2-1.43.59L10.3 9.45l-7.72 7.72c-.78.78-.78 2.05 0 2.83L4 21.41c.39.39.9.59 1.41.59.51 0 1.02-.2 1.41-.59l7.78-7.78 2.81-2.81c.8-.78.8-2.07 0-2.86zM5.41 20L4 18.59l7.72-7.72 1.47 1.35L5.41 20z\"/>\n",
              "  </svg>\n",
              "      </button>\n",
              "      \n",
              "  <style>\n",
              "    .colab-df-container {\n",
              "      display:flex;\n",
              "      flex-wrap:wrap;\n",
              "      gap: 12px;\n",
              "    }\n",
              "\n",
              "    .colab-df-convert {\n",
              "      background-color: #E8F0FE;\n",
              "      border: none;\n",
              "      border-radius: 50%;\n",
              "      cursor: pointer;\n",
              "      display: none;\n",
              "      fill: #1967D2;\n",
              "      height: 32px;\n",
              "      padding: 0 0 0 0;\n",
              "      width: 32px;\n",
              "    }\n",
              "\n",
              "    .colab-df-convert:hover {\n",
              "      background-color: #E2EBFA;\n",
              "      box-shadow: 0px 1px 2px rgba(60, 64, 67, 0.3), 0px 1px 3px 1px rgba(60, 64, 67, 0.15);\n",
              "      fill: #174EA6;\n",
              "    }\n",
              "\n",
              "    [theme=dark] .colab-df-convert {\n",
              "      background-color: #3B4455;\n",
              "      fill: #D2E3FC;\n",
              "    }\n",
              "\n",
              "    [theme=dark] .colab-df-convert:hover {\n",
              "      background-color: #434B5C;\n",
              "      box-shadow: 0px 1px 3px 1px rgba(0, 0, 0, 0.15);\n",
              "      filter: drop-shadow(0px 1px 2px rgba(0, 0, 0, 0.3));\n",
              "      fill: #FFFFFF;\n",
              "    }\n",
              "  </style>\n",
              "\n",
              "      <script>\n",
              "        const buttonEl =\n",
              "          document.querySelector('#df-46ba8455-e04e-4035-abd9-771f88e70d41 button.colab-df-convert');\n",
              "        buttonEl.style.display =\n",
              "          google.colab.kernel.accessAllowed ? 'block' : 'none';\n",
              "\n",
              "        async function convertToInteractive(key) {\n",
              "          const element = document.querySelector('#df-46ba8455-e04e-4035-abd9-771f88e70d41');\n",
              "          const dataTable =\n",
              "            await google.colab.kernel.invokeFunction('convertToInteractive',\n",
              "                                                     [key], {});\n",
              "          if (!dataTable) return;\n",
              "\n",
              "          const docLinkHtml = 'Like what you see? Visit the ' +\n",
              "            '<a target=\"_blank\" href=https://colab.research.google.com/notebooks/data_table.ipynb>data table notebook</a>'\n",
              "            + ' to learn more about interactive tables.';\n",
              "          element.innerHTML = '';\n",
              "          dataTable['output_type'] = 'display_data';\n",
              "          await google.colab.output.renderOutput(dataTable, element);\n",
              "          const docLink = document.createElement('div');\n",
              "          docLink.innerHTML = docLinkHtml;\n",
              "          element.appendChild(docLink);\n",
              "        }\n",
              "      </script>\n",
              "    </div>\n",
              "  </div>\n",
              "  "
            ]
          },
          "metadata": {},
          "execution_count": 89
        }
      ]
    },
    {
      "cell_type": "code",
      "source": [
        "antibio_sep_col=antibio_sep_col.drop_duplicates(subset=['hadm_id', 'stay_id', 'drug'], keep='first', inplace=False, ignore_index=False)"
      ],
      "metadata": {
        "id": "RMqjvPbfC-Q-"
      },
      "execution_count": 92,
      "outputs": []
    },
    {
      "cell_type": "code",
      "source": [
        "len(antibio_sep_col)"
      ],
      "metadata": {
        "colab": {
          "base_uri": "https://localhost:8080/"
        },
        "id": "4zNOY7SUD10y",
        "outputId": "3c0c2070-abe3-4806-ea2f-069bac453bdf"
      },
      "execution_count": 93,
      "outputs": [
        {
          "output_type": "execute_result",
          "data": {
            "text/plain": [
              "40001"
            ]
          },
          "metadata": {},
          "execution_count": 93
        }
      ]
    },
    {
      "cell_type": "code",
      "source": [
        "antibio_sep_col=antibio_sep_col[['hadm_id', 'stay_id', 'drug', 'antibiotic_time']]"
      ],
      "metadata": {
        "id": "QHG0OS-qExvM"
      },
      "execution_count": 94,
      "outputs": []
    },
    {
      "cell_type": "code",
      "source": [
        "ab_class=pd.read_csv('/content/drive/MyDrive/mimiciv preprocessing_js/antibiotics_Class.csv')"
      ],
      "metadata": {
        "id": "oe-PrBslFbbI"
      },
      "execution_count": 95,
      "outputs": []
    },
    {
      "cell_type": "code",
      "source": [
        "for i in tqdm(antibio_sep_col['drug'],desc='convert',total=40001):\n",
        "  for j in range(len(ab_class['Antibiotics'])):\n",
        "    if i == ab_class['Antibiotics'][j] :\n",
        "       antibio_sep_col['drug'].replace(i,ab_class['Class'][j],inplace=True)\n",
        "    else : pass"
      ],
      "metadata": {
        "colab": {
          "base_uri": "https://localhost:8080/"
        },
        "id": "sZT2yn-OF7JA",
        "outputId": "9d65e5a2-0e49-4690-c1df-a9afb06126aa"
      },
      "execution_count": 98,
      "outputs": [
        {
          "output_type": "stream",
          "name": "stderr",
          "text": [
            "convert: 100%|██████████| 40001/40001 [00:22<00:00, 1807.64it/s]\n"
          ]
        }
      ]
    },
    {
      "cell_type": "code",
      "source": [
        "antibio_sep_col['drug'].value_counts()"
      ],
      "metadata": {
        "colab": {
          "base_uri": "https://localhost:8080/"
        },
        "id": "2kp8_lhKKSTn",
        "outputId": "11ad2f74-ee37-4e29-c4fb-88c8d3f2ab78"
      },
      "execution_count": 99,
      "outputs": [
        {
          "output_type": "execute_result",
          "data": {
            "text/plain": [
              "glycopeptides                      12112\n",
              "cephalosporins                     11110\n",
              "penicillins                         6176\n",
              "fluoroquinolones                    3690\n",
              "nitroimidazole                      3069\n",
              "macrolides                          1928\n",
              "sulfonamides(diaminopyrimidine)      644\n",
              "licosamides(lincomycin)              449\n",
              "aminoglycosides                      325\n",
              "tetracyclines                        236\n",
              "monobactams                          149\n",
              "nitrofuran(toin)                      76\n",
              "rifamycins                            37\n",
              "Name: drug, dtype: int64"
            ]
          },
          "metadata": {},
          "execution_count": 99
        }
      ]
    },
    {
      "cell_type": "code",
      "source": [
        "antibio=antibio_sep_col"
      ],
      "metadata": {
        "id": "BA8K6kf_Kju5"
      },
      "execution_count": 100,
      "outputs": []
    },
    {
      "cell_type": "code",
      "source": [
        "id_cepha=antibio[antibio['drug']=='cephalosporins'][['hadm_id','stay_id','antibiotic_time']].sort_values(by=['hadm_id','antibiotic_time'])\n",
        "id_glyco=antibio[antibio['drug']=='glycopeptides'][['hadm_id','stay_id','antibiotic_time']].sort_values(by=['hadm_id','antibiotic_time'])\n",
        "id_peni=antibio[antibio['drug']=='penicillins'][['hadm_id','stay_id','antibiotic_time']].sort_values(by=['hadm_id','antibiotic_time'])\n",
        "id_fluoro=antibio[antibio['drug']=='fluoroquinolones'][['hadm_id','stay_id','antibiotic_time']].sort_values(by=['hadm_id','antibiotic_time'])\n",
        "id_macro=antibio[antibio['drug']=='macrolides'][['hadm_id','stay_id','antibiotic_time']].sort_values(by=['hadm_id','antibiotic_time'])"
      ],
      "metadata": {
        "id": "mCywiS91KaiA"
      },
      "execution_count": 111,
      "outputs": []
    },
    {
      "cell_type": "code",
      "source": [
        "id_cepha"
      ],
      "metadata": {
        "colab": {
          "base_uri": "https://localhost:8080/",
          "height": 424
        },
        "id": "gQXTuodmVHnY",
        "outputId": "c7962305-20f0-47ae-e167-c92e839fa1bf"
      },
      "execution_count": 112,
      "outputs": [
        {
          "output_type": "execute_result",
          "data": {
            "text/plain": [
              "        hadm_id   stay_id      antibiotic_time\n",
              "21351  20000147  30503572  2121-08-30 20:00:00\n",
              "25860  20001305  36916968  2178-03-25 04:00:00\n",
              "30546  20001687  37766114  2196-06-13 13:00:00\n",
              "38391  20003543  31193392  2158-12-23 06:00:00\n",
              "10177  20006999  32160575  2127-06-18 13:00:00\n",
              "...         ...       ...                  ...\n",
              "32739  29998113  32711700  2129-10-06 13:00:00\n",
              "36202  29998399  39492012  2112-05-09 18:00:00\n",
              "29905  29998702  37074618  2190-11-14 12:00:00\n",
              "14898  29999498  33874605  2188-05-13 15:00:00\n",
              "1480   29999625  36975675  2157-11-07 14:00:00\n",
              "\n",
              "[11110 rows x 3 columns]"
            ],
            "text/html": [
              "\n",
              "  <div id=\"df-00213643-7217-43fb-a41e-e6058d4db597\">\n",
              "    <div class=\"colab-df-container\">\n",
              "      <div>\n",
              "<style scoped>\n",
              "    .dataframe tbody tr th:only-of-type {\n",
              "        vertical-align: middle;\n",
              "    }\n",
              "\n",
              "    .dataframe tbody tr th {\n",
              "        vertical-align: top;\n",
              "    }\n",
              "\n",
              "    .dataframe thead th {\n",
              "        text-align: right;\n",
              "    }\n",
              "</style>\n",
              "<table border=\"1\" class=\"dataframe\">\n",
              "  <thead>\n",
              "    <tr style=\"text-align: right;\">\n",
              "      <th></th>\n",
              "      <th>hadm_id</th>\n",
              "      <th>stay_id</th>\n",
              "      <th>antibiotic_time</th>\n",
              "    </tr>\n",
              "  </thead>\n",
              "  <tbody>\n",
              "    <tr>\n",
              "      <th>21351</th>\n",
              "      <td>20000147</td>\n",
              "      <td>30503572</td>\n",
              "      <td>2121-08-30 20:00:00</td>\n",
              "    </tr>\n",
              "    <tr>\n",
              "      <th>25860</th>\n",
              "      <td>20001305</td>\n",
              "      <td>36916968</td>\n",
              "      <td>2178-03-25 04:00:00</td>\n",
              "    </tr>\n",
              "    <tr>\n",
              "      <th>30546</th>\n",
              "      <td>20001687</td>\n",
              "      <td>37766114</td>\n",
              "      <td>2196-06-13 13:00:00</td>\n",
              "    </tr>\n",
              "    <tr>\n",
              "      <th>38391</th>\n",
              "      <td>20003543</td>\n",
              "      <td>31193392</td>\n",
              "      <td>2158-12-23 06:00:00</td>\n",
              "    </tr>\n",
              "    <tr>\n",
              "      <th>10177</th>\n",
              "      <td>20006999</td>\n",
              "      <td>32160575</td>\n",
              "      <td>2127-06-18 13:00:00</td>\n",
              "    </tr>\n",
              "    <tr>\n",
              "      <th>...</th>\n",
              "      <td>...</td>\n",
              "      <td>...</td>\n",
              "      <td>...</td>\n",
              "    </tr>\n",
              "    <tr>\n",
              "      <th>32739</th>\n",
              "      <td>29998113</td>\n",
              "      <td>32711700</td>\n",
              "      <td>2129-10-06 13:00:00</td>\n",
              "    </tr>\n",
              "    <tr>\n",
              "      <th>36202</th>\n",
              "      <td>29998399</td>\n",
              "      <td>39492012</td>\n",
              "      <td>2112-05-09 18:00:00</td>\n",
              "    </tr>\n",
              "    <tr>\n",
              "      <th>29905</th>\n",
              "      <td>29998702</td>\n",
              "      <td>37074618</td>\n",
              "      <td>2190-11-14 12:00:00</td>\n",
              "    </tr>\n",
              "    <tr>\n",
              "      <th>14898</th>\n",
              "      <td>29999498</td>\n",
              "      <td>33874605</td>\n",
              "      <td>2188-05-13 15:00:00</td>\n",
              "    </tr>\n",
              "    <tr>\n",
              "      <th>1480</th>\n",
              "      <td>29999625</td>\n",
              "      <td>36975675</td>\n",
              "      <td>2157-11-07 14:00:00</td>\n",
              "    </tr>\n",
              "  </tbody>\n",
              "</table>\n",
              "<p>11110 rows × 3 columns</p>\n",
              "</div>\n",
              "      <button class=\"colab-df-convert\" onclick=\"convertToInteractive('df-00213643-7217-43fb-a41e-e6058d4db597')\"\n",
              "              title=\"Convert this dataframe to an interactive table.\"\n",
              "              style=\"display:none;\">\n",
              "        \n",
              "  <svg xmlns=\"http://www.w3.org/2000/svg\" height=\"24px\"viewBox=\"0 0 24 24\"\n",
              "       width=\"24px\">\n",
              "    <path d=\"M0 0h24v24H0V0z\" fill=\"none\"/>\n",
              "    <path d=\"M18.56 5.44l.94 2.06.94-2.06 2.06-.94-2.06-.94-.94-2.06-.94 2.06-2.06.94zm-11 1L8.5 8.5l.94-2.06 2.06-.94-2.06-.94L8.5 2.5l-.94 2.06-2.06.94zm10 10l.94 2.06.94-2.06 2.06-.94-2.06-.94-.94-2.06-.94 2.06-2.06.94z\"/><path d=\"M17.41 7.96l-1.37-1.37c-.4-.4-.92-.59-1.43-.59-.52 0-1.04.2-1.43.59L10.3 9.45l-7.72 7.72c-.78.78-.78 2.05 0 2.83L4 21.41c.39.39.9.59 1.41.59.51 0 1.02-.2 1.41-.59l7.78-7.78 2.81-2.81c.8-.78.8-2.07 0-2.86zM5.41 20L4 18.59l7.72-7.72 1.47 1.35L5.41 20z\"/>\n",
              "  </svg>\n",
              "      </button>\n",
              "      \n",
              "  <style>\n",
              "    .colab-df-container {\n",
              "      display:flex;\n",
              "      flex-wrap:wrap;\n",
              "      gap: 12px;\n",
              "    }\n",
              "\n",
              "    .colab-df-convert {\n",
              "      background-color: #E8F0FE;\n",
              "      border: none;\n",
              "      border-radius: 50%;\n",
              "      cursor: pointer;\n",
              "      display: none;\n",
              "      fill: #1967D2;\n",
              "      height: 32px;\n",
              "      padding: 0 0 0 0;\n",
              "      width: 32px;\n",
              "    }\n",
              "\n",
              "    .colab-df-convert:hover {\n",
              "      background-color: #E2EBFA;\n",
              "      box-shadow: 0px 1px 2px rgba(60, 64, 67, 0.3), 0px 1px 3px 1px rgba(60, 64, 67, 0.15);\n",
              "      fill: #174EA6;\n",
              "    }\n",
              "\n",
              "    [theme=dark] .colab-df-convert {\n",
              "      background-color: #3B4455;\n",
              "      fill: #D2E3FC;\n",
              "    }\n",
              "\n",
              "    [theme=dark] .colab-df-convert:hover {\n",
              "      background-color: #434B5C;\n",
              "      box-shadow: 0px 1px 3px 1px rgba(0, 0, 0, 0.15);\n",
              "      filter: drop-shadow(0px 1px 2px rgba(0, 0, 0, 0.3));\n",
              "      fill: #FFFFFF;\n",
              "    }\n",
              "  </style>\n",
              "\n",
              "      <script>\n",
              "        const buttonEl =\n",
              "          document.querySelector('#df-00213643-7217-43fb-a41e-e6058d4db597 button.colab-df-convert');\n",
              "        buttonEl.style.display =\n",
              "          google.colab.kernel.accessAllowed ? 'block' : 'none';\n",
              "\n",
              "        async function convertToInteractive(key) {\n",
              "          const element = document.querySelector('#df-00213643-7217-43fb-a41e-e6058d4db597');\n",
              "          const dataTable =\n",
              "            await google.colab.kernel.invokeFunction('convertToInteractive',\n",
              "                                                     [key], {});\n",
              "          if (!dataTable) return;\n",
              "\n",
              "          const docLinkHtml = 'Like what you see? Visit the ' +\n",
              "            '<a target=\"_blank\" href=https://colab.research.google.com/notebooks/data_table.ipynb>data table notebook</a>'\n",
              "            + ' to learn more about interactive tables.';\n",
              "          element.innerHTML = '';\n",
              "          dataTable['output_type'] = 'display_data';\n",
              "          await google.colab.output.renderOutput(dataTable, element);\n",
              "          const docLink = document.createElement('div');\n",
              "          docLink.innerHTML = docLinkHtml;\n",
              "          element.appendChild(docLink);\n",
              "        }\n",
              "      </script>\n",
              "    </div>\n",
              "  </div>\n",
              "  "
            ]
          },
          "metadata": {},
          "execution_count": 112
        }
      ]
    },
    {
      "cell_type": "code",
      "source": [
        "dup"
      ],
      "metadata": {
        "colab": {
          "base_uri": "https://localhost:8080/",
          "height": 143
        },
        "id": "4ZAjRrIdV4Zv",
        "outputId": "3202dade-3d3e-4a4d-c6bd-c585e796ca53"
      },
      "execution_count": 114,
      "outputs": [
        {
          "output_type": "execute_result",
          "data": {
            "text/plain": [
              "       hadm_id   stay_id      antibiotic_time\n",
              "8456  20062363  31315394  2151-09-06 17:00:00\n",
              "8457  20062363  34535022  2151-09-13 16:00:00\n",
              "8458  20062363  35444421  2151-10-18 14:00:00"
            ],
            "text/html": [
              "\n",
              "  <div id=\"df-cd820eb4-c367-4383-9da1-179b2c440853\">\n",
              "    <div class=\"colab-df-container\">\n",
              "      <div>\n",
              "<style scoped>\n",
              "    .dataframe tbody tr th:only-of-type {\n",
              "        vertical-align: middle;\n",
              "    }\n",
              "\n",
              "    .dataframe tbody tr th {\n",
              "        vertical-align: top;\n",
              "    }\n",
              "\n",
              "    .dataframe thead th {\n",
              "        text-align: right;\n",
              "    }\n",
              "</style>\n",
              "<table border=\"1\" class=\"dataframe\">\n",
              "  <thead>\n",
              "    <tr style=\"text-align: right;\">\n",
              "      <th></th>\n",
              "      <th>hadm_id</th>\n",
              "      <th>stay_id</th>\n",
              "      <th>antibiotic_time</th>\n",
              "    </tr>\n",
              "  </thead>\n",
              "  <tbody>\n",
              "    <tr>\n",
              "      <th>8456</th>\n",
              "      <td>20062363</td>\n",
              "      <td>31315394</td>\n",
              "      <td>2151-09-06 17:00:00</td>\n",
              "    </tr>\n",
              "    <tr>\n",
              "      <th>8457</th>\n",
              "      <td>20062363</td>\n",
              "      <td>34535022</td>\n",
              "      <td>2151-09-13 16:00:00</td>\n",
              "    </tr>\n",
              "    <tr>\n",
              "      <th>8458</th>\n",
              "      <td>20062363</td>\n",
              "      <td>35444421</td>\n",
              "      <td>2151-10-18 14:00:00</td>\n",
              "    </tr>\n",
              "  </tbody>\n",
              "</table>\n",
              "</div>\n",
              "      <button class=\"colab-df-convert\" onclick=\"convertToInteractive('df-cd820eb4-c367-4383-9da1-179b2c440853')\"\n",
              "              title=\"Convert this dataframe to an interactive table.\"\n",
              "              style=\"display:none;\">\n",
              "        \n",
              "  <svg xmlns=\"http://www.w3.org/2000/svg\" height=\"24px\"viewBox=\"0 0 24 24\"\n",
              "       width=\"24px\">\n",
              "    <path d=\"M0 0h24v24H0V0z\" fill=\"none\"/>\n",
              "    <path d=\"M18.56 5.44l.94 2.06.94-2.06 2.06-.94-2.06-.94-.94-2.06-.94 2.06-2.06.94zm-11 1L8.5 8.5l.94-2.06 2.06-.94-2.06-.94L8.5 2.5l-.94 2.06-2.06.94zm10 10l.94 2.06.94-2.06 2.06-.94-2.06-.94-.94-2.06-.94 2.06-2.06.94z\"/><path d=\"M17.41 7.96l-1.37-1.37c-.4-.4-.92-.59-1.43-.59-.52 0-1.04.2-1.43.59L10.3 9.45l-7.72 7.72c-.78.78-.78 2.05 0 2.83L4 21.41c.39.39.9.59 1.41.59.51 0 1.02-.2 1.41-.59l7.78-7.78 2.81-2.81c.8-.78.8-2.07 0-2.86zM5.41 20L4 18.59l7.72-7.72 1.47 1.35L5.41 20z\"/>\n",
              "  </svg>\n",
              "      </button>\n",
              "      \n",
              "  <style>\n",
              "    .colab-df-container {\n",
              "      display:flex;\n",
              "      flex-wrap:wrap;\n",
              "      gap: 12px;\n",
              "    }\n",
              "\n",
              "    .colab-df-convert {\n",
              "      background-color: #E8F0FE;\n",
              "      border: none;\n",
              "      border-radius: 50%;\n",
              "      cursor: pointer;\n",
              "      display: none;\n",
              "      fill: #1967D2;\n",
              "      height: 32px;\n",
              "      padding: 0 0 0 0;\n",
              "      width: 32px;\n",
              "    }\n",
              "\n",
              "    .colab-df-convert:hover {\n",
              "      background-color: #E2EBFA;\n",
              "      box-shadow: 0px 1px 2px rgba(60, 64, 67, 0.3), 0px 1px 3px 1px rgba(60, 64, 67, 0.15);\n",
              "      fill: #174EA6;\n",
              "    }\n",
              "\n",
              "    [theme=dark] .colab-df-convert {\n",
              "      background-color: #3B4455;\n",
              "      fill: #D2E3FC;\n",
              "    }\n",
              "\n",
              "    [theme=dark] .colab-df-convert:hover {\n",
              "      background-color: #434B5C;\n",
              "      box-shadow: 0px 1px 3px 1px rgba(0, 0, 0, 0.15);\n",
              "      filter: drop-shadow(0px 1px 2px rgba(0, 0, 0, 0.3));\n",
              "      fill: #FFFFFF;\n",
              "    }\n",
              "  </style>\n",
              "\n",
              "      <script>\n",
              "        const buttonEl =\n",
              "          document.querySelector('#df-cd820eb4-c367-4383-9da1-179b2c440853 button.colab-df-convert');\n",
              "        buttonEl.style.display =\n",
              "          google.colab.kernel.accessAllowed ? 'block' : 'none';\n",
              "\n",
              "        async function convertToInteractive(key) {\n",
              "          const element = document.querySelector('#df-cd820eb4-c367-4383-9da1-179b2c440853');\n",
              "          const dataTable =\n",
              "            await google.colab.kernel.invokeFunction('convertToInteractive',\n",
              "                                                     [key], {});\n",
              "          if (!dataTable) return;\n",
              "\n",
              "          const docLinkHtml = 'Like what you see? Visit the ' +\n",
              "            '<a target=\"_blank\" href=https://colab.research.google.com/notebooks/data_table.ipynb>data table notebook</a>'\n",
              "            + ' to learn more about interactive tables.';\n",
              "          element.innerHTML = '';\n",
              "          dataTable['output_type'] = 'display_data';\n",
              "          await google.colab.output.renderOutput(dataTable, element);\n",
              "          const docLink = document.createElement('div');\n",
              "          docLink.innerHTML = docLinkHtml;\n",
              "          element.appendChild(docLink);\n",
              "        }\n",
              "      </script>\n",
              "    </div>\n",
              "  </div>\n",
              "  "
            ]
          },
          "metadata": {},
          "execution_count": 114
        }
      ]
    },
    {
      "cell_type": "code",
      "source": [
        "id_cepha.drop_duplicates(subset=['hadm_id'], keep='first', inplace=True, ignore_index=False)\n",
        "id_glyco.drop_duplicates(subset=['hadm_id'], keep='first', inplace=True, ignore_index=False)\n",
        "id_peni.drop_duplicates(subset=['hadm_id'], keep='first', inplace=True, ignore_index=False)\n",
        "id_fluoro.drop_duplicates(subset=['hadm_id'], keep='first', inplace=True, ignore_index=False)\n",
        "id_macro.drop_duplicates(subset=['hadm_id'], keep='first', inplace=True, ignore_index=False)"
      ],
      "metadata": {
        "id": "6P3lPeU3WHt7"
      },
      "execution_count": 118,
      "outputs": []
    },
    {
      "cell_type": "code",
      "source": [
        "id_cepha[id_cepha['hadm_id']==20062363]"
      ],
      "metadata": {
        "colab": {
          "base_uri": "https://localhost:8080/",
          "height": 81
        },
        "id": "7vOYkgoKWRG3",
        "outputId": "e0c90981-7914-4602-fc8d-429d5d0c721e"
      },
      "execution_count": 117,
      "outputs": [
        {
          "output_type": "execute_result",
          "data": {
            "text/plain": [
              "       hadm_id   stay_id      antibiotic_time\n",
              "8456  20062363  31315394  2151-09-06 17:00:00"
            ],
            "text/html": [
              "\n",
              "  <div id=\"df-22e5eb47-1013-4579-a712-0268361fe848\">\n",
              "    <div class=\"colab-df-container\">\n",
              "      <div>\n",
              "<style scoped>\n",
              "    .dataframe tbody tr th:only-of-type {\n",
              "        vertical-align: middle;\n",
              "    }\n",
              "\n",
              "    .dataframe tbody tr th {\n",
              "        vertical-align: top;\n",
              "    }\n",
              "\n",
              "    .dataframe thead th {\n",
              "        text-align: right;\n",
              "    }\n",
              "</style>\n",
              "<table border=\"1\" class=\"dataframe\">\n",
              "  <thead>\n",
              "    <tr style=\"text-align: right;\">\n",
              "      <th></th>\n",
              "      <th>hadm_id</th>\n",
              "      <th>stay_id</th>\n",
              "      <th>antibiotic_time</th>\n",
              "    </tr>\n",
              "  </thead>\n",
              "  <tbody>\n",
              "    <tr>\n",
              "      <th>8456</th>\n",
              "      <td>20062363</td>\n",
              "      <td>31315394</td>\n",
              "      <td>2151-09-06 17:00:00</td>\n",
              "    </tr>\n",
              "  </tbody>\n",
              "</table>\n",
              "</div>\n",
              "      <button class=\"colab-df-convert\" onclick=\"convertToInteractive('df-22e5eb47-1013-4579-a712-0268361fe848')\"\n",
              "              title=\"Convert this dataframe to an interactive table.\"\n",
              "              style=\"display:none;\">\n",
              "        \n",
              "  <svg xmlns=\"http://www.w3.org/2000/svg\" height=\"24px\"viewBox=\"0 0 24 24\"\n",
              "       width=\"24px\">\n",
              "    <path d=\"M0 0h24v24H0V0z\" fill=\"none\"/>\n",
              "    <path d=\"M18.56 5.44l.94 2.06.94-2.06 2.06-.94-2.06-.94-.94-2.06-.94 2.06-2.06.94zm-11 1L8.5 8.5l.94-2.06 2.06-.94-2.06-.94L8.5 2.5l-.94 2.06-2.06.94zm10 10l.94 2.06.94-2.06 2.06-.94-2.06-.94-.94-2.06-.94 2.06-2.06.94z\"/><path d=\"M17.41 7.96l-1.37-1.37c-.4-.4-.92-.59-1.43-.59-.52 0-1.04.2-1.43.59L10.3 9.45l-7.72 7.72c-.78.78-.78 2.05 0 2.83L4 21.41c.39.39.9.59 1.41.59.51 0 1.02-.2 1.41-.59l7.78-7.78 2.81-2.81c.8-.78.8-2.07 0-2.86zM5.41 20L4 18.59l7.72-7.72 1.47 1.35L5.41 20z\"/>\n",
              "  </svg>\n",
              "      </button>\n",
              "      \n",
              "  <style>\n",
              "    .colab-df-container {\n",
              "      display:flex;\n",
              "      flex-wrap:wrap;\n",
              "      gap: 12px;\n",
              "    }\n",
              "\n",
              "    .colab-df-convert {\n",
              "      background-color: #E8F0FE;\n",
              "      border: none;\n",
              "      border-radius: 50%;\n",
              "      cursor: pointer;\n",
              "      display: none;\n",
              "      fill: #1967D2;\n",
              "      height: 32px;\n",
              "      padding: 0 0 0 0;\n",
              "      width: 32px;\n",
              "    }\n",
              "\n",
              "    .colab-df-convert:hover {\n",
              "      background-color: #E2EBFA;\n",
              "      box-shadow: 0px 1px 2px rgba(60, 64, 67, 0.3), 0px 1px 3px 1px rgba(60, 64, 67, 0.15);\n",
              "      fill: #174EA6;\n",
              "    }\n",
              "\n",
              "    [theme=dark] .colab-df-convert {\n",
              "      background-color: #3B4455;\n",
              "      fill: #D2E3FC;\n",
              "    }\n",
              "\n",
              "    [theme=dark] .colab-df-convert:hover {\n",
              "      background-color: #434B5C;\n",
              "      box-shadow: 0px 1px 3px 1px rgba(0, 0, 0, 0.15);\n",
              "      filter: drop-shadow(0px 1px 2px rgba(0, 0, 0, 0.3));\n",
              "      fill: #FFFFFF;\n",
              "    }\n",
              "  </style>\n",
              "\n",
              "      <script>\n",
              "        const buttonEl =\n",
              "          document.querySelector('#df-22e5eb47-1013-4579-a712-0268361fe848 button.colab-df-convert');\n",
              "        buttonEl.style.display =\n",
              "          google.colab.kernel.accessAllowed ? 'block' : 'none';\n",
              "\n",
              "        async function convertToInteractive(key) {\n",
              "          const element = document.querySelector('#df-22e5eb47-1013-4579-a712-0268361fe848');\n",
              "          const dataTable =\n",
              "            await google.colab.kernel.invokeFunction('convertToInteractive',\n",
              "                                                     [key], {});\n",
              "          if (!dataTable) return;\n",
              "\n",
              "          const docLinkHtml = 'Like what you see? Visit the ' +\n",
              "            '<a target=\"_blank\" href=https://colab.research.google.com/notebooks/data_table.ipynb>data table notebook</a>'\n",
              "            + ' to learn more about interactive tables.';\n",
              "          element.innerHTML = '';\n",
              "          dataTable['output_type'] = 'display_data';\n",
              "          await google.colab.output.renderOutput(dataTable, element);\n",
              "          const docLink = document.createElement('div');\n",
              "          docLink.innerHTML = docLinkHtml;\n",
              "          element.appendChild(docLink);\n",
              "        }\n",
              "      </script>\n",
              "    </div>\n",
              "  </div>\n",
              "  "
            ]
          },
          "metadata": {},
          "execution_count": 117
        }
      ]
    },
    {
      "cell_type": "code",
      "source": [
        "print(len(id_cepha))\n",
        "print(len(id_glyco))\n",
        "print(len(id_peni))\n",
        "print(len(id_fluoro))\n",
        "print(len(id_macro))"
      ],
      "metadata": {
        "colab": {
          "base_uri": "https://localhost:8080/"
        },
        "id": "VzBh6unxYOaX",
        "outputId": "88cf6d9b-78bc-4933-e36e-c811812e2a83"
      },
      "execution_count": 119,
      "outputs": [
        {
          "output_type": "stream",
          "name": "stdout",
          "text": [
            "10963\n",
            "11766\n",
            "6072\n",
            "3654\n",
            "1920\n"
          ]
        }
      ]
    },
    {
      "cell_type": "code",
      "source": [
        "id_cepha.to_csv('/content/drive/MyDrive/mimiciv preprocessing_js/id_cepha.csv',index=False)\n",
        "id_glyco.to_csv('/content/drive/MyDrive/mimiciv preprocessing_js/id_glyco.csv',index=False)\n",
        "id_peni.to_csv('/content/drive/MyDrive/mimiciv preprocessing_js/id_peni.csv',index=False)\n",
        "id_fluoro.to_csv('/content/drive/MyDrive/mimiciv preprocessing_js/id_fluoro.csv',index=False)\n",
        "id_macro.to_csv('/content/drive/MyDrive/mimiciv preprocessing_js/id_macro.csv',index=False)"
      ],
      "metadata": {
        "id": "_kf3L-51mQ00"
      },
      "execution_count": 121,
      "outputs": []
    },
    {
      "cell_type": "code",
      "source": [
        "# import pickle\n",
        "# with open('/content/drive/MyDrive/mimiciv preprocessing_js/adm_stay_feature.pkl','rb') as f:\n",
        "#     dict_ = pickle.load(f)"
      ],
      "metadata": {
        "colab": {
          "base_uri": "https://localhost:8080/",
          "height": 209
        },
        "id": "-jaXqyM-OTCb",
        "outputId": "9f2f4f88-15de-4059-fdf0-a2e80c051322"
      },
      "execution_count": 122,
      "outputs": [
        {
          "output_type": "error",
          "ename": "KeyboardInterrupt",
          "evalue": "ignored",
          "traceback": [
            "\u001b[0;31m---------------------------------------------------------------------------\u001b[0m",
            "\u001b[0;31mKeyboardInterrupt\u001b[0m                         Traceback (most recent call last)",
            "\u001b[0;32m<ipython-input-122-79d79c85fe75>\u001b[0m in \u001b[0;36m<module>\u001b[0;34m\u001b[0m\n\u001b[1;32m      1\u001b[0m \u001b[0;32mimport\u001b[0m \u001b[0mpickle\u001b[0m\u001b[0;34m\u001b[0m\u001b[0;34m\u001b[0m\u001b[0m\n\u001b[1;32m      2\u001b[0m \u001b[0;32mwith\u001b[0m \u001b[0mopen\u001b[0m\u001b[0;34m(\u001b[0m\u001b[0;34m'/content/drive/MyDrive/mimiciv preprocessing_js/adm_stay_feature.pkl'\u001b[0m\u001b[0;34m,\u001b[0m\u001b[0;34m'rb'\u001b[0m\u001b[0;34m)\u001b[0m \u001b[0;32mas\u001b[0m \u001b[0mf\u001b[0m\u001b[0;34m:\u001b[0m\u001b[0;34m\u001b[0m\u001b[0;34m\u001b[0m\u001b[0m\n\u001b[0;32m----> 3\u001b[0;31m     \u001b[0mdict_\u001b[0m \u001b[0;34m=\u001b[0m \u001b[0mpickle\u001b[0m\u001b[0;34m.\u001b[0m\u001b[0mload\u001b[0m\u001b[0;34m(\u001b[0m\u001b[0mf\u001b[0m\u001b[0;34m)\u001b[0m\u001b[0;34m\u001b[0m\u001b[0;34m\u001b[0m\u001b[0m\n\u001b[0m",
            "\u001b[0;31mKeyboardInterrupt\u001b[0m: "
          ]
        }
      ]
    }
  ]
}